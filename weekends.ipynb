{
 "cells": [
  {
   "cell_type": "markdown",
   "metadata": {},
   "source": [
    "# Get all weekends between two dates\n",
    "\n",
    "I'm doing this in a new notebook partly to keep things isolated so I don't make a mess. I will produce a .csv file for all Fridays and Mondays between 1970, 1 Jan and 2019, 1 Jan. It will include all holidays; when we study stock prices, there will be many weekends without data."
   ]
  },
  {
   "cell_type": "code",
   "execution_count": 13,
   "metadata": {},
   "outputs": [],
   "source": [
    "import pandas as pd\n",
    "from datetime import datetime, timedelta\n",
    "\n",
    "def get_fridays_and_mondays_df(start_date, end_date):\n",
    "    # Create lists to hold the dates for Fridays and Mondays\n",
    "    fridays = []\n",
    "    mondays = []\n",
    "    \n",
    "    # Use a timedelta of 1 day to iterate day by day\n",
    "    one_day = timedelta(days=1)\n",
    "    \n",
    "    current_date = start_date\n",
    "    \n",
    "    while current_date <= end_date:\n",
    "        # Check if the current day is Monday (0) or Friday (4)\n",
    "        if current_date.weekday() == 0:  # Monday\n",
    "            mondays.append(current_date)  # Append datetime object\n",
    "        elif current_date.weekday() == 4:  # Friday\n",
    "            fridays.append(current_date)  # Append datetime object\n",
    "        \n",
    "        # Move to the next day\n",
    "        current_date += one_day\n",
    "    \n",
    "    # Create a DataFrame with two columns, filling missing values with NaT\n",
    "    max_length = max(len(fridays), len(mondays))\n",
    "    \n",
    "    # Extend lists to match the length of the longer list with NaT\n",
    "    fridays.extend([pd.NaT] * (max_length - len(fridays)))\n",
    "    mondays.extend([pd.NaT] * (max_length - len(mondays)))\n",
    "    \n",
    "    df = pd.DataFrame({\n",
    "        'Fridays': pd.to_datetime(fridays),\n",
    "        'Mondays': pd.to_datetime(mondays)\n",
    "    })\n",
    "    \n",
    "    return df"
   ]
  },
  {
   "cell_type": "code",
   "execution_count": 21,
   "metadata": {},
   "outputs": [
    {
     "name": "stdout",
     "output_type": "stream",
     "text": [
      "Total Fridays and Mondays between 1970, 1 Jan and 2019, 1 Jan: 2557\n",
      "     Fridays    Mondays\n",
      "0 1970-01-02 1970-01-05\n",
      "1 1970-01-09 1970-01-12\n",
      "2 1970-01-16 1970-01-19\n",
      "3 1970-01-23 1970-01-26\n",
      "4 1970-01-30 1970-02-02\n"
     ]
    }
   ],
   "source": [
    "# Define the start and end dates\n",
    "start_date = datetime(1970, 1, 1)\n",
    "end_date = datetime(2019,1,1)\n",
    "\n",
    "#end_date = datetime.now()  # Current date\n",
    "\n",
    "# Get the DataFrame of Fridays and Mondays\n",
    "fridays_and_mondays_df = get_fridays_and_mondays_df(start_date, end_date)\n",
    "\n",
    "# Print the resulting DataFrame\n",
    "print(f\"Total Fridays and Mondays between 1970, 1 Jan and 2019, 1 Jan: {len(fridays_and_mondays_df)}\")\n",
    "print(fridays_and_mondays_df.head())  # Display the first few rows of the DataFrame\n"
   ]
  },
  {
   "cell_type": "code",
   "execution_count": 22,
   "metadata": {},
   "outputs": [
    {
     "data": {
      "text/html": [
       "<div>\n",
       "<style scoped>\n",
       "    .dataframe tbody tr th:only-of-type {\n",
       "        vertical-align: middle;\n",
       "    }\n",
       "\n",
       "    .dataframe tbody tr th {\n",
       "        vertical-align: top;\n",
       "    }\n",
       "\n",
       "    .dataframe thead th {\n",
       "        text-align: right;\n",
       "    }\n",
       "</style>\n",
       "<table border=\"1\" class=\"dataframe\">\n",
       "  <thead>\n",
       "    <tr style=\"text-align: right;\">\n",
       "      <th></th>\n",
       "      <th>Fridays</th>\n",
       "      <th>Mondays</th>\n",
       "    </tr>\n",
       "  </thead>\n",
       "  <tbody>\n",
       "    <tr>\n",
       "      <th>2552</th>\n",
       "      <td>2018-11-30</td>\n",
       "      <td>2018-12-03</td>\n",
       "    </tr>\n",
       "    <tr>\n",
       "      <th>2553</th>\n",
       "      <td>2018-12-07</td>\n",
       "      <td>2018-12-10</td>\n",
       "    </tr>\n",
       "    <tr>\n",
       "      <th>2554</th>\n",
       "      <td>2018-12-14</td>\n",
       "      <td>2018-12-17</td>\n",
       "    </tr>\n",
       "    <tr>\n",
       "      <th>2555</th>\n",
       "      <td>2018-12-21</td>\n",
       "      <td>2018-12-24</td>\n",
       "    </tr>\n",
       "    <tr>\n",
       "      <th>2556</th>\n",
       "      <td>2018-12-28</td>\n",
       "      <td>2018-12-31</td>\n",
       "    </tr>\n",
       "  </tbody>\n",
       "</table>\n",
       "</div>"
      ],
      "text/plain": [
       "        Fridays    Mondays\n",
       "2552 2018-11-30 2018-12-03\n",
       "2553 2018-12-07 2018-12-10\n",
       "2554 2018-12-14 2018-12-17\n",
       "2555 2018-12-21 2018-12-24\n",
       "2556 2018-12-28 2018-12-31"
      ]
     },
     "execution_count": 22,
     "metadata": {},
     "output_type": "execute_result"
    }
   ],
   "source": [
    "fridays_and_mondays_df.tail()"
   ]
  },
  {
   "cell_type": "code",
   "execution_count": 23,
   "metadata": {},
   "outputs": [
    {
     "data": {
      "text/plain": [
       "datetime.date(1970, 1, 2)"
      ]
     },
     "execution_count": 23,
     "metadata": {},
     "output_type": "execute_result"
    }
   ],
   "source": [
    "# panda stores the datetimes into a timestamp even when I try to get it to be a datetime.\n",
    "# so I have to read and convert it to datetime manually\n",
    "fridays_and_mondays_df.loc[0]['Fridays'].date()"
   ]
  },
  {
   "cell_type": "code",
   "execution_count": 24,
   "metadata": {},
   "outputs": [],
   "source": [
    "fridays_and_mondays_df.to_csv('data/weekends1970_2018.csv')"
   ]
  }
 ],
 "metadata": {
  "kernelspec": {
   "display_name": "erdos_fall_2024",
   "language": "python",
   "name": "python3"
  },
  "language_info": {
   "codemirror_mode": {
    "name": "ipython",
    "version": 3
   },
   "file_extension": ".py",
   "mimetype": "text/x-python",
   "name": "python",
   "nbconvert_exporter": "python",
   "pygments_lexer": "ipython3",
   "version": "3.12.5"
  }
 },
 "nbformat": 4,
 "nbformat_minor": 2
}
