{
 "cells": [
  {
   "cell_type": "markdown",
   "metadata": {},
   "source": [
    "# Initial WSP Data Exploration\n",
    "\n",
    "Looking at World Stock Price dataset."
   ]
  },
  {
   "cell_type": "code",
   "execution_count": 1,
   "metadata": {},
   "outputs": [],
   "source": [
    "import pandas as pd\n",
    "import numpy as np\n",
    "import zipfile\n",
    "import datetime\n",
    "import matplotlib.pyplot as plt\n",
    "import seaborn as sns\n",
    "from scipy.optimize import curve_fit\n",
    "from scipy import stats\n",
    "from seaborn import set_style\n",
    "set_style(\"whitegrid\")\n"
   ]
  },
  {
   "cell_type": "markdown",
   "metadata": {},
   "source": [
    "Some notes:\n",
    "\n",
    "Use seasonal average model for weekends minus daylight savings weekend to create model\n",
    "See how well the average predicts daylight savings weekends (null hypothesis is that there is no difference in regular weekends and daylight savings weekends)\n",
    "\n",
    "Try seasonal average model plus linear model to account for monthly changes plus changes over the years\n",
    "\n",
    "Use Time Series analysis\n",
    "\n",
    "Use sklearn with rest of dataset as features and open/close as predictor\n",
    "\n",
    "Look into using logistic regression for binary type data"
   ]
  },
  {
   "cell_type": "code",
   "execution_count": 2,
   "metadata": {},
   "outputs": [],
   "source": [
    "#price2 = pd.read_csv('WSJ_HistoricalPrices(Jan 1, 1981 - Oct 10, 2024).csv')\n",
    "#price1 = pd.read_csv('WSJ_HistoricalPrices(Feb 5, 1971 - Dec 31, 1980).csv')\n",
    "dates = pd.read_csv('DaylightSavingsTimeChangeDates_1971-2024.csv')\n",
    "\n",
    "\n",
    "zf = zipfile.ZipFile('historical_stock_prices.csv.zip') \n",
    "\n",
    "metadata = pd.read_csv('historical_stocks.csv')\n",
    "stock_data = pd.read_csv(zf.open('historical_stock_prices.csv'))"
   ]
  },
  {
   "cell_type": "code",
   "execution_count": 6,
   "metadata": {},
   "outputs": [],
   "source": [
    "dst_dates_spring = pd.to_datetime(dates.Date+\" \"+dates.Year.astype(str))\n",
    "dst_dates_winter = pd.to_datetime(dates['Date.1']+\" \"+dates.Year.astype(str))\n",
    "dst_mon_spring = dst_dates_spring+pd.DateOffset(1)\n",
    "dst_fri_spring = dst_dates_spring+pd.DateOffset(-2)\n",
    "dst_mon_winter = dst_dates_winter+pd.DateOffset(1)\n",
    "dst_fri_winter = dst_dates_winter+pd.DateOffset(-2)"
   ]
  },
  {
   "cell_type": "code",
   "execution_count": null,
   "metadata": {},
   "outputs": [],
   "source": []
  },
  {
   "cell_type": "code",
   "execution_count": null,
   "metadata": {},
   "outputs": [],
   "source": []
  },
  {
   "cell_type": "code",
   "execution_count": 7,
   "metadata": {
    "scrolled": true
   },
   "outputs": [],
   "source": [
    "#Set datetime as index\n",
    "stock_data['Date'] = pd.to_datetime(stock_data.date, utc=True).apply(lambda x: x.date())\n",
    "stock_data.drop('date', inplace=True, axis=1)\n",
    "stock_data['IS_DST'] = stock_data.Date.isin(pd.concat([dst_dates_spring, dst_dates_winter]))\n",
    "stock_data.set_index('Date', inplace=True)\n",
    "stock_data.index = stock_data.index.astype('datetime64[ns]')"
   ]
  },
  {
   "cell_type": "code",
   "execution_count": null,
   "metadata": {},
   "outputs": [],
   "source": []
  },
  {
   "cell_type": "code",
   "execution_count": 8,
   "metadata": {},
   "outputs": [],
   "source": [
    "stock_data['IS_MON'] = stock_data.index.day_of_week==0\n",
    "stock_data['IS_FRI'] = stock_data.index.day_of_week==4\n",
    "#wsp_data['IS_MON'] = pd.get_dummies(wsp_data[['IS_MON']]*1.0)\n",
    "#wsp_data['IS_FRI'] = pd.get_dummies(wsp_data[['IS_FRI']]*1.0)\n"
   ]
  },
  {
   "cell_type": "code",
   "execution_count": 6,
   "metadata": {},
   "outputs": [],
   "source": [
    "sectors = metadata.sector.unique()"
   ]
  },
  {
   "cell_type": "code",
   "execution_count": 9,
   "metadata": {},
   "outputs": [],
   "source": [
    "fin_ticks = metadata[metadata.sector == 'FINANCE'].ticker"
   ]
  },
  {
   "cell_type": "code",
   "execution_count": 10,
   "metadata": {},
   "outputs": [],
   "source": [
    "con_ticks = metadata[metadata.sector == 'CONSUMER SERVICES'].ticker"
   ]
  },
  {
   "cell_type": "code",
   "execution_count": 11,
   "metadata": {},
   "outputs": [],
   "source": [
    "health_ticks = metadata[metadata.sector == 'HEALTH CARE'].ticker"
   ]
  },
  {
   "cell_type": "code",
   "execution_count": 12,
   "metadata": {},
   "outputs": [],
   "source": [
    "tech_ticks = metadata[metadata.sector == 'TECHNOLOGY'].ticker"
   ]
  },
  {
   "cell_type": "code",
   "execution_count": 13,
   "metadata": {},
   "outputs": [],
   "source": [
    "finance = stock_data.loc[stock_data.ticker.isin(fin_ticks.values)]"
   ]
  },
  {
   "cell_type": "code",
   "execution_count": 14,
   "metadata": {},
   "outputs": [],
   "source": [
    "conservices = stock_data.loc[stock_data.ticker.isin(con_ticks.values)]"
   ]
  },
  {
   "cell_type": "code",
   "execution_count": 17,
   "metadata": {},
   "outputs": [],
   "source": [
    "healthcare = stock_data.loc[stock_data.ticker.isin(health_ticks.values)]"
   ]
  },
  {
   "cell_type": "code",
   "execution_count": 18,
   "metadata": {},
   "outputs": [],
   "source": [
    "tech = stock_data.loc[stock_data.ticker.isin(tech_ticks.values)]"
   ]
  },
  {
   "cell_type": "code",
   "execution_count": null,
   "metadata": {},
   "outputs": [],
   "source": []
  },
  {
   "cell_type": "code",
   "execution_count": null,
   "metadata": {},
   "outputs": [],
   "source": []
  },
  {
   "cell_type": "code",
   "execution_count": null,
   "metadata": {},
   "outputs": [],
   "source": []
  },
  {
   "cell_type": "code",
   "execution_count": 19,
   "metadata": {},
   "outputs": [],
   "source": [
    "#some market values to track\n",
    "\n",
    "def daily_return(df, date): #takes dataframe and datetime64[ns]\n",
    "    assert type(date) == 'datetime64', \"date must be datetime64[ns] object\"\n",
    "    assert df.index.inferred_type == 'datetime64', \"df must have a datetime64[ns] index\"\n",
    "    close_price = df.loc[date, 'close']\n",
    "    open_price = df.loc[date, 'open']\n",
    "    return close_price-open_price\n",
    "\n",
    "def daily_percent_return(df, date): #takes dataframe and datetime64[ns]\n",
    "    assert type(date) == 'datetime64', \"date must be datetime64[ns] object\"\n",
    "    assert df.index.inferred_type == 'datetime64', \"df must have a datetime64[ns] index\"\n",
    "    close_price = df.loc[date, 'close']\n",
    "    open_price = df.loc[date, 'open']\n",
    "    return (close_price-open_price)/open_price\n",
    "\n",
    "def weekend_effect(df): #df is DataFrame for one ticker, with IS_FRI and IS_MON columns\n",
    "    #assert type(date) == 'datetime64', \"date must be datetime64[ns] object\"\n",
    "    assert df.index.inferred_type == 'datetime64', \"df must have a datetime64[ns] index\" \n",
    "    fri_close = df.loc[df.IS_FRI].close\n",
    "    mon_open = df.loc[fri_close.index+pd.DateOffset(3)].open\n",
    "    return fri_close.to_numpy() - mon_open.to_numpy(), (fri_close.to_numpy() - mon_open.to_numpy())/fri_close.to_numpy(), fri_close.index+pd.DateOffset(2) #returns (price difference, percent difference)\n",
    "\n",
    "def hl_variability(df):\n",
    "    assert df.index.inferred_type == 'datetime64', \"df must have a datetime64[ns] index\" \n",
    "    dates = df.loc[df.IS_FRI].low.index\n",
    "    fri_hl = df.loc[df.IS_FRI].high - df.loc[df.IS_FRI].low\n",
    "    mon_hl = df.loc[dates+pd.DateOffset(3)].high - df.loc[dates+pd.DateOffset(3)].low\n",
    "    return mon_hl.values, fri_hl.values, dates+pd.DateOffset(2) #returns (price difference, percent difference)\n",
    "    "
   ]
  },
  {
   "cell_type": "code",
   "execution_count": 20,
   "metadata": {},
   "outputs": [],
   "source": [
    "#Data preprocessing for descriptive statistics (may not be applicable to time dependent processing)\n",
    "\n",
    "dataset = pd.DataFrame()\n",
    "\n",
    "for tk in fin_ticks:\n",
    "    #Select a single stock from full dataset\n",
    "    tk_set = finance.loc[finance.ticker == tk]\n",
    "    \n",
    "    #For all Fridays in the subset, find the date of the next Monday\n",
    "    mon_offset = tk_set.loc[tk_set['IS_FRI']].index+pd.DateOffset(3)\n",
    "    \n",
    "    #Create subsubset of subset that only includes Mondays with a corresponding Friday\n",
    "    mondays = tk_set.loc[mon_offset.unique()[mon_offset.unique().isin(tk_set.index)].strftime('%Y-%m-%d')]\n",
    "    \n",
    "    #Create subsubset of subset that only includes the Fridays that correspond to the above Mondays\n",
    "    fridays = tk_set.loc[(mondays.index.unique()+pd.DateOffset(-3))]\n",
    "    \n",
    "    #Alter subset to include all Tues-Thurs, and only those Mondays and Fridays which come in pairs\n",
    "    tk_set = tk_set[((tk_set.IS_MON==False) & (tk_set.IS_FRI==False)) | (tk_set.index.isin(mondays.index)) | (tk_set.index.isin(fridays.index))]\n",
    "    \n",
    "    #Eliminate repeat data (data was taken twice for some stocks on certain days)\n",
    "    tk_set = tk_set.loc[~tk_set.index.duplicated()]\n",
    "    \n",
    "    dataset = pd.concat([dataset, tk_set]).sort_index(ascending=False)\n",
    "    \n",
    "finance = dataset"
   ]
  },
  {
   "cell_type": "code",
   "execution_count": 21,
   "metadata": {},
   "outputs": [],
   "source": [
    "#Same treatment for consumer services, health care, and finance\n",
    "#Data preprocessing for descriptive statistics (may not be applicable to time dependent processing)\n",
    "\n",
    "dataset = pd.DataFrame()\n",
    "\n",
    "for tk in con_ticks:\n",
    "    #Select a single stock from full dataset\n",
    "    tk_set = conservices.loc[conservices.ticker == tk]\n",
    "    \n",
    "    #For all Fridays in the subset, find the date of the next Monday\n",
    "    mon_offset = tk_set.loc[tk_set['IS_FRI']].index+pd.DateOffset(3)\n",
    "    \n",
    "    #Create subsubset of subset that only includes Mondays with a corresponding Friday\n",
    "    mondays = tk_set.loc[mon_offset.unique()[mon_offset.unique().isin(tk_set.index)].strftime('%Y-%m-%d')]\n",
    "    \n",
    "    #Create subsubset of subset that only includes the Fridays that correspond to the above Mondays\n",
    "    fridays = tk_set.loc[(mondays.index.unique()+pd.DateOffset(-3))]\n",
    "    \n",
    "    #Alter subset to include all Tues-Thurs, and only those Mondays and Fridays which come in pairs\n",
    "    tk_set = tk_set[((tk_set.IS_MON==False) & (tk_set.IS_FRI==False)) | (tk_set.index.isin(mondays.index)) | (tk_set.index.isin(fridays.index))]\n",
    "    \n",
    "    #Eliminate repeat data (data was taken twice for some stocks on certain days)\n",
    "    tk_set = tk_set.loc[~tk_set.index.duplicated()]\n",
    "    \n",
    "    dataset = pd.concat([dataset, tk_set]).sort_index(ascending=False)\n",
    "    \n",
    "conservices = dataset\n",
    "\n",
    "dataset = pd.DataFrame()\n",
    "\n",
    "for tk in health_ticks:\n",
    "    #Select a single stock from full dataset\n",
    "    tk_set = healthcare.loc[healthcare.ticker == tk]\n",
    "    \n",
    "    #For all Fridays in the subset, find the date of the next Monday\n",
    "    mon_offset = tk_set.loc[tk_set['IS_FRI']].index+pd.DateOffset(3)\n",
    "    \n",
    "    #Create subsubset of subset that only includes Mondays with a corresponding Friday\n",
    "    mondays = tk_set.loc[mon_offset.unique()[mon_offset.unique().isin(tk_set.index)].strftime('%Y-%m-%d')]\n",
    "    \n",
    "    #Create subsubset of subset that only includes the Fridays that correspond to the above Mondays\n",
    "    fridays = tk_set.loc[(mondays.index.unique()+pd.DateOffset(-3))]\n",
    "    \n",
    "    #Alter subset to include all Tues-Thurs, and only those Mondays and Fridays which come in pairs\n",
    "    tk_set = tk_set[((tk_set.IS_MON==False) & (tk_set.IS_FRI==False)) | (tk_set.index.isin(mondays.index)) | (tk_set.index.isin(fridays.index))]\n",
    "    \n",
    "    #Eliminate repeat data (data was taken twice for some stocks on certain days)\n",
    "    tk_set = tk_set.loc[~tk_set.index.duplicated()]\n",
    "    \n",
    "    dataset = pd.concat([dataset, tk_set]).sort_index(ascending=False)\n",
    "    \n",
    "healthcare = dataset\n",
    "\n",
    "dataset = pd.DataFrame()\n",
    "\n",
    "for tk in tech_ticks:\n",
    "    #Select a single stock from full dataset\n",
    "    tk_set = tech.loc[tech.ticker == tk]\n",
    "    \n",
    "    #For all Fridays in the subset, find the date of the next Monday\n",
    "    mon_offset = tk_set.loc[tk_set['IS_FRI']].index+pd.DateOffset(3)\n",
    "    \n",
    "    #Create subsubset of subset that only includes Mondays with a corresponding Friday\n",
    "    mondays = tk_set.loc[mon_offset.unique()[mon_offset.unique().isin(tk_set.index)].strftime('%Y-%m-%d')]\n",
    "    \n",
    "    #Create subsubset of subset that only includes the Fridays that correspond to the above Mondays\n",
    "    fridays = tk_set.loc[(mondays.index.unique()+pd.DateOffset(-3))]\n",
    "    \n",
    "    #Alter subset to include all Tues-Thurs, and only those Mondays and Fridays which come in pairs\n",
    "    tk_set = tk_set[((tk_set.IS_MON==False) & (tk_set.IS_FRI==False)) | (tk_set.index.isin(mondays.index)) | (tk_set.index.isin(fridays.index))]\n",
    "    \n",
    "    #Eliminate repeat data (data was taken twice for some stocks on certain days)\n",
    "    tk_set = tk_set.loc[~tk_set.index.duplicated()]\n",
    "    \n",
    "    dataset = pd.concat([dataset, tk_set]).sort_index(ascending=False)\n",
    "    \n",
    "tech = dataset"
   ]
  },
  {
   "cell_type": "code",
   "execution_count": null,
   "metadata": {},
   "outputs": [],
   "source": [
    "#tk_set = tk_set[((tk_set.IS_MON==False) & (tk_set.IS_FRI==False)) | (tk_set.index.isin(mondays.index)) | (tk_set.index.isin(fridays.index))]"
   ]
  },
  {
   "cell_type": "code",
   "execution_count": null,
   "metadata": {},
   "outputs": [],
   "source": [
    "#wsp_data.loc[~(wsp_data.Ticker == 'NKE')].Ticker.unique()"
   ]
  },
  {
   "cell_type": "code",
   "execution_count": 12,
   "metadata": {},
   "outputs": [
    {
     "data": {
      "text/plain": [
       "0         PIH\n",
       "1       PIHPP\n",
       "2        TURN\n",
       "4        FCCY\n",
       "5        SRCE\n",
       "        ...  \n",
       "6409      WTM\n",
       "6421       WF\n",
       "6436       XL\n",
       "6444      YRD\n",
       "6454      ZBK\n",
       "Name: ticker, Length: 1022, dtype: object"
      ]
     },
     "execution_count": 12,
     "metadata": {},
     "output_type": "execute_result"
    }
   ],
   "source": [
    "fin_ticks"
   ]
  },
  {
   "cell_type": "code",
   "execution_count": null,
   "metadata": {},
   "outputs": [],
   "source": [
    "finance.loc[finance.ticker=='PIH']"
   ]
  },
  {
   "cell_type": "code",
   "execution_count": null,
   "metadata": {},
   "outputs": [],
   "source": [
    "finance.loc[finance.ticker=='PIHPP']"
   ]
  },
  {
   "cell_type": "code",
   "execution_count": null,
   "metadata": {},
   "outputs": [],
   "source": [
    "tk"
   ]
  },
  {
   "cell_type": "code",
   "execution_count": null,
   "metadata": {},
   "outputs": [],
   "source": [
    "a, b, c = weekend_effect(finance.loc[finance.ticker == 'PIH'])"
   ]
  },
  {
   "cell_type": "code",
   "execution_count": null,
   "metadata": {},
   "outputs": [],
   "source": [
    "c"
   ]
  },
  {
   "cell_type": "code",
   "execution_count": null,
   "metadata": {},
   "outputs": [],
   "source": [
    "#Alter main dataset to include all Tues-Thurs, and only those Mondays and Fridays which come in pairs\n",
    "#wsp_data = wsp_data[((wsp_data.IS_MON==False) & (wsp_data.IS_FRI==False)) | (wsp_data.index.isin(mondays.index)) | (wsp_data.index.isin(fridays.index))]"
   ]
  },
  {
   "cell_type": "code",
   "execution_count": null,
   "metadata": {},
   "outputs": [],
   "source": [
    "m_hl, f_hl, d_hl = hl_variability(finance.loc[finance.ticker == 'PIH'])"
   ]
  },
  {
   "cell_type": "code",
   "execution_count": null,
   "metadata": {},
   "outputs": [],
   "source": [
    "m_hl.shape"
   ]
  },
  {
   "cell_type": "code",
   "execution_count": null,
   "metadata": {},
   "outputs": [],
   "source": []
  },
  {
   "cell_type": "code",
   "execution_count": 95,
   "metadata": {},
   "outputs": [],
   "source": [
    "#wk = []\n",
    "i=0\n",
    "wt = pd.DataFrame()\n",
    "cs = pd.DataFrame()\n",
    "hc = pd.DataFrame()\n",
    "tc = pd.DataFrame()\n",
    "\n",
    "for tk in fin_ticks:\n",
    "    #print(tk)\n",
    "    #wk.append(weekend_effect(finance.loc[finance.ticker == tk]))\n",
    "    price_change, percent, date = weekend_effect(finance.loc[finance.ticker == tk])\n",
    "    m_hl, f_hl, d_hl = hl_variability(finance.loc[finance.ticker == tk])\n",
    "    tmp = pd.DataFrame({'Date':date,'Price_Change':price_change, 'Percent_Change':percent, 'Mon_HL_Diff':m_hl, 'Fri_HL_Diff':f_hl, \"Ticker\":np.full(percent.shape, tk)})\n",
    "    #df['col'] = pd.Series('hello', index=df.index, dtype='category')\n",
    "    wt = pd.concat([wt, tmp])\n",
    "    i+=1\n",
    "\n",
    "for tk in con_ticks:\n",
    "    #print(tk)\n",
    "    #wk.append(weekend_effect(finance.loc[finance.ticker == tk]))\n",
    "    price_change, percent, date = weekend_effect(conservices.loc[conservices.ticker == tk])\n",
    "    m_hl, f_hl, d_hl = hl_variability(conservices.loc[conservices.ticker == tk])\n",
    "    tmp = pd.DataFrame({'Date':date,'Price_Change':price_change, 'Percent_Change':percent, 'Mon_HL_Diff':m_hl, 'Fri_HL_Diff':f_hl, \"Ticker\":np.full(percent.shape, tk)})\n",
    "    #df['col'] = pd.Series('hello', index=df.index, dtype='category')\n",
    "    cs = pd.concat([cs, tmp])\n",
    "    i+=1\n",
    "\n",
    "for tk in health_ticks:\n",
    "    #print(tk)\n",
    "    #wk.append(weekend_effect(finance.loc[finance.ticker == tk]))\n",
    "    price_change, percent, date = weekend_effect(healthcare.loc[healthcare.ticker == tk])\n",
    "    m_hl, f_hl, d_hl = hl_variability(healthcare.loc[healthcare.ticker == tk])\n",
    "    tmp = pd.DataFrame({'Date':date,'Price_Change':price_change, 'Percent_Change':percent, 'Mon_HL_Diff':m_hl, 'Fri_HL_Diff':f_hl, \"Ticker\":np.full(percent.shape, tk)})\n",
    "    #df['col'] = pd.Series('hello', index=df.index, dtype='category')\n",
    "    hc = pd.concat([hc, tmp])\n",
    "    i+=1\n",
    "\n",
    "for tk in tech_ticks:\n",
    "    #print(tk)\n",
    "    #wk.append(weekend_effect(finance.loc[finance.ticker == tk]))\n",
    "    price_change, percent, date = weekend_effect(tech.loc[tech.ticker == tk])\n",
    "    m_hl, f_hl, d_hl = hl_variability(tech.loc[tech.ticker == tk])\n",
    "    tmp = pd.DataFrame({'Date':date,'Price_Change':price_change, 'Percent_Change':percent, 'Mon_HL_Diff':m_hl, 'Fri_HL_Diff':f_hl, \"Ticker\":np.full(percent.shape, tk)})\n",
    "    #df['col'] = pd.Series('hello', index=df.index, dtype='category')\n",
    "    tc = pd.concat([tc, tmp])\n",
    "    i+=1"
   ]
  },
  {
   "cell_type": "code",
   "execution_count": null,
   "metadata": {},
   "outputs": [],
   "source": [
    "wt"
   ]
  },
  {
   "cell_type": "code",
   "execution_count": 102,
   "metadata": {},
   "outputs": [],
   "source": [
    "wt['IS_DST'] = wt.Date.isin(pd.concat([dst_dates_spring, dst_dates_winter]))"
   ]
  },
  {
   "cell_type": "code",
   "execution_count": 103,
   "metadata": {},
   "outputs": [],
   "source": [
    "cs['IS_DST'] = cs.Date.isin(pd.concat([dst_dates_spring, dst_dates_winter]))"
   ]
  },
  {
   "cell_type": "code",
   "execution_count": 104,
   "metadata": {},
   "outputs": [],
   "source": [
    "hc['IS_DST'] = hc.Date.isin(pd.concat([dst_dates_spring, dst_dates_winter]))"
   ]
  },
  {
   "cell_type": "code",
   "execution_count": 105,
   "metadata": {},
   "outputs": [],
   "source": [
    "tc['IS_DST'] = tc.Date.isin(pd.concat([dst_dates_spring, dst_dates_winter]))"
   ]
  },
  {
   "cell_type": "code",
   "execution_count": 31,
   "metadata": {},
   "outputs": [],
   "source": [
    "wt = wt.assign(p_value = np.nan)"
   ]
  },
  {
   "cell_type": "code",
   "execution_count": 99,
   "metadata": {},
   "outputs": [
    {
     "data": {
      "text/html": [
       "<div>\n",
       "<style scoped>\n",
       "    .dataframe tbody tr th:only-of-type {\n",
       "        vertical-align: middle;\n",
       "    }\n",
       "\n",
       "    .dataframe tbody tr th {\n",
       "        vertical-align: top;\n",
       "    }\n",
       "\n",
       "    .dataframe thead th {\n",
       "        text-align: right;\n",
       "    }\n",
       "</style>\n",
       "<table border=\"1\" class=\"dataframe\">\n",
       "  <thead>\n",
       "    <tr style=\"text-align: right;\">\n",
       "      <th></th>\n",
       "      <th>Date</th>\n",
       "      <th>Price_Change</th>\n",
       "      <th>Percent_Change</th>\n",
       "      <th>Mon_HL_Diff</th>\n",
       "      <th>Fri_HL_Diff</th>\n",
       "      <th>Ticker</th>\n",
       "      <th>IS_DST</th>\n",
       "    </tr>\n",
       "  </thead>\n",
       "  <tbody>\n",
       "    <tr>\n",
       "      <th>0</th>\n",
       "      <td>2018-08-19</td>\n",
       "      <td>-0.100000</td>\n",
       "      <td>-0.006920</td>\n",
       "      <td>0.230000</td>\n",
       "      <td>0.450000</td>\n",
       "      <td>FLWS</td>\n",
       "      <td>False</td>\n",
       "    </tr>\n",
       "    <tr>\n",
       "      <th>1</th>\n",
       "      <td>2018-08-12</td>\n",
       "      <td>-0.099999</td>\n",
       "      <td>-0.006873</td>\n",
       "      <td>0.280000</td>\n",
       "      <td>0.300000</td>\n",
       "      <td>FLWS</td>\n",
       "      <td>False</td>\n",
       "    </tr>\n",
       "    <tr>\n",
       "      <th>2</th>\n",
       "      <td>2018-08-05</td>\n",
       "      <td>0.000000</td>\n",
       "      <td>0.000000</td>\n",
       "      <td>0.250000</td>\n",
       "      <td>0.400001</td>\n",
       "      <td>FLWS</td>\n",
       "      <td>False</td>\n",
       "    </tr>\n",
       "    <tr>\n",
       "      <th>3</th>\n",
       "      <td>2018-07-29</td>\n",
       "      <td>0.050000</td>\n",
       "      <td>0.003484</td>\n",
       "      <td>0.760000</td>\n",
       "      <td>0.450000</td>\n",
       "      <td>FLWS</td>\n",
       "      <td>False</td>\n",
       "    </tr>\n",
       "    <tr>\n",
       "      <th>4</th>\n",
       "      <td>2018-07-22</td>\n",
       "      <td>-0.050000</td>\n",
       "      <td>-0.003704</td>\n",
       "      <td>0.700000</td>\n",
       "      <td>0.750000</td>\n",
       "      <td>FLWS</td>\n",
       "      <td>False</td>\n",
       "    </tr>\n",
       "    <tr>\n",
       "      <th>...</th>\n",
       "      <td>...</td>\n",
       "      <td>...</td>\n",
       "      <td>...</td>\n",
       "      <td>...</td>\n",
       "      <td>...</td>\n",
       "      <td>...</td>\n",
       "      <td>...</td>\n",
       "    </tr>\n",
       "    <tr>\n",
       "      <th>192</th>\n",
       "      <td>2014-05-18</td>\n",
       "      <td>-0.060001</td>\n",
       "      <td>-0.002108</td>\n",
       "      <td>1.100000</td>\n",
       "      <td>1.470001</td>\n",
       "      <td>ZOES</td>\n",
       "      <td>False</td>\n",
       "    </tr>\n",
       "    <tr>\n",
       "      <th>193</th>\n",
       "      <td>2014-05-11</td>\n",
       "      <td>-0.010000</td>\n",
       "      <td>-0.000385</td>\n",
       "      <td>0.459999</td>\n",
       "      <td>1.010000</td>\n",
       "      <td>ZOES</td>\n",
       "      <td>False</td>\n",
       "    </tr>\n",
       "    <tr>\n",
       "      <th>194</th>\n",
       "      <td>2014-05-04</td>\n",
       "      <td>-0.400000</td>\n",
       "      <td>-0.014467</td>\n",
       "      <td>1.620001</td>\n",
       "      <td>1.309999</td>\n",
       "      <td>ZOES</td>\n",
       "      <td>False</td>\n",
       "    </tr>\n",
       "    <tr>\n",
       "      <th>195</th>\n",
       "      <td>2014-04-27</td>\n",
       "      <td>0.260000</td>\n",
       "      <td>0.009342</td>\n",
       "      <td>1.299999</td>\n",
       "      <td>1.490000</td>\n",
       "      <td>ZOES</td>\n",
       "      <td>False</td>\n",
       "    </tr>\n",
       "    <tr>\n",
       "      <th>196</th>\n",
       "      <td>2014-04-13</td>\n",
       "      <td>-1.470001</td>\n",
       "      <td>-0.059466</td>\n",
       "      <td>2.639999</td>\n",
       "      <td>2.410000</td>\n",
       "      <td>ZOES</td>\n",
       "      <td>False</td>\n",
       "    </tr>\n",
       "  </tbody>\n",
       "</table>\n",
       "<p>509508 rows × 7 columns</p>\n",
       "</div>"
      ],
      "text/plain": [
       "          Date  Price_Change  Percent_Change  Mon_HL_Diff  Fri_HL_Diff Ticker  \\\n",
       "0   2018-08-19     -0.100000       -0.006920     0.230000     0.450000   FLWS   \n",
       "1   2018-08-12     -0.099999       -0.006873     0.280000     0.300000   FLWS   \n",
       "2   2018-08-05      0.000000        0.000000     0.250000     0.400001   FLWS   \n",
       "3   2018-07-29      0.050000        0.003484     0.760000     0.450000   FLWS   \n",
       "4   2018-07-22     -0.050000       -0.003704     0.700000     0.750000   FLWS   \n",
       "..         ...           ...             ...          ...          ...    ...   \n",
       "192 2014-05-18     -0.060001       -0.002108     1.100000     1.470001   ZOES   \n",
       "193 2014-05-11     -0.010000       -0.000385     0.459999     1.010000   ZOES   \n",
       "194 2014-05-04     -0.400000       -0.014467     1.620001     1.309999   ZOES   \n",
       "195 2014-04-27      0.260000        0.009342     1.299999     1.490000   ZOES   \n",
       "196 2014-04-13     -1.470001       -0.059466     2.639999     2.410000   ZOES   \n",
       "\n",
       "     IS_DST  \n",
       "0     False  \n",
       "1     False  \n",
       "2     False  \n",
       "3     False  \n",
       "4     False  \n",
       "..      ...  \n",
       "192   False  \n",
       "193   False  \n",
       "194   False  \n",
       "195   False  \n",
       "196   False  \n",
       "\n",
       "[509508 rows x 7 columns]"
      ]
     },
     "execution_count": 99,
     "metadata": {},
     "output_type": "execute_result"
    }
   ],
   "source": [
    "cs.Ticker"
   ]
  },
  {
   "cell_type": "code",
   "execution_count": 39,
   "metadata": {},
   "outputs": [
    {
     "name": "stdout",
     "output_type": "stream",
     "text": [
      "DST mean is 0.0018006351057250215+/-0.008134158989770811\n"
     ]
    }
   ],
   "source": [
    "wfc_dst_mean = wt.loc[(wt.Ticker == 'WFC')&(wt.IS_DST == True)].Percent_Change.mean()\n",
    "wfc_dst_std = wt.loc[(wt.Ticker == 'WFC')&(wt.IS_DST == True)].Percent_Change.std()\n",
    "print(\"DST mean is \"+str(wfc_dst_mean)+\"+/-\"+str(wfc_dst_std))"
   ]
  },
  {
   "cell_type": "code",
   "execution_count": 40,
   "metadata": {},
   "outputs": [
    {
     "name": "stdout",
     "output_type": "stream",
     "text": [
      "Regular mean is 0.0002571740587318255+/-0.010345966185592217\n"
     ]
    }
   ],
   "source": [
    "wfc_reg_mean = wt.loc[(wt.Ticker == 'WFC')&(wt.IS_DST == False)].Percent_Change.mean()\n",
    "wfc_reg_std = wt.loc[(wt.Ticker == 'WFC')&(wt.IS_DST == False)].Percent_Change.std()\n",
    "print(\"Regular mean is \"+str(wfc_reg_mean)+\"+/-\"+str(wfc_reg_std))"
   ]
  },
  {
   "cell_type": "code",
   "execution_count": 51,
   "metadata": {},
   "outputs": [],
   "source": [
    "#wt.loc[wt.Ticker == 'WFC', 'p_value'] = np.full(wt.loc[wt.Ticker == 'WFC'].shape[0], 0)"
   ]
  },
  {
   "cell_type": "code",
   "execution_count": 133,
   "metadata": {},
   "outputs": [],
   "source": [
    "test_data = wt.loc[wt.Ticker == 'WFC']"
   ]
  },
  {
   "cell_type": "code",
   "execution_count": 21,
   "metadata": {},
   "outputs": [],
   "source": [
    "reg_set = test_data.loc[~test_data.IS_DST].Percent_Change.values\n",
    "r_bin_width = 2*stats.iqr(reg_set)*(len(reg_set))**(-1/3)\n",
    "reg_wkend, x_vals = np.histogram(reg_set, bins = int((np.amax(reg_set)-np.amin(reg_set))/r_bin_width), range=(np.amin(reg_set), np.amax(reg_set)), density=True)\n",
    "x_vals = x_vals[:-1]+(x_vals[1:]-x_vals[:-1])/2\n",
    "r_bin_err = r_bin_width/2"
   ]
  },
  {
   "cell_type": "code",
   "execution_count": 22,
   "metadata": {},
   "outputs": [],
   "source": [
    "dst_set = test_data.loc[test_data.IS_DST].Percent_Change.values\n",
    "d_bin_width = 2*stats.iqr(dst_set)*(len(dst_set))**(-1/3)\n",
    "dst_wkend, dst_x_vals = np.histogram(dst_set, bins = int((np.amax(dst_set)-np.amin(dst_set))/d_bin_width), range=(np.amin(dst_set), np.amax(dst_set)), density=True)\n",
    "dst_x_vals = dst_x_vals[:-1]+(dst_x_vals[1:]-dst_x_vals[:-1])/2\n",
    "d_bin_err=d_bin_width/2"
   ]
  },
  {
   "cell_type": "code",
   "execution_count": 23,
   "metadata": {},
   "outputs": [
    {
     "data": {
      "text/plain": [
       "0.0009641027320294512"
      ]
     },
     "execution_count": 23,
     "metadata": {},
     "output_type": "execute_result"
    }
   ],
   "source": [
    "2*stats.iqr(reg_set)*(len(reg_set))**(-1/3)"
   ]
  },
  {
   "cell_type": "code",
   "execution_count": 24,
   "metadata": {},
   "outputs": [],
   "source": [
    "def gaussian(x, A, x0, sigma): \n",
    "    return A * np.exp(-(x - x0) ** 2 / (2 * sigma ** 2))"
   ]
  },
  {
   "cell_type": "code",
   "execution_count": 25,
   "metadata": {},
   "outputs": [],
   "source": [
    "reg_parms, reg_cov = curve_fit(gaussian, x_vals, reg_wkend, p0=(np.amax(reg_wkend), 0, stats.iqr(reg_set)/2), sigma = r_bin_err+np.sqrt(reg_wkend))"
   ]
  },
  {
   "cell_type": "code",
   "execution_count": 26,
   "metadata": {},
   "outputs": [
    {
     "data": {
      "text/plain": [
       "array([ 3.83263921e+01, -4.42698321e-04,  5.65396795e-03])"
      ]
     },
     "execution_count": 26,
     "metadata": {},
     "output_type": "execute_result"
    }
   ],
   "source": [
    "reg_parms"
   ]
  },
  {
   "cell_type": "code",
   "execution_count": 27,
   "metadata": {},
   "outputs": [],
   "source": [
    "dst_parms, dst_cov = curve_fit(gaussian, dst_x_vals, dst_wkend, p0=(np.amax(dst_wkend), 0, stats.iqr(dst_set)/2), sigma = d_bin_err+np.sqrt(dst_wkend))"
   ]
  },
  {
   "cell_type": "code",
   "execution_count": 28,
   "metadata": {},
   "outputs": [
    {
     "data": {
      "text/plain": [
       "array([5.02625278e+01, 1.42448619e-03, 6.60247580e-03])"
      ]
     },
     "execution_count": 28,
     "metadata": {},
     "output_type": "execute_result"
    }
   ],
   "source": [
    "dst_parms"
   ]
  },
  {
   "cell_type": "code",
   "execution_count": 29,
   "metadata": {},
   "outputs": [
    {
     "name": "stderr",
     "output_type": "stream",
     "text": [
      "/var/folders/jc/xvqs4hmj339bc_532ktftc6w0000gn/T/ipykernel_18112/2540748151.py:19: UserWarning: FigureCanvasAgg is non-interactive, and thus cannot be shown\n",
      "  test_fig.show()\n"
     ]
    },
    {
     "data": {
      "image/png": "[encoded data removed]",
      "text/plain": [
       "<Figure size 640x480 with 1 Axes>"
      ]
     },
     "metadata": {},
     "output_type": "display_data"
    }
   ],
   "source": [
    "x_fit = np.linspace(x_vals[0], x_vals[-1], 1000)\n",
    "fit_y = gaussian(x_fit, *reg_parms)\n",
    "dst_fit_y = gaussian(x_fit, *dst_parms)\n",
    "#fit_y = stats.norm(loc = reg_parms[1], scale = reg_parms[2])\n",
    "#dst_fit_y = stats.norm(loc = dst_parms[1], scale = dst_parms[2])\n",
    "\n",
    "test_fig, test_ax = plt.subplots(nrows=1, ncols=1)#, figsize=(15, 12))\n",
    "test_ax.plot(x_fit, fit_y, color='blue')\n",
    "test_ax.scatter(x_vals, reg_wkend, color='blue', alpha=0.3)\n",
    "test_ax.vlines(reg_parms[1], 0, np.amax(reg_wkend), color='blue', linestyles='dashed', label='Non-DST Mean')\n",
    "test_ax.plot(x_fit, dst_fit_y, color='orange')\n",
    "test_ax.scatter(dst_x_vals, dst_wkend, color='orange', alpha=0.3)\n",
    "test_ax.vlines(dst_parms[1], 0, np.amax(reg_wkend), color='orange', linestyles='dashed', label='DST Mean')\n",
    "test_ax.set_xlim(-0.05, 0.05)\n",
    "test_ax.set_title('DST vs Non-DST Weekend Effect')\n",
    "test_ax.set_ylabel('Frequency')\n",
    "test_ax.set_xlabel('Percent Change, Fri Close to Mon Open')\n",
    "test_ax.legend()\n",
    "test_fig.show()\n"
   ]
  },
  {
   "cell_type": "code",
   "execution_count": 32,
   "metadata": {},
   "outputs": [
    {
     "name": "stdout",
     "output_type": "stream",
     "text": [
      "Z-score is 0.18260580591903\n",
      "p-value is 0.42755366424056485\n"
     ]
    }
   ],
   "source": [
    "dist = stats.norm(loc=reg_parms[1], scale=np.sqrt(reg_parms[2]**2+dst_parms[2]**2)) #mean of 0 for zero difference between DST and regular, spread of each Gaussian fit added in quadrature\n",
    "#z_score = np.sqrt(np.sum(reg_wkend))*(dst_parms[1] - reg_parms[1])/(reg_parms[2])\n",
    "z_score = (dst_parms[1] - reg_parms[1])/np.sqrt(reg_parms[2]**2/np.sum(reg_set)+dst_parms[2]**2)\n",
    "print('Z-score is '+str(z_score))\n",
    "if z_score<0:\n",
    "    p_val = stats.norm(loc=0, scale=1).cdf(z_score)\n",
    "else:\n",
    "    p_val = 1-stats.norm(loc=0, scale=1).cdf(z_score)\n",
    "print('p-value is '+str(p_val))"
   ]
  },
  {
   "cell_type": "code",
   "execution_count": 38,
   "metadata": {},
   "outputs": [
    {
     "name": "stdout",
     "output_type": "stream",
     "text": [
      "Z-score is 0.11727819356135617\n",
      "p-value is 0.453319802393067\n"
     ]
    }
   ],
   "source": [
    "#dist = stats.norm(loc=reg_parms[1], scale=np.sqrt(reg_parms[2]**2+dst_parms[2]**2)) #mean of 0 for zero difference between DST and regular, spread of each Gaussian fit added in quadrature\n",
    "#z_score = np.sqrt(np.sum(reg_wkend))*(dst_parms[1] - reg_parms[1])/(reg_parms[2])\n",
    "z_score = (wfc_dst_mean - wfc_reg_mean)/np.sqrt(wfc_dst_std**2+wfc_reg_std**2)\n",
    "print('Z-score is '+str(z_score))\n",
    "if z_score<0:\n",
    "    p_val = stats.norm(loc=0, scale=1).cdf(z_score)\n",
    "else:\n",
    "    p_val = 1-stats.norm(loc=0, scale=1).cdf(z_score)\n",
    "print('p-value is '+str(p_val))"
   ]
  },
  {
   "cell_type": "code",
   "execution_count": 134,
   "metadata": {},
   "outputs": [
    {
     "data": {
      "text/html": [
       "<div>\n",
       "<style scoped>\n",
       "    .dataframe tbody tr th:only-of-type {\n",
       "        vertical-align: middle;\n",
       "    }\n",
       "\n",
       "    .dataframe tbody tr th {\n",
       "        vertical-align: top;\n",
       "    }\n",
       "\n",
       "    .dataframe thead th {\n",
       "        text-align: right;\n",
       "    }\n",
       "</style>\n",
       "<table border=\"1\" class=\"dataframe\">\n",
       "  <thead>\n",
       "    <tr style=\"text-align: right;\">\n",
       "      <th></th>\n",
       "      <th>Date</th>\n",
       "      <th>Price_Change</th>\n",
       "      <th>Percent_Change</th>\n",
       "      <th>Mon_HL_Diff</th>\n",
       "      <th>Fri_HL_Diff</th>\n",
       "      <th>Ticker</th>\n",
       "      <th>IS_DST</th>\n",
       "    </tr>\n",
       "  </thead>\n",
       "  <tbody>\n",
       "    <tr>\n",
       "      <th>0</th>\n",
       "      <td>2018-08-19</td>\n",
       "      <td>0.049999</td>\n",
       "      <td>0.000849</td>\n",
       "      <td>0.540001</td>\n",
       "      <td>0.530003</td>\n",
       "      <td>WFC</td>\n",
       "      <td>False</td>\n",
       "    </tr>\n",
       "    <tr>\n",
       "      <th>1</th>\n",
       "      <td>2018-08-12</td>\n",
       "      <td>0.389999</td>\n",
       "      <td>0.006718</td>\n",
       "      <td>0.549999</td>\n",
       "      <td>1.039997</td>\n",
       "      <td>WFC</td>\n",
       "      <td>False</td>\n",
       "    </tr>\n",
       "    <tr>\n",
       "      <th>2</th>\n",
       "      <td>2018-08-05</td>\n",
       "      <td>0.250000</td>\n",
       "      <td>0.004250</td>\n",
       "      <td>0.840000</td>\n",
       "      <td>0.900002</td>\n",
       "      <td>WFC</td>\n",
       "      <td>False</td>\n",
       "    </tr>\n",
       "    <tr>\n",
       "      <th>3</th>\n",
       "      <td>2018-07-29</td>\n",
       "      <td>-0.200001</td>\n",
       "      <td>-0.003411</td>\n",
       "      <td>0.970001</td>\n",
       "      <td>0.740002</td>\n",
       "      <td>WFC</td>\n",
       "      <td>False</td>\n",
       "    </tr>\n",
       "    <tr>\n",
       "      <th>4</th>\n",
       "      <td>2018-07-22</td>\n",
       "      <td>0.020000</td>\n",
       "      <td>0.000355</td>\n",
       "      <td>1.790001</td>\n",
       "      <td>0.810001</td>\n",
       "      <td>WFC</td>\n",
       "      <td>False</td>\n",
       "    </tr>\n",
       "    <tr>\n",
       "      <th>5</th>\n",
       "      <td>2018-07-15</td>\n",
       "      <td>-0.380001</td>\n",
       "      <td>-0.006864</td>\n",
       "      <td>1.599998</td>\n",
       "      <td>2.160000</td>\n",
       "      <td>WFC</td>\n",
       "      <td>False</td>\n",
       "    </tr>\n",
       "    <tr>\n",
       "      <th>6</th>\n",
       "      <td>2018-07-08</td>\n",
       "      <td>-0.299999</td>\n",
       "      <td>-0.005368</td>\n",
       "      <td>0.960003</td>\n",
       "      <td>1.100002</td>\n",
       "      <td>WFC</td>\n",
       "      <td>False</td>\n",
       "    </tr>\n",
       "    <tr>\n",
       "      <th>7</th>\n",
       "      <td>2018-07-01</td>\n",
       "      <td>0.239998</td>\n",
       "      <td>0.004329</td>\n",
       "      <td>1.310001</td>\n",
       "      <td>1.709999</td>\n",
       "      <td>WFC</td>\n",
       "      <td>False</td>\n",
       "    </tr>\n",
       "    <tr>\n",
       "      <th>8</th>\n",
       "      <td>2018-06-24</td>\n",
       "      <td>0.160000</td>\n",
       "      <td>0.002966</td>\n",
       "      <td>1.040001</td>\n",
       "      <td>1.270000</td>\n",
       "      <td>WFC</td>\n",
       "      <td>False</td>\n",
       "    </tr>\n",
       "    <tr>\n",
       "      <th>9</th>\n",
       "      <td>2018-06-17</td>\n",
       "      <td>0.470001</td>\n",
       "      <td>0.008549</td>\n",
       "      <td>0.799999</td>\n",
       "      <td>0.989998</td>\n",
       "      <td>WFC</td>\n",
       "      <td>False</td>\n",
       "    </tr>\n",
       "  </tbody>\n",
       "</table>\n",
       "</div>"
      ],
      "text/plain": [
       "        Date  Price_Change  Percent_Change  Mon_HL_Diff  Fri_HL_Diff Ticker  \\\n",
       "0 2018-08-19      0.049999        0.000849     0.540001     0.530003    WFC   \n",
       "1 2018-08-12      0.389999        0.006718     0.549999     1.039997    WFC   \n",
       "2 2018-08-05      0.250000        0.004250     0.840000     0.900002    WFC   \n",
       "3 2018-07-29     -0.200001       -0.003411     0.970001     0.740002    WFC   \n",
       "4 2018-07-22      0.020000        0.000355     1.790001     0.810001    WFC   \n",
       "5 2018-07-15     -0.380001       -0.006864     1.599998     2.160000    WFC   \n",
       "6 2018-07-08     -0.299999       -0.005368     0.960003     1.100002    WFC   \n",
       "7 2018-07-01      0.239998        0.004329     1.310001     1.709999    WFC   \n",
       "8 2018-06-24      0.160000        0.002966     1.040001     1.270000    WFC   \n",
       "9 2018-06-17      0.470001        0.008549     0.799999     0.989998    WFC   \n",
       "\n",
       "   IS_DST  \n",
       "0   False  \n",
       "1   False  \n",
       "2   False  \n",
       "3   False  \n",
       "4   False  \n",
       "5   False  \n",
       "6   False  \n",
       "7   False  \n",
       "8   False  \n",
       "9   False  "
      ]
     },
     "execution_count": 134,
     "metadata": {},
     "output_type": "execute_result"
    }
   ],
   "source": [
    "test_data.head(10)"
   ]
  },
  {
   "cell_type": "code",
   "execution_count": 49,
   "metadata": {},
   "outputs": [
    {
     "data": {
      "text/html": [
       "<div>\n",
       "<style scoped>\n",
       "    .dataframe tbody tr th:only-of-type {\n",
       "        vertical-align: middle;\n",
       "    }\n",
       "\n",
       "    .dataframe tbody tr th {\n",
       "        vertical-align: top;\n",
       "    }\n",
       "\n",
       "    .dataframe thead th {\n",
       "        text-align: right;\n",
       "    }\n",
       "</style>\n",
       "<table border=\"1\" class=\"dataframe\">\n",
       "  <thead>\n",
       "    <tr style=\"text-align: right;\">\n",
       "      <th></th>\n",
       "      <th>Ticker</th>\n",
       "      <th>p_value</th>\n",
       "      <th>z_score</th>\n",
       "    </tr>\n",
       "  </thead>\n",
       "  <tbody>\n",
       "    <tr>\n",
       "      <th>0</th>\n",
       "      <td>PIHPP</td>\n",
       "      <td>0.431605</td>\n",
       "      <td>0.172291</td>\n",
       "    </tr>\n",
       "  </tbody>\n",
       "</table>\n",
       "</div>"
      ],
      "text/plain": [
       "  Ticker   p_value   z_score\n",
       "0  PIHPP  0.431605  0.172291"
      ]
     },
     "execution_count": 49,
     "metadata": {},
     "output_type": "execute_result"
    }
   ],
   "source": []
  },
  {
   "cell_type": "code",
   "execution_count": 78,
   "metadata": {},
   "outputs": [
    {
     "name": "stdout",
     "output_type": "stream",
     "text": [
      "PIH\n",
      "PIHPP\n",
      "dst_set for PIHPP is empty\n",
      "TURN\n",
      "FCCY\n",
      "SRCE\n",
      "ANCX\n",
      "ACNB\n",
      "AGFS\n",
      "AGFSW\n",
      "reg_set for AGFSW is empty\n",
      "ABTX\n",
      "Not enough data to fit for ABTX\n",
      "AMR\n"
     ]
    },
    {
     "name": "stderr",
     "output_type": "stream",
     "text": [
      "/var/folders/jc/xvqs4hmj339bc_532ktftc6w0000gn/T/ipykernel_67606/1249630231.py:59: OptimizeWarning: Covariance of the parameters could not be estimated\n",
      "  dst_parms, dst_cov = curve_fit(gaussian, dst_x_vals, dst_wkend, p0=(np.amax(dst_wkend), 0, stats.iqr(dst_set)/2), sigma = d_bin_err+np.sqrt(dst_wkend))\n"
     ]
    },
    {
     "name": "stdout",
     "output_type": "stream",
     "text": [
      "Not enough data to fit for AMR\n",
      "AMRWW\n",
      "reg_set for AMRWW is empty\n",
      "AMBC\n",
      "AMBCW\n",
      "reg_set for AMBCW is empty\n",
      "ATAX\n",
      "AMNB\n",
      "ANAT\n",
      "AMRB\n",
      "bin error for AMRB\n",
      "ABCB\n",
      "AMSF\n",
      "ASRV\n",
      "ASRVP\n",
      "ATLO\n",
      "Not enough data to fit for ATLO\n",
      "AFSI\n",
      "ANCB\n",
      "ACGL\n",
      "ACGLO\n",
      "Not enough data to fit for ACGLO\n",
      "ACGLP\n",
      "Not enough data to fit for ACGLP\n",
      "AROW\n",
      "ASFI\n",
      "AAME\n",
      "ACBI\n",
      "ACFC\n",
      "reg_set for ACFC is empty\n",
      "ATLC\n",
      "bin error for ATLC\n",
      "AFH\n",
      "AFHBL\n",
      "reg_set for AFHBL is empty\n",
      "AUBN\n",
      "bin error for AUBN\n",
      "BWINA\n",
      "BWINB\n",
      "BANF\n",
      "BANFP\n",
      "BCTF\n",
      "Not enough data to fit for BCTF\n",
      "BOCH\n",
      "BMRC\n",
      "BMLP\n",
      "Not enough data to fit for BMLP\n",
      "BKSC\n",
      "BOTJ\n",
      "OZRK\n",
      "BFIN\n",
      "BWFG\n",
      "BANR\n",
      "DFVL\n",
      "Not enough data to fit for DFVL\n",
      "DFVS\n",
      "Not enough data to fit for DFVS\n",
      "DLBL\n",
      "Not enough data to fit for DLBL\n",
      "DLBS\n",
      "DTUL\n",
      "Not enough data to fit for DTUL\n",
      "DTUS\n",
      "DTYL\n",
      "DTYS\n",
      "FLAT\n",
      "STPP\n",
      "TAPR\n",
      "BHAC\n",
      "bin error for BHAC\n",
      "BHACR\n",
      "reg_set for BHACR is empty\n",
      "BHACU\n",
      "reg_set for BHACU is empty\n",
      "BHACW\n",
      "reg_set for BHACW is empty\n",
      "BCML\n",
      "bin error for BCML\n",
      "BCBP\n",
      "BNCL\n",
      "BGCP\n",
      "BRPA\n",
      "bin error for BRPA\n",
      "BRPAR\n",
      "dst_set for BRPAR is empty\n",
      "BRPAU\n",
      "Not enough data to fit for BRPAU\n",
      "BRPAW\n",
      "reg_set for BRPAW is empty\n",
      "BCAC\n",
      "Not enough data to fit for BCAC\n",
      "BCACR\n",
      "reg_set for BCACR is empty\n",
      "BCACU\n",
      "reg_set for BCACU is empty\n",
      "BCACW\n",
      "reg_set for BCACW is empty\n",
      "BRAC\n",
      "bin error for BRAC\n",
      "BRACR\n",
      "reg_set for BRACR is empty\n",
      "BRACU\n",
      "reg_set for BRACU is empty\n",
      "BRACW\n",
      "reg_set for BRACW is empty\n",
      "HAWK\n",
      "reg_set for HAWK is empty\n",
      "BCOR\n",
      "BHBK\n",
      "Not enough data to fit for BHBK\n",
      "BOFI\n",
      "BOFIL\n",
      "Not enough data to fit for BOFIL\n",
      "BOKF\n",
      "BOKFL\n",
      "Not enough data to fit for BOKFL\n",
      "BOMN\n",
      "Not enough data to fit for BOMN\n",
      "BPFH\n",
      "BPFHP\n",
      "reg_set for BPFHP is empty\n",
      "BPFHW\n",
      "reg_set for BPFHW is empty\n",
      "BDGE\n",
      "BWB\n",
      "dst_set for BWB is empty\n",
      "BHF\n",
      "Not enough data to fit for BHF\n",
      "BYFC\n",
      "BPY\n",
      "Not enough data to fit for BPY\n",
      "BRKL\n",
      "BMTC\n",
      "BLMT\n",
      "Not enough data to fit for BLMT\n",
      "BFST\n",
      "dst_set for BFST is empty\n",
      "CFFI\n",
      "CATC\n",
      "CAC\n",
      "CCBG\n",
      "CFFN\n",
      "CSTR\n",
      "Not enough data to fit for CSTR\n",
      "CARO\n",
      "CART\n",
      "Not enough data to fit for CART\n",
      "CARV\n",
      "CATY\n",
      "CATYW\n",
      "reg_set for CATYW is empty\n",
      "CBFV\n",
      "CBOE\n",
      "CBTX\n",
      "bin error for CBTX\n",
      "CSFL\n",
      "CFBK\n",
      "CVCY\n",
      "CNBKA\n",
      "CHFN\n",
      "CHFC\n",
      "CHMG\n",
      "CCCR\n",
      "JRJC\n",
      "HGSH\n",
      "CLDC\n",
      "Not enough data to fit for CLDC\n",
      "CINF\n",
      "CZNC\n",
      "CZWI\n",
      "CZFC\n"
     ]
    },
    {
     "ename": "RuntimeError",
     "evalue": "Optimal parameters not found: Number of calls to function has reached maxfev = 800.",
     "output_type": "error",
     "traceback": [
      "\u001b[0;31m---------------------------------------------------------------------------\u001b[0m",
      "\u001b[0;31mRuntimeError\u001b[0m                              Traceback (most recent call last)",
      "Cell \u001b[0;32mIn[78], line 59\u001b[0m\n\u001b[1;32m     56\u001b[0m reg_parms, reg_cov \u001b[38;5;241m=\u001b[39m curve_fit(gaussian, x_vals, reg_wkend, p0\u001b[38;5;241m=\u001b[39m(np\u001b[38;5;241m.\u001b[39mamax(reg_wkend), \u001b[38;5;241m0\u001b[39m, stats\u001b[38;5;241m.\u001b[39miqr(reg_set)\u001b[38;5;241m/\u001b[39m\u001b[38;5;241m2\u001b[39m), sigma \u001b[38;5;241m=\u001b[39m r_bin_err\u001b[38;5;241m+\u001b[39mnp\u001b[38;5;241m.\u001b[39msqrt(reg_wkend))\n\u001b[1;32m     58\u001b[0m \u001b[38;5;66;03m#DST Gaussian fit, error set to bin_err+sqrt(N)\u001b[39;00m\n\u001b[0;32m---> 59\u001b[0m dst_parms, dst_cov \u001b[38;5;241m=\u001b[39m curve_fit(gaussian, dst_x_vals, dst_wkend, p0\u001b[38;5;241m=\u001b[39m(np\u001b[38;5;241m.\u001b[39mamax(dst_wkend), \u001b[38;5;241m0\u001b[39m, stats\u001b[38;5;241m.\u001b[39miqr(dst_set)\u001b[38;5;241m/\u001b[39m\u001b[38;5;241m2\u001b[39m), sigma \u001b[38;5;241m=\u001b[39m d_bin_err\u001b[38;5;241m+\u001b[39mnp\u001b[38;5;241m.\u001b[39msqrt(dst_wkend))\n\u001b[1;32m     61\u001b[0m z_score \u001b[38;5;241m=\u001b[39m (dst_parms[\u001b[38;5;241m1\u001b[39m] \u001b[38;5;241m-\u001b[39m reg_parms[\u001b[38;5;241m1\u001b[39m])\u001b[38;5;241m/\u001b[39mnp\u001b[38;5;241m.\u001b[39msqrt(reg_parms[\u001b[38;5;241m2\u001b[39m]\u001b[38;5;241m*\u001b[39m\u001b[38;5;241m*\u001b[39m\u001b[38;5;241m2\u001b[39m\u001b[38;5;241m+\u001b[39mdst_parms[\u001b[38;5;241m2\u001b[39m]\u001b[38;5;241m*\u001b[39m\u001b[38;5;241m*\u001b[39m\u001b[38;5;241m2\u001b[39m)\n\u001b[1;32m     62\u001b[0m \u001b[38;5;28;01mif\u001b[39;00m z_score\u001b[38;5;241m<\u001b[39m\u001b[38;5;241m0\u001b[39m:\n",
      "File \u001b[0;32m~/anaconda3/lib/python3.12/site-packages/scipy/optimize/_minpack_py.py:1005\u001b[0m, in \u001b[0;36mcurve_fit\u001b[0;34m(f, xdata, ydata, p0, sigma, absolute_sigma, check_finite, bounds, method, jac, full_output, nan_policy, **kwargs)\u001b[0m\n\u001b[1;32m   1003\u001b[0m     cost \u001b[38;5;241m=\u001b[39m np\u001b[38;5;241m.\u001b[39msum(infodict[\u001b[38;5;124m'\u001b[39m\u001b[38;5;124mfvec\u001b[39m\u001b[38;5;124m'\u001b[39m] \u001b[38;5;241m*\u001b[39m\u001b[38;5;241m*\u001b[39m \u001b[38;5;241m2\u001b[39m)\n\u001b[1;32m   1004\u001b[0m     \u001b[38;5;28;01mif\u001b[39;00m ier \u001b[38;5;129;01mnot\u001b[39;00m \u001b[38;5;129;01min\u001b[39;00m [\u001b[38;5;241m1\u001b[39m, \u001b[38;5;241m2\u001b[39m, \u001b[38;5;241m3\u001b[39m, \u001b[38;5;241m4\u001b[39m]:\n\u001b[0;32m-> 1005\u001b[0m         \u001b[38;5;28;01mraise\u001b[39;00m \u001b[38;5;167;01mRuntimeError\u001b[39;00m(\u001b[38;5;124m\"\u001b[39m\u001b[38;5;124mOptimal parameters not found: \u001b[39m\u001b[38;5;124m\"\u001b[39m \u001b[38;5;241m+\u001b[39m errmsg)\n\u001b[1;32m   1006\u001b[0m \u001b[38;5;28;01melse\u001b[39;00m:\n\u001b[1;32m   1007\u001b[0m     \u001b[38;5;66;03m# Rename maxfev (leastsq) to max_nfev (least_squares), if specified.\u001b[39;00m\n\u001b[1;32m   1008\u001b[0m     \u001b[38;5;28;01mif\u001b[39;00m \u001b[38;5;124m'\u001b[39m\u001b[38;5;124mmax_nfev\u001b[39m\u001b[38;5;124m'\u001b[39m \u001b[38;5;129;01mnot\u001b[39;00m \u001b[38;5;129;01min\u001b[39;00m kwargs:\n",
      "\u001b[0;31mRuntimeError\u001b[0m: Optimal parameters not found: Number of calls to function has reached maxfev = 800."
     ]
    }
   ],
   "source": [
    "significance_array=pd.DataFrame()\n",
    "empty=[]\n",
    "\n",
    "for tk in fin_ticks:\n",
    "    print(tk)\n",
    "    \n",
    "    tk_data = wt.loc[wt.Ticker == tk]\n",
    "    \n",
    "    #histogram for non-DST weekends\n",
    "    reg_set = tk_data.loc[~tk_data.IS_DST].Percent_Change.values\n",
    "    if len(reg_set)==0:\n",
    "        print(\"reg_set for \"+str(tk)+\" is empty\")\n",
    "        empty.append(tk)\n",
    "        continue\n",
    "    r_bin_width = 2*stats.iqr(reg_set)*(len(reg_set))**(-1/3) #Optimal bin width via Freedman-Diaconis rule\n",
    "    if r_bin_width <=0:\n",
    "        print(\"bin error for \"+str(tk))\n",
    "        empty.append(tk)\n",
    "        continue\n",
    "    reg_wkend, x_vals = np.histogram(reg_set, bins = int((np.amax(reg_set)-np.amin(reg_set))/r_bin_width), range=(np.amin(reg_set), np.amax(reg_set)), density=True)\n",
    "    x_vals = x_vals[:-1]+(x_vals[1:]-x_vals[:-1])/2 #Middle values of bins\n",
    "    if ~np.all(np.isfinite(reg_wkend)) and ~np.all(np.isfinite(reg_x_vals)):\n",
    "        print(\"histogram for \"+str(tk)+\" has nans/infs\")\n",
    "        empty.append(tk)\n",
    "        continue\n",
    "    if len(x_vals)<3:\n",
    "        print(\"Not enough data to fit for \"+str(tk))\n",
    "        empty.append(tk)\n",
    "        continue\n",
    "    r_bin_err = r_bin_width/2 #X error set to half bin width\n",
    "    \n",
    "    #histogram for DST weekends\n",
    "    dst_set = tk_data.loc[tk_data.IS_DST].Percent_Change.values\n",
    "    if len(dst_set)==0:\n",
    "        print(\"dst_set for \"+str(tk)+\" is empty\")\n",
    "        empty.append(tk)\n",
    "        continue\n",
    "    d_bin_width = 2*stats.iqr(dst_set)*(len(dst_set))**(-1/3) #Optimal bin width via Freedman-Diaconis rule\n",
    "    if d_bin_width <=0:\n",
    "        print(\"bin error for \"+str(tk))\n",
    "        empty.append(tk)\n",
    "        continue\n",
    "    dst_wkend, dst_x_vals = np.histogram(dst_set, bins = int((np.amax(dst_set)-np.amin(dst_set))/d_bin_width), range=(np.amin(dst_set), np.amax(dst_set)), density=True)\n",
    "    dst_x_vals = dst_x_vals[:-1]+(dst_x_vals[1:]-dst_x_vals[:-1])/2 #Middle values of bins\n",
    "    if ~np.all(np.isfinite(dst_wkend)) and ~np.all(np.isfinite(dst_x_vals)):\n",
    "        print(\"histogram for \"+str(tk)+\" has nans/infs\")\n",
    "        empty.append(tk)\n",
    "        continue\n",
    "    if len(dst_x_vals)<3:\n",
    "        print(\"Not enough data to fit for \"+str(tk))\n",
    "        empty.append(tk)\n",
    "        continue\n",
    "    d_bin_err=d_bin_width/2 #X error set to half bin width\n",
    "    \n",
    "    #non-DST Gaussian fit, error set to bin_err+sqrt(N)\n",
    "    reg_parms, reg_cov = curve_fit(gaussian, x_vals, reg_wkend, p0=(np.amax(reg_wkend), 0, stats.iqr(reg_set)/2), sigma = r_bin_err+np.sqrt(reg_wkend))\n",
    "    \n",
    "    #DST Gaussian fit, error set to bin_err+sqrt(N)\n",
    "    dst_parms, dst_cov = curve_fit(gaussian, dst_x_vals, dst_wkend, p0=(np.amax(dst_wkend), 0, stats.iqr(dst_set)/2), sigma = d_bin_err+np.sqrt(dst_wkend))\n",
    "    \n",
    "    z_score = (dst_parms[1] - reg_parms[1])/np.sqrt(reg_parms[2]**2+dst_parms[2]**2)\n",
    "    if z_score<0:\n",
    "        p_val = stats.norm(loc=0, scale=1).cdf(z_score)\n",
    "    else:\n",
    "        p_val = 1-stats.norm(loc=0, scale=1).cdf(z_score)\n",
    "    \n",
    "    significance_array = pd.concat([significance_array, pd.DataFrame([{\"Ticker\":tk, \"p_value\":p_val, \"z_score\":z_score}])])"
   ]
  },
  {
   "cell_type": "code",
   "execution_count": 106,
   "metadata": {},
   "outputs": [
    {
     "data": {
      "text/html": [
       "<div>\n",
       "<style scoped>\n",
       "    .dataframe tbody tr th:only-of-type {\n",
       "        vertical-align: middle;\n",
       "    }\n",
       "\n",
       "    .dataframe tbody tr th {\n",
       "        vertical-align: top;\n",
       "    }\n",
       "\n",
       "    .dataframe thead th {\n",
       "        text-align: right;\n",
       "    }\n",
       "</style>\n",
       "<table border=\"1\" class=\"dataframe\">\n",
       "  <thead>\n",
       "    <tr style=\"text-align: right;\">\n",
       "      <th></th>\n",
       "      <th>Date</th>\n",
       "      <th>Price_Change</th>\n",
       "      <th>Percent_Change</th>\n",
       "      <th>Mon_HL_Diff</th>\n",
       "      <th>Fri_HL_Diff</th>\n",
       "      <th>Ticker</th>\n",
       "      <th>IS_DST</th>\n",
       "    </tr>\n",
       "  </thead>\n",
       "  <tbody>\n",
       "    <tr>\n",
       "      <th>0</th>\n",
       "      <td>2018-08-19</td>\n",
       "      <td>-0.100000</td>\n",
       "      <td>-0.014389</td>\n",
       "      <td>0.100000</td>\n",
       "      <td>0.150000</td>\n",
       "      <td>PIH</td>\n",
       "      <td>False</td>\n",
       "    </tr>\n",
       "    <tr>\n",
       "      <th>1</th>\n",
       "      <td>2018-08-12</td>\n",
       "      <td>0.000000</td>\n",
       "      <td>0.000000</td>\n",
       "      <td>0.200000</td>\n",
       "      <td>0.000000</td>\n",
       "      <td>PIH</td>\n",
       "      <td>False</td>\n",
       "    </tr>\n",
       "    <tr>\n",
       "      <th>2</th>\n",
       "      <td>2018-08-05</td>\n",
       "      <td>0.050000</td>\n",
       "      <td>0.006944</td>\n",
       "      <td>0.347000</td>\n",
       "      <td>0.055000</td>\n",
       "      <td>PIH</td>\n",
       "      <td>False</td>\n",
       "    </tr>\n",
       "    <tr>\n",
       "      <th>3</th>\n",
       "      <td>2018-07-29</td>\n",
       "      <td>0.091000</td>\n",
       "      <td>0.012743</td>\n",
       "      <td>0.081000</td>\n",
       "      <td>0.041000</td>\n",
       "      <td>PIH</td>\n",
       "      <td>False</td>\n",
       "    </tr>\n",
       "    <tr>\n",
       "      <th>4</th>\n",
       "      <td>2018-07-22</td>\n",
       "      <td>-0.214000</td>\n",
       "      <td>-0.030200</td>\n",
       "      <td>0.200000</td>\n",
       "      <td>0.155000</td>\n",
       "      <td>PIH</td>\n",
       "      <td>False</td>\n",
       "    </tr>\n",
       "    <tr>\n",
       "      <th>...</th>\n",
       "      <td>...</td>\n",
       "      <td>...</td>\n",
       "      <td>...</td>\n",
       "      <td>...</td>\n",
       "      <td>...</td>\n",
       "      <td>...</td>\n",
       "      <td>...</td>\n",
       "    </tr>\n",
       "    <tr>\n",
       "      <th>196</th>\n",
       "      <td>2013-10-20</td>\n",
       "      <td>-0.130001</td>\n",
       "      <td>-0.004922</td>\n",
       "      <td>0.230001</td>\n",
       "      <td>0.160000</td>\n",
       "      <td>ZBK</td>\n",
       "      <td>False</td>\n",
       "    </tr>\n",
       "    <tr>\n",
       "      <th>197</th>\n",
       "      <td>2013-10-13</td>\n",
       "      <td>-0.170000</td>\n",
       "      <td>-0.006536</td>\n",
       "      <td>0.309999</td>\n",
       "      <td>0.179998</td>\n",
       "      <td>ZBK</td>\n",
       "      <td>False</td>\n",
       "    </tr>\n",
       "    <tr>\n",
       "      <th>198</th>\n",
       "      <td>2013-10-06</td>\n",
       "      <td>0.139999</td>\n",
       "      <td>0.005456</td>\n",
       "      <td>0.309999</td>\n",
       "      <td>0.340000</td>\n",
       "      <td>ZBK</td>\n",
       "      <td>False</td>\n",
       "    </tr>\n",
       "    <tr>\n",
       "      <th>199</th>\n",
       "      <td>2013-09-29</td>\n",
       "      <td>0.150000</td>\n",
       "      <td>0.005882</td>\n",
       "      <td>0.740000</td>\n",
       "      <td>0.380001</td>\n",
       "      <td>ZBK</td>\n",
       "      <td>False</td>\n",
       "    </tr>\n",
       "    <tr>\n",
       "      <th>200</th>\n",
       "      <td>2013-09-22</td>\n",
       "      <td>-0.030001</td>\n",
       "      <td>-0.001200</td>\n",
       "      <td>0.620001</td>\n",
       "      <td>0.219999</td>\n",
       "      <td>ZBK</td>\n",
       "      <td>False</td>\n",
       "    </tr>\n",
       "  </tbody>\n",
       "</table>\n",
       "<p>539177 rows × 7 columns</p>\n",
       "</div>"
      ],
      "text/plain": [
       "          Date  Price_Change  Percent_Change  Mon_HL_Diff  Fri_HL_Diff Ticker  \\\n",
       "0   2018-08-19     -0.100000       -0.014389     0.100000     0.150000    PIH   \n",
       "1   2018-08-12      0.000000        0.000000     0.200000     0.000000    PIH   \n",
       "2   2018-08-05      0.050000        0.006944     0.347000     0.055000    PIH   \n",
       "3   2018-07-29      0.091000        0.012743     0.081000     0.041000    PIH   \n",
       "4   2018-07-22     -0.214000       -0.030200     0.200000     0.155000    PIH   \n",
       "..         ...           ...             ...          ...          ...    ...   \n",
       "196 2013-10-20     -0.130001       -0.004922     0.230001     0.160000    ZBK   \n",
       "197 2013-10-13     -0.170000       -0.006536     0.309999     0.179998    ZBK   \n",
       "198 2013-10-06      0.139999        0.005456     0.309999     0.340000    ZBK   \n",
       "199 2013-09-29      0.150000        0.005882     0.740000     0.380001    ZBK   \n",
       "200 2013-09-22     -0.030001       -0.001200     0.620001     0.219999    ZBK   \n",
       "\n",
       "     IS_DST  \n",
       "0     False  \n",
       "1     False  \n",
       "2     False  \n",
       "3     False  \n",
       "4     False  \n",
       "..      ...  \n",
       "196   False  \n",
       "197   False  \n",
       "198   False  \n",
       "199   False  \n",
       "200   False  \n",
       "\n",
       "[539177 rows x 7 columns]"
      ]
     },
     "execution_count": 106,
     "metadata": {},
     "output_type": "execute_result"
    }
   ],
   "source": [
    "wt"
   ]
  },
  {
   "cell_type": "code",
   "execution_count": 107,
   "metadata": {},
   "outputs": [],
   "source": [
    "fin_mean_significance_array=pd.DataFrame()\n",
    "empty=[]\n",
    "\n",
    "for tk in fin_ticks:\n",
    "    #print(tk)\n",
    "    \n",
    "    tk_data = wt.loc[wt.Ticker == tk]\n",
    "    \n",
    "    #mean and std for regular weekends\n",
    "    reg_set = tk_data.loc[~tk_data.IS_DST]\n",
    "    reg_mean = reg_set.Percent_Change.mean()\n",
    "    reg_std = reg_set.Percent_Change.std()\n",
    "    \n",
    "    #histogram for DST weekends\n",
    "    dst_set = tk_data.loc[tk_data.IS_DST]\n",
    "    dst_mean = dst_set.Percent_Change.mean()\n",
    "    dst_std = dst_set.Percent_Change.std()\n",
    "    \n",
    "    z_score = (dst_mean - reg_mean)/np.sqrt(dst_std**2+reg_std**2)\n",
    "    if z_score<0:\n",
    "        p_val = stats.norm(loc=0, scale=1).cdf(z_score)\n",
    "    else:\n",
    "        p_val = 1-stats.norm(loc=0, scale=1).cdf(z_score)\n",
    "    \n",
    "    fin_mean_significance_array = pd.concat([mean_significance_array, pd.DataFrame([{\"Ticker\":tk, \"p_value\":p_val, \"z_score\":z_score}])])"
   ]
  },
  {
   "cell_type": "code",
   "execution_count": 108,
   "metadata": {},
   "outputs": [],
   "source": [
    "cs_mean_significance_array=pd.DataFrame()\n",
    "empty=[]\n",
    "\n",
    "for tk in con_ticks:\n",
    "    #print(tk)\n",
    "    \n",
    "    tk_data = cs.loc[cs.Ticker == tk]\n",
    "    \n",
    "    #mean and std for regular weekends\n",
    "    reg_set = tk_data.loc[~tk_data.IS_DST]\n",
    "    reg_mean = reg_set.Percent_Change.mean()\n",
    "    reg_std = reg_set.Percent_Change.std()\n",
    "    \n",
    "    #histogram for DST weekends\n",
    "    dst_set = tk_data.loc[tk_data.IS_DST]\n",
    "    dst_mean = dst_set.Percent_Change.mean()\n",
    "    dst_std = dst_set.Percent_Change.std()\n",
    "    \n",
    "    z_score = (dst_mean - reg_mean)/np.sqrt(dst_std**2+reg_std**2)\n",
    "    if z_score<0:\n",
    "        p_val = stats.norm(loc=0, scale=1).cdf(z_score)\n",
    "    else:\n",
    "        p_val = 1-stats.norm(loc=0, scale=1).cdf(z_score)\n",
    "    \n",
    "    cs_mean_significance_array = pd.concat([cs_mean_significance_array, pd.DataFrame([{\"Ticker\":tk, \"p_value\":p_val, \"z_score\":z_score}])])"
   ]
  },
  {
   "cell_type": "code",
   "execution_count": 109,
   "metadata": {},
   "outputs": [],
   "source": [
    "hc_mean_significance_array=pd.DataFrame()\n",
    "empty=[]\n",
    "\n",
    "for tk in health_ticks:\n",
    "    #print(tk)\n",
    "    \n",
    "    tk_data = hc.loc[hc.Ticker == tk]\n",
    "    \n",
    "    #mean and std for regular weekends\n",
    "    reg_set = tk_data.loc[~tk_data.IS_DST]\n",
    "    reg_mean = reg_set.Percent_Change.mean()\n",
    "    reg_std = reg_set.Percent_Change.std()\n",
    "    \n",
    "    #histogram for DST weekends\n",
    "    dst_set = tk_data.loc[tk_data.IS_DST]\n",
    "    dst_mean = dst_set.Percent_Change.mean()\n",
    "    dst_std = dst_set.Percent_Change.std()\n",
    "    \n",
    "    z_score = (dst_mean - reg_mean)/np.sqrt(dst_std**2+reg_std**2)\n",
    "    if z_score<0:\n",
    "        p_val = stats.norm(loc=0, scale=1).cdf(z_score)\n",
    "    else:\n",
    "        p_val = 1-stats.norm(loc=0, scale=1).cdf(z_score)\n",
    "    \n",
    "    hc_mean_significance_array = pd.concat([hc_mean_significance_array, pd.DataFrame([{\"Ticker\":tk, \"p_value\":p_val, \"z_score\":z_score}])])"
   ]
  },
  {
   "cell_type": "code",
   "execution_count": 110,
   "metadata": {},
   "outputs": [],
   "source": [
    "tc_mean_significance_array=pd.DataFrame()\n",
    "empty=[]\n",
    "\n",
    "for tk in tech_ticks:\n",
    "    #print(tk)\n",
    "    \n",
    "    tk_data = tc.loc[tc.Ticker == tk]\n",
    "    \n",
    "    #mean and std for regular weekends\n",
    "    reg_set = tk_data.loc[~tk_data.IS_DST]\n",
    "    reg_mean = reg_set.Percent_Change.mean()\n",
    "    reg_std = reg_set.Percent_Change.std()\n",
    "    \n",
    "    #histogram for DST weekends\n",
    "    dst_set = tk_data.loc[tk_data.IS_DST]\n",
    "    dst_mean = dst_set.Percent_Change.mean()\n",
    "    dst_std = dst_set.Percent_Change.std()\n",
    "    \n",
    "    z_score = (dst_mean - reg_mean)/np.sqrt(dst_std**2+reg_std**2)\n",
    "    if z_score<0:\n",
    "        p_val = stats.norm(loc=0, scale=1).cdf(z_score)\n",
    "    else:\n",
    "        p_val = 1-stats.norm(loc=0, scale=1).cdf(z_score)\n",
    "    \n",
    "    tc_mean_significance_array = pd.concat([tc_mean_significance_array, pd.DataFrame([{\"Ticker\":tk, \"p_value\":p_val, \"z_score\":z_score}])])"
   ]
  },
  {
   "cell_type": "code",
   "execution_count": 49,
   "metadata": {},
   "outputs": [
    {
     "data": {
      "text/html": [
       "<div>\n",
       "<style scoped>\n",
       "    .dataframe tbody tr th:only-of-type {\n",
       "        vertical-align: middle;\n",
       "    }\n",
       "\n",
       "    .dataframe tbody tr th {\n",
       "        vertical-align: top;\n",
       "    }\n",
       "\n",
       "    .dataframe thead th {\n",
       "        text-align: right;\n",
       "    }\n",
       "</style>\n",
       "<table border=\"1\" class=\"dataframe\">\n",
       "  <thead>\n",
       "    <tr style=\"text-align: right;\">\n",
       "      <th></th>\n",
       "      <th>Ticker</th>\n",
       "      <th>p_value</th>\n",
       "      <th>z_score</th>\n",
       "    </tr>\n",
       "  </thead>\n",
       "  <tbody>\n",
       "    <tr>\n",
       "      <th>0</th>\n",
       "      <td>CART</td>\n",
       "      <td>0.062782</td>\n",
       "      <td>-1.531831</td>\n",
       "    </tr>\n",
       "    <tr>\n",
       "      <th>0</th>\n",
       "      <td>QD</td>\n",
       "      <td>0.093800</td>\n",
       "      <td>-1.317711</td>\n",
       "    </tr>\n",
       "    <tr>\n",
       "      <th>0</th>\n",
       "      <td>FFBW</td>\n",
       "      <td>0.171844</td>\n",
       "      <td>-0.946903</td>\n",
       "    </tr>\n",
       "    <tr>\n",
       "      <th>0</th>\n",
       "      <td>BOMN</td>\n",
       "      <td>0.190810</td>\n",
       "      <td>0.874917</td>\n",
       "    </tr>\n",
       "    <tr>\n",
       "      <th>0</th>\n",
       "      <td>RBB</td>\n",
       "      <td>0.202164</td>\n",
       "      <td>0.833916</td>\n",
       "    </tr>\n",
       "    <tr>\n",
       "      <th>...</th>\n",
       "      <td>...</td>\n",
       "      <td>...</td>\n",
       "      <td>...</td>\n",
       "    </tr>\n",
       "    <tr>\n",
       "      <th>0</th>\n",
       "      <td>PRAA</td>\n",
       "      <td>0.499707</td>\n",
       "      <td>-0.000734</td>\n",
       "    </tr>\n",
       "    <tr>\n",
       "      <th>0</th>\n",
       "      <td>BGCP</td>\n",
       "      <td>0.499717</td>\n",
       "      <td>0.000710</td>\n",
       "    </tr>\n",
       "    <tr>\n",
       "      <th>0</th>\n",
       "      <td>SIEB</td>\n",
       "      <td>0.499831</td>\n",
       "      <td>-0.000425</td>\n",
       "    </tr>\n",
       "    <tr>\n",
       "      <th>0</th>\n",
       "      <td>AGFS</td>\n",
       "      <td>0.499847</td>\n",
       "      <td>0.000382</td>\n",
       "    </tr>\n",
       "    <tr>\n",
       "      <th>0</th>\n",
       "      <td>AB</td>\n",
       "      <td>0.499891</td>\n",
       "      <td>0.000273</td>\n",
       "    </tr>\n",
       "  </tbody>\n",
       "</table>\n",
       "<p>805 rows × 3 columns</p>\n",
       "</div>"
      ],
      "text/plain": [
       "   Ticker   p_value   z_score\n",
       "0    CART  0.062782 -1.531831\n",
       "0      QD  0.093800 -1.317711\n",
       "0    FFBW  0.171844 -0.946903\n",
       "0    BOMN  0.190810  0.874917\n",
       "0     RBB  0.202164  0.833916\n",
       "..    ...       ...       ...\n",
       "0    PRAA  0.499707 -0.000734\n",
       "0    BGCP  0.499717  0.000710\n",
       "0    SIEB  0.499831 -0.000425\n",
       "0    AGFS  0.499847  0.000382\n",
       "0      AB  0.499891  0.000273\n",
       "\n",
       "[805 rows x 3 columns]"
      ]
     },
     "execution_count": 49,
     "metadata": {},
     "output_type": "execute_result"
    }
   ],
   "source": [
    "mean_significance_array.dropna().sort_values(by = 'p_value')"
   ]
  },
  {
   "cell_type": "code",
   "execution_count": 57,
   "metadata": {},
   "outputs": [
    {
     "data": {
      "text/html": [
       "<div>\n",
       "<style scoped>\n",
       "    .dataframe tbody tr th:only-of-type {\n",
       "        vertical-align: middle;\n",
       "    }\n",
       "\n",
       "    .dataframe tbody tr th {\n",
       "        vertical-align: top;\n",
       "    }\n",
       "\n",
       "    .dataframe thead th {\n",
       "        text-align: right;\n",
       "    }\n",
       "</style>\n",
       "<table border=\"1\" class=\"dataframe\">\n",
       "  <thead>\n",
       "    <tr style=\"text-align: right;\">\n",
       "      <th></th>\n",
       "      <th>ticker</th>\n",
       "      <th>exchange</th>\n",
       "      <th>name</th>\n",
       "      <th>sector</th>\n",
       "      <th>industry</th>\n",
       "    </tr>\n",
       "  </thead>\n",
       "  <tbody>\n",
       "    <tr>\n",
       "      <th>522</th>\n",
       "      <td>CART</td>\n",
       "      <td>NASDAQ</td>\n",
       "      <td>CAROLINA TRUST BANCSHARES, INC.</td>\n",
       "      <td>FINANCE</td>\n",
       "      <td>MAJOR BANKS</td>\n",
       "    </tr>\n",
       "  </tbody>\n",
       "</table>\n",
       "</div>"
      ],
      "text/plain": [
       "    ticker exchange                             name   sector     industry\n",
       "522   CART   NASDAQ  CAROLINA TRUST BANCSHARES, INC.  FINANCE  MAJOR BANKS"
      ]
     },
     "execution_count": 57,
     "metadata": {},
     "output_type": "execute_result"
    }
   ],
   "source": [
    "metadata.loc[metadata.ticker == 'CART']"
   ]
  },
  {
   "cell_type": "code",
   "execution_count": 58,
   "metadata": {},
   "outputs": [
    {
     "data": {
      "text/plain": [
       "(437, 10)"
      ]
     },
     "execution_count": 58,
     "metadata": {},
     "output_type": "execute_result"
    }
   ],
   "source": [
    "finance.loc[finance.ticker == 'CART'].shape"
   ]
  },
  {
   "cell_type": "code",
   "execution_count": 59,
   "metadata": {},
   "outputs": [
    {
     "data": {
      "text/plain": [
       "array(['FINANCE', 'CONSUMER SERVICES', 'TECHNOLOGY', 'PUBLIC UTILITIES',\n",
       "       'CAPITAL GOODS', 'BASIC INDUSTRIES', 'HEALTH CARE',\n",
       "       'CONSUMER DURABLES', nan, 'ENERGY', 'MISCELLANEOUS', 'SECTOR',\n",
       "       'TRANSPORTATION', 'CONSUMER NON-DURABLES'], dtype=object)"
      ]
     },
     "execution_count": 59,
     "metadata": {},
     "output_type": "execute_result"
    }
   ],
   "source": [
    "sectors"
   ]
  },
  {
   "cell_type": "code",
   "execution_count": 80,
   "metadata": {},
   "outputs": [
    {
     "data": {
      "text/plain": [
       "sector\n",
       "FINANCE                  1022\n",
       "CONSUMER SERVICES         796\n",
       "HEALTH CARE               784\n",
       "TECHNOLOGY                607\n",
       "CAPITAL GOODS             352\n",
       "ENERGY                    286\n",
       "PUBLIC UTILITIES          273\n",
       "BASIC INDUSTRIES          272\n",
       "CONSUMER NON-DURABLES     224\n",
       "CONSUMER DURABLES         144\n",
       "MISCELLANEOUS             139\n",
       "TRANSPORTATION            120\n",
       "SECTOR                      1\n",
       "Name: count, dtype: int64"
      ]
     },
     "execution_count": 80,
     "metadata": {},
     "output_type": "execute_result"
    }
   ],
   "source": [
    "metadata.value_counts(\"sector\")"
   ]
  },
  {
   "cell_type": "code",
   "execution_count": 115,
   "metadata": {},
   "outputs": [
    {
     "data": {
      "text/html": [
       "<div>\n",
       "<style scoped>\n",
       "    .dataframe tbody tr th:only-of-type {\n",
       "        vertical-align: middle;\n",
       "    }\n",
       "\n",
       "    .dataframe tbody tr th {\n",
       "        vertical-align: top;\n",
       "    }\n",
       "\n",
       "    .dataframe thead th {\n",
       "        text-align: right;\n",
       "    }\n",
       "</style>\n",
       "<table border=\"1\" class=\"dataframe\">\n",
       "  <thead>\n",
       "    <tr style=\"text-align: right;\">\n",
       "      <th></th>\n",
       "      <th>Ticker</th>\n",
       "      <th>p_value</th>\n",
       "      <th>z_score</th>\n",
       "    </tr>\n",
       "  </thead>\n",
       "  <tbody>\n",
       "    <tr>\n",
       "      <th>0</th>\n",
       "      <td>RYTM</td>\n",
       "      <td>0.000483</td>\n",
       "      <td>3.300142</td>\n",
       "    </tr>\n",
       "    <tr>\n",
       "      <th>0</th>\n",
       "      <td>OPTN</td>\n",
       "      <td>0.133568</td>\n",
       "      <td>1.109683</td>\n",
       "    </tr>\n",
       "    <tr>\n",
       "      <th>0</th>\n",
       "      <td>KRYS</td>\n",
       "      <td>0.154760</td>\n",
       "      <td>1.016228</td>\n",
       "    </tr>\n",
       "    <tr>\n",
       "      <th>0</th>\n",
       "      <td>SPRO</td>\n",
       "      <td>0.181612</td>\n",
       "      <td>0.909238</td>\n",
       "    </tr>\n",
       "    <tr>\n",
       "      <th>0</th>\n",
       "      <td>CRSP</td>\n",
       "      <td>0.187352</td>\n",
       "      <td>-0.887698</td>\n",
       "    </tr>\n",
       "    <tr>\n",
       "      <th>...</th>\n",
       "      <td>...</td>\n",
       "      <td>...</td>\n",
       "      <td>...</td>\n",
       "    </tr>\n",
       "    <tr>\n",
       "      <th>0</th>\n",
       "      <td>VRNA</td>\n",
       "      <td>NaN</td>\n",
       "      <td>NaN</td>\n",
       "    </tr>\n",
       "    <tr>\n",
       "      <th>0</th>\n",
       "      <td>VKTXW</td>\n",
       "      <td>NaN</td>\n",
       "      <td>NaN</td>\n",
       "    </tr>\n",
       "    <tr>\n",
       "      <th>0</th>\n",
       "      <td>AAC</td>\n",
       "      <td>NaN</td>\n",
       "      <td>NaN</td>\n",
       "    </tr>\n",
       "    <tr>\n",
       "      <th>0</th>\n",
       "      <td>RCUS</td>\n",
       "      <td>NaN</td>\n",
       "      <td>NaN</td>\n",
       "    </tr>\n",
       "    <tr>\n",
       "      <th>0</th>\n",
       "      <td>INSP</td>\n",
       "      <td>NaN</td>\n",
       "      <td>NaN</td>\n",
       "    </tr>\n",
       "  </tbody>\n",
       "</table>\n",
       "<p>784 rows × 3 columns</p>\n",
       "</div>"
      ],
      "text/plain": [
       "   Ticker   p_value   z_score\n",
       "0    RYTM  0.000483  3.300142\n",
       "0    OPTN  0.133568  1.109683\n",
       "0    KRYS  0.154760  1.016228\n",
       "0    SPRO  0.181612  0.909238\n",
       "0    CRSP  0.187352 -0.887698\n",
       "..    ...       ...       ...\n",
       "0    VRNA       NaN       NaN\n",
       "0   VKTXW       NaN       NaN\n",
       "0     AAC       NaN       NaN\n",
       "0    RCUS       NaN       NaN\n",
       "0    INSP       NaN       NaN\n",
       "\n",
       "[784 rows x 3 columns]"
      ]
     },
     "execution_count": 115,
     "metadata": {},
     "output_type": "execute_result"
    }
   ],
   "source": [
    "hc_mean_significance_array.sort_values('p_value')"
   ]
  },
  {
   "cell_type": "code",
   "execution_count": 125,
   "metadata": {},
   "outputs": [],
   "source": [
    "hc_test_data = hc.loc[hc.Ticker == 'RYTM']"
   ]
  },
  {
   "cell_type": "code",
   "execution_count": null,
   "metadata": {},
   "outputs": [],
   "source": []
  },
  {
   "cell_type": "code",
   "execution_count": 132,
   "metadata": {},
   "outputs": [
    {
     "name": "stderr",
     "output_type": "stream",
     "text": [
      "No artists with labels found to put in legend.  Note that artists whose label start with an underscore are ignored when legend() is called with no argument.\n",
      "/var/folders/jc/xvqs4hmj339bc_532ktftc6w0000gn/T/ipykernel_18112/3910670907.py:35: UserWarning: FigureCanvasAgg is non-interactive, and thus cannot be shown\n",
      "  test_fig.show()\n"
     ]
    },
    {
     "data": {
      "image/png": "[encoded data removed]",
      "text/plain": [
       "<Figure size 640x480 with 1 Axes>"
      ]
     },
     "metadata": {},
     "output_type": "display_data"
    }
   ],
   "source": [
    "hc_reg_set = hc_test_data.loc[~hc_test_data.IS_DST].Percent_Change.values\n",
    "r_bin_width = 2*stats.iqr(hc_reg_set)*(len(hc_reg_set))**(-1/3)\n",
    "reg_wkend, x_vals = np.histogram(hc_reg_set, bins = int((np.amax(hc_reg_set)-np.amin(hc_reg_set))/r_bin_width), range=(np.amin(hc_reg_set), np.amax(hc_reg_set)), density=True)\n",
    "x_vals = x_vals[:-1]+(x_vals[1:]-x_vals[:-1])/2\n",
    "r_bin_err = r_bin_width/2\n",
    "\n",
    "hc_dst_set = hc_test_data.loc[hc_test_data.IS_DST].Percent_Change.values\n",
    "d_bin_width = 2*stats.iqr(hc_dst_set)*(len(hc_dst_set))**(-1/3)\n",
    "dst_wkend, d_x_vals = np.histogram(hc_dst_set, bins = int((np.amax(hc_dst_set)-np.amin(hc_dst_set))/d_bin_width), range=(np.amin(hc_dst_set), np.amax(hc_dst_set)), density=True)\n",
    "d_x_vals = d_x_vals[:-1]+(d_x_vals[1:]-d_x_vals[:-1])/2\n",
    "d_bin_err = d_bin_width/2\n",
    "\n",
    "#hc_reg_parms, hc_reg_cov = curve_fit(gaussian, x_vals, reg_wkend, p0=(np.amax(reg_wkend), 0, stats.iqr(hc_reg_set)/2), sigma = r_bin_err+np.sqrt(reg_wkend))\n",
    "#hc_dst_parms, hc_dst_cov = curve_fit(gaussian, d_x_vals, dst_wkend, p0=(np.amax(dst_wkend), 0, stats.iqr(hc_dst_set)/2), sigma = d_bin_err+np.sqrt(dst_wkend))\n",
    "\n",
    "#x_fit = np.linspace(x_vals[0], x_vals[-1], 1000)\n",
    "#fit_y = gaussian(x_fit, *reg_parms)\n",
    "#d_x_fit = np.linspace(d_x_vals[0], d_x_vals[-1], 1000)\n",
    "#dst_fit_y = gaussian(d_x_fit, *dst_parms)\n",
    "#fit_y = stats.norm(loc = reg_parms[1], scale = reg_parms[2])\n",
    "#dst_fit_y = stats.norm(loc = dst_parms[1], scale = dst_parms[2])\n",
    "\n",
    "test_fig, test_ax = plt.subplots(nrows=1, ncols=1)#, figsize=(15, 12))\n",
    "#test_ax.plot(x_fit, fit_y, color='blue')\n",
    "test_ax.scatter(x_vals, reg_wkend, color='blue', alpha=0.3)\n",
    "#test_ax.vlines(reg_parms[1], 0, np.amax(reg_wkend), color='blue', linestyles='dashed', label='Non-DST Mean')\n",
    "#test_ax.plot(d_x_fit, dst_fit_y, color='orange')\n",
    "test_ax.scatter(d_x_vals, dst_wkend, color='orange', alpha=0.3)\n",
    "#test_ax.vlines(dst_parms[1], 0, np.amax(reg_wkend), color='orange', linestyles='dashed', label='DST Mean')\n",
    "test_ax.set_xlim(-0.05, 0.05)\n",
    "test_ax.set_title('DST vs Non-DST Weekend Effect')\n",
    "test_ax.set_ylabel('Frequency')\n",
    "test_ax.set_xlabel('Percent Change, Fri Close to Mon Open')\n",
    "test_ax.legend()\n",
    "test_fig.show()\n"
   ]
  },
  {
   "cell_type": "code",
   "execution_count": 114,
   "metadata": {},
   "outputs": [
    {
     "data": {
      "image/png": "[encoded data removed]",
      "text/plain": [
       "<Figure size 1500x1200 with 1 Axes>"
      ]
     },
     "metadata": {},
     "output_type": "display_data"
    }
   ],
   "source": [
    "# define subplot grid\n",
    "fig, axes = plt.subplots(nrows=1, ncols=1, figsize=(15, 12))\n",
    "plt.subplots_adjust(hspace=0.5)\n",
    "fig.suptitle(\"P Value Distribution\", fontsize=18, y=0.95)\n",
    "\n",
    "# loop through tickers and axes\n",
    "#for tk, axes in zip(ticker_list, axs.ravel()):\n",
    "    # filter df for ticker and plot on specified axes\n",
    "sns.histplot(ax=axes, data = fin_mean_significance_array.dropna(), x=\"p_value\", label='Finance')#, kde=True)\n",
    "sns.histplot(ax=axes, data = cs_mean_significance_array.dropna(), x=\"p_value\", label='Consumer Services')#, kde=True)\n",
    "sns.histplot(ax=axes, data = hc_mean_significance_array.dropna(), x=\"p_value\", label='Health Care')#, kde=True)\n",
    "sns.histplot(ax=axes, data = tc_mean_significance_array.dropna(), x=\"p_value\", label='Technology')#, kde=True)\n",
    "\n",
    "axes.legend()\n",
    "\n",
    "    # chart formatting\n",
    "#axes.set_title(tk.upper())\n",
    "    #axes.get_legend().remove()\n",
    "axes.set_xlabel(\"\")\n",
    "\n",
    "plt.show()"
   ]
  },
  {
   "cell_type": "code",
   "execution_count": null,
   "metadata": {},
   "outputs": [],
   "source": []
  }
 ],
 "metadata": {
  "kernelspec": {
   "display_name": "Python 3 (ipykernel)",
   "language": "python",
   "name": "python3"
  },
  "language_info": {
   "codemirror_mode": {
    "name": "ipython",
    "version": 3
   },
   "file_extension": ".py",
   "mimetype": "text/x-python",
   "name": "python",
   "nbconvert_exporter": "python",
   "pygments_lexer": "ipython3",
   "version": "3.12.4"
  }
 },
 "nbformat": 4,
 "nbformat_minor": 2
}
