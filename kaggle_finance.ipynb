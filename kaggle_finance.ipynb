{
 "cells": [
  {
   "cell_type": "markdown",
   "metadata": {},
   "source": [
    "# Kaggle Data Set, Sector: Finance"
   ]
  },
  {
   "cell_type": "code",
   "execution_count": 1,
   "metadata": {},
   "outputs": [],
   "source": [
    "import pandas as pd\n",
    "import numpy as np\n",
    "import matplotlib.pyplot as plt\n",
    "from seaborn import set_style\n",
    "from datetime import datetime, timedelta\n",
    "set_style(\"whitegrid\")"
   ]
  },
  {
   "cell_type": "code",
   "execution_count": 2,
   "metadata": {},
   "outputs": [
    {
     "data": {
      "text/html": [
       "<div>\n",
       "<style scoped>\n",
       "    .dataframe tbody tr th:only-of-type {\n",
       "        vertical-align: middle;\n",
       "    }\n",
       "\n",
       "    .dataframe tbody tr th {\n",
       "        vertical-align: top;\n",
       "    }\n",
       "\n",
       "    .dataframe thead th {\n",
       "        text-align: right;\n",
       "    }\n",
       "</style>\n",
       "<table border=\"1\" class=\"dataframe\">\n",
       "  <thead>\n",
       "    <tr style=\"text-align: right;\">\n",
       "      <th></th>\n",
       "      <th>ticker</th>\n",
       "      <th>open</th>\n",
       "      <th>close</th>\n",
       "      <th>adj_close</th>\n",
       "      <th>low</th>\n",
       "      <th>high</th>\n",
       "      <th>volume</th>\n",
       "      <th>date</th>\n",
       "    </tr>\n",
       "  </thead>\n",
       "  <tbody>\n",
       "    <tr>\n",
       "      <th>0</th>\n",
       "      <td>AHH</td>\n",
       "      <td>11.50</td>\n",
       "      <td>11.58</td>\n",
       "      <td>8.493155</td>\n",
       "      <td>11.25</td>\n",
       "      <td>11.68</td>\n",
       "      <td>4633900</td>\n",
       "      <td>2013-05-08</td>\n",
       "    </tr>\n",
       "    <tr>\n",
       "      <th>1</th>\n",
       "      <td>AHH</td>\n",
       "      <td>11.66</td>\n",
       "      <td>11.55</td>\n",
       "      <td>8.471151</td>\n",
       "      <td>11.50</td>\n",
       "      <td>11.66</td>\n",
       "      <td>275800</td>\n",
       "      <td>2013-05-09</td>\n",
       "    </tr>\n",
       "    <tr>\n",
       "      <th>2</th>\n",
       "      <td>AHH</td>\n",
       "      <td>11.55</td>\n",
       "      <td>11.60</td>\n",
       "      <td>8.507822</td>\n",
       "      <td>11.50</td>\n",
       "      <td>11.60</td>\n",
       "      <td>277100</td>\n",
       "      <td>2013-05-10</td>\n",
       "    </tr>\n",
       "    <tr>\n",
       "      <th>3</th>\n",
       "      <td>AHH</td>\n",
       "      <td>11.63</td>\n",
       "      <td>11.65</td>\n",
       "      <td>8.544494</td>\n",
       "      <td>11.55</td>\n",
       "      <td>11.65</td>\n",
       "      <td>147400</td>\n",
       "      <td>2013-05-13</td>\n",
       "    </tr>\n",
       "    <tr>\n",
       "      <th>4</th>\n",
       "      <td>AHH</td>\n",
       "      <td>11.60</td>\n",
       "      <td>11.53</td>\n",
       "      <td>8.456484</td>\n",
       "      <td>11.50</td>\n",
       "      <td>11.60</td>\n",
       "      <td>184100</td>\n",
       "      <td>2013-05-14</td>\n",
       "    </tr>\n",
       "    <tr>\n",
       "      <th>...</th>\n",
       "      <td>...</td>\n",
       "      <td>...</td>\n",
       "      <td>...</td>\n",
       "      <td>...</td>\n",
       "      <td>...</td>\n",
       "      <td>...</td>\n",
       "      <td>...</td>\n",
       "      <td>...</td>\n",
       "    </tr>\n",
       "    <tr>\n",
       "      <th>20973884</th>\n",
       "      <td>NZF</td>\n",
       "      <td>14.60</td>\n",
       "      <td>14.59</td>\n",
       "      <td>14.590000</td>\n",
       "      <td>14.58</td>\n",
       "      <td>14.62</td>\n",
       "      <td>137500</td>\n",
       "      <td>2018-08-20</td>\n",
       "    </tr>\n",
       "    <tr>\n",
       "      <th>20973885</th>\n",
       "      <td>NZF</td>\n",
       "      <td>14.60</td>\n",
       "      <td>14.58</td>\n",
       "      <td>14.580000</td>\n",
       "      <td>14.57</td>\n",
       "      <td>14.61</td>\n",
       "      <td>151200</td>\n",
       "      <td>2018-08-21</td>\n",
       "    </tr>\n",
       "    <tr>\n",
       "      <th>20973886</th>\n",
       "      <td>NZF</td>\n",
       "      <td>14.58</td>\n",
       "      <td>14.59</td>\n",
       "      <td>14.590000</td>\n",
       "      <td>14.57</td>\n",
       "      <td>14.63</td>\n",
       "      <td>185400</td>\n",
       "      <td>2018-08-22</td>\n",
       "    </tr>\n",
       "    <tr>\n",
       "      <th>20973887</th>\n",
       "      <td>NZF</td>\n",
       "      <td>14.60</td>\n",
       "      <td>14.57</td>\n",
       "      <td>14.570000</td>\n",
       "      <td>14.57</td>\n",
       "      <td>14.64</td>\n",
       "      <td>135600</td>\n",
       "      <td>2018-08-23</td>\n",
       "    </tr>\n",
       "    <tr>\n",
       "      <th>20973888</th>\n",
       "      <td>NZF</td>\n",
       "      <td>14.60</td>\n",
       "      <td>14.69</td>\n",
       "      <td>14.690000</td>\n",
       "      <td>14.59</td>\n",
       "      <td>14.69</td>\n",
       "      <td>180900</td>\n",
       "      <td>2018-08-24</td>\n",
       "    </tr>\n",
       "  </tbody>\n",
       "</table>\n",
       "<p>20973889 rows × 8 columns</p>\n",
       "</div>"
      ],
      "text/plain": [
       "         ticker   open  close  adj_close    low   high   volume        date\n",
       "0           AHH  11.50  11.58   8.493155  11.25  11.68  4633900  2013-05-08\n",
       "1           AHH  11.66  11.55   8.471151  11.50  11.66   275800  2013-05-09\n",
       "2           AHH  11.55  11.60   8.507822  11.50  11.60   277100  2013-05-10\n",
       "3           AHH  11.63  11.65   8.544494  11.55  11.65   147400  2013-05-13\n",
       "4           AHH  11.60  11.53   8.456484  11.50  11.60   184100  2013-05-14\n",
       "...         ...    ...    ...        ...    ...    ...      ...         ...\n",
       "20973884    NZF  14.60  14.59  14.590000  14.58  14.62   137500  2018-08-20\n",
       "20973885    NZF  14.60  14.58  14.580000  14.57  14.61   151200  2018-08-21\n",
       "20973886    NZF  14.58  14.59  14.590000  14.57  14.63   185400  2018-08-22\n",
       "20973887    NZF  14.60  14.57  14.570000  14.57  14.64   135600  2018-08-23\n",
       "20973888    NZF  14.60  14.69  14.690000  14.59  14.69   180900  2018-08-24\n",
       "\n",
       "[20973889 rows x 8 columns]"
      ]
     },
     "execution_count": 2,
     "metadata": {},
     "output_type": "execute_result"
    }
   ],
   "source": [
    "# huge dataset with 20 million rows\n",
    "df = pd.read_csv('historical_stock_prices.csv')\n",
    "df"
   ]
  },
  {
   "cell_type": "code",
   "execution_count": 3,
   "metadata": {},
   "outputs": [
    {
     "data": {
      "text/html": [
       "<div>\n",
       "<style scoped>\n",
       "    .dataframe tbody tr th:only-of-type {\n",
       "        vertical-align: middle;\n",
       "    }\n",
       "\n",
       "    .dataframe tbody tr th {\n",
       "        vertical-align: top;\n",
       "    }\n",
       "\n",
       "    .dataframe thead th {\n",
       "        text-align: right;\n",
       "    }\n",
       "</style>\n",
       "<table border=\"1\" class=\"dataframe\">\n",
       "  <thead>\n",
       "    <tr style=\"text-align: right;\">\n",
       "      <th></th>\n",
       "      <th>ticker</th>\n",
       "      <th>exchange</th>\n",
       "      <th>name</th>\n",
       "      <th>sector</th>\n",
       "      <th>industry</th>\n",
       "    </tr>\n",
       "  </thead>\n",
       "  <tbody>\n",
       "    <tr>\n",
       "      <th>0</th>\n",
       "      <td>PIH</td>\n",
       "      <td>NASDAQ</td>\n",
       "      <td>1347 PROPERTY INSURANCE HOLDINGS, INC.</td>\n",
       "      <td>FINANCE</td>\n",
       "      <td>PROPERTY-CASUALTY INSURERS</td>\n",
       "    </tr>\n",
       "    <tr>\n",
       "      <th>1</th>\n",
       "      <td>PIHPP</td>\n",
       "      <td>NASDAQ</td>\n",
       "      <td>1347 PROPERTY INSURANCE HOLDINGS, INC.</td>\n",
       "      <td>FINANCE</td>\n",
       "      <td>PROPERTY-CASUALTY INSURERS</td>\n",
       "    </tr>\n",
       "    <tr>\n",
       "      <th>2</th>\n",
       "      <td>TURN</td>\n",
       "      <td>NASDAQ</td>\n",
       "      <td>180 DEGREE CAPITAL CORP.</td>\n",
       "      <td>FINANCE</td>\n",
       "      <td>FINANCE/INVESTORS SERVICES</td>\n",
       "    </tr>\n",
       "    <tr>\n",
       "      <th>3</th>\n",
       "      <td>FLWS</td>\n",
       "      <td>NASDAQ</td>\n",
       "      <td>1-800 FLOWERS.COM, INC.</td>\n",
       "      <td>CONSUMER SERVICES</td>\n",
       "      <td>OTHER SPECIALTY STORES</td>\n",
       "    </tr>\n",
       "    <tr>\n",
       "      <th>4</th>\n",
       "      <td>FCCY</td>\n",
       "      <td>NASDAQ</td>\n",
       "      <td>1ST CONSTITUTION BANCORP (NJ)</td>\n",
       "      <td>FINANCE</td>\n",
       "      <td>SAVINGS INSTITUTIONS</td>\n",
       "    </tr>\n",
       "  </tbody>\n",
       "</table>\n",
       "</div>"
      ],
      "text/plain": [
       "  ticker exchange                                    name             sector  \\\n",
       "0    PIH   NASDAQ  1347 PROPERTY INSURANCE HOLDINGS, INC.            FINANCE   \n",
       "1  PIHPP   NASDAQ  1347 PROPERTY INSURANCE HOLDINGS, INC.            FINANCE   \n",
       "2   TURN   NASDAQ                180 DEGREE CAPITAL CORP.            FINANCE   \n",
       "3   FLWS   NASDAQ                 1-800 FLOWERS.COM, INC.  CONSUMER SERVICES   \n",
       "4   FCCY   NASDAQ           1ST CONSTITUTION BANCORP (NJ)            FINANCE   \n",
       "\n",
       "                     industry  \n",
       "0  PROPERTY-CASUALTY INSURERS  \n",
       "1  PROPERTY-CASUALTY INSURERS  \n",
       "2  FINANCE/INVESTORS SERVICES  \n",
       "3      OTHER SPECIALTY STORES  \n",
       "4        SAVINGS INSTITUTIONS  "
      ]
     },
     "execution_count": 3,
     "metadata": {},
     "output_type": "execute_result"
    }
   ],
   "source": [
    "# getting the codes that tell us what the stocks are; e.g. PIH = Property Insurance Holdings\n",
    "df2=pd.read_csv('historical_stocks.csv')\n",
    "df2.head()"
   ]
  },
  {
   "cell_type": "code",
   "execution_count": 4,
   "metadata": {},
   "outputs": [
    {
     "data": {
      "text/html": [
       "<div>\n",
       "<style scoped>\n",
       "    .dataframe tbody tr th:only-of-type {\n",
       "        vertical-align: middle;\n",
       "    }\n",
       "\n",
       "    .dataframe tbody tr th {\n",
       "        vertical-align: top;\n",
       "    }\n",
       "\n",
       "    .dataframe thead th {\n",
       "        text-align: right;\n",
       "    }\n",
       "</style>\n",
       "<table border=\"1\" class=\"dataframe\">\n",
       "  <thead>\n",
       "    <tr style=\"text-align: right;\">\n",
       "      <th></th>\n",
       "      <th>ticker</th>\n",
       "      <th>name</th>\n",
       "    </tr>\n",
       "  </thead>\n",
       "  <tbody>\n",
       "    <tr>\n",
       "      <th>1100</th>\n",
       "      <td>FSFG</td>\n",
       "      <td>FIRST SAVINGS FINANCIAL GROUP, INC.</td>\n",
       "    </tr>\n",
       "    <tr>\n",
       "      <th>5864</th>\n",
       "      <td>IPOA</td>\n",
       "      <td>SOCIAL CAPITAL HEDOSOPHIA HOLDINGS CORP.</td>\n",
       "    </tr>\n",
       "    <tr>\n",
       "      <th>1705</th>\n",
       "      <td>JRVR</td>\n",
       "      <td>JAMES RIVER GROUP HOLDINGS, LTD.</td>\n",
       "    </tr>\n",
       "    <tr>\n",
       "      <th>2089</th>\n",
       "      <td>NSEC</td>\n",
       "      <td>NATIONAL SECURITY GROUP, INC.</td>\n",
       "    </tr>\n",
       "    <tr>\n",
       "      <th>3122</th>\n",
       "      <td>VEAC</td>\n",
       "      <td>VANTAGE ENERGY ACQUISITION CORP.</td>\n",
       "    </tr>\n",
       "    <tr>\n",
       "      <th>2755</th>\n",
       "      <td>SMBK</td>\n",
       "      <td>SMARTFINANCIAL, INC.</td>\n",
       "    </tr>\n",
       "    <tr>\n",
       "      <th>4608</th>\n",
       "      <td>CO</td>\n",
       "      <td>GLOBAL CORD BLOOD CORPORATION</td>\n",
       "    </tr>\n",
       "    <tr>\n",
       "      <th>4999</th>\n",
       "      <td>LM</td>\n",
       "      <td>LEGG MASON, INC.</td>\n",
       "    </tr>\n",
       "    <tr>\n",
       "      <th>2722</th>\n",
       "      <td>BSRR</td>\n",
       "      <td>SIERRA BANCORP</td>\n",
       "    </tr>\n",
       "    <tr>\n",
       "      <th>3970</th>\n",
       "      <td>CB</td>\n",
       "      <td>CHUBB LIMITED</td>\n",
       "    </tr>\n",
       "  </tbody>\n",
       "</table>\n",
       "</div>"
      ],
      "text/plain": [
       "     ticker                                      name\n",
       "1100   FSFG       FIRST SAVINGS FINANCIAL GROUP, INC.\n",
       "5864   IPOA  SOCIAL CAPITAL HEDOSOPHIA HOLDINGS CORP.\n",
       "1705   JRVR          JAMES RIVER GROUP HOLDINGS, LTD.\n",
       "2089   NSEC             NATIONAL SECURITY GROUP, INC.\n",
       "3122   VEAC          VANTAGE ENERGY ACQUISITION CORP.\n",
       "2755   SMBK                      SMARTFINANCIAL, INC.\n",
       "4608     CO             GLOBAL CORD BLOOD CORPORATION\n",
       "4999     LM                          LEGG MASON, INC.\n",
       "2722   BSRR                            SIERRA BANCORP\n",
       "3970     CB                             CHUBB LIMITED"
      ]
     },
     "execution_count": 4,
     "metadata": {},
     "output_type": "execute_result"
    }
   ],
   "source": [
    "# get all the stocks in transportation\n",
    "finance = df2[df2['sector']=='FINANCE'][['ticker','name']]\n",
    "finance.sample(10)"
   ]
  },
  {
   "cell_type": "code",
   "execution_count": 7,
   "metadata": {},
   "outputs": [
    {
     "data": {
      "text/plain": [
       "array(['PIH', 'PIHPP', 'TURN', ..., 'XL', 'YRD', 'ZBK'], dtype=object)"
      ]
     },
     "execution_count": 7,
     "metadata": {},
     "output_type": "execute_result"
    }
   ],
   "source": [
    "# 1022 stocks in finance\n",
    "finance['ticker'].values"
   ]
  },
  {
   "cell_type": "code",
   "execution_count": 8,
   "metadata": {},
   "outputs": [],
   "source": [
    "def get_stocks(df, df2, stock_code):\n",
    "    # get prices for a particular stock; this function takes in two data frames where one has the prices\n",
    "    # the other has the codes\n",
    "    print(df2[df2['ticker']==stock_code])\n",
    "    return df[df['ticker']==stock_code].reset_index()"
   ]
  },
  {
   "cell_type": "code",
   "execution_count": 9,
   "metadata": {},
   "outputs": [
    {
     "name": "stdout",
     "output_type": "stream",
     "text": [
      "  ticker exchange                                    name   sector  \\\n",
      "0    PIH   NASDAQ  1347 PROPERTY INSURANCE HOLDINGS, INC.  FINANCE   \n",
      "\n",
      "                     industry  \n",
      "0  PROPERTY-CASUALTY INSURERS  \n"
     ]
    },
    {
     "data": {
      "text/html": [
       "<div>\n",
       "<style scoped>\n",
       "    .dataframe tbody tr th:only-of-type {\n",
       "        vertical-align: middle;\n",
       "    }\n",
       "\n",
       "    .dataframe tbody tr th {\n",
       "        vertical-align: top;\n",
       "    }\n",
       "\n",
       "    .dataframe thead th {\n",
       "        text-align: right;\n",
       "    }\n",
       "</style>\n",
       "<table border=\"1\" class=\"dataframe\">\n",
       "  <thead>\n",
       "    <tr style=\"text-align: right;\">\n",
       "      <th></th>\n",
       "      <th>index</th>\n",
       "      <th>ticker</th>\n",
       "      <th>open</th>\n",
       "      <th>close</th>\n",
       "      <th>adj_close</th>\n",
       "      <th>low</th>\n",
       "      <th>high</th>\n",
       "      <th>volume</th>\n",
       "      <th>date</th>\n",
       "    </tr>\n",
       "  </thead>\n",
       "  <tbody>\n",
       "    <tr>\n",
       "      <th>0</th>\n",
       "      <td>2386493</td>\n",
       "      <td>PIH</td>\n",
       "      <td>8.000</td>\n",
       "      <td>7.950</td>\n",
       "      <td>7.950</td>\n",
       "      <td>7.900</td>\n",
       "      <td>8.500</td>\n",
       "      <td>642900</td>\n",
       "      <td>2014-04-01</td>\n",
       "    </tr>\n",
       "    <tr>\n",
       "      <th>1</th>\n",
       "      <td>2386510</td>\n",
       "      <td>PIH</td>\n",
       "      <td>7.940</td>\n",
       "      <td>8.160</td>\n",
       "      <td>8.160</td>\n",
       "      <td>7.900</td>\n",
       "      <td>8.290</td>\n",
       "      <td>228400</td>\n",
       "      <td>2014-04-02</td>\n",
       "    </tr>\n",
       "    <tr>\n",
       "      <th>2</th>\n",
       "      <td>2386515</td>\n",
       "      <td>PIH</td>\n",
       "      <td>8.290</td>\n",
       "      <td>8.390</td>\n",
       "      <td>8.390</td>\n",
       "      <td>8.050</td>\n",
       "      <td>8.400</td>\n",
       "      <td>105000</td>\n",
       "      <td>2014-04-03</td>\n",
       "    </tr>\n",
       "    <tr>\n",
       "      <th>3</th>\n",
       "      <td>2386516</td>\n",
       "      <td>PIH</td>\n",
       "      <td>8.500</td>\n",
       "      <td>8.690</td>\n",
       "      <td>8.690</td>\n",
       "      <td>8.320</td>\n",
       "      <td>8.700</td>\n",
       "      <td>113600</td>\n",
       "      <td>2014-04-04</td>\n",
       "    </tr>\n",
       "    <tr>\n",
       "      <th>4</th>\n",
       "      <td>2386533</td>\n",
       "      <td>PIH</td>\n",
       "      <td>9.000</td>\n",
       "      <td>8.940</td>\n",
       "      <td>8.940</td>\n",
       "      <td>8.550</td>\n",
       "      <td>9.000</td>\n",
       "      <td>60500</td>\n",
       "      <td>2014-04-07</td>\n",
       "    </tr>\n",
       "    <tr>\n",
       "      <th>...</th>\n",
       "      <td>...</td>\n",
       "      <td>...</td>\n",
       "      <td>...</td>\n",
       "      <td>...</td>\n",
       "      <td>...</td>\n",
       "      <td>...</td>\n",
       "      <td>...</td>\n",
       "      <td>...</td>\n",
       "      <td>...</td>\n",
       "    </tr>\n",
       "    <tr>\n",
       "      <th>1090</th>\n",
       "      <td>2398342</td>\n",
       "      <td>PIH</td>\n",
       "      <td>7.050</td>\n",
       "      <td>7.097</td>\n",
       "      <td>7.097</td>\n",
       "      <td>6.997</td>\n",
       "      <td>7.097</td>\n",
       "      <td>1600</td>\n",
       "      <td>2018-08-20</td>\n",
       "    </tr>\n",
       "    <tr>\n",
       "      <th>1091</th>\n",
       "      <td>2398359</td>\n",
       "      <td>PIH</td>\n",
       "      <td>7.097</td>\n",
       "      <td>7.050</td>\n",
       "      <td>7.050</td>\n",
       "      <td>7.000</td>\n",
       "      <td>7.098</td>\n",
       "      <td>1100</td>\n",
       "      <td>2018-08-21</td>\n",
       "    </tr>\n",
       "    <tr>\n",
       "      <th>1092</th>\n",
       "      <td>2398363</td>\n",
       "      <td>PIH</td>\n",
       "      <td>7.000</td>\n",
       "      <td>7.099</td>\n",
       "      <td>7.099</td>\n",
       "      <td>7.000</td>\n",
       "      <td>7.100</td>\n",
       "      <td>3800</td>\n",
       "      <td>2018-08-22</td>\n",
       "    </tr>\n",
       "    <tr>\n",
       "      <th>1093</th>\n",
       "      <td>2398379</td>\n",
       "      <td>PIH</td>\n",
       "      <td>7.000</td>\n",
       "      <td>6.979</td>\n",
       "      <td>6.979</td>\n",
       "      <td>6.979</td>\n",
       "      <td>7.000</td>\n",
       "      <td>600</td>\n",
       "      <td>2018-08-23</td>\n",
       "    </tr>\n",
       "    <tr>\n",
       "      <th>1094</th>\n",
       "      <td>2398383</td>\n",
       "      <td>PIH</td>\n",
       "      <td>6.986</td>\n",
       "      <td>7.050</td>\n",
       "      <td>7.050</td>\n",
       "      <td>6.986</td>\n",
       "      <td>7.050</td>\n",
       "      <td>1800</td>\n",
       "      <td>2018-08-24</td>\n",
       "    </tr>\n",
       "  </tbody>\n",
       "</table>\n",
       "<p>1095 rows × 9 columns</p>\n",
       "</div>"
      ],
      "text/plain": [
       "        index ticker   open  close  adj_close    low   high  volume  \\\n",
       "0     2386493    PIH  8.000  7.950      7.950  7.900  8.500  642900   \n",
       "1     2386510    PIH  7.940  8.160      8.160  7.900  8.290  228400   \n",
       "2     2386515    PIH  8.290  8.390      8.390  8.050  8.400  105000   \n",
       "3     2386516    PIH  8.500  8.690      8.690  8.320  8.700  113600   \n",
       "4     2386533    PIH  9.000  8.940      8.940  8.550  9.000   60500   \n",
       "...       ...    ...    ...    ...        ...    ...    ...     ...   \n",
       "1090  2398342    PIH  7.050  7.097      7.097  6.997  7.097    1600   \n",
       "1091  2398359    PIH  7.097  7.050      7.050  7.000  7.098    1100   \n",
       "1092  2398363    PIH  7.000  7.099      7.099  7.000  7.100    3800   \n",
       "1093  2398379    PIH  7.000  6.979      6.979  6.979  7.000     600   \n",
       "1094  2398383    PIH  6.986  7.050      7.050  6.986  7.050    1800   \n",
       "\n",
       "            date  \n",
       "0     2014-04-01  \n",
       "1     2014-04-02  \n",
       "2     2014-04-03  \n",
       "3     2014-04-04  \n",
       "4     2014-04-07  \n",
       "...          ...  \n",
       "1090  2018-08-20  \n",
       "1091  2018-08-21  \n",
       "1092  2018-08-22  \n",
       "1093  2018-08-23  \n",
       "1094  2018-08-24  \n",
       "\n",
       "[1095 rows x 9 columns]"
      ]
     },
     "execution_count": 9,
     "metadata": {},
     "output_type": "execute_result"
    }
   ],
   "source": [
    "df_PIH=get_stocks(df,df2,'PIH')\n",
    "df_PIH"
   ]
  },
  {
   "cell_type": "code",
   "execution_count": 10,
   "metadata": {},
   "outputs": [],
   "source": [
    "def add_datetime(df, date):\n",
    "    # assuming the dataframe has a column with dates as strings, we want to convert them to datetime\n",
    "    df['date_time'] = df['date'].apply(lambda day: datetime.strptime(day,'%Y-%m-%d').date()) \n"
   ]
  },
  {
   "cell_type": "code",
   "execution_count": 11,
   "metadata": {},
   "outputs": [],
   "source": [
    "add_datetime(df_PIH,'date')"
   ]
  },
  {
   "cell_type": "code",
   "execution_count": 12,
   "metadata": {},
   "outputs": [
    {
     "data": {
      "text/html": [
       "<div>\n",
       "<style scoped>\n",
       "    .dataframe tbody tr th:only-of-type {\n",
       "        vertical-align: middle;\n",
       "    }\n",
       "\n",
       "    .dataframe tbody tr th {\n",
       "        vertical-align: top;\n",
       "    }\n",
       "\n",
       "    .dataframe thead th {\n",
       "        text-align: right;\n",
       "    }\n",
       "</style>\n",
       "<table border=\"1\" class=\"dataframe\">\n",
       "  <thead>\n",
       "    <tr style=\"text-align: right;\">\n",
       "      <th></th>\n",
       "      <th>index</th>\n",
       "      <th>ticker</th>\n",
       "      <th>open</th>\n",
       "      <th>close</th>\n",
       "      <th>adj_close</th>\n",
       "      <th>low</th>\n",
       "      <th>high</th>\n",
       "      <th>volume</th>\n",
       "      <th>date</th>\n",
       "      <th>date_time</th>\n",
       "    </tr>\n",
       "  </thead>\n",
       "  <tbody>\n",
       "    <tr>\n",
       "      <th>0</th>\n",
       "      <td>2386493</td>\n",
       "      <td>PIH</td>\n",
       "      <td>8.00</td>\n",
       "      <td>7.95</td>\n",
       "      <td>7.95</td>\n",
       "      <td>7.90</td>\n",
       "      <td>8.50</td>\n",
       "      <td>642900</td>\n",
       "      <td>2014-04-01</td>\n",
       "      <td>2014-04-01</td>\n",
       "    </tr>\n",
       "    <tr>\n",
       "      <th>1</th>\n",
       "      <td>2386510</td>\n",
       "      <td>PIH</td>\n",
       "      <td>7.94</td>\n",
       "      <td>8.16</td>\n",
       "      <td>8.16</td>\n",
       "      <td>7.90</td>\n",
       "      <td>8.29</td>\n",
       "      <td>228400</td>\n",
       "      <td>2014-04-02</td>\n",
       "      <td>2014-04-02</td>\n",
       "    </tr>\n",
       "    <tr>\n",
       "      <th>2</th>\n",
       "      <td>2386515</td>\n",
       "      <td>PIH</td>\n",
       "      <td>8.29</td>\n",
       "      <td>8.39</td>\n",
       "      <td>8.39</td>\n",
       "      <td>8.05</td>\n",
       "      <td>8.40</td>\n",
       "      <td>105000</td>\n",
       "      <td>2014-04-03</td>\n",
       "      <td>2014-04-03</td>\n",
       "    </tr>\n",
       "    <tr>\n",
       "      <th>3</th>\n",
       "      <td>2386516</td>\n",
       "      <td>PIH</td>\n",
       "      <td>8.50</td>\n",
       "      <td>8.69</td>\n",
       "      <td>8.69</td>\n",
       "      <td>8.32</td>\n",
       "      <td>8.70</td>\n",
       "      <td>113600</td>\n",
       "      <td>2014-04-04</td>\n",
       "      <td>2014-04-04</td>\n",
       "    </tr>\n",
       "    <tr>\n",
       "      <th>4</th>\n",
       "      <td>2386533</td>\n",
       "      <td>PIH</td>\n",
       "      <td>9.00</td>\n",
       "      <td>8.94</td>\n",
       "      <td>8.94</td>\n",
       "      <td>8.55</td>\n",
       "      <td>9.00</td>\n",
       "      <td>60500</td>\n",
       "      <td>2014-04-07</td>\n",
       "      <td>2014-04-07</td>\n",
       "    </tr>\n",
       "  </tbody>\n",
       "</table>\n",
       "</div>"
      ],
      "text/plain": [
       "     index ticker  open  close  adj_close   low  high  volume        date  \\\n",
       "0  2386493    PIH  8.00   7.95       7.95  7.90  8.50  642900  2014-04-01   \n",
       "1  2386510    PIH  7.94   8.16       8.16  7.90  8.29  228400  2014-04-02   \n",
       "2  2386515    PIH  8.29   8.39       8.39  8.05  8.40  105000  2014-04-03   \n",
       "3  2386516    PIH  8.50   8.69       8.69  8.32  8.70  113600  2014-04-04   \n",
       "4  2386533    PIH  9.00   8.94       8.94  8.55  9.00   60500  2014-04-07   \n",
       "\n",
       "    date_time  \n",
       "0  2014-04-01  \n",
       "1  2014-04-02  \n",
       "2  2014-04-03  \n",
       "3  2014-04-04  \n",
       "4  2014-04-07  "
      ]
     },
     "execution_count": 12,
     "metadata": {},
     "output_type": "execute_result"
    }
   ],
   "source": [
    "df_PIH.head()"
   ]
  },
  {
   "cell_type": "code",
   "execution_count": 13,
   "metadata": {},
   "outputs": [],
   "source": [
    "def custom_time_indexing(df, date_column):\n",
    "    \"\"\"\n",
    "    Function to reindex a DataFrame with a custom index that reflects gaps in a time series,\n",
    "    while keeping the original date column for plotting, without modifying the original DataFrame.\n",
    "\n",
    "    Parameters:\n",
    "    df (pd.DataFrame): Input DataFrame.\n",
    "    date_column (str): Name of the column containing datetime objects.\n",
    "\n",
    "    Returns:\n",
    "    pd.DataFrame: A new DataFrame with the custom index reflecting date gaps,\n",
    "                  while retaining the original dates in a new column.\n",
    "    list: A list of the original date labels corresponding to valid data rows.\n",
    "    \"\"\"\n",
    "    # Work on a copy of the DataFrame to avoid modifying the original\n",
    "    df_copy = df.copy()\n",
    "\n",
    "    # Ensure the date_column is of datetime type\n",
    "    df_copy[date_column] = pd.to_datetime(df_copy[date_column])\n",
    "\n",
    "    # Set the date column as the index\n",
    "    df_copy.set_index(date_column, inplace=True)\n",
    "\n",
    "    # Generate the full date range (including missing dates)\n",
    "    full_range = pd.date_range(start=df_copy.index.min(), end=df_copy.index.max())\n",
    "\n",
    "    # Reindex the DataFrame to include the full range of dates\n",
    "    df_reindexed = df_copy.reindex(full_range)\n",
    "\n",
    "    # Create a custom index that increments by 1, but jumps when there are missing dates\n",
    "    custom_index = []\n",
    "    current_index = 1\n",
    "\n",
    "    for i in range(len(df_reindexed)):\n",
    "        if i == 0:\n",
    "            custom_index.append(current_index)\n",
    "        else:\n",
    "            # Check if the current date is consecutive to the previous one\n",
    "            if df_reindexed.index[i] - df_reindexed.index[i-1] > timedelta(days=1):\n",
    "                # Increase the custom index by the actual day difference\n",
    "                current_index += (df_reindexed.index[i] - df_reindexed.index[i-1]).days\n",
    "            else:\n",
    "                current_index += 1\n",
    "            custom_index.append(current_index)\n",
    "\n",
    "    # Assign the custom index to the DataFrame\n",
    "    df_reindexed['custom_index'] = custom_index\n",
    "\n",
    "    # Drop the rows where there are missing values\n",
    "    df_final = df_reindexed.dropna()\n",
    "\n",
    "    # Add the original date index as a new column and make it a datetime object\n",
    "    df_final['date_time'] = df_final.index\n",
    "    df_final['date_time']=df_final['date_time'].apply(lambda day: day.date())\n",
    "\n",
    "    # Set the new custom index\n",
    "    df_final.set_index('custom_index', inplace=True)\n",
    "\n",
    "    # Return the final DataFrame and the valid original dates\n",
    "    return df_final, df_final['date_time']\n"
   ]
  },
  {
   "cell_type": "code",
   "execution_count": 14,
   "metadata": {},
   "outputs": [],
   "source": [
    "# try to ignore warnings\n",
    "import warnings"
   ]
  },
  {
   "cell_type": "code",
   "execution_count": 16,
   "metadata": {},
   "outputs": [],
   "source": [
    "with warnings.catch_warnings():\n",
    "    warnings.simplefilter(\"ignore\")  # Ignore all warnings\n",
    "    df_PIH_reindex,valid_dates = custom_time_indexing(df_PIH, 'date_time')"
   ]
  },
  {
   "cell_type": "code",
   "execution_count": 17,
   "metadata": {},
   "outputs": [
    {
     "data": {
      "text/plain": [
       "1606"
      ]
     },
     "execution_count": 17,
     "metadata": {},
     "output_type": "execute_result"
    }
   ],
   "source": [
    "start_date = df_PIH_reindex.loc[1]['date_time']\n",
    "end_date = df_PIH_reindex.tail(1)['date_time']\n",
    "\n",
    "total_days = (end_date - start_date)\n",
    "total_days.values[0].days\n"
   ]
  },
  {
   "cell_type": "code",
   "execution_count": 18,
   "metadata": {},
   "outputs": [],
   "source": [
    "def linspace_dates(df,num_ticks):\n",
    "    # because of missing dates, we have to do some annoying stuff there are about 14000 days between the first\n",
    "    # and last day for UNP but some dates are skipped and so we have only 9400 or so datapoints\n",
    "    # to properly plot, we will get some evenly spaced segments and then get the correct corresponding days\n",
    "\n",
    "    start_date = df.loc[1]['date_time']\n",
    "    end_date = df.tail(1)['date_time']\n",
    "    \n",
    "    # Calculate the total number of days in the range\n",
    "    total_days = (end_date - start_date).values[0].days\n",
    "\n",
    "    # Number of segments\n",
    "    num_segments = num_ticks-1 # one less than the number of ticks desired\n",
    "\n",
    "    # Calculate the length of each segment in days\n",
    "    segment_length = total_days / num_segments\n",
    "\n",
    "    # Create a list to hold the tick mark dates\n",
    "    tick_dates = []\n",
    "\n",
    "    # Calculate the dates for each tick mark\n",
    "    for i in range(num_segments + 1):\n",
    "        tick_date = start_date + timedelta(days=segment_length * i)\n",
    "        tick_dates.append(tick_date)\n",
    "\n",
    "    # Convert tick_dates to a list of strings for labeling\n",
    "    tick_labels = [date.strftime('%Y-%m-%d') for date in tick_dates]\n",
    "\n",
    "    # return the tick dates and labels\n",
    "    return tick_dates, tick_labels\n"
   ]
  },
  {
   "cell_type": "code",
   "execution_count": 19,
   "metadata": {},
   "outputs": [],
   "source": [
    "PIH_tick_dates, PIH_tick_labels = linspace_dates(df_PIH_reindex,10)"
   ]
  },
  {
   "cell_type": "code",
   "execution_count": 21,
   "metadata": {},
   "outputs": [
    {
     "data": {
      "image/png": "[encoded data removed]",
      "text/plain": [
       "<Figure size 640x480 with 1 Axes>"
      ]
     },
     "metadata": {},
     "output_type": "display_data"
    }
   ],
   "source": [
    "# we can plot Union Pacific now with the missing dates, it seems to know to plot the years on the x-axis now\n",
    "# the issue is that it's not correctly spaced; the skips in time might not always be the same amount\n",
    "#plt.plot(df_UNP.index,df_UNP['high'],label='Union Pacific - transportation',alpha=0.4)\n",
    "\n",
    "plt.scatter(df_PIH_reindex.index,df_PIH_reindex['high'],label='Property Insurance Holdings - finance',alpha=0.4,s=0.4)\n",
    "plt.title('Daily High')\n",
    "\n",
    "num_entries = df_PIH_reindex.index.max()\n",
    "\n",
    "# Set a desired number of ticks; in the cell above, we had num_segments = 9 (one less than num_ticks)\n",
    "num_ticks = 10\n",
    "\n",
    "# Generate equally spaced tick positions\n",
    "PIH_tick_positions = np.linspace(0, num_entries - 1, num_ticks).astype(int)\n",
    "\n",
    "# Set the ticks and their corresponding labels from the original dates\n",
    "plt.xticks(ticks=PIH_tick_positions, labels=PIH_tick_labels, rotation=45)\n",
    "\n",
    "# Set x-axis limits to span the full range of the custom index\n",
    "#plt.xlim(df_UNP_reindex.index.min(), df_UNP_reindex.index.max())\n",
    "\n",
    "plt.legend()\n",
    "plt.show()"
   ]
  },
  {
   "cell_type": "markdown",
   "metadata": {},
   "source": [
    "# Daylight Savings\n",
    "\n",
    "We now begin to study DST"
   ]
  },
  {
   "cell_type": "code",
   "execution_count": 22,
   "metadata": {},
   "outputs": [],
   "source": [
    "DST = pd.read_csv('DaylightSavingsTimeChangeDates_1971-2024.csv')"
   ]
  },
  {
   "cell_type": "code",
   "execution_count": 23,
   "metadata": {},
   "outputs": [],
   "source": [
    "# Adding 1970 date\n",
    "new_row = pd.DataFrame({'Year': [1970], 'Day of Week': ['Sunday'], 'Date': ['26 April'], 'Time before change': ['2:00'], 'Time after change':['3:00'],'Day of Week.1':['Sunday'], 'Date.1': ['25 October'], 'Time before change.1': ['2:00'], 'Time after change.1':['1:00']})"
   ]
  },
  {
   "cell_type": "code",
   "execution_count": 24,
   "metadata": {},
   "outputs": [],
   "source": [
    "# Prepend the row using pd.concat()\n",
    "DST = pd.concat([new_row, DST], ignore_index=True)"
   ]
  },
  {
   "cell_type": "code",
   "execution_count": 25,
   "metadata": {},
   "outputs": [
    {
     "data": {
      "text/html": [
       "<div>\n",
       "<style scoped>\n",
       "    .dataframe tbody tr th:only-of-type {\n",
       "        vertical-align: middle;\n",
       "    }\n",
       "\n",
       "    .dataframe tbody tr th {\n",
       "        vertical-align: top;\n",
       "    }\n",
       "\n",
       "    .dataframe thead th {\n",
       "        text-align: right;\n",
       "    }\n",
       "</style>\n",
       "<table border=\"1\" class=\"dataframe\">\n",
       "  <thead>\n",
       "    <tr style=\"text-align: right;\">\n",
       "      <th></th>\n",
       "      <th>Year</th>\n",
       "      <th>Day of Week</th>\n",
       "      <th>Date</th>\n",
       "      <th>Time before change</th>\n",
       "      <th>Time after change</th>\n",
       "      <th>Day of Week.1</th>\n",
       "      <th>Date.1</th>\n",
       "      <th>Time before change.1</th>\n",
       "      <th>Time after change.1</th>\n",
       "    </tr>\n",
       "  </thead>\n",
       "  <tbody>\n",
       "    <tr>\n",
       "      <th>0</th>\n",
       "      <td>1970</td>\n",
       "      <td>Sunday</td>\n",
       "      <td>26 April</td>\n",
       "      <td>2:00</td>\n",
       "      <td>3:00</td>\n",
       "      <td>Sunday</td>\n",
       "      <td>25 October</td>\n",
       "      <td>2:00</td>\n",
       "      <td>1:00</td>\n",
       "    </tr>\n",
       "    <tr>\n",
       "      <th>1</th>\n",
       "      <td>1971</td>\n",
       "      <td>Sunday</td>\n",
       "      <td>25 April</td>\n",
       "      <td>2:00</td>\n",
       "      <td>3:00</td>\n",
       "      <td>Sunday</td>\n",
       "      <td>31 October</td>\n",
       "      <td>2:00</td>\n",
       "      <td>1:00</td>\n",
       "    </tr>\n",
       "  </tbody>\n",
       "</table>\n",
       "</div>"
      ],
      "text/plain": [
       "   Year Day of Week      Date Time before change Time after change  \\\n",
       "0  1970      Sunday  26 April               2:00              3:00   \n",
       "1  1971      Sunday  25 April               2:00              3:00   \n",
       "\n",
       "  Day of Week.1      Date.1 Time before change.1 Time after change.1  \n",
       "0        Sunday  25 October                 2:00                1:00  \n",
       "1        Sunday  31 October                 2:00                1:00  "
      ]
     },
     "execution_count": 25,
     "metadata": {},
     "output_type": "execute_result"
    }
   ],
   "source": [
    "DST.head(2)"
   ]
  },
  {
   "cell_type": "code",
   "execution_count": 27,
   "metadata": {},
   "outputs": [],
   "source": [
    "DST.to_csv('DST1970-2024.csv')"
   ]
  },
  {
   "cell_type": "code",
   "execution_count": 28,
   "metadata": {},
   "outputs": [],
   "source": [
    "dst_spring_dates = pd.to_datetime(DST.Date+\" \"+DST.Year.astype(str))\n",
    "dst_fall_dates = pd.to_datetime(DST['Date.1']+\" \"+DST.Year.astype(str))"
   ]
  },
  {
   "cell_type": "code",
   "execution_count": 29,
   "metadata": {},
   "outputs": [],
   "source": [
    "dst_mon_spring = dst_spring_dates+pd.DateOffset(1)\n",
    "dst_fri_spring = dst_spring_dates+pd.DateOffset(-2)"
   ]
  },
  {
   "cell_type": "code",
   "execution_count": 30,
   "metadata": {},
   "outputs": [],
   "source": [
    "dst_mon_fall = dst_fall_dates+pd.DateOffset(1)\n",
    "dst_fri_fall = dst_fall_dates+pd.DateOffset(-2)"
   ]
  },
  {
   "cell_type": "code",
   "execution_count": 31,
   "metadata": {},
   "outputs": [],
   "source": [
    "# make the object datetime instead of timestamp\n",
    "dst_mon_spring=dst_mon_spring.apply(lambda day: day.date())\n",
    "dst_fri_spring=dst_fri_spring.apply(lambda day: day.date())\n",
    "\n",
    "dst_mon_fall=dst_mon_fall.apply(lambda day: day.date())\n",
    "dst_fri_fall=dst_fri_fall.apply(lambda day: day.date())\n"
   ]
  },
  {
   "cell_type": "code",
   "execution_count": 32,
   "metadata": {},
   "outputs": [],
   "source": [
    "DST_fri_mon = pd.concat([pd.DataFrame(dst_fri_spring),pd.DataFrame(dst_mon_spring),pd.DataFrame(dst_fri_fall),pd.DataFrame(dst_mon_fall)],axis=1)"
   ]
  },
  {
   "cell_type": "code",
   "execution_count": 33,
   "metadata": {},
   "outputs": [],
   "source": [
    "DST_fri_mon.columns = ['spring_fri_before','spring_mon_after','fall_fri_before','fall_mon_after']"
   ]
  },
  {
   "cell_type": "code",
   "execution_count": 34,
   "metadata": {},
   "outputs": [],
   "source": [
    "# now we have this in a .csv file; but when using it, we probably want to get the columns to be\n",
    "# datetime objects, not just strings\n",
    "DST_fri_mon.to_csv('DST_fri_mon.csv')"
   ]
  },
  {
   "cell_type": "code",
   "execution_count": 36,
   "metadata": {},
   "outputs": [
    {
     "data": {
      "text/html": [
       "<div>\n",
       "<style scoped>\n",
       "    .dataframe tbody tr th:only-of-type {\n",
       "        vertical-align: middle;\n",
       "    }\n",
       "\n",
       "    .dataframe tbody tr th {\n",
       "        vertical-align: top;\n",
       "    }\n",
       "\n",
       "    .dataframe thead th {\n",
       "        text-align: right;\n",
       "    }\n",
       "</style>\n",
       "<table border=\"1\" class=\"dataframe\">\n",
       "  <thead>\n",
       "    <tr style=\"text-align: right;\">\n",
       "      <th></th>\n",
       "      <th>spring_fri_before</th>\n",
       "      <th>spring_mon_after</th>\n",
       "      <th>fall_fri_before</th>\n",
       "      <th>fall_mon_after</th>\n",
       "    </tr>\n",
       "  </thead>\n",
       "  <tbody>\n",
       "    <tr>\n",
       "      <th>0</th>\n",
       "      <td>1970-04-24</td>\n",
       "      <td>1970-04-27</td>\n",
       "      <td>1970-10-23</td>\n",
       "      <td>1970-10-26</td>\n",
       "    </tr>\n",
       "    <tr>\n",
       "      <th>1</th>\n",
       "      <td>1971-04-23</td>\n",
       "      <td>1971-04-26</td>\n",
       "      <td>1971-10-29</td>\n",
       "      <td>1971-11-01</td>\n",
       "    </tr>\n",
       "    <tr>\n",
       "      <th>2</th>\n",
       "      <td>1972-04-28</td>\n",
       "      <td>1972-05-01</td>\n",
       "      <td>1972-10-27</td>\n",
       "      <td>1972-10-30</td>\n",
       "    </tr>\n",
       "    <tr>\n",
       "      <th>3</th>\n",
       "      <td>1973-04-27</td>\n",
       "      <td>1973-04-30</td>\n",
       "      <td>1973-10-26</td>\n",
       "      <td>1973-10-29</td>\n",
       "    </tr>\n",
       "    <tr>\n",
       "      <th>4</th>\n",
       "      <td>1974-01-04</td>\n",
       "      <td>1974-01-07</td>\n",
       "      <td>1974-10-25</td>\n",
       "      <td>1974-10-28</td>\n",
       "    </tr>\n",
       "  </tbody>\n",
       "</table>\n",
       "</div>"
      ],
      "text/plain": [
       "  spring_fri_before spring_mon_after fall_fri_before fall_mon_after\n",
       "0        1970-04-24       1970-04-27      1970-10-23     1970-10-26\n",
       "1        1971-04-23       1971-04-26      1971-10-29     1971-11-01\n",
       "2        1972-04-28       1972-05-01      1972-10-27     1972-10-30\n",
       "3        1973-04-27       1973-04-30      1973-10-26     1973-10-29\n",
       "4        1974-01-04       1974-01-07      1974-10-25     1974-10-28"
      ]
     },
     "execution_count": 36,
     "metadata": {},
     "output_type": "execute_result"
    }
   ],
   "source": [
    "DST_fri_mon.head()"
   ]
  },
  {
   "cell_type": "code",
   "execution_count": 37,
   "metadata": {},
   "outputs": [
    {
     "data": {
      "text/html": [
       "<div>\n",
       "<style scoped>\n",
       "    .dataframe tbody tr th:only-of-type {\n",
       "        vertical-align: middle;\n",
       "    }\n",
       "\n",
       "    .dataframe tbody tr th {\n",
       "        vertical-align: top;\n",
       "    }\n",
       "\n",
       "    .dataframe thead th {\n",
       "        text-align: right;\n",
       "    }\n",
       "</style>\n",
       "<table border=\"1\" class=\"dataframe\">\n",
       "  <thead>\n",
       "    <tr style=\"text-align: right;\">\n",
       "      <th></th>\n",
       "      <th>index</th>\n",
       "      <th>ticker</th>\n",
       "      <th>open</th>\n",
       "      <th>close</th>\n",
       "      <th>adj_close</th>\n",
       "      <th>low</th>\n",
       "      <th>high</th>\n",
       "      <th>volume</th>\n",
       "      <th>date</th>\n",
       "      <th>date_time</th>\n",
       "    </tr>\n",
       "    <tr>\n",
       "      <th>custom_index</th>\n",
       "      <th></th>\n",
       "      <th></th>\n",
       "      <th></th>\n",
       "      <th></th>\n",
       "      <th></th>\n",
       "      <th></th>\n",
       "      <th></th>\n",
       "      <th></th>\n",
       "      <th></th>\n",
       "      <th></th>\n",
       "    </tr>\n",
       "  </thead>\n",
       "  <tbody>\n",
       "    <tr>\n",
       "      <th>1</th>\n",
       "      <td>2386493.0</td>\n",
       "      <td>PIH</td>\n",
       "      <td>8.000</td>\n",
       "      <td>7.950</td>\n",
       "      <td>7.950</td>\n",
       "      <td>7.900</td>\n",
       "      <td>8.500</td>\n",
       "      <td>642900.0</td>\n",
       "      <td>2014-04-01</td>\n",
       "      <td>2014-04-01</td>\n",
       "    </tr>\n",
       "    <tr>\n",
       "      <th>2</th>\n",
       "      <td>2386510.0</td>\n",
       "      <td>PIH</td>\n",
       "      <td>7.940</td>\n",
       "      <td>8.160</td>\n",
       "      <td>8.160</td>\n",
       "      <td>7.900</td>\n",
       "      <td>8.290</td>\n",
       "      <td>228400.0</td>\n",
       "      <td>2014-04-02</td>\n",
       "      <td>2014-04-02</td>\n",
       "    </tr>\n",
       "    <tr>\n",
       "      <th>3</th>\n",
       "      <td>2386515.0</td>\n",
       "      <td>PIH</td>\n",
       "      <td>8.290</td>\n",
       "      <td>8.390</td>\n",
       "      <td>8.390</td>\n",
       "      <td>8.050</td>\n",
       "      <td>8.400</td>\n",
       "      <td>105000.0</td>\n",
       "      <td>2014-04-03</td>\n",
       "      <td>2014-04-03</td>\n",
       "    </tr>\n",
       "    <tr>\n",
       "      <th>4</th>\n",
       "      <td>2386516.0</td>\n",
       "      <td>PIH</td>\n",
       "      <td>8.500</td>\n",
       "      <td>8.690</td>\n",
       "      <td>8.690</td>\n",
       "      <td>8.320</td>\n",
       "      <td>8.700</td>\n",
       "      <td>113600.0</td>\n",
       "      <td>2014-04-04</td>\n",
       "      <td>2014-04-04</td>\n",
       "    </tr>\n",
       "    <tr>\n",
       "      <th>7</th>\n",
       "      <td>2386533.0</td>\n",
       "      <td>PIH</td>\n",
       "      <td>9.000</td>\n",
       "      <td>8.940</td>\n",
       "      <td>8.940</td>\n",
       "      <td>8.550</td>\n",
       "      <td>9.000</td>\n",
       "      <td>60500.0</td>\n",
       "      <td>2014-04-07</td>\n",
       "      <td>2014-04-07</td>\n",
       "    </tr>\n",
       "    <tr>\n",
       "      <th>...</th>\n",
       "      <td>...</td>\n",
       "      <td>...</td>\n",
       "      <td>...</td>\n",
       "      <td>...</td>\n",
       "      <td>...</td>\n",
       "      <td>...</td>\n",
       "      <td>...</td>\n",
       "      <td>...</td>\n",
       "      <td>...</td>\n",
       "      <td>...</td>\n",
       "    </tr>\n",
       "    <tr>\n",
       "      <th>1603</th>\n",
       "      <td>2398342.0</td>\n",
       "      <td>PIH</td>\n",
       "      <td>7.050</td>\n",
       "      <td>7.097</td>\n",
       "      <td>7.097</td>\n",
       "      <td>6.997</td>\n",
       "      <td>7.097</td>\n",
       "      <td>1600.0</td>\n",
       "      <td>2018-08-20</td>\n",
       "      <td>2018-08-20</td>\n",
       "    </tr>\n",
       "    <tr>\n",
       "      <th>1604</th>\n",
       "      <td>2398359.0</td>\n",
       "      <td>PIH</td>\n",
       "      <td>7.097</td>\n",
       "      <td>7.050</td>\n",
       "      <td>7.050</td>\n",
       "      <td>7.000</td>\n",
       "      <td>7.098</td>\n",
       "      <td>1100.0</td>\n",
       "      <td>2018-08-21</td>\n",
       "      <td>2018-08-21</td>\n",
       "    </tr>\n",
       "    <tr>\n",
       "      <th>1605</th>\n",
       "      <td>2398363.0</td>\n",
       "      <td>PIH</td>\n",
       "      <td>7.000</td>\n",
       "      <td>7.099</td>\n",
       "      <td>7.099</td>\n",
       "      <td>7.000</td>\n",
       "      <td>7.100</td>\n",
       "      <td>3800.0</td>\n",
       "      <td>2018-08-22</td>\n",
       "      <td>2018-08-22</td>\n",
       "    </tr>\n",
       "    <tr>\n",
       "      <th>1606</th>\n",
       "      <td>2398379.0</td>\n",
       "      <td>PIH</td>\n",
       "      <td>7.000</td>\n",
       "      <td>6.979</td>\n",
       "      <td>6.979</td>\n",
       "      <td>6.979</td>\n",
       "      <td>7.000</td>\n",
       "      <td>600.0</td>\n",
       "      <td>2018-08-23</td>\n",
       "      <td>2018-08-23</td>\n",
       "    </tr>\n",
       "    <tr>\n",
       "      <th>1607</th>\n",
       "      <td>2398383.0</td>\n",
       "      <td>PIH</td>\n",
       "      <td>6.986</td>\n",
       "      <td>7.050</td>\n",
       "      <td>7.050</td>\n",
       "      <td>6.986</td>\n",
       "      <td>7.050</td>\n",
       "      <td>1800.0</td>\n",
       "      <td>2018-08-24</td>\n",
       "      <td>2018-08-24</td>\n",
       "    </tr>\n",
       "  </tbody>\n",
       "</table>\n",
       "<p>1095 rows × 10 columns</p>\n",
       "</div>"
      ],
      "text/plain": [
       "                  index ticker   open  close  adj_close    low   high  \\\n",
       "custom_index                                                            \n",
       "1             2386493.0    PIH  8.000  7.950      7.950  7.900  8.500   \n",
       "2             2386510.0    PIH  7.940  8.160      8.160  7.900  8.290   \n",
       "3             2386515.0    PIH  8.290  8.390      8.390  8.050  8.400   \n",
       "4             2386516.0    PIH  8.500  8.690      8.690  8.320  8.700   \n",
       "7             2386533.0    PIH  9.000  8.940      8.940  8.550  9.000   \n",
       "...                 ...    ...    ...    ...        ...    ...    ...   \n",
       "1603          2398342.0    PIH  7.050  7.097      7.097  6.997  7.097   \n",
       "1604          2398359.0    PIH  7.097  7.050      7.050  7.000  7.098   \n",
       "1605          2398363.0    PIH  7.000  7.099      7.099  7.000  7.100   \n",
       "1606          2398379.0    PIH  7.000  6.979      6.979  6.979  7.000   \n",
       "1607          2398383.0    PIH  6.986  7.050      7.050  6.986  7.050   \n",
       "\n",
       "                volume        date   date_time  \n",
       "custom_index                                    \n",
       "1             642900.0  2014-04-01  2014-04-01  \n",
       "2             228400.0  2014-04-02  2014-04-02  \n",
       "3             105000.0  2014-04-03  2014-04-03  \n",
       "4             113600.0  2014-04-04  2014-04-04  \n",
       "7              60500.0  2014-04-07  2014-04-07  \n",
       "...                ...         ...         ...  \n",
       "1603            1600.0  2018-08-20  2018-08-20  \n",
       "1604            1100.0  2018-08-21  2018-08-21  \n",
       "1605            3800.0  2018-08-22  2018-08-22  \n",
       "1606             600.0  2018-08-23  2018-08-23  \n",
       "1607            1800.0  2018-08-24  2018-08-24  \n",
       "\n",
       "[1095 rows x 10 columns]"
      ]
     },
     "execution_count": 37,
     "metadata": {},
     "output_type": "execute_result"
    }
   ],
   "source": [
    "df_PIH_reindex"
   ]
  },
  {
   "cell_type": "code",
   "execution_count": 38,
   "metadata": {},
   "outputs": [],
   "source": [
    "# VERY USEFUL function for getting the stock prices; need dataframe, spring/fall, metric\n",
    "\n",
    "def get_dst_fri_mon_prices(df,season,fri_metric,mon_metric):\n",
    "    # season = spring/fall\n",
    "    # metric1,2 = high, low, open, close, volume, etc.\n",
    "    dst_mon_fri_prices=[]\n",
    "    fri_str = season + '_fri_before'\n",
    "    mon_str = season + '_mon_after'\n",
    "\n",
    "    for fri,mon in zip(DST_fri_mon[fri_str].values, DST_fri_mon[mon_str].values):\n",
    "        if (fri in df['date_time'].values) and (mon in df['date_time'].values):\n",
    "            print('Have data for both:',fri.strftime('%Y-%m-%d'), mon.strftime('%Y-%m-%d'))\n",
    "\n",
    "            fri_price=df.loc[df['date_time'] == fri, fri_metric].values[0]\n",
    "            mon_price=df.loc[df['date_time'] == mon, mon_metric].values[0]\n",
    "            \n",
    "            dst_mon_fri_prices.append((fri,mon,fri_price,mon_price))\n",
    "        else:\n",
    "            print('Missing data for at least one of:', fri.strftime('%Y-%m-%d'), mon.strftime('%Y-%m-%d')) \n",
    "    return dst_mon_fri_prices "
   ]
  },
  {
   "cell_type": "code",
   "execution_count": 39,
   "metadata": {},
   "outputs": [
    {
     "name": "stdout",
     "output_type": "stream",
     "text": [
      "Missing data for at least one of: 1970-04-24 1970-04-27\n",
      "Missing data for at least one of: 1971-04-23 1971-04-26\n",
      "Missing data for at least one of: 1972-04-28 1972-05-01\n",
      "Missing data for at least one of: 1973-04-27 1973-04-30\n",
      "Missing data for at least one of: 1974-01-04 1974-01-07\n",
      "Missing data for at least one of: 1975-02-21 1975-02-24\n",
      "Missing data for at least one of: 1976-04-23 1976-04-26\n",
      "Missing data for at least one of: 1977-04-22 1977-04-25\n",
      "Missing data for at least one of: 1978-04-28 1978-05-01\n",
      "Missing data for at least one of: 1979-04-27 1979-04-30\n",
      "Missing data for at least one of: 1980-04-25 1980-04-28\n",
      "Missing data for at least one of: 1981-04-24 1981-04-27\n",
      "Missing data for at least one of: 1982-04-23 1982-04-26\n",
      "Missing data for at least one of: 1983-04-22 1983-04-25\n",
      "Missing data for at least one of: 1984-04-27 1984-04-30\n",
      "Missing data for at least one of: 1985-04-26 1985-04-29\n",
      "Missing data for at least one of: 1986-04-25 1986-04-28\n",
      "Missing data for at least one of: 1987-04-03 1987-04-06\n",
      "Missing data for at least one of: 1988-04-01 1988-04-04\n",
      "Missing data for at least one of: 1989-03-31 1989-04-03\n",
      "Missing data for at least one of: 1990-03-30 1990-04-02\n",
      "Missing data for at least one of: 1991-04-05 1991-04-08\n",
      "Missing data for at least one of: 1992-04-03 1992-04-06\n",
      "Missing data for at least one of: 1993-04-02 1993-04-05\n",
      "Missing data for at least one of: 1994-04-01 1994-04-04\n",
      "Missing data for at least one of: 1995-03-31 1995-04-03\n",
      "Missing data for at least one of: 1996-04-05 1996-04-08\n",
      "Missing data for at least one of: 1997-04-04 1997-04-07\n",
      "Missing data for at least one of: 1998-04-03 1998-04-06\n",
      "Missing data for at least one of: 1999-04-02 1999-04-05\n",
      "Missing data for at least one of: 2000-03-31 2000-04-03\n",
      "Missing data for at least one of: 2001-03-30 2001-04-02\n",
      "Missing data for at least one of: 2002-04-05 2002-04-08\n",
      "Missing data for at least one of: 2003-04-04 2003-04-07\n",
      "Missing data for at least one of: 2004-04-02 2004-04-05\n",
      "Missing data for at least one of: 2005-04-01 2005-04-04\n",
      "Missing data for at least one of: 2006-03-31 2006-04-03\n",
      "Missing data for at least one of: 2007-03-09 2007-03-12\n",
      "Missing data for at least one of: 2008-03-07 2008-03-10\n",
      "Missing data for at least one of: 2009-03-06 2009-03-09\n",
      "Missing data for at least one of: 2010-03-12 2010-03-15\n",
      "Missing data for at least one of: 2011-03-11 2011-03-14\n",
      "Missing data for at least one of: 2012-03-09 2012-03-12\n",
      "Missing data for at least one of: 2013-03-08 2013-03-11\n",
      "Missing data for at least one of: 2014-03-07 2014-03-10\n",
      "Have data for both: 2015-03-06 2015-03-09\n",
      "Have data for both: 2016-03-11 2016-03-14\n",
      "Have data for both: 2017-03-10 2017-03-13\n",
      "Have data for both: 2018-03-09 2018-03-12\n",
      "Missing data for at least one of: 2019-03-08 2019-03-11\n",
      "Missing data for at least one of: 2020-03-06 2020-03-09\n",
      "Missing data for at least one of: 2021-03-12 2021-03-15\n",
      "Missing data for at least one of: 2022-03-11 2022-03-14\n",
      "Missing data for at least one of: 2023-03-10 2023-03-13\n",
      "Missing data for at least one of: 2024-03-08 2024-03-11\n"
     ]
    }
   ],
   "source": [
    "df_PIH_spring_high=get_dst_fri_mon_prices(df_PIH_reindex,'spring','high','high')"
   ]
  },
  {
   "cell_type": "code",
   "execution_count": 40,
   "metadata": {},
   "outputs": [
    {
     "data": {
      "text/html": [
       "<div>\n",
       "<style scoped>\n",
       "    .dataframe tbody tr th:only-of-type {\n",
       "        vertical-align: middle;\n",
       "    }\n",
       "\n",
       "    .dataframe tbody tr th {\n",
       "        vertical-align: top;\n",
       "    }\n",
       "\n",
       "    .dataframe thead th {\n",
       "        text-align: right;\n",
       "    }\n",
       "</style>\n",
       "<table border=\"1\" class=\"dataframe\">\n",
       "  <thead>\n",
       "    <tr style=\"text-align: right;\">\n",
       "      <th></th>\n",
       "      <th>0</th>\n",
       "      <th>1</th>\n",
       "      <th>2</th>\n",
       "      <th>3</th>\n",
       "    </tr>\n",
       "  </thead>\n",
       "  <tbody>\n",
       "    <tr>\n",
       "      <th>0</th>\n",
       "      <td>2015-03-06</td>\n",
       "      <td>2015-03-09</td>\n",
       "      <td>7.550</td>\n",
       "      <td>7.540</td>\n",
       "    </tr>\n",
       "    <tr>\n",
       "      <th>1</th>\n",
       "      <td>2016-03-11</td>\n",
       "      <td>2016-03-14</td>\n",
       "      <td>5.680</td>\n",
       "      <td>5.603</td>\n",
       "    </tr>\n",
       "    <tr>\n",
       "      <th>2</th>\n",
       "      <td>2017-03-10</td>\n",
       "      <td>2017-03-13</td>\n",
       "      <td>7.150</td>\n",
       "      <td>7.400</td>\n",
       "    </tr>\n",
       "    <tr>\n",
       "      <th>3</th>\n",
       "      <td>2018-03-09</td>\n",
       "      <td>2018-03-12</td>\n",
       "      <td>6.954</td>\n",
       "      <td>7.100</td>\n",
       "    </tr>\n",
       "  </tbody>\n",
       "</table>\n",
       "</div>"
      ],
      "text/plain": [
       "            0           1      2      3\n",
       "0  2015-03-06  2015-03-09  7.550  7.540\n",
       "1  2016-03-11  2016-03-14  5.680  5.603\n",
       "2  2017-03-10  2017-03-13  7.150  7.400\n",
       "3  2018-03-09  2018-03-12  6.954  7.100"
      ]
     },
     "execution_count": 40,
     "metadata": {},
     "output_type": "execute_result"
    }
   ],
   "source": [
    "# put in dataframe for nicer viewing; I didn't have it return a dataframe because\n",
    "# it seems to mess with the datetime object in weird ways\n",
    "pd.DataFrame(df_PIH_spring_high)"
   ]
  },
  {
   "cell_type": "code",
   "execution_count": 42,
   "metadata": {},
   "outputs": [
    {
     "data": {
      "text/plain": [
       "[0.01000022888182972, 0.07699966430664062, -0.25, -0.14599990844727007]"
      ]
     },
     "execution_count": 42,
     "metadata": {},
     "output_type": "execute_result"
    }
   ],
   "source": [
    "PIH_spring_high_diff = []\n",
    "for i in range(len(df_PIH_spring_high)):\n",
    "    PIH_spring_high_diff.append(df_PIH_spring_high[i][2]-df_PIH_spring_high[i][3])\n",
    "\n",
    "PIH_spring_high_diff"
   ]
  },
  {
   "cell_type": "code",
   "execution_count": 43,
   "metadata": {},
   "outputs": [
    {
     "data": {
      "image/png": "[encoded data removed]",
      "text/plain": [
       "<Figure size 640x480 with 1 Axes>"
      ]
     },
     "metadata": {},
     "output_type": "display_data"
    }
   ],
   "source": [
    "plt.hist(PIH_spring_high_diff,color='b')\n",
    "plt.title('Difference between High Friday before and Monday after Spring DST for PIH')\n",
    "plt.show()"
   ]
  },
  {
   "cell_type": "code",
   "execution_count": 44,
   "metadata": {},
   "outputs": [],
   "source": [
    "# for suppressing what a function prints out as part of debugging\n",
    "import contextlib\n",
    "import io\n",
    "\n",
    "# Suppressing the print output\n",
    "with contextlib.redirect_stdout(io.StringIO()):\n",
    "    df_PIH_spring_high=get_dst_fri_mon_prices(df_PIH_reindex,'spring','open','close')"
   ]
  },
  {
   "cell_type": "code",
   "execution_count": 45,
   "metadata": {},
   "outputs": [],
   "source": [
    "PIH_spring_high_diff = []\n",
    "for i in range(len(df_PIH_spring_high)):\n",
    "    PIH_spring_high_diff.append(df_PIH_spring_high[i][2]-df_PIH_spring_high[i][3])"
   ]
  },
  {
   "cell_type": "code",
   "execution_count": 46,
   "metadata": {},
   "outputs": [
    {
     "data": {
      "image/png": "[encoded data removed]",
      "text/plain": [
       "<Figure size 640x480 with 1 Axes>"
      ]
     },
     "metadata": {},
     "output_type": "display_data"
    }
   ],
   "source": [
    "# have 35 years of data for UNP\n",
    "plt.hist(PIH_spring_high_diff,color='b')\n",
    "plt.title('Difference between High Friday before and Monday after Spring DST for PIH')\n",
    "plt.show()"
   ]
  },
  {
   "cell_type": "markdown",
   "metadata": {},
   "source": [
    "# Finance Sector\n",
    "\n",
    "We'll now try and study the entire finance sector."
   ]
  },
  {
   "cell_type": "code",
   "execution_count": 47,
   "metadata": {},
   "outputs": [
    {
     "data": {
      "text/plain": [
       "array(['PIH', 'PIHPP', 'TURN', ..., 'XL', 'YRD', 'ZBK'], dtype=object)"
      ]
     },
     "execution_count": 47,
     "metadata": {},
     "output_type": "execute_result"
    }
   ],
   "source": [
    "finance['ticker'].values"
   ]
  },
  {
   "cell_type": "code",
   "execution_count": 48,
   "metadata": {},
   "outputs": [
    {
     "data": {
      "text/html": [
       "<div>\n",
       "<style scoped>\n",
       "    .dataframe tbody tr th:only-of-type {\n",
       "        vertical-align: middle;\n",
       "    }\n",
       "\n",
       "    .dataframe tbody tr th {\n",
       "        vertical-align: top;\n",
       "    }\n",
       "\n",
       "    .dataframe thead th {\n",
       "        text-align: right;\n",
       "    }\n",
       "</style>\n",
       "<table border=\"1\" class=\"dataframe\">\n",
       "  <thead>\n",
       "    <tr style=\"text-align: right;\">\n",
       "      <th></th>\n",
       "      <th>index</th>\n",
       "      <th>ticker</th>\n",
       "      <th>open</th>\n",
       "      <th>close</th>\n",
       "      <th>adj_close</th>\n",
       "      <th>low</th>\n",
       "      <th>high</th>\n",
       "      <th>volume</th>\n",
       "      <th>date</th>\n",
       "      <th>date_time</th>\n",
       "    </tr>\n",
       "  </thead>\n",
       "  <tbody>\n",
       "    <tr>\n",
       "      <th>0</th>\n",
       "      <td>2386493</td>\n",
       "      <td>PIH</td>\n",
       "      <td>8.00</td>\n",
       "      <td>7.95</td>\n",
       "      <td>7.95</td>\n",
       "      <td>7.90</td>\n",
       "      <td>8.50</td>\n",
       "      <td>642900</td>\n",
       "      <td>2014-04-01</td>\n",
       "      <td>2014-04-01</td>\n",
       "    </tr>\n",
       "    <tr>\n",
       "      <th>1</th>\n",
       "      <td>2386510</td>\n",
       "      <td>PIH</td>\n",
       "      <td>7.94</td>\n",
       "      <td>8.16</td>\n",
       "      <td>8.16</td>\n",
       "      <td>7.90</td>\n",
       "      <td>8.29</td>\n",
       "      <td>228400</td>\n",
       "      <td>2014-04-02</td>\n",
       "      <td>2014-04-02</td>\n",
       "    </tr>\n",
       "    <tr>\n",
       "      <th>2</th>\n",
       "      <td>2386515</td>\n",
       "      <td>PIH</td>\n",
       "      <td>8.29</td>\n",
       "      <td>8.39</td>\n",
       "      <td>8.39</td>\n",
       "      <td>8.05</td>\n",
       "      <td>8.40</td>\n",
       "      <td>105000</td>\n",
       "      <td>2014-04-03</td>\n",
       "      <td>2014-04-03</td>\n",
       "    </tr>\n",
       "    <tr>\n",
       "      <th>3</th>\n",
       "      <td>2386516</td>\n",
       "      <td>PIH</td>\n",
       "      <td>8.50</td>\n",
       "      <td>8.69</td>\n",
       "      <td>8.69</td>\n",
       "      <td>8.32</td>\n",
       "      <td>8.70</td>\n",
       "      <td>113600</td>\n",
       "      <td>2014-04-04</td>\n",
       "      <td>2014-04-04</td>\n",
       "    </tr>\n",
       "    <tr>\n",
       "      <th>4</th>\n",
       "      <td>2386533</td>\n",
       "      <td>PIH</td>\n",
       "      <td>9.00</td>\n",
       "      <td>8.94</td>\n",
       "      <td>8.94</td>\n",
       "      <td>8.55</td>\n",
       "      <td>9.00</td>\n",
       "      <td>60500</td>\n",
       "      <td>2014-04-07</td>\n",
       "      <td>2014-04-07</td>\n",
       "    </tr>\n",
       "  </tbody>\n",
       "</table>\n",
       "</div>"
      ],
      "text/plain": [
       "     index ticker  open  close  adj_close   low  high  volume        date  \\\n",
       "0  2386493    PIH  8.00   7.95       7.95  7.90  8.50  642900  2014-04-01   \n",
       "1  2386510    PIH  7.94   8.16       8.16  7.90  8.29  228400  2014-04-02   \n",
       "2  2386515    PIH  8.29   8.39       8.39  8.05  8.40  105000  2014-04-03   \n",
       "3  2386516    PIH  8.50   8.69       8.69  8.32  8.70  113600  2014-04-04   \n",
       "4  2386533    PIH  9.00   8.94       8.94  8.55  9.00   60500  2014-04-07   \n",
       "\n",
       "    date_time  \n",
       "0  2014-04-01  \n",
       "1  2014-04-02  \n",
       "2  2014-04-03  \n",
       "3  2014-04-04  \n",
       "4  2014-04-07  "
      ]
     },
     "execution_count": 48,
     "metadata": {},
     "output_type": "execute_result"
    }
   ],
   "source": [
    "df_PIH.head()"
   ]
  },
  {
   "cell_type": "code",
   "execution_count": 50,
   "metadata": {},
   "outputs": [
    {
     "name": "stdout",
     "output_type": "stream",
     "text": [
      "Skipping empty DataFrame: AGFSW\n",
      "Skipping empty DataFrame: AMRWW\n",
      "Skipping empty DataFrame: AMBCW\n",
      "Skipping empty DataFrame: ACFC\n",
      "Skipping empty DataFrame: AFHBL\n",
      "Skipping empty DataFrame: BHACR\n",
      "Skipping empty DataFrame: BHACU\n",
      "Skipping empty DataFrame: BHACW\n",
      "Skipping empty DataFrame: BRPAW\n",
      "Skipping empty DataFrame: BCACR\n",
      "Skipping empty DataFrame: BCACU\n",
      "Skipping empty DataFrame: BCACW\n",
      "Skipping empty DataFrame: BRACR\n",
      "Skipping empty DataFrame: BRACU\n",
      "Skipping empty DataFrame: BRACW\n",
      "Skipping empty DataFrame: HAWK\n",
      "Skipping empty DataFrame: BPFHP\n",
      "Skipping empty DataFrame: BPFHW\n",
      "Skipping empty DataFrame: CATYW\n",
      "Skipping empty DataFrame: CMSSR\n",
      "Skipping empty DataFrame: CMSSU\n",
      "Skipping empty DataFrame: CMSSW\n",
      "Skipping empty DataFrame: CNACR\n",
      "Skipping empty DataFrame: CNACU\n",
      "Skipping empty DataFrame: CNACW\n",
      "Skipping empty DataFrame: DFBHW\n",
      "Skipping empty DataFrame: DOTAR\n",
      "Skipping empty DataFrame: DOTAU\n",
      "Skipping empty DataFrame: DOTAW\n",
      "Skipping empty DataFrame: EACQU\n",
      "Skipping empty DataFrame: EACQW\n",
      "Skipping empty DataFrame: ELEC\n",
      "Skipping empty DataFrame: ELECU\n",
      "Skipping empty DataFrame: ELECW\n",
      "Skipping empty DataFrame: FSACU\n",
      "Skipping empty DataFrame: FSACW\n",
      "Skipping empty DataFrame: FNTEU\n",
      "Skipping empty DataFrame: FNTEW\n",
      "Skipping empty DataFrame: FFBCW\n",
      "Skipping empty DataFrame: GBLIL\n",
      "Skipping empty DataFrame: GPAQW\n",
      "Skipping empty DataFrame: GSHTU\n",
      "Skipping empty DataFrame: GSHTW\n",
      "Skipping empty DataFrame: GTYHW\n",
      "Skipping empty DataFrame: HBHC\n",
      "Skipping empty DataFrame: HBHCL\n",
      "Skipping empty DataFrame: HYACU\n",
      "Skipping empty DataFrame: HYACW\n",
      "Skipping empty DataFrame: IAMXR\n",
      "Skipping empty DataFrame: IAMXW\n",
      "Skipping empty DataFrame: INDUU\n",
      "Skipping empty DataFrame: INDUW\n",
      "Skipping empty DataFrame: IEAWW\n",
      "Skipping empty DataFrame: JXSB\n",
      "Skipping empty DataFrame: KAACU\n",
      "Skipping empty DataFrame: KAACW\n",
      "Skipping empty DataFrame: KBLMR\n",
      "Skipping empty DataFrame: KBLMU\n",
      "Skipping empty DataFrame: KBLMW\n",
      "Skipping empty DataFrame: LCAHW\n",
      "Skipping empty DataFrame: LACQW\n",
      "Skipping empty DataFrame: LMFAW\n",
      "Skipping empty DataFrame: MACQW\n",
      "Skipping empty DataFrame: MPACU\n",
      "Skipping empty DataFrame: MPACW\n",
      "Skipping empty DataFrame: MMDMR\n",
      "Skipping empty DataFrame: MMDMU\n",
      "Skipping empty DataFrame: MMDMW\n",
      "Skipping empty DataFrame: MTECW\n",
      "Skipping empty DataFrame: MUDSW\n",
      "Skipping empty DataFrame: NHLDW\n",
      "Skipping empty DataFrame: NEBUW\n",
      "Skipping empty DataFrame: OPESW\n",
      "Skipping empty DataFrame: OSPRU\n",
      "Skipping empty DataFrame: OSPRW\n",
      "Skipping empty DataFrame: OXBRW\n",
      "Skipping empty DataFrame: WRLSR\n",
      "Skipping empty DataFrame: WRLSU\n",
      "Skipping empty DataFrame: WRLSW\n",
      "Skipping empty DataFrame: EAGLW\n",
      "Skipping empty DataFrame: PBIB\n",
      "Skipping empty DataFrame: SCACW\n",
      "Skipping empty DataFrame: STNLW\n",
      "Skipping empty DataFrame: SBNYW\n",
      "Skipping empty DataFrame: TCBIW\n",
      "Skipping empty DataFrame: TIBRW\n",
      "Skipping empty DataFrame: VEACU\n",
      "Skipping empty DataFrame: VEACW\n",
      "Skipping empty DataFrame: WAFDW\n",
      "Skipping empty DataFrame: WTFCW\n",
      "Skipping empty DataFrame: ZAIS\n",
      "Skipping empty DataFrame: ZIONW\n",
      "Skipping empty DataFrame: ZIONZ\n",
      "Skipping empty DataFrame: BAC^W\n",
      "Skipping empty DataFrame: BAC^Y\n",
      "Skipping empty DataFrame: COF^C\n",
      "Skipping empty DataFrame: C^K\n",
      "Skipping empty DataFrame: C^N\n",
      "Skipping empty DataFrame: JPM^A\n",
      "Skipping empty DataFrame: JPM^H\n",
      "Skipping empty DataFrame: OFG^A\n",
      "Skipping empty DataFrame: STL^A\n",
      "Skipping empty DataFrame: SF^A\n",
      "Skipping empty DataFrame: SFB\n",
      "Skipping empty DataFrame: USB^A\n",
      "Skipping empty DataFrame: VLY^A\n"
     ]
    }
   ],
   "source": [
    "df_finance=pd.DataFrame()\n",
    "\n",
    "for stock in finance['ticker'].values:\n",
    "    with contextlib.redirect_stdout(io.StringIO()):\n",
    "        df_stock = get_stocks(df,df2,stock)\n",
    "    if df_stock.empty:\n",
    "        print(\"Skipping empty DataFrame:\", stock)\n",
    "        continue\n",
    "    df_finance = pd.concat([df_finance,df_stock],ignore_index=True)"
   ]
  },
  {
   "cell_type": "code",
   "execution_count": 51,
   "metadata": {},
   "outputs": [],
   "source": [
    "df_finance.to_csv('finance1970-2018.csv')"
   ]
  },
  {
   "cell_type": "code",
   "execution_count": 52,
   "metadata": {},
   "outputs": [
    {
     "name": "stdout",
     "output_type": "stream",
     "text": [
      "<class 'pandas.core.frame.DataFrame'>\n",
      "RangeIndex: 3134211 entries, 0 to 3134210\n",
      "Data columns (total 9 columns):\n",
      " #   Column     Dtype  \n",
      "---  ------     -----  \n",
      " 0   index      int64  \n",
      " 1   ticker     object \n",
      " 2   open       float64\n",
      " 3   close      float64\n",
      " 4   adj_close  float64\n",
      " 5   low        float64\n",
      " 6   high       float64\n",
      " 7   volume     int64  \n",
      " 8   date       object \n",
      "dtypes: float64(5), int64(2), object(2)\n",
      "memory usage: 215.2+ MB\n"
     ]
    }
   ],
   "source": [
    "df_finance.info()"
   ]
  },
  {
   "cell_type": "code",
   "execution_count": 63,
   "metadata": {},
   "outputs": [
    {
     "name": "stdout",
     "output_type": "stream",
     "text": [
      "Skipping empty DataFrame: CYRXW\n",
      "Skipping empty DataFrame: HUNTU\n",
      "Skipping empty DataFrame: HUNTW\n",
      "Skipping empty DataFrame: SHIPW\n",
      "Skipping empty DataFrame: GNRT\n",
      "Skipping empty DataFrame: KSU^\n",
      "Skipping empty DataFrame: SBBC\n",
      "Skipping empty DataFrame: SSWA\n",
      "CPU times: user 3min 35s, sys: 4.76 s, total: 3min 40s\n",
      "Wall time: 3min 49s\n"
     ]
    }
   ],
   "source": [
    "%%time\n",
    "# Getting all the finance sector data for differences between\n",
    "# open Friday before and close Monday after in \n",
    "# we also suppress the debugging prints from functions\n",
    "\n",
    "transport_spring_high_diff=[]\n",
    "for stock in transportation['ticker'].values:\n",
    "    with contextlib.redirect_stdout(io.StringIO()):\n",
    "        df_stock = get_stocks(df,df2,stock)\n",
    "    if df_stock.empty:\n",
    "        print(\"Skipping empty DataFrame:\", stock)\n",
    "        continue \n",
    "    \n",
    "    add_datetime(df_stock,'date')\n",
    "    with warnings.catch_warnings():\n",
    "        warnings.simplefilter(\"ignore\")  # Ignore all warnings\n",
    "        df_stock_reindex=custom_time_indexing(df_stock, 'date_time')[0]\n",
    "\n",
    "    #df_stock_reindex['date_time'] = pd.to_datetime(df_stock_reindex['date_time'])\n",
    "    with contextlib.redirect_stdout(io.StringIO()):\n",
    "        df_stock_spring_high=get_dst_fri_mon_prices(df_stock_reindex,'spring','high','high')\n",
    "\n",
    "    for i in range(len(df_stock_spring_high)):\n",
    "        transport_spring_high_diff.append(df_stock_spring_high[i][2]-df_stock_spring_high[i][3])\n"
   ]
  },
  {
   "cell_type": "code",
   "execution_count": 64,
   "metadata": {},
   "outputs": [
    {
     "name": "stdout",
     "output_type": "stream",
     "text": [
      "-1050.0\n",
      "3900.0\n"
     ]
    }
   ],
   "source": [
    "# there are some precipitous changes but those are outliers\n",
    "print(min(transport_spring_high_diff))\n",
    "print(max(transport_spring_high_diff))\n"
   ]
  },
  {
   "cell_type": "code",
   "execution_count": 65,
   "metadata": {},
   "outputs": [
    {
     "name": "stdout",
     "output_type": "stream",
     "text": [
      "1539 4 6 6\n"
     ]
    },
    {
     "data": {
      "text/plain": [
       "1539"
      ]
     },
     "execution_count": 65,
     "metadata": {},
     "output_type": "execute_result"
    }
   ],
   "source": [
    "#for dealing with outliers\n",
    "\n",
    "ones=0\n",
    "tens=0\n",
    "hundreds=0\n",
    "thousands=0\n",
    "for val in transport_spring_high_diff:\n",
    "    if abs(val) <10:\n",
    "        ones+=1\n",
    "    if 10<=abs(val) <100:\n",
    "        tens+=1\n",
    "        # we remove all occurrences of the value if it's too large\n",
    "        transport_spring_high_diff = list(filter(lambda x: x != val, transport_spring_high_diff))\n",
    "    if 100<= abs(val) <1000:\n",
    "        hundreds+=1\n",
    "        transport_spring_high_diff = list(filter(lambda x: x != val, transport_spring_high_diff))    \n",
    "    if 1000<= abs(val):\n",
    "        thousands+=1\n",
    "        transport_spring_high_diff = list(filter(lambda x: x != val, transport_spring_high_diff))\n",
    "\n",
    "print(ones,tens,hundreds,thousands)\n",
    "len(transport_spring_high_diff)\n",
    "# in the end, we removed 16 outliers out of 1555, about 1% of the values"
   ]
  },
  {
   "cell_type": "code",
   "execution_count": 66,
   "metadata": {},
   "outputs": [
    {
     "data": {
      "image/png": "[encoded data removed]",
      "text/plain": [
       "<Figure size 640x480 with 1 Axes>"
      ]
     },
     "metadata": {},
     "output_type": "display_data"
    }
   ],
   "source": [
    "#bins=range(min(data), max(data) + binwidth, binwidth)\n",
    "\n",
    "plt.hist(transport_spring_high_diff,color='b',bins=50,log=True)\n",
    "plt.title('Log Difference between High Friday before and Monday after Spring DST for Transportation Sector')\n",
    "plt.ylabel('Log Scale')\n",
    "plt.show()"
   ]
  },
  {
   "cell_type": "markdown",
   "metadata": {},
   "source": [
    "The next thing to do is get some data for other weekends and compare it to the time change weekends. I'll have to make a function that gets weekends which are not DST nor holiday."
   ]
  },
  {
   "cell_type": "markdown",
   "metadata": {},
   "source": [
    "We'll now try to bring in other weekends. If there is a holiday, the market is closed and we will automatically not have the data for it."
   ]
  },
  {
   "cell_type": "code",
   "execution_count": 67,
   "metadata": {},
   "outputs": [
    {
     "data": {
      "text/html": [
       "<div>\n",
       "<style scoped>\n",
       "    .dataframe tbody tr th:only-of-type {\n",
       "        vertical-align: middle;\n",
       "    }\n",
       "\n",
       "    .dataframe tbody tr th {\n",
       "        vertical-align: top;\n",
       "    }\n",
       "\n",
       "    .dataframe thead th {\n",
       "        text-align: right;\n",
       "    }\n",
       "</style>\n",
       "<table border=\"1\" class=\"dataframe\">\n",
       "  <thead>\n",
       "    <tr style=\"text-align: right;\">\n",
       "      <th></th>\n",
       "      <th>Unnamed: 0</th>\n",
       "      <th>Fridays</th>\n",
       "      <th>Mondays</th>\n",
       "    </tr>\n",
       "  </thead>\n",
       "  <tbody>\n",
       "    <tr>\n",
       "      <th>0</th>\n",
       "      <td>0</td>\n",
       "      <td>1970-01-02</td>\n",
       "      <td>1970-01-05</td>\n",
       "    </tr>\n",
       "    <tr>\n",
       "      <th>1</th>\n",
       "      <td>1</td>\n",
       "      <td>1970-01-09</td>\n",
       "      <td>1970-01-12</td>\n",
       "    </tr>\n",
       "    <tr>\n",
       "      <th>2</th>\n",
       "      <td>2</td>\n",
       "      <td>1970-01-16</td>\n",
       "      <td>1970-01-19</td>\n",
       "    </tr>\n",
       "    <tr>\n",
       "      <th>3</th>\n",
       "      <td>3</td>\n",
       "      <td>1970-01-23</td>\n",
       "      <td>1970-01-26</td>\n",
       "    </tr>\n",
       "    <tr>\n",
       "      <th>4</th>\n",
       "      <td>4</td>\n",
       "      <td>1970-01-30</td>\n",
       "      <td>1970-02-02</td>\n",
       "    </tr>\n",
       "  </tbody>\n",
       "</table>\n",
       "</div>"
      ],
      "text/plain": [
       "   Unnamed: 0     Fridays     Mondays\n",
       "0           0  1970-01-02  1970-01-05\n",
       "1           1  1970-01-09  1970-01-12\n",
       "2           2  1970-01-16  1970-01-19\n",
       "3           3  1970-01-23  1970-01-26\n",
       "4           4  1970-01-30  1970-02-02"
      ]
     },
     "execution_count": 67,
     "metadata": {},
     "output_type": "execute_result"
    }
   ],
   "source": [
    "weekends=pd.read_csv('weekends1970_2018.csv')\n",
    "weekends.head()"
   ]
  },
  {
   "cell_type": "code",
   "execution_count": 68,
   "metadata": {},
   "outputs": [
    {
     "data": {
      "text/html": [
       "<div>\n",
       "<style scoped>\n",
       "    .dataframe tbody tr th:only-of-type {\n",
       "        vertical-align: middle;\n",
       "    }\n",
       "\n",
       "    .dataframe tbody tr th {\n",
       "        vertical-align: top;\n",
       "    }\n",
       "\n",
       "    .dataframe thead th {\n",
       "        text-align: right;\n",
       "    }\n",
       "</style>\n",
       "<table border=\"1\" class=\"dataframe\">\n",
       "  <thead>\n",
       "    <tr style=\"text-align: right;\">\n",
       "      <th></th>\n",
       "      <th>spring_fri_before</th>\n",
       "      <th>spring_mon_after</th>\n",
       "      <th>fall_fri_before</th>\n",
       "      <th>fall_mon_after</th>\n",
       "    </tr>\n",
       "  </thead>\n",
       "  <tbody>\n",
       "    <tr>\n",
       "      <th>0</th>\n",
       "      <td>1970-04-24</td>\n",
       "      <td>1970-04-27</td>\n",
       "      <td>1970-10-23</td>\n",
       "      <td>1970-10-26</td>\n",
       "    </tr>\n",
       "    <tr>\n",
       "      <th>1</th>\n",
       "      <td>1971-04-23</td>\n",
       "      <td>1971-04-26</td>\n",
       "      <td>1971-10-29</td>\n",
       "      <td>1971-11-01</td>\n",
       "    </tr>\n",
       "    <tr>\n",
       "      <th>2</th>\n",
       "      <td>1972-04-28</td>\n",
       "      <td>1972-05-01</td>\n",
       "      <td>1972-10-27</td>\n",
       "      <td>1972-10-30</td>\n",
       "    </tr>\n",
       "    <tr>\n",
       "      <th>3</th>\n",
       "      <td>1973-04-27</td>\n",
       "      <td>1973-04-30</td>\n",
       "      <td>1973-10-26</td>\n",
       "      <td>1973-10-29</td>\n",
       "    </tr>\n",
       "    <tr>\n",
       "      <th>4</th>\n",
       "      <td>1974-01-04</td>\n",
       "      <td>1974-01-07</td>\n",
       "      <td>1974-10-25</td>\n",
       "      <td>1974-10-28</td>\n",
       "    </tr>\n",
       "  </tbody>\n",
       "</table>\n",
       "</div>"
      ],
      "text/plain": [
       "  spring_fri_before spring_mon_after fall_fri_before fall_mon_after\n",
       "0        1970-04-24       1970-04-27      1970-10-23     1970-10-26\n",
       "1        1971-04-23       1971-04-26      1971-10-29     1971-11-01\n",
       "2        1972-04-28       1972-05-01      1972-10-27     1972-10-30\n",
       "3        1973-04-27       1973-04-30      1973-10-26     1973-10-29\n",
       "4        1974-01-04       1974-01-07      1974-10-25     1974-10-28"
      ]
     },
     "execution_count": 68,
     "metadata": {},
     "output_type": "execute_result"
    }
   ],
   "source": [
    "DST_fri_mon.head()"
   ]
  },
  {
   "cell_type": "code",
   "execution_count": 69,
   "metadata": {},
   "outputs": [],
   "source": [
    "# ANOTHER VERY USEFUL function for getting the stock prices of all non-DST weekends; need dataframe and metrics\n",
    "\n",
    "def get_non_dst_fri_mon_prices(df,fri_metric,mon_metric):\n",
    "    # metric1,2 = high, low, open, close, volume, etc.\n",
    "    mon_fri_prices=[]\n",
    "\n",
    "    spring_fri = 'spring_fri_before'\n",
    "    spring_mon = 'spring_mon_after'\n",
    "    fall_fri = 'fall_fri_before'\n",
    "    fall_mon = 'fall_mon_after'\n",
    "\n",
    "    for fri,mon in zip(weekends['Fridays'].values, weekends['Mondays'].values): # I stored these as strings\n",
    "        fri = datetime.strptime(fri, '%Y-%m-%d').date()\n",
    "        mon = datetime.strptime(mon, '%Y-%m-%d').date()\n",
    "\n",
    "        if (fri in df['date_time'].values) and (mon in df['date_time'].values) and \\\n",
    "            ((fri,mon) not in zip(DST_fri_mon[spring_fri].values, DST_fri_mon[spring_mon].values)) and \\\n",
    "                ((fri,mon) not in zip(DST_fri_mon[fall_fri].values, DST_fri_mon[fall_mon].values)):\n",
    "            print('Have data for both:',fri, mon)\n",
    "            \n",
    "            fri_price=df.loc[df['date_time'] == fri, fri_metric].values[0]\n",
    "            mon_price=df.loc[df['date_time'] == mon, mon_metric].values[0]\n",
    "            \n",
    "            mon_fri_prices.append((fri.strftime('%Y-%m-%d'),mon.strftime('%Y-%m-%d'),fri_price,mon_price))\n",
    "       \n",
    "        elif ((fri,mon) in zip(DST_fri_mon[spring_fri].values, DST_fri_mon[spring_mon].values)) or \\\n",
    "                ((fri,mon) in zip(DST_fri_mon[fall_fri].values, DST_fri_mon[fall_mon].values)):\n",
    "            print('These are Friday and Monday around a DST date:', fri, mon)\n",
    "       \n",
    "        else:\n",
    "            print('Missing data for at least one of:', fri, mon) \n",
    "    return mon_fri_prices "
   ]
  },
  {
   "cell_type": "code",
   "execution_count": 70,
   "metadata": {},
   "outputs": [
    {
     "name": "stdout",
     "output_type": "stream",
     "text": [
      "CPU times: user 5.28 s, sys: 122 ms, total: 5.4 s\n",
      "Wall time: 5.81 s\n"
     ]
    }
   ],
   "source": [
    "%%time\n",
    "\n",
    "with contextlib.redirect_stdout(io.StringIO()):\n",
    "    UNP_non_dst_weekends=get_non_dst_fri_mon_prices(df_UNP_reindex,'open','close')"
   ]
  },
  {
   "cell_type": "code",
   "execution_count": 71,
   "metadata": {},
   "outputs": [],
   "source": [
    "with contextlib.redirect_stdout(io.StringIO()):\n",
    "    UNP_spring_dst_open_close = get_dst_fri_mon_prices(df_UNP_reindex,'spring','open','close')\n",
    "    UNP_fall_dst_open_close = get_dst_fri_mon_prices(df_UNP_reindex,'fall','open','close')"
   ]
  },
  {
   "cell_type": "code",
   "execution_count": 72,
   "metadata": {},
   "outputs": [],
   "source": [
    "UNP_dst_diff = []\n",
    "for i in range(len(UNP_spring_dst_open_close)):\n",
    "    UNP_dst_diff.append(UNP_spring_dst_open_close[i][2]-UNP_spring_dst_open_close[i][3])\n",
    "\n",
    "for i in range(len(UNP_fall_dst_open_close)):\n",
    "    UNP_dst_diff.append(UNP_fall_dst_open_close[i][2]-UNP_fall_dst_open_close[i][3])"
   ]
  },
  {
   "cell_type": "code",
   "execution_count": 73,
   "metadata": {},
   "outputs": [],
   "source": [
    "UNP_non_dst_weekends_diff=[]\n",
    "for i in range(len(UNP_non_dst_weekends)):\n",
    "    UNP_non_dst_weekends_diff.append(UNP_non_dst_weekends[i][2]-UNP_non_dst_weekends[i][3])\n"
   ]
  },
  {
   "cell_type": "code",
   "execution_count": 74,
   "metadata": {},
   "outputs": [
    {
     "data": {
      "image/png": "[encoded data removed]",
      "text/plain": [
       "<Figure size 640x480 with 1 Axes>"
      ]
     },
     "metadata": {},
     "output_type": "display_data"
    }
   ],
   "source": [
    "# plotting the differences between open Friday and close Monday for DST and non-DST weekends\n",
    "# the bin widths are different because the spread is different between the two\n",
    "\n",
    "plt.hist(UNP_non_dst_weekends_diff,color='r',bins=40,log=True,alpha=0.5, label='Non-DST Weekends')\n",
    "\n",
    "plt.hist(UNP_dst_diff,color='b',bins=40,log=True,alpha=0.7, label='DST Weekends')\n",
    "\n",
    "plt.title('Log Difference between Open Friday before and Close Monday after Spring DST for Union Pacific')\n",
    "plt.ylabel('Log Scale')\n",
    "plt.legend()\n",
    "plt.show()"
   ]
  },
  {
   "cell_type": "code",
   "execution_count": 75,
   "metadata": {},
   "outputs": [
    {
     "name": "stdout",
     "output_type": "stream",
     "text": [
      "0.6381402028498192\n",
      "0.3569370995197208\n",
      "-0.00623095042560789\n",
      "-0.022015307047576864\n",
      "0.0\n",
      "-0.021012306213380683\n"
     ]
    }
   ],
   "source": [
    "# the variances for non-DST and DST weekends of the difference between open Friday and close Monday \n",
    "# seems that there is more variance for non-DST for Union Pacific stock prices\n",
    "\n",
    "print(np.var(UNP_non_dst_weekends_diff))\n",
    "print(np.var(UNP_dst_diff))\n",
    "\n",
    "print(np.mean(UNP_non_dst_weekends_diff))\n",
    "print(np.mean(UNP_dst_diff))\n",
    "\n",
    "print(np.median(UNP_non_dst_weekends_diff))\n",
    "print(np.median(UNP_dst_diff))\n"
   ]
  },
  {
   "cell_type": "code",
   "execution_count": 76,
   "metadata": {},
   "outputs": [],
   "source": [
    "UNP_dst_diff_perc = []\n",
    "for i in range(len(UNP_spring_dst_open_close)):\n",
    "    UNP_dst_diff_perc.append((UNP_spring_dst_open_close[i][2]-UNP_spring_dst_open_close[i][3])/UNP_spring_dst_open_close[i][2])\n",
    "\n",
    "for i in range(len(UNP_fall_dst_open_close)):\n",
    "    UNP_dst_diff_perc.append((UNP_fall_dst_open_close[i][2]-UNP_fall_dst_open_close[i][3])/UNP_fall_dst_open_close[i][2])"
   ]
  },
  {
   "cell_type": "code",
   "execution_count": 77,
   "metadata": {},
   "outputs": [],
   "source": [
    "UNP_non_dst_weekends_diff_perc=[]\n",
    "for i in range(len(UNP_non_dst_weekends)):\n",
    "    UNP_non_dst_weekends_diff_perc.append((UNP_non_dst_weekends[i][2]-UNP_non_dst_weekends[i][3])/UNP_non_dst_weekends[i][2])\n"
   ]
  },
  {
   "cell_type": "code",
   "execution_count": 78,
   "metadata": {},
   "outputs": [
    {
     "data": {
      "image/png": "[encoded data removed]",
      "text/plain": [
       "<Figure size 640x480 with 1 Axes>"
      ]
     },
     "metadata": {},
     "output_type": "display_data"
    }
   ],
   "source": [
    "# plotting the quotiented differences between open Friday and close Monday for DST and non-DST weekends\n",
    "# the bin widths are different because the spread is different between the two\n",
    "\n",
    "plt.hist(UNP_non_dst_weekends_diff_perc,color='r',bins=30,log=True,alpha=0.5, label='Non-DST Weekends')\n",
    "\n",
    "plt.hist(UNP_dst_diff_perc,color='b',bins=30,log=True,alpha=0.7, label='DST Weekends')\n",
    "\n",
    "plt.title('Log Quotiented Difference between Open Friday before and Close Monday after Spring DST for Union Pacific')\n",
    "plt.ylabel('Log Scale')\n",
    "plt.legend()\n",
    "plt.show()"
   ]
  },
  {
   "cell_type": "code",
   "execution_count": 79,
   "metadata": {},
   "outputs": [
    {
     "name": "stdout",
     "output_type": "stream",
     "text": [
      "0.0005653646530763559\n",
      "0.0003781127758060204\n",
      "-0.00010898801123349929\n",
      "-9.502114767750892e-05\n",
      "0.0\n",
      "-0.0015109973315990007\n"
     ]
    }
   ],
   "source": [
    "# the variances for non-DST and DST weekends of the QUOTIENTED difference between open Friday and close Monday \n",
    "# seems that there is more variance for non-DST for Union Pacific stock prices\n",
    "\n",
    "print(np.var(UNP_non_dst_weekends_diff_perc))\n",
    "print(np.var(UNP_dst_diff_perc))\n",
    "\n",
    "print(np.mean(UNP_non_dst_weekends_diff_perc))\n",
    "print(np.mean(UNP_dst_diff_perc))\n",
    "\n",
    "print(np.median(UNP_non_dst_weekends_diff_perc))\n",
    "print(np.median(UNP_dst_diff_perc))"
   ]
  },
  {
   "cell_type": "markdown",
   "metadata": {},
   "source": [
    "# Working with all weekends for transportation sector"
   ]
  },
  {
   "cell_type": "code",
   "execution_count": 80,
   "metadata": {},
   "outputs": [
    {
     "name": "stdout",
     "output_type": "stream",
     "text": [
      "Skipping empty DataFrame: CYRXW\n",
      "Skipping empty DataFrame: HUNTU\n",
      "Skipping empty DataFrame: HUNTW\n",
      "Skipping empty DataFrame: SHIPW\n",
      "Skipping empty DataFrame: GNRT\n",
      "Skipping empty DataFrame: KSU^\n",
      "Skipping empty DataFrame: SBBC\n",
      "Skipping empty DataFrame: SSWA\n",
      "CPU times: user 6min 41s, sys: 6.69 s, total: 6min 48s\n",
      "Wall time: 7min 3s\n"
     ]
    }
   ],
   "source": [
    "%%time\n",
    "# Getting all the transportation sector data for differences between\n",
    "# open price Friday before and close price Monday after \n",
    "# we also suppress the debugging prints from functions\n",
    "\n",
    "transport_dst_diff=[]\n",
    "\n",
    "transport_non_dst_diff=[]\n",
    "\n",
    "for stock in transportation['ticker'].values:\n",
    "    with contextlib.redirect_stdout(io.StringIO()):\n",
    "        df_stock = get_stocks(df,df2,stock)\n",
    "    if df_stock.empty:\n",
    "        print(\"Skipping empty DataFrame:\", stock)\n",
    "        continue \n",
    "    \n",
    "    add_datetime(df_stock,'date')\n",
    "    with warnings.catch_warnings():\n",
    "        warnings.simplefilter(\"ignore\")  # Ignore all warnings\n",
    "        df_stock_reindex = custom_time_indexing(df_stock, 'date_time')[0]\n",
    "\n",
    "    with contextlib.redirect_stdout(io.StringIO()):\n",
    "        # DST\n",
    "        df_stock_dst_spring = get_dst_fri_mon_prices(df_stock_reindex,'spring','open','close')\n",
    "        df_stock_dst_fall = get_dst_fri_mon_prices(df_stock_reindex,'fall','open','close')\n",
    "\n",
    "        #non-DST\n",
    "        df_stock_non_dst_weekends = get_non_dst_fri_mon_prices(df_stock_reindex,'open','close')\n",
    "\n",
    "\n",
    "    for i in range(len(df_stock_dst_spring)):\n",
    "        transport_dst_diff.append(df_stock_dst_spring[i][2]-df_stock_dst_spring[i][3])\n",
    "\n",
    "    for j in range(len(df_stock_dst_fall)):\n",
    "        transport_dst_diff.append(df_stock_dst_fall[j][2]-df_stock_dst_fall[j][3])\n",
    "\n",
    "    for k in range(len(df_stock_non_dst_weekends)):\n",
    "        transport_non_dst_diff.append(df_stock_non_dst_weekends[k][2]-df_stock_non_dst_weekends[k][3])"
   ]
  },
  {
   "cell_type": "code",
   "execution_count": 81,
   "metadata": {},
   "outputs": [
    {
     "data": {
      "text/plain": [
       "27753.6015625"
      ]
     },
     "execution_count": 81,
     "metadata": {},
     "output_type": "execute_result"
    }
   ],
   "source": [
    "max(transport_non_dst_diff)"
   ]
  },
  {
   "cell_type": "code",
   "execution_count": 82,
   "metadata": {},
   "outputs": [],
   "source": [
    "transport_non_dst_diff.remove(max(transport_non_dst_diff))"
   ]
  },
  {
   "cell_type": "code",
   "execution_count": 83,
   "metadata": {},
   "outputs": [
    {
     "name": "stdout",
     "output_type": "stream",
     "text": [
      "70348 244\n"
     ]
    },
    {
     "data": {
      "text/plain": [
       "70997"
      ]
     },
     "execution_count": 83,
     "metadata": {},
     "output_type": "execute_result"
    }
   ],
   "source": [
    "#for dealing with outliers in non-DST data\n",
    "\n",
    "ones=0\n",
    "#tens=0\n",
    "#hundreds=0\n",
    "thousands=0\n",
    "for val in transport_non_dst_diff:\n",
    "    if abs(val) <10:\n",
    "        ones+=1\n",
    "    #if 10<=abs(val) <100:\n",
    "     #   tens+=1\n",
    "        # we remove all occurrences of the value if it's too large\n",
    "      #  transport_spring_high_diff = list(filter(lambda x: x != val, transport_spring_high_diff))\n",
    "    #if 100<= abs(val) <1000:\n",
    "     #   hundreds+=1\n",
    "      #  transport_spring_high_diff = list(filter(lambda x: x != val, transport_spring_high_diff))    \n",
    "    if 1000<= abs(val):\n",
    "        thousands+=1\n",
    "        transport_non_dst_diff = list(filter(lambda x: x != val, transport_non_dst_diff))\n",
    "\n",
    "print(ones,thousands)\n",
    "len(transport_non_dst_diff)\n"
   ]
  },
  {
   "cell_type": "code",
   "execution_count": 84,
   "metadata": {},
   "outputs": [
    {
     "name": "stdout",
     "output_type": "stream",
     "text": [
      "3108 15\n"
     ]
    },
    {
     "data": {
      "text/plain": [
       "3141"
      ]
     },
     "execution_count": 84,
     "metadata": {},
     "output_type": "execute_result"
    }
   ],
   "source": [
    "#for dealing with outliers in DST data\n",
    "\n",
    "ones=0\n",
    "#tens=0\n",
    "#hundreds=0\n",
    "thousands=0\n",
    "for val in transport_dst_diff:\n",
    "    if abs(val) <10:\n",
    "        ones+=1\n",
    "    #if 10<=abs(val) <100:\n",
    "     #   tens+=1\n",
    "        # we remove all occurrences of the value if it's too large\n",
    "      #  transport_spring_high_diff = list(filter(lambda x: x != val, transport_spring_high_diff))\n",
    "    #if 100<= abs(val) <1000:\n",
    "     #   hundreds+=1\n",
    "      #  transport_spring_high_diff = list(filter(lambda x: x != val, transport_spring_high_diff))    \n",
    "    if 1000<= abs(val):\n",
    "        thousands+=1\n",
    "        transport_dst_diff = list(filter(lambda x: x != val, transport_dst_diff))\n",
    "\n",
    "print(ones,thousands)\n",
    "len(transport_dst_diff)\n"
   ]
  },
  {
   "cell_type": "code",
   "execution_count": 85,
   "metadata": {},
   "outputs": [
    {
     "data": {
      "image/png": "[encoded data removed]",
      "text/plain": [
       "<Figure size 640x480 with 1 Axes>"
      ]
     },
     "metadata": {},
     "output_type": "display_data"
    }
   ],
   "source": [
    "# plotting the differences between open Friday and close Monday for DST and non-DST weekends\n",
    "# the bin widths are different because the spread is different between the two\n",
    "\n",
    "plt.hist(transport_non_dst_diff,color='r',bins=40,log=True,alpha=0.5, label='Non-DST Weekends')\n",
    "\n",
    "plt.hist(transport_dst_diff,color='b',bins=40,log=True,alpha=0.7, label='DST Weekends')\n",
    "\n",
    "plt.title('Log Difference between Open Friday before and Close Monday after Spring DST for Transportation Sector')\n",
    "plt.ylabel('Log Scale')\n",
    "plt.legend()\n",
    "plt.show()"
   ]
  },
  {
   "cell_type": "code",
   "execution_count": 86,
   "metadata": {},
   "outputs": [
    {
     "name": "stdout",
     "output_type": "stream",
     "text": [
      "641.9907466380351\n",
      "466.3270531909275\n",
      "0.22897130581047423\n",
      "0.2856911333483549\n",
      "0.0\n",
      "-0.016666889190670275\n"
     ]
    }
   ],
   "source": [
    "print(np.var(transport_non_dst_diff))\n",
    "print(np.var(transport_dst_diff))\n",
    "\n",
    "print(np.mean(transport_non_dst_diff))\n",
    "print(np.mean(transport_dst_diff))\n",
    "\n",
    "print(np.median(transport_non_dst_diff))\n",
    "print(np.median(transport_dst_diff))"
   ]
  },
  {
   "cell_type": "code",
   "execution_count": 91,
   "metadata": {},
   "outputs": [],
   "source": [
    "np.save('transport_non_dst_diff.npy',transport_non_dst_diff)\n",
    "np.save('transport_dst_diff.npy',transport_dst_diff)"
   ]
  },
  {
   "cell_type": "code",
   "execution_count": null,
   "metadata": {},
   "outputs": [],
   "source": []
  }
 ],
 "metadata": {
  "kernelspec": {
   "display_name": "erdos_fall_2024",
   "language": "python",
   "name": "python3"
  },
  "language_info": {
   "codemirror_mode": {
    "name": "ipython",
    "version": 3
   },
   "file_extension": ".py",
   "mimetype": "text/x-python",
   "name": "python",
   "nbconvert_exporter": "python",
   "pygments_lexer": "ipython3",
   "version": "3.12.5"
  }
 },
 "nbformat": 4,
 "nbformat_minor": 2
}
