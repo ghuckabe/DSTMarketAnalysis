{
 "cells": [
  {
   "cell_type": "markdown",
   "metadata": {},
   "source": [
    "# Initial WSP Data Exploration\n",
    "\n",
    "Looking at World Stock Price dataset."
   ]
  },
  {
   "cell_type": "code",
   "execution_count": 88,
   "metadata": {},
   "outputs": [],
   "source": [
    "import pandas as pd\n",
    "import numpy as np\n",
    "import zipfile\n",
    "import datetime\n",
    "import matplotlib.pyplot as plt\n",
    "import seaborn as sns\n",
    "from scipy.optimize import curve_fit\n",
    "from scipy import stats\n",
    "from seaborn import set_style\n",
    "set_style(\"whitegrid\")\n"
   ]
  },
  {
   "cell_type": "markdown",
   "metadata": {},
   "source": [
    "Some notes:\n",
    "\n",
    "Use seasonal average model for weekends minus daylight savings weekend to create model\n",
    "See how well the average predicts daylight savings weekends (null hypothesis is that there is no difference in regular weekends and daylight savings weekends)\n",
    "\n",
    "Try seasonal average model plus linear model to account for monthly changes plus changes over the years\n",
    "\n",
    "Use Time Series analysis\n",
    "\n",
    "Use sklearn with rest of dataset as features and open/close as predictor\n",
    "\n",
    "Look into using logistic regression for binary type data"
   ]
  },
  {
   "cell_type": "code",
   "execution_count": 48,
   "metadata": {},
   "outputs": [],
   "source": [
    "#Reads in DST dates\n",
    "dates = pd.read_csv('DaylightSavingsTimeChangeDates_1971-2024.csv')\n",
    "\n",
    "#Unzips file\n",
    "zf = zipfile.ZipFile('historical_stock_prices.csv.zip') \n",
    "\n",
    "#Reads in historical stock dataset\n",
    "metadata = pd.read_csv('historical_stocks.csv')\n",
    "stock_data = pd.read_csv(zf.open('historical_stock_prices.csv'))"
   ]
  },
  {
   "cell_type": "code",
   "execution_count": 49,
   "metadata": {
    "scrolled": true
   },
   "outputs": [],
   "source": [
    "#Set numpy Datetime as index\n",
    "\n",
    "stock_data['Date'] = pd.to_datetime(stock_data.date, utc=True).apply(lambda x: x.date())\n",
    "stock_data.drop('date', inplace=True, axis=1)\n",
    "stock_data.set_index('Date', inplace=True)\n",
    "stock_data.index = stock_data.index.astype('datetime64[ns]')"
   ]
  },
  {
   "cell_type": "code",
   "execution_count": 70,
   "metadata": {},
   "outputs": [],
   "source": [
    "#Create arrays of numpy Datetimes corresponding to DST dates\n",
    "\n",
    "dst_dates_spring = pd.to_datetime(dates.Date+\" \"+dates.Year.astype(str))\n",
    "dst_dates_fall = pd.to_datetime(dates['Date.1']+\" \"+dates.Year.astype(str))\n",
    "dst_mon_spring = dst_dates_spring+pd.DateOffset(1)\n",
    "dst_fri_spring = dst_dates_spring+pd.DateOffset(-2)\n",
    "dst_mon_fall = dst_dates_winter+pd.DateOffset(1)\n",
    "dst_fri_fall = dst_dates_winter+pd.DateOffset(-2)"
   ]
  },
  {
   "cell_type": "code",
   "execution_count": 51,
   "metadata": {},
   "outputs": [],
   "source": [
    "#Create boolean columns to denote DST dates, DST fall dates, DST spring dates, Mondays, and Fridays\n",
    "\n",
    "stock_data['IS_MON'] = stock_data.index.day_of_week==0\n",
    "stock_data['IS_FRI'] = stock_data.index.day_of_week==4\n",
    "\n",
    "stock_data['IS_DST'] = stock_data.index.isin(pd.concat([dst_mon_spring, dst_fri_spring, dst_mon_fall, dst_fri_fall]))\n",
    "stock_data['IS_FALL'] = stock_data.index.isin(pd.concat([dst_mon_fall, dst_fri_fall]))\n",
    "stock_data['IS_SPRING'] = stock_data.index.isin(pd.concat([dst_mon_spring, dst_fri_spring]))"
   ]
  },
  {
   "cell_type": "code",
   "execution_count": 52,
   "metadata": {},
   "outputs": [],
   "source": [
    "#Create arrays of tickers separated by sectors (only considering top 4 sectors)\n",
    "\n",
    "sectors = metadata.sector.unique()\n",
    "\n",
    "fin_ticks = metadata[metadata.sector == 'FINANCE'].ticker\n",
    "con_ticks = metadata[metadata.sector == 'CONSUMER SERVICES'].ticker\n",
    "health_ticks = metadata[metadata.sector == 'HEALTH CARE'].ticker\n",
    "tech_ticks = metadata[metadata.sector == 'TECHNOLOGY'].ticker"
   ]
  },
  {
   "cell_type": "code",
   "execution_count": 53,
   "metadata": {},
   "outputs": [],
   "source": [
    "#Sets aside Dataframes specific to each sector of interest\n",
    "\n",
    "finance = stock_data.loc[stock_data.ticker.isin(fin_ticks.values)]\n",
    "conservices = stock_data.loc[stock_data.ticker.isin(con_ticks.values)]\n",
    "healthcare = stock_data.loc[stock_data.ticker.isin(health_ticks.values)]\n",
    "tech = stock_data.loc[stock_data.ticker.isin(tech_ticks.values)]"
   ]
  },
  {
   "cell_type": "code",
   "execution_count": 54,
   "metadata": {},
   "outputs": [],
   "source": [
    "#Some market values to track\n",
    "\n",
    "def daily_return(df, date): #takes dataframe and datetime64[ns]\n",
    "    assert type(date) == 'datetime64', \"date must be datetime64[ns] object\"\n",
    "    assert df.index.inferred_type == 'datetime64', \"df must have a datetime64[ns] index\"\n",
    "    close_price = df.loc[date, 'close']\n",
    "    open_price = df.loc[date, 'open']\n",
    "    return close_price-open_price\n",
    "\n",
    "def daily_percent_return(df, date): #takes dataframe and datetime64[ns]\n",
    "    assert type(date) == 'datetime64', \"date must be datetime64[ns] object\"\n",
    "    assert df.index.inferred_type == 'datetime64', \"df must have a datetime64[ns] index\"\n",
    "    close_price = df.loc[date, 'close']\n",
    "    open_price = df.loc[date, 'open']\n",
    "    return (close_price-open_price)/open_price\n",
    "\n",
    "def weekend_effect(df): #df is DataFrame for one ticker, with IS_FRI and IS_MON columns\n",
    "    #assert type(date) == 'datetime64', \"date must be datetime64[ns] object\"\n",
    "    assert df.index.inferred_type == 'datetime64', \"df must have a datetime64[ns] index\" \n",
    "    fri_close = df.loc[df.IS_FRI].close\n",
    "    mon_open = df.loc[fri_close.index+pd.DateOffset(3)].open\n",
    "    return fri_close.to_numpy() - mon_open.to_numpy(), (fri_close.to_numpy() - mon_open.to_numpy())/fri_close.to_numpy(), fri_close.index+pd.DateOffset(2) #returns (price difference, percent difference)\n",
    "\n",
    "def hl_variability(df):\n",
    "    assert df.index.inferred_type == 'datetime64', \"df must have a datetime64[ns] index\" \n",
    "    dates = df.loc[df.IS_FRI].low.index\n",
    "    fri_hl = df.loc[df.IS_FRI].high - df.loc[df.IS_FRI].low\n",
    "    mon_hl = df.loc[dates+pd.DateOffset(3)].high - df.loc[dates+pd.DateOffset(3)].low\n",
    "    return mon_hl.values, fri_hl.values, dates+pd.DateOffset(2) #returns (price difference, percent difference)\n",
    "    "
   ]
  },
  {
   "cell_type": "code",
   "execution_count": 55,
   "metadata": {},
   "outputs": [],
   "source": [
    "#Data preprocessing for descriptive statistics (may not be applicable to time dependent processing)\n",
    "\n",
    "dataset = pd.DataFrame()\n",
    "\n",
    "for tk in fin_ticks:\n",
    "    #Select a single stock from full dataset\n",
    "    tk_set = finance.loc[finance.ticker == tk]\n",
    "    \n",
    "    #For all Fridays in the subset, find the date of the next Monday\n",
    "    mon_offset = tk_set.loc[tk_set['IS_FRI']].index+pd.DateOffset(3)\n",
    "    \n",
    "    #Create subsubset of subset that only includes Mondays with a corresponding Friday\n",
    "    mondays = tk_set.loc[mon_offset.unique()[mon_offset.unique().isin(tk_set.index)].strftime('%Y-%m-%d')]\n",
    "    \n",
    "    #Create subsubset of subset that only includes the Fridays that correspond to the above Mondays\n",
    "    fridays = tk_set.loc[(mondays.index.unique()+pd.DateOffset(-3))]\n",
    "    \n",
    "    #Alter subset to include all Tues-Thurs, and only those Mondays and Fridays which come in pairs\n",
    "    tk_set = tk_set[((tk_set.IS_MON==False) & (tk_set.IS_FRI==False)) | (tk_set.index.isin(mondays.index)) | (tk_set.index.isin(fridays.index))]\n",
    "    \n",
    "    #Eliminate repeat data (data was taken twice for some stocks on certain days)\n",
    "    tk_set = tk_set.loc[~tk_set.index.duplicated()]\n",
    "    \n",
    "    dataset = pd.concat([dataset, tk_set]).sort_index(ascending=False)\n",
    "    \n",
    "finance = dataset"
   ]
  },
  {
   "cell_type": "code",
   "execution_count": 56,
   "metadata": {},
   "outputs": [],
   "source": [
    "#Same treatment for consumer services, health care, and finance\n",
    "#Data preprocessing for descriptive statistics (may not be applicable to time dependent processing)\n",
    "\n",
    "dataset = pd.DataFrame()\n",
    "\n",
    "for tk in con_ticks:\n",
    "    #Select a single stock from full dataset\n",
    "    tk_set = conservices.loc[conservices.ticker == tk]\n",
    "    \n",
    "    #For all Fridays in the subset, find the date of the next Monday\n",
    "    mon_offset = tk_set.loc[tk_set['IS_FRI']].index+pd.DateOffset(3)\n",
    "    \n",
    "    #Create subsubset of subset that only includes Mondays with a corresponding Friday\n",
    "    mondays = tk_set.loc[mon_offset.unique()[mon_offset.unique().isin(tk_set.index)].strftime('%Y-%m-%d')]\n",
    "    \n",
    "    #Create subsubset of subset that only includes the Fridays that correspond to the above Mondays\n",
    "    fridays = tk_set.loc[(mondays.index.unique()+pd.DateOffset(-3))]\n",
    "    \n",
    "    #Alter subset to include all Tues-Thurs, and only those Mondays and Fridays which come in pairs\n",
    "    tk_set = tk_set[((tk_set.IS_MON==False) & (tk_set.IS_FRI==False)) | (tk_set.index.isin(mondays.index)) | (tk_set.index.isin(fridays.index))]\n",
    "    \n",
    "    #Eliminate repeat data (data was taken twice for some stocks on certain days)\n",
    "    tk_set = tk_set.loc[~tk_set.index.duplicated()]\n",
    "    \n",
    "    dataset = pd.concat([dataset, tk_set]).sort_index(ascending=False)\n",
    "    \n",
    "conservices = dataset\n",
    "\n",
    "dataset = pd.DataFrame()\n",
    "\n",
    "for tk in health_ticks:\n",
    "    #Select a single stock from full dataset\n",
    "    tk_set = healthcare.loc[healthcare.ticker == tk]\n",
    "    \n",
    "    #For all Fridays in the subset, find the date of the next Monday\n",
    "    mon_offset = tk_set.loc[tk_set['IS_FRI']].index+pd.DateOffset(3)\n",
    "    \n",
    "    #Create subsubset of subset that only includes Mondays with a corresponding Friday\n",
    "    mondays = tk_set.loc[mon_offset.unique()[mon_offset.unique().isin(tk_set.index)].strftime('%Y-%m-%d')]\n",
    "    \n",
    "    #Create subsubset of subset that only includes the Fridays that correspond to the above Mondays\n",
    "    fridays = tk_set.loc[(mondays.index.unique()+pd.DateOffset(-3))]\n",
    "    \n",
    "    #Alter subset to include all Tues-Thurs, and only those Mondays and Fridays which come in pairs\n",
    "    tk_set = tk_set[((tk_set.IS_MON==False) & (tk_set.IS_FRI==False)) | (tk_set.index.isin(mondays.index)) | (tk_set.index.isin(fridays.index))]\n",
    "    \n",
    "    #Eliminate repeat data (data was taken twice for some stocks on certain days)\n",
    "    tk_set = tk_set.loc[~tk_set.index.duplicated()]\n",
    "    \n",
    "    dataset = pd.concat([dataset, tk_set]).sort_index(ascending=False)\n",
    "    \n",
    "healthcare = dataset\n",
    "\n",
    "dataset = pd.DataFrame()\n",
    "\n",
    "for tk in tech_ticks:\n",
    "    #Select a single stock from full dataset\n",
    "    tk_set = tech.loc[tech.ticker == tk]\n",
    "    \n",
    "    #For all Fridays in the subset, find the date of the next Monday\n",
    "    mon_offset = tk_set.loc[tk_set['IS_FRI']].index+pd.DateOffset(3)\n",
    "    \n",
    "    #Create subsubset of subset that only includes Mondays with a corresponding Friday\n",
    "    mondays = tk_set.loc[mon_offset.unique()[mon_offset.unique().isin(tk_set.index)].strftime('%Y-%m-%d')]\n",
    "    \n",
    "    #Create subsubset of subset that only includes the Fridays that correspond to the above Mondays\n",
    "    fridays = tk_set.loc[(mondays.index.unique()+pd.DateOffset(-3))]\n",
    "    \n",
    "    #Alter subset to include all Tues-Thurs, and only those Mondays and Fridays which come in pairs\n",
    "    tk_set = tk_set[((tk_set.IS_MON==False) & (tk_set.IS_FRI==False)) | (tk_set.index.isin(mondays.index)) | (tk_set.index.isin(fridays.index))]\n",
    "    \n",
    "    #Eliminate repeat data (data was taken twice for some stocks on certain days)\n",
    "    tk_set = tk_set.loc[~tk_set.index.duplicated()]\n",
    "    \n",
    "    dataset = pd.concat([dataset, tk_set]).sort_index(ascending=False)\n",
    "    \n",
    "tech = dataset"
   ]
  },
  {
   "cell_type": "code",
   "execution_count": 57,
   "metadata": {},
   "outputs": [],
   "source": [
    "#wk = []\n",
    "i=0\n",
    "wt = pd.DataFrame()\n",
    "cs = pd.DataFrame()\n",
    "hc = pd.DataFrame()\n",
    "tc = pd.DataFrame()\n",
    "\n",
    "for tk in fin_ticks:\n",
    "    #print(tk)\n",
    "    #wk.append(weekend_effect(finance.loc[finance.ticker == tk]))\n",
    "    price_change, percent, date = weekend_effect(finance.loc[finance.ticker == tk])\n",
    "    m_hl, f_hl, d_hl = hl_variability(finance.loc[finance.ticker == tk])\n",
    "    tmp = pd.DataFrame({'Date':date,'Price_Change':price_change, 'Percent_Change':percent, 'Mon_HL_Diff':m_hl, 'Fri_HL_Diff':f_hl, \"Ticker\":np.full(percent.shape, tk)})\n",
    "    #df['col'] = pd.Series('hello', index=df.index, dtype='category')\n",
    "    wt = pd.concat([wt, tmp])\n",
    "    i+=1\n",
    "\n",
    "for tk in con_ticks:\n",
    "    #print(tk)\n",
    "    #wk.append(weekend_effect(finance.loc[finance.ticker == tk]))\n",
    "    price_change, percent, date = weekend_effect(conservices.loc[conservices.ticker == tk])\n",
    "    m_hl, f_hl, d_hl = hl_variability(conservices.loc[conservices.ticker == tk])\n",
    "    tmp = pd.DataFrame({'Date':date,'Price_Change':price_change, 'Percent_Change':percent, 'Mon_HL_Diff':m_hl, 'Fri_HL_Diff':f_hl, \"Ticker\":np.full(percent.shape, tk)})\n",
    "    #df['col'] = pd.Series('hello', index=df.index, dtype='category')\n",
    "    cs = pd.concat([cs, tmp])\n",
    "    i+=1\n",
    "\n",
    "for tk in health_ticks:\n",
    "    #print(tk)\n",
    "    #wk.append(weekend_effect(finance.loc[finance.ticker == tk]))\n",
    "    price_change, percent, date = weekend_effect(healthcare.loc[healthcare.ticker == tk])\n",
    "    m_hl, f_hl, d_hl = hl_variability(healthcare.loc[healthcare.ticker == tk])\n",
    "    tmp = pd.DataFrame({'Date':date,'Price_Change':price_change, 'Percent_Change':percent, 'Mon_HL_Diff':m_hl, 'Fri_HL_Diff':f_hl, \"Ticker\":np.full(percent.shape, tk)})\n",
    "    #df['col'] = pd.Series('hello', index=df.index, dtype='category')\n",
    "    hc = pd.concat([hc, tmp])\n",
    "    i+=1\n",
    "\n",
    "for tk in tech_ticks:\n",
    "    #print(tk)\n",
    "    #wk.append(weekend_effect(finance.loc[finance.ticker == tk]))\n",
    "    price_change, percent, date = weekend_effect(tech.loc[tech.ticker == tk])\n",
    "    m_hl, f_hl, d_hl = hl_variability(tech.loc[tech.ticker == tk])\n",
    "    tmp = pd.DataFrame({'Date':date,'Price_Change':price_change, 'Percent_Change':percent, 'Mon_HL_Diff':m_hl, 'Fri_HL_Diff':f_hl, \"Ticker\":np.full(percent.shape, tk)})\n",
    "    #df['col'] = pd.Series('hello', index=df.index, dtype='category')\n",
    "    tc = pd.concat([tc, tmp])\n",
    "    i+=1"
   ]
  },
  {
   "cell_type": "code",
   "execution_count": 112,
   "metadata": {},
   "outputs": [],
   "source": [
    "#Adds IS_DST columns into weekend data\n",
    "\n",
    "wt['IS_DST'] = wt.Date.isin(pd.concat([dst_dates_spring, dst_dates_winter]))\n",
    "cs['IS_DST'] = cs.Date.isin(pd.concat([dst_dates_spring, dst_dates_winter]))\n",
    "hc['IS_DST'] = hc.Date.isin(pd.concat([dst_dates_spring, dst_dates_winter]))\n",
    "tc['IS_DST'] = tc.Date.isin(pd.concat([dst_dates_spring, dst_dates_winter]))"
   ]
  },
  {
   "cell_type": "code",
   "execution_count": 81,
   "metadata": {},
   "outputs": [],
   "source": [
    "#Adds IS_FALL and IS_SPRING bools into weekend data\n",
    "\n",
    "wt['IS_FALL'] = wt.Date.isin(dst_dates_fall)\n",
    "wt['IS_SPRING'] = wt.Date.isin(dst_dates_spring)\n",
    "\n",
    "cs['IS_FALL'] = cs.Date.isin(dst_dates_fall)\n",
    "cs['IS_SPRING'] = cs.Date.isin(dst_dates_spring)\n",
    "\n",
    "hc['IS_FALL'] = hc.Date.isin(dst_dates_fall)\n",
    "hc['IS_SPRING'] = hc.Date.isin(dst_dates_spring)\n",
    "\n",
    "tc['IS_FALL'] = tc.Date.isin(dst_dates_fall)\n",
    "tc['IS_SPRING'] = tc.Date.isin(dst_dates_spring)"
   ]
  },
  {
   "cell_type": "code",
   "execution_count": 142,
   "metadata": {},
   "outputs": [
    {
     "name": "stdout",
     "output_type": "stream",
     "text": [
      "Fall DST mean is 0.0024387879483590276+/-0.0012870524375240364\n",
      "Spring DST mean is 0.0011017058018877777+/-0.001152712771485811\n",
      "Regular mean is 0.0002571740587318255+/-0.00022911970515549987\n"
     ]
    }
   ],
   "source": [
    "#Check with Wells Fargo data\n",
    "\n",
    "fN = wt.loc[(wt.Ticker == 'WFC')&(wt.IS_FALL == True)].Percent_Change.shape[0]\n",
    "wfc_fdst_mean = wt.loc[(wt.Ticker == 'WFC')&(wt.IS_FALL == True)].Percent_Change.mean()\n",
    "wfc_fdst_std = wt.loc[(wt.Ticker == 'WFC')&(wt.IS_FALL == True)].Percent_Change.std()\n",
    "wfc_fdst_meanstd = wt.loc[(wt.Ticker == 'WFC')&(wt.IS_FALL == True)].Percent_Change.std()/np.sqrt(fN)\n",
    "print(\"Fall DST mean is \"+str(wfc_fdst_mean)+\"+/-\"+str(wfc_fdst_meanstd))\n",
    "\n",
    "sN = wt.loc[(wt.Ticker == 'WFC')&(wt.IS_SPRING == True)].Percent_Change.shape[0]\n",
    "wfc_sdst_mean = wt.loc[(wt.Ticker == 'WFC')&(wt.IS_SPRING == True)].Percent_Change.mean()\n",
    "wfc_sdst_std = wt.loc[(wt.Ticker == 'WFC')&(wt.IS_SPRING == True)].Percent_Change.std()\n",
    "wfc_sdst_meanstd = wt.loc[(wt.Ticker == 'WFC')&(wt.IS_SPRING == True)].Percent_Change.std()/np.sqrt(sN)\n",
    "print(\"Spring DST mean is \"+str(wfc_sdst_mean)+\"+/-\"+str(wfc_sdst_meanstd))\n",
    "\n",
    "nN = wt.loc[(wt.Ticker == 'WFC')&(wt.IS_DST == False)].Percent_Change.shape[0]\n",
    "wfc_reg_mean = wt.loc[(wt.Ticker == 'WFC')&(wt.IS_DST == False)].Percent_Change.mean()\n",
    "wfc_reg_std = wt.loc[(wt.Ticker == 'WFC')&(wt.IS_DST == False)].Percent_Change.std()\n",
    "wfc_reg_meanstd = wt.loc[(wt.Ticker == 'WFC')&(wt.IS_DST == False)].Percent_Change.std()/np.sqrt(nN)\n",
    "print(\"Regular mean is \"+str(wfc_reg_mean)+\"+/-\"+str(wfc_reg_meanstd))"
   ]
  },
  {
   "cell_type": "code",
   "execution_count": 147,
   "metadata": {},
   "outputs": [
    {
     "data": {
      "text/plain": [
       "<matplotlib.legend.Legend at 0x12d484290>"
      ]
     },
     "execution_count": 147,
     "metadata": {},
     "output_type": "execute_result"
    },
    {
     "data": {
      "image/png": "[encoded data removed]",
      "text/plain": [
       "<Figure size 640x480 with 1 Axes>"
      ]
     },
     "metadata": {},
     "output_type": "display_data"
    }
   ],
   "source": [
    "#Distribution plot\n",
    "\n",
    "# define your distributions\n",
    "d1 = stats.norm(wfc_fdst_mean, wfc_fdst_std)\n",
    "d2 = stats.norm(wfc_reg_mean, wfc_reg_std)\n",
    "d3 = stats.norm(wfc_sdst_mean, wfc_sdst_std)\n",
    "\n",
    "# where to evaluate the densities\n",
    "x = np.linspace(-0.05, 0.05, 501)\n",
    "# calculate density and apply mixture weights\n",
    "c1 = d1.pdf(x)\n",
    "c2 = d2.pdf(x)\n",
    "c3 = d3.pdf(x)\n",
    "\n",
    "# plot everything\n",
    "plt.plot(x, c1, label='Fall DST WFC')\n",
    "plt.plot(x, c2, label='Regular WFC')\n",
    "plt.plot(x, c3, label='Spring DST WFC')\n",
    "plt.xlabel(\"Percent Change\")\n",
    "plt.ylabel(\"Normalized Frequency\")\n",
    "plt.title(\"Wells Fargo % Difference Distributions\")\n",
    "plt.legend()"
   ]
  },
  {
   "cell_type": "code",
   "execution_count": 148,
   "metadata": {},
   "outputs": [],
   "source": [
    "#Gaussian defined for fitting purposes\n",
    "\n",
    "def gaussian(x, A, x0, sigma): \n",
    "    return A * np.exp(-(x - x0) ** 2 / (2 * sigma ** 2))"
   ]
  },
  {
   "cell_type": "code",
   "execution_count": 160,
   "metadata": {},
   "outputs": [],
   "source": [
    "#Gaussian fit test with Wells Fargo data\n",
    "\n",
    "test_data = wt.loc[wt.Ticker == 'WFC']\n",
    "\n",
    "reg_set = test_data.loc[~test_data.IS_DST].Percent_Change.values\n",
    "r_bin_width = 2*stats.iqr(reg_set)*(len(reg_set))**(-1/3)\n",
    "reg_wkend, x_vals = np.histogram(reg_set, bins = int((np.amax(reg_set)-np.amin(reg_set))/r_bin_width), range=(np.amin(reg_set), np.amax(reg_set)), density=True)\n",
    "x_vals = x_vals[:-1]+(x_vals[1:]-x_vals[:-1])/2\n",
    "r_bin_err = r_bin_width/2\n",
    "\n",
    "dst_set = test_data.loc[test_data.IS_FALL].Percent_Change.values\n",
    "d_bin_width = 2*stats.iqr(dst_set)*(len(dst_set))**(-1/3)\n",
    "dst_wkend, dst_x_vals = np.histogram(dst_set, bins = int((np.amax(dst_set)-np.amin(dst_set))/d_bin_width), range=(np.amin(dst_set), np.amax(dst_set)), density=True)\n",
    "dst_x_vals = dst_x_vals[:-1]+(dst_x_vals[1:]-dst_x_vals[:-1])/2\n",
    "d_bin_err=d_bin_width/2\n",
    "\n",
    "reg_parms, reg_cov = curve_fit(gaussian, x_vals, reg_wkend, p0=(np.amax(reg_wkend), 0, stats.iqr(reg_set)/2), sigma = r_bin_err+np.sqrt(reg_wkend))\n",
    "dst_parms, dst_cov = curve_fit(gaussian, dst_x_vals, dst_wkend, p0=(np.amax(dst_wkend), 0, stats.iqr(dst_set)/2), sigma = d_bin_err+np.sqrt(dst_wkend))"
   ]
  },
  {
   "cell_type": "code",
   "execution_count": 154,
   "metadata": {},
   "outputs": [
    {
     "name": "stderr",
     "output_type": "stream",
     "text": [
      "/var/folders/jc/xvqs4hmj339bc_532ktftc6w0000gn/T/ipykernel_91429/3243233558.py:21: UserWarning: FigureCanvasAgg is non-interactive, and thus cannot be shown\n",
      "  test_fig.show()\n"
     ]
    },
    {
     "data": {
      "image/png": "[encoded data removed]",
      "text/plain": [
       "<Figure size 640x480 with 1 Axes>"
      ]
     },
     "metadata": {},
     "output_type": "display_data"
    }
   ],
   "source": [
    "#Plotting Gaussian fit results for WFC\n",
    "\n",
    "x_fit = np.linspace(x_vals[0], x_vals[-1], 1000)\n",
    "fit_y = gaussian(x_fit, *reg_parms)\n",
    "dst_fit_y = gaussian(x_fit, *dst_parms)\n",
    "#fit_y = stats.norm(loc = reg_parms[1], scale = reg_parms[2])\n",
    "#dst_fit_y = stats.norm(loc = dst_parms[1], scale = dst_parms[2])\n",
    "\n",
    "test_fig, test_ax = plt.subplots(nrows=1, ncols=1)#, figsize=(15, 12))\n",
    "test_ax.plot(x_fit, fit_y, color='blue')\n",
    "test_ax.scatter(x_vals, reg_wkend, color='blue', alpha=0.3)\n",
    "test_ax.vlines(reg_parms[1], 0, np.amax(reg_wkend), color='blue', linestyles='dashed', label='Non-DST Mean')\n",
    "test_ax.plot(x_fit, dst_fit_y, color='orange')\n",
    "test_ax.scatter(dst_x_vals, dst_wkend, color='orange', alpha=1)\n",
    "test_ax.vlines(dst_parms[1], 0, np.amax(reg_wkend), color='orange', linestyles='dashed', label='DST Mean')\n",
    "test_ax.set_xlim(-0.05, 0.05)\n",
    "test_ax.set_title('DST vs Non-DST Weekend Effect')\n",
    "test_ax.set_ylabel('Frequency')\n",
    "test_ax.set_xlabel('Percent Change, Fri Close to Mon Open')\n",
    "test_ax.legend()\n",
    "test_fig.show()\n"
   ]
  },
  {
   "cell_type": "code",
   "execution_count": 156,
   "metadata": {},
   "outputs": [
    {
     "name": "stdout",
     "output_type": "stream",
     "text": [
      "Z-score is 0.015282149031097652\n",
      "p-value is 0.9878070838312754\n"
     ]
    }
   ],
   "source": [
    "#Z score for 2-tailed Gaussian test\n",
    "\n",
    "z_score = (dst_parms[1] - reg_parms[1])/np.sqrt(reg_parms[2]**2/np.sum(reg_set)+dst_parms[2]**2/np.sum(dst_set))\n",
    "print('Z-score is '+str(z_score))\n",
    "\n",
    "cdf = stats.norm.cdf(z_score,0,1)\n",
    "\n",
    "if cdf>0.5:\n",
    "    pvalue_2t = 2*(1-cdf)\n",
    "else :\n",
    "    pvalue_2t=2*(cdf)\n",
    "\n",
    "print('p-value is '+str(pvalue_2t))"
   ]
  },
  {
   "cell_type": "code",
   "execution_count": 157,
   "metadata": {},
   "outputs": [
    {
     "name": "stdout",
     "output_type": "stream",
     "text": [
      "Z-score is 1.6688099555562987\n",
      "p-value is 0.0951550490839217\n"
     ]
    }
   ],
   "source": [
    "#dist = stats.norm(loc=reg_parms[1], scale=np.sqrt(reg_parms[2]**2+dst_parms[2]**2)) #mean of 0 for zero difference between DST and regular, spread of each Gaussian fit added in quadrature\n",
    "#z_score = np.sqrt(np.sum(reg_wkend))*(dst_parms[1] - reg_parms[1])/(reg_parms[2])\n",
    "z_score = (wfc_fdst_mean - wfc_reg_mean)/np.sqrt(wfc_fdst_meanstd**2+wfc_reg_meanstd**2)\n",
    "print('Z-score is '+str(z_score))\n",
    "\n",
    "cdf = stats.norm.cdf(z_score,0,1)\n",
    "\n",
    "if cdf>0.5:\n",
    "    pvalue_2t = 2*(1-cdf)\n",
    "else :\n",
    "    pvalue_2t=2*(cdf)\n",
    "\n",
    "print('p-value is '+str(pvalue_2t))"
   ]
  },
  {
   "cell_type": "code",
   "execution_count": 173,
   "metadata": {},
   "outputs": [
    {
     "name": "stdout",
     "output_type": "stream",
     "text": [
      "T-value is -1.668809955556299 and p value of t-test is 0.10168000225137255\n"
     ]
    }
   ],
   "source": [
    "wfc_tt = stats.ttest_ind(reg_set, dst_set, equal_var=False, nan_policy='omit')\n",
    "print(\"T-value is \"+str(wfc_tt[0])+\" and p value of t-test is \"+str(wfc_tt[1]))"
   ]
  },
  {
   "cell_type": "code",
   "execution_count": 159,
   "metadata": {},
   "outputs": [
    {
     "data": {
      "text/plain": [
       "'\\nsignificance_array=pd.DataFrame()\\nempty=[]\\n\\nfor tk in fin_ticks:\\n    print(tk)\\n    \\n    tk_data = wt.loc[wt.Ticker == tk]\\n    \\n    #histogram for non-DST weekends\\n    reg_set = tk_data.loc[~tk_data.IS_DST].Percent_Change.values\\n    if len(reg_set)==0:\\n        print(\"reg_set for \"+str(tk)+\" is empty\")\\n        empty.append(tk)\\n        continue\\n    r_bin_width = 2*stats.iqr(reg_set)*(len(reg_set))**(-1/3) #Optimal bin width via Freedman-Diaconis rule\\n    if r_bin_width <=0:\\n        print(\"bin error for \"+str(tk))\\n        empty.append(tk)\\n        continue\\n    reg_wkend, x_vals = np.histogram(reg_set, bins = int((np.amax(reg_set)-np.amin(reg_set))/r_bin_width), range=(np.amin(reg_set), np.amax(reg_set)), density=True)\\n    x_vals = x_vals[:-1]+(x_vals[1:]-x_vals[:-1])/2 #Middle values of bins\\n    if ~np.all(np.isfinite(reg_wkend)) and ~np.all(np.isfinite(reg_x_vals)):\\n        print(\"histogram for \"+str(tk)+\" has nans/infs\")\\n        empty.append(tk)\\n        continue\\n    if len(x_vals)<3:\\n        print(\"Not enough data to fit for \"+str(tk))\\n        empty.append(tk)\\n        continue\\n    r_bin_err = r_bin_width/2 #X error set to half bin width\\n    \\n    #histogram for DST weekends\\n    dst_set = tk_data.loc[tk_data.IS_DST].Percent_Change.values\\n    if len(dst_set)==0:\\n        print(\"dst_set for \"+str(tk)+\" is empty\")\\n        empty.append(tk)\\n        continue\\n    d_bin_width = 2*stats.iqr(dst_set)*(len(dst_set))**(-1/3) #Optimal bin width via Freedman-Diaconis rule\\n    if d_bin_width <=0:\\n        print(\"bin error for \"+str(tk))\\n        empty.append(tk)\\n        continue\\n    dst_wkend, dst_x_vals = np.histogram(dst_set, bins = int((np.amax(dst_set)-np.amin(dst_set))/d_bin_width), range=(np.amin(dst_set), np.amax(dst_set)), density=True)\\n    dst_x_vals = dst_x_vals[:-1]+(dst_x_vals[1:]-dst_x_vals[:-1])/2 #Middle values of bins\\n    if ~np.all(np.isfinite(dst_wkend)) and ~np.all(np.isfinite(dst_x_vals)):\\n        print(\"histogram for \"+str(tk)+\" has nans/infs\")\\n        empty.append(tk)\\n        continue\\n    if len(dst_x_vals)<3:\\n        print(\"Not enough data to fit for \"+str(tk))\\n        empty.append(tk)\\n        continue\\n    d_bin_err=d_bin_width/2 #X error set to half bin width\\n    \\n    #non-DST Gaussian fit, error set to bin_err+sqrt(N)\\n    reg_parms, reg_cov = curve_fit(gaussian, x_vals, reg_wkend, p0=(np.amax(reg_wkend), 0, stats.iqr(reg_set)/2), sigma = r_bin_err+np.sqrt(reg_wkend))\\n    \\n    #DST Gaussian fit, error set to bin_err+sqrt(N)\\n    dst_parms, dst_cov = curve_fit(gaussian, dst_x_vals, dst_wkend, p0=(np.amax(dst_wkend), 0, stats.iqr(dst_set)/2), sigma = d_bin_err+np.sqrt(dst_wkend))\\n    \\n    z_score = (dst_parms[1] - reg_parms[1])/np.sqrt(reg_parms[2]**2+dst_parms[2]**2)\\n    if z_score<0:\\n        p_val = stats.norm(loc=0, scale=1).cdf(z_score)\\n    else:\\n        p_val = 1-stats.norm(loc=0, scale=1).cdf(z_score)\\n    \\n    significance_array = pd.concat([significance_array, pd.DataFrame([{\"Ticker\":tk, \"p_value\":p_val, \"z_score\":z_score}])])\\n    \\n    '"
      ]
     },
     "execution_count": 159,
     "metadata": {},
     "output_type": "execute_result"
    }
   ],
   "source": [
    "#Fitting Gaussian to all data\n",
    "\n",
    "'''\n",
    "significance_array=pd.DataFrame()\n",
    "empty=[]\n",
    "\n",
    "for tk in fin_ticks:\n",
    "    print(tk)\n",
    "    \n",
    "    tk_data = wt.loc[wt.Ticker == tk]\n",
    "    \n",
    "    #histogram for non-DST weekends\n",
    "    reg_set = tk_data.loc[~tk_data.IS_DST].Percent_Change.values\n",
    "    if len(reg_set)==0:\n",
    "        print(\"reg_set for \"+str(tk)+\" is empty\")\n",
    "        empty.append(tk)\n",
    "        continue\n",
    "    r_bin_width = 2*stats.iqr(reg_set)*(len(reg_set))**(-1/3) #Optimal bin width via Freedman-Diaconis rule\n",
    "    if r_bin_width <=0:\n",
    "        print(\"bin error for \"+str(tk))\n",
    "        empty.append(tk)\n",
    "        continue\n",
    "    reg_wkend, x_vals = np.histogram(reg_set, bins = int((np.amax(reg_set)-np.amin(reg_set))/r_bin_width), range=(np.amin(reg_set), np.amax(reg_set)), density=True)\n",
    "    x_vals = x_vals[:-1]+(x_vals[1:]-x_vals[:-1])/2 #Middle values of bins\n",
    "    if ~np.all(np.isfinite(reg_wkend)) and ~np.all(np.isfinite(reg_x_vals)):\n",
    "        print(\"histogram for \"+str(tk)+\" has nans/infs\")\n",
    "        empty.append(tk)\n",
    "        continue\n",
    "    if len(x_vals)<3:\n",
    "        print(\"Not enough data to fit for \"+str(tk))\n",
    "        empty.append(tk)\n",
    "        continue\n",
    "    r_bin_err = r_bin_width/2 #X error set to half bin width\n",
    "    \n",
    "    #histogram for DST weekends\n",
    "    dst_set = tk_data.loc[tk_data.IS_DST].Percent_Change.values\n",
    "    if len(dst_set)==0:\n",
    "        print(\"dst_set for \"+str(tk)+\" is empty\")\n",
    "        empty.append(tk)\n",
    "        continue\n",
    "    d_bin_width = 2*stats.iqr(dst_set)*(len(dst_set))**(-1/3) #Optimal bin width via Freedman-Diaconis rule\n",
    "    if d_bin_width <=0:\n",
    "        print(\"bin error for \"+str(tk))\n",
    "        empty.append(tk)\n",
    "        continue\n",
    "    dst_wkend, dst_x_vals = np.histogram(dst_set, bins = int((np.amax(dst_set)-np.amin(dst_set))/d_bin_width), range=(np.amin(dst_set), np.amax(dst_set)), density=True)\n",
    "    dst_x_vals = dst_x_vals[:-1]+(dst_x_vals[1:]-dst_x_vals[:-1])/2 #Middle values of bins\n",
    "    if ~np.all(np.isfinite(dst_wkend)) and ~np.all(np.isfinite(dst_x_vals)):\n",
    "        print(\"histogram for \"+str(tk)+\" has nans/infs\")\n",
    "        empty.append(tk)\n",
    "        continue\n",
    "    if len(dst_x_vals)<3:\n",
    "        print(\"Not enough data to fit for \"+str(tk))\n",
    "        empty.append(tk)\n",
    "        continue\n",
    "    d_bin_err=d_bin_width/2 #X error set to half bin width\n",
    "    \n",
    "    #non-DST Gaussian fit, error set to bin_err+sqrt(N)\n",
    "    reg_parms, reg_cov = curve_fit(gaussian, x_vals, reg_wkend, p0=(np.amax(reg_wkend), 0, stats.iqr(reg_set)/2), sigma = r_bin_err+np.sqrt(reg_wkend))\n",
    "    \n",
    "    #DST Gaussian fit, error set to bin_err+sqrt(N)\n",
    "    dst_parms, dst_cov = curve_fit(gaussian, dst_x_vals, dst_wkend, p0=(np.amax(dst_wkend), 0, stats.iqr(dst_set)/2), sigma = d_bin_err+np.sqrt(dst_wkend))\n",
    "    \n",
    "    z_score = (dst_parms[1] - reg_parms[1])/np.sqrt(reg_parms[2]**2+dst_parms[2]**2)\n",
    "    if z_score<0:\n",
    "        p_val = stats.norm(loc=0, scale=1).cdf(z_score)\n",
    "    else:\n",
    "        p_val = 1-stats.norm(loc=0, scale=1).cdf(z_score)\n",
    "    \n",
    "    significance_array = pd.concat([significance_array, pd.DataFrame([{\"Ticker\":tk, \"p_value\":p_val, \"z_score\":z_score}])])\n",
    "    \n",
    "    '''"
   ]
  },
  {
   "cell_type": "code",
   "execution_count": 176,
   "metadata": {},
   "outputs": [
    {
     "name": "stderr",
     "output_type": "stream",
     "text": [
      "/Users/gabbyhuckabee/anaconda3/lib/python3.12/site-packages/scipy/stats/_stats_py.py:1087: RuntimeWarning: divide by zero encountered in divide\n",
      "  var *= np.divide(n, n-ddof)  # to avoid error on division by zero\n",
      "/Users/gabbyhuckabee/anaconda3/lib/python3.12/site-packages/scipy/stats/_stats_py.py:1087: RuntimeWarning: invalid value encountered in scalar multiply\n",
      "  var *= np.divide(n, n-ddof)  # to avoid error on division by zero\n"
     ]
    }
   ],
   "source": [
    "fin_mean_significance_array=pd.DataFrame()\n",
    "empty=[]\n",
    "\n",
    "for tk in fin_ticks:\n",
    "    #print(tk)\n",
    "    \n",
    "    tk_data = wt.loc[wt.Ticker == tk]\n",
    "    \n",
    "    #mean and std for regular weekends\n",
    "    reg_set = tk_data.loc[~tk_data.IS_DST]\n",
    "    reg_mean = reg_set.Percent_Change.mean()\n",
    "    reg_std = reg_set.Percent_Change.std()\n",
    "    reg_mean_std = reg_std/np.sqrt(len(reg_set))\n",
    "    \n",
    "    #histogram for fall DST weekends\n",
    "    fdst_set = tk_data.loc[(tk_data.IS_DST) & (tk_data.IS_FALL)]\n",
    "    fdst_mean = fdst_set.Percent_Change.mean()\n",
    "    fdst_std = fdst_set.Percent_Change.std()\n",
    "    fdst_mean_std = fdst_std/np.sqrt(len(fdst_set))\n",
    "    \n",
    "    #histogram for spring DST weekends\n",
    "    sdst_set = tk_data.loc[(tk_data.IS_DST) & (tk_data.IS_SPRING)]\n",
    "    sdst_mean = sdst_set.Percent_Change.mean()\n",
    "    sdst_std = sdst_set.Percent_Change.std()\n",
    "    sdst_mean_std = sdst_std/np.sqrt(len(sdst_set))\n",
    "    \n",
    "    fz_score = (fdst_mean - reg_mean)/np.sqrt(fdst_mean_std**2+reg_mean_std**2)\n",
    "    \n",
    "    if fz_score<0:\n",
    "        fp_val = 2*stats.norm(loc=0, scale=1).cdf(fz_score)\n",
    "    else:\n",
    "        fp_val = 2*(1-stats.norm(loc=0, scale=1).cdf(fz_score))\n",
    "        \n",
    "    sz_score = (sdst_mean - reg_mean)/np.sqrt(sdst_std**2+reg_std**2)\n",
    "    if sz_score<0:\n",
    "        sp_val = 2*stats.norm(loc=0, scale=1).cdf(sz_score)\n",
    "    else:\n",
    "        sp_val = 2*(1-stats.norm(loc=0, scale=1).cdf(sz_score))\n",
    "    \n",
    "    f_tval, f_ttest_pval = stats.ttest_ind(reg_set.Percent_Change, fdst_set.Percent_Change, equal_var=False, nan_policy='omit')\n",
    "    \n",
    "    s_tval, s_ttest_pval = stats.ttest_ind(reg_set.Percent_Change, sdst_set.Percent_Change, equal_var=False, nan_policy='omit')\n",
    "    \n",
    "    fin_mean_significance_array = pd.concat([fin_mean_significance_array, pd.DataFrame([{\"Ticker\":tk, \"fall_z_score\":fz_score, \"spring_z_score\":sz_score, \"fall_t_statistic\":f_tval, \"spring_t_statistic\":s_tval, \"fall_2tailgaussian_pval\":fp_val, \"spring_2tailgaussian_pval\":sp_val, \"fall_ttest_pval\":f_ttest_pval, \"spring_ttest_pval\":s_ttest_pval}])])\n",
    "    \n",
    "    "
   ]
  },
  {
   "cell_type": "code",
   "execution_count": 183,
   "metadata": {},
   "outputs": [
    {
     "name": "stderr",
     "output_type": "stream",
     "text": [
      "/Users/gabbyhuckabee/anaconda3/lib/python3.12/site-packages/scipy/stats/_stats_py.py:1087: RuntimeWarning: divide by zero encountered in divide\n",
      "  var *= np.divide(n, n-ddof)  # to avoid error on division by zero\n",
      "/Users/gabbyhuckabee/anaconda3/lib/python3.12/site-packages/scipy/stats/_stats_py.py:1087: RuntimeWarning: invalid value encountered in scalar multiply\n",
      "  var *= np.divide(n, n-ddof)  # to avoid error on division by zero\n"
     ]
    }
   ],
   "source": [
    "cs_mean_significance_array=pd.DataFrame()\n",
    "empty=[]\n",
    "\n",
    "for tk in con_ticks:\n",
    "    #print(tk)\n",
    "    \n",
    "    tk_data = cs.loc[cs.Ticker == tk]\n",
    "    \n",
    "    #mean and std for regular weekends\n",
    "    reg_set = tk_data.loc[~tk_data.IS_DST]\n",
    "    reg_mean = reg_set.Percent_Change.mean()\n",
    "    reg_std = reg_set.Percent_Change.std()\n",
    "    \n",
    "    #histogram for fall DST weekends\n",
    "    fdst_set = tk_data.loc[(tk_data.IS_DST) & (tk_data.IS_FALL)]\n",
    "    fdst_mean = fdst_set.Percent_Change.mean()\n",
    "    fdst_std = fdst_set.Percent_Change.std()\n",
    "    \n",
    "    #histogram for spring DST weekends\n",
    "    sdst_set = tk_data.loc[(tk_data.IS_DST) & (tk_data.IS_SPRING)]\n",
    "    sdst_mean = sdst_set.Percent_Change.mean()\n",
    "    sdst_std = sdst_set.Percent_Change.std()\n",
    "    \n",
    "    fz_score = (fdst_mean - reg_mean)/np.sqrt(fdst_std**2+reg_std**2)\n",
    "    if fz_score<0:\n",
    "        fp_val = stats.norm(loc=0, scale=1).cdf(fz_score)\n",
    "    else:\n",
    "        fp_val = 1-stats.norm(loc=0, scale=1).cdf(fz_score)\n",
    "        \n",
    "    sz_score = (sdst_mean - reg_mean)/np.sqrt(sdst_std**2+reg_std**2)\n",
    "    if sz_score<0:\n",
    "        sp_val = stats.norm(loc=0, scale=1).cdf(sz_score)\n",
    "    else:\n",
    "        sp_val = 1-stats.norm(loc=0, scale=1).cdf(sz_score)\n",
    "    \n",
    "    f_tval, f_ttest_pval = stats.ttest_ind(reg_set.Percent_Change, fdst_set.Percent_Change, equal_var=False, nan_policy='omit')\n",
    "    \n",
    "    s_tval, s_ttest_pval = stats.ttest_ind(reg_set.Percent_Change, sdst_set.Percent_Change, equal_var=False, nan_policy='omit')\n",
    "    \n",
    "    cs_mean_significance_array = pd.concat([cs_mean_significance_array, pd.DataFrame([{\"Ticker\":tk, \"fall_z_score\":fz_score, \"spring_z_score\":sz_score, \"fall_t_statistic\":f_tval, \"spring_t_statistic\":s_tval, \"fall_2tailgaussian_pval\":fp_val, \"spring_2tailgaussian_pval\":sp_val, \"fall_ttest_pval\":f_ttest_pval, \"spring_ttest_pval\":s_ttest_pval}])])"
   ]
  },
  {
   "cell_type": "code",
   "execution_count": 184,
   "metadata": {},
   "outputs": [
    {
     "name": "stderr",
     "output_type": "stream",
     "text": [
      "/Users/gabbyhuckabee/anaconda3/lib/python3.12/site-packages/scipy/stats/_stats_py.py:1087: RuntimeWarning: divide by zero encountered in divide\n",
      "  var *= np.divide(n, n-ddof)  # to avoid error on division by zero\n",
      "/Users/gabbyhuckabee/anaconda3/lib/python3.12/site-packages/scipy/stats/_stats_py.py:1087: RuntimeWarning: invalid value encountered in scalar multiply\n",
      "  var *= np.divide(n, n-ddof)  # to avoid error on division by zero\n"
     ]
    }
   ],
   "source": [
    "hc_mean_significance_array=pd.DataFrame()\n",
    "empty=[]\n",
    "\n",
    "for tk in health_ticks:\n",
    "    #print(tk)\n",
    "    \n",
    "    tk_data = hc.loc[hc.Ticker == tk]\n",
    "    \n",
    "    #mean and std for regular weekends\n",
    "    reg_set = tk_data.loc[~tk_data.IS_DST]\n",
    "    reg_mean = reg_set.Percent_Change.mean()\n",
    "    reg_std = reg_set.Percent_Change.std()\n",
    "    \n",
    "    #histogram for fall DST weekends\n",
    "    fdst_set = tk_data.loc[(tk_data.IS_DST) & (tk_data.IS_FALL)]\n",
    "    fdst_mean = fdst_set.Percent_Change.mean()\n",
    "    fdst_std = fdst_set.Percent_Change.std()\n",
    "    \n",
    "    #histogram for spring DST weekends\n",
    "    sdst_set = tk_data.loc[(tk_data.IS_DST) & (tk_data.IS_SPRING)]\n",
    "    sdst_mean = sdst_set.Percent_Change.mean()\n",
    "    sdst_std = sdst_set.Percent_Change.std()\n",
    "    \n",
    "    fz_score = (fdst_mean - reg_mean)/np.sqrt(fdst_std**2+reg_std**2)\n",
    "    if fz_score<0:\n",
    "        fp_val = stats.norm(loc=0, scale=1).cdf(fz_score)\n",
    "    else:\n",
    "        fp_val = 1-stats.norm(loc=0, scale=1).cdf(fz_score)\n",
    "        \n",
    "    sz_score = (sdst_mean - reg_mean)/np.sqrt(sdst_std**2+reg_std**2)\n",
    "    if sz_score<0:\n",
    "        sp_val = stats.norm(loc=0, scale=1).cdf(sz_score)\n",
    "    else:\n",
    "        sp_val = 1-stats.norm(loc=0, scale=1).cdf(sz_score)\n",
    "    \n",
    "    f_tval, f_ttest_pval = stats.ttest_ind(reg_set.Percent_Change, fdst_set.Percent_Change, equal_var=False, nan_policy='omit')\n",
    "    \n",
    "    s_tval, s_ttest_pval = stats.ttest_ind(reg_set.Percent_Change, sdst_set.Percent_Change, equal_var=False, nan_policy='omit')\n",
    "    \n",
    "    hc_mean_significance_array = pd.concat([hc_mean_significance_array, pd.DataFrame([{\"Ticker\":tk, \"fall_z_score\":fz_score, \"spring_z_score\":sz_score, \"fall_t_statistic\":f_tval, \"spring_t_statistic\":s_tval, \"fall_2tailgaussian_pval\":fp_val, \"spring_2tailgaussian_pval\":sp_val, \"fall_ttest_pval\":f_ttest_pval, \"spring_ttest_pval\":s_ttest_pval}])])"
   ]
  },
  {
   "cell_type": "code",
   "execution_count": 185,
   "metadata": {},
   "outputs": [
    {
     "name": "stderr",
     "output_type": "stream",
     "text": [
      "/Users/gabbyhuckabee/anaconda3/lib/python3.12/site-packages/scipy/stats/_stats_py.py:1087: RuntimeWarning: divide by zero encountered in divide\n",
      "  var *= np.divide(n, n-ddof)  # to avoid error on division by zero\n",
      "/Users/gabbyhuckabee/anaconda3/lib/python3.12/site-packages/scipy/stats/_stats_py.py:1087: RuntimeWarning: invalid value encountered in scalar multiply\n",
      "  var *= np.divide(n, n-ddof)  # to avoid error on division by zero\n"
     ]
    }
   ],
   "source": [
    "tc_mean_significance_array=pd.DataFrame()\n",
    "empty=[]\n",
    "\n",
    "for tk in tech_ticks:\n",
    "    #print(tk)\n",
    "    \n",
    "    tk_data = tc.loc[tc.Ticker == tk]\n",
    "    \n",
    "    #mean and std for regular weekends\n",
    "    reg_set = tk_data.loc[~tk_data.IS_DST]\n",
    "    reg_mean = reg_set.Percent_Change.mean()\n",
    "    reg_std = reg_set.Percent_Change.std()\n",
    "    \n",
    "    #histogram for fall DST weekends\n",
    "    fdst_set = tk_data.loc[(tk_data.IS_DST) & (tk_data.IS_FALL)]\n",
    "    fdst_mean = fdst_set.Percent_Change.mean()\n",
    "    fdst_std = fdst_set.Percent_Change.std()\n",
    "    \n",
    "    #histogram for spring DST weekends\n",
    "    sdst_set = tk_data.loc[(tk_data.IS_DST) & (tk_data.IS_SPRING)]\n",
    "    sdst_mean = sdst_set.Percent_Change.mean()\n",
    "    sdst_std = sdst_set.Percent_Change.std()\n",
    "    \n",
    "    fz_score = (fdst_mean - reg_mean)/np.sqrt(fdst_std**2+reg_std**2)\n",
    "    if fz_score<0:\n",
    "        fp_val = stats.norm(loc=0, scale=1).cdf(fz_score)\n",
    "    else:\n",
    "        fp_val = 1-stats.norm(loc=0, scale=1).cdf(fz_score)\n",
    "        \n",
    "    sz_score = (sdst_mean - reg_mean)/np.sqrt(sdst_std**2+reg_std**2)\n",
    "    if sz_score<0:\n",
    "        sp_val = stats.norm(loc=0, scale=1).cdf(sz_score)\n",
    "    else:\n",
    "        sp_val = 1-stats.norm(loc=0, scale=1).cdf(sz_score)\n",
    "    \n",
    "    f_tval, f_ttest_pval = stats.ttest_ind(reg_set.Percent_Change, fdst_set.Percent_Change, equal_var=False, nan_policy='omit')\n",
    "    \n",
    "    s_tval, s_ttest_pval = stats.ttest_ind(reg_set.Percent_Change, sdst_set.Percent_Change, equal_var=False, nan_policy='omit')\n",
    "    \n",
    "    tc_mean_significance_array = pd.concat([tc_mean_significance_array, pd.DataFrame([{\"Ticker\":tk, \"fall_z_score\":fz_score, \"spring_z_score\":sz_score, \"fall_t_statistic\":f_tval, \"spring_t_statistic\":s_tval, \"fall_2tailgaussian_pval\":fp_val, \"spring_2tailgaussian_pval\":sp_val, \"fall_ttest_pval\":f_ttest_pval, \"spring_ttest_pval\":s_ttest_pval}])])"
   ]
  },
  {
   "cell_type": "code",
   "execution_count": 188,
   "metadata": {},
   "outputs": [
    {
     "data": {
      "text/html": [
       "<div>\n",
       "<style scoped>\n",
       "    .dataframe tbody tr th:only-of-type {\n",
       "        vertical-align: middle;\n",
       "    }\n",
       "\n",
       "    .dataframe tbody tr th {\n",
       "        vertical-align: top;\n",
       "    }\n",
       "\n",
       "    .dataframe thead th {\n",
       "        text-align: right;\n",
       "    }\n",
       "</style>\n",
       "<table border=\"1\" class=\"dataframe\">\n",
       "  <thead>\n",
       "    <tr style=\"text-align: right;\">\n",
       "      <th></th>\n",
       "      <th>Ticker</th>\n",
       "      <th>fall_z_score</th>\n",
       "      <th>spring_z_score</th>\n",
       "      <th>fall_t_statistic</th>\n",
       "      <th>spring_t_statistic</th>\n",
       "      <th>fall_2tailgaussian_pval</th>\n",
       "      <th>spring_2tailgaussian_pval</th>\n",
       "      <th>fall_ttest_pval</th>\n",
       "      <th>spring_ttest_pval</th>\n",
       "    </tr>\n",
       "  </thead>\n",
       "  <tbody>\n",
       "    <tr>\n",
       "      <th>0</th>\n",
       "      <td>SVBI</td>\n",
       "      <td>10.897692</td>\n",
       "      <td>-0.860483</td>\n",
       "      <td>-10.897692</td>\n",
       "      <td>2.939662</td>\n",
       "      <td>0.000000e+00</td>\n",
       "      <td>0.389523</td>\n",
       "      <td>1.073022e-07</td>\n",
       "      <td>0.077616</td>\n",
       "    </tr>\n",
       "    <tr>\n",
       "      <th>0</th>\n",
       "      <td>FNWB</td>\n",
       "      <td>-5.518510</td>\n",
       "      <td>0.248156</td>\n",
       "      <td>5.518510</td>\n",
       "      <td>-1.029829</td>\n",
       "      <td>3.418855e-08</td>\n",
       "      <td>0.804014</td>\n",
       "      <td>6.109034e-03</td>\n",
       "      <td>0.367044</td>\n",
       "    </tr>\n",
       "    <tr>\n",
       "      <th>0</th>\n",
       "      <td>AHH</td>\n",
       "      <td>-4.384100</td>\n",
       "      <td>-0.343148</td>\n",
       "      <td>4.384100</td>\n",
       "      <td>1.608774</td>\n",
       "      <td>1.164664e-05</td>\n",
       "      <td>0.731487</td>\n",
       "      <td>8.972171e-03</td>\n",
       "      <td>0.172603</td>\n",
       "    </tr>\n",
       "    <tr>\n",
       "      <th>0</th>\n",
       "      <td>GJH</td>\n",
       "      <td>3.481707</td>\n",
       "      <td>-0.101272</td>\n",
       "      <td>-3.481707</td>\n",
       "      <td>0.445597</td>\n",
       "      <td>4.982279e-04</td>\n",
       "      <td>0.919334</td>\n",
       "      <td>9.542851e-03</td>\n",
       "      <td>0.668474</td>\n",
       "    </tr>\n",
       "    <tr>\n",
       "      <th>0</th>\n",
       "      <td>GZT</td>\n",
       "      <td>-3.680451</td>\n",
       "      <td>0.192559</td>\n",
       "      <td>3.680451</td>\n",
       "      <td>-0.703218</td>\n",
       "      <td>2.328215e-04</td>\n",
       "      <td>0.847305</td>\n",
       "      <td>9.695921e-03</td>\n",
       "      <td>0.507109</td>\n",
       "    </tr>\n",
       "    <tr>\n",
       "      <th>...</th>\n",
       "      <td>...</td>\n",
       "      <td>...</td>\n",
       "      <td>...</td>\n",
       "      <td>...</td>\n",
       "      <td>...</td>\n",
       "      <td>...</td>\n",
       "      <td>...</td>\n",
       "      <td>...</td>\n",
       "      <td>...</td>\n",
       "    </tr>\n",
       "    <tr>\n",
       "      <th>0</th>\n",
       "      <td>PJH</td>\n",
       "      <td>-0.010556</td>\n",
       "      <td>0.075651</td>\n",
       "      <td>0.010556</td>\n",
       "      <td>-0.291157</td>\n",
       "      <td>9.915780e-01</td>\n",
       "      <td>0.939697</td>\n",
       "      <td>9.920666e-01</td>\n",
       "      <td>0.781816</td>\n",
       "    </tr>\n",
       "    <tr>\n",
       "      <th>0</th>\n",
       "      <td>PJC</td>\n",
       "      <td>0.007970</td>\n",
       "      <td>0.206036</td>\n",
       "      <td>-0.007970</td>\n",
       "      <td>-1.815041</td>\n",
       "      <td>9.936411e-01</td>\n",
       "      <td>0.836763</td>\n",
       "      <td>9.937526e-01</td>\n",
       "      <td>0.086871</td>\n",
       "    </tr>\n",
       "    <tr>\n",
       "      <th>0</th>\n",
       "      <td>PFS</td>\n",
       "      <td>-0.002619</td>\n",
       "      <td>0.147265</td>\n",
       "      <td>0.002619</td>\n",
       "      <td>-1.424109</td>\n",
       "      <td>9.979104e-01</td>\n",
       "      <td>0.882923</td>\n",
       "      <td>9.979440e-01</td>\n",
       "      <td>0.170424</td>\n",
       "    </tr>\n",
       "    <tr>\n",
       "      <th>0</th>\n",
       "      <td>HCI</td>\n",
       "      <td>0.000055</td>\n",
       "      <td>0.089896</td>\n",
       "      <td>-0.000055</td>\n",
       "      <td>-0.426084</td>\n",
       "      <td>9.999561e-01</td>\n",
       "      <td>0.928370</td>\n",
       "      <td>9.999573e-01</td>\n",
       "      <td>0.679473</td>\n",
       "    </tr>\n",
       "    <tr>\n",
       "      <th>0</th>\n",
       "      <td>AIG</td>\n",
       "      <td>0.000029</td>\n",
       "      <td>-0.127025</td>\n",
       "      <td>-0.000029</td>\n",
       "      <td>1.185824</td>\n",
       "      <td>9.999772e-01</td>\n",
       "      <td>0.898921</td>\n",
       "      <td>9.999774e-01</td>\n",
       "      <td>0.243407</td>\n",
       "    </tr>\n",
       "  </tbody>\n",
       "</table>\n",
       "<p>753 rows × 9 columns</p>\n",
       "</div>"
      ],
      "text/plain": [
       "   Ticker  fall_z_score  spring_z_score  fall_t_statistic  spring_t_statistic  \\\n",
       "0    SVBI     10.897692       -0.860483        -10.897692            2.939662   \n",
       "0    FNWB     -5.518510        0.248156          5.518510           -1.029829   \n",
       "0     AHH     -4.384100       -0.343148          4.384100            1.608774   \n",
       "0     GJH      3.481707       -0.101272         -3.481707            0.445597   \n",
       "0     GZT     -3.680451        0.192559          3.680451           -0.703218   \n",
       "..    ...           ...             ...               ...                 ...   \n",
       "0     PJH     -0.010556        0.075651          0.010556           -0.291157   \n",
       "0     PJC      0.007970        0.206036         -0.007970           -1.815041   \n",
       "0     PFS     -0.002619        0.147265          0.002619           -1.424109   \n",
       "0     HCI      0.000055        0.089896         -0.000055           -0.426084   \n",
       "0     AIG      0.000029       -0.127025         -0.000029            1.185824   \n",
       "\n",
       "    fall_2tailgaussian_pval  spring_2tailgaussian_pval  fall_ttest_pval  \\\n",
       "0              0.000000e+00                   0.389523     1.073022e-07   \n",
       "0              3.418855e-08                   0.804014     6.109034e-03   \n",
       "0              1.164664e-05                   0.731487     8.972171e-03   \n",
       "0              4.982279e-04                   0.919334     9.542851e-03   \n",
       "0              2.328215e-04                   0.847305     9.695921e-03   \n",
       "..                      ...                        ...              ...   \n",
       "0              9.915780e-01                   0.939697     9.920666e-01   \n",
       "0              9.936411e-01                   0.836763     9.937526e-01   \n",
       "0              9.979104e-01                   0.882923     9.979440e-01   \n",
       "0              9.999561e-01                   0.928370     9.999573e-01   \n",
       "0              9.999772e-01                   0.898921     9.999774e-01   \n",
       "\n",
       "    spring_ttest_pval  \n",
       "0            0.077616  \n",
       "0            0.367044  \n",
       "0            0.172603  \n",
       "0            0.668474  \n",
       "0            0.507109  \n",
       "..                ...  \n",
       "0            0.781816  \n",
       "0            0.086871  \n",
       "0            0.170424  \n",
       "0            0.679473  \n",
       "0            0.243407  \n",
       "\n",
       "[753 rows x 9 columns]"
      ]
     },
     "execution_count": 188,
     "metadata": {},
     "output_type": "execute_result"
    }
   ],
   "source": [
    "fin_mean_significance_array.dropna().sort_values(by = 'fall_ttest_pval')"
   ]
  },
  {
   "cell_type": "code",
   "execution_count": 109,
   "metadata": {},
   "outputs": [
    {
     "data": {
      "text/html": [
       "<div>\n",
       "<style scoped>\n",
       "    .dataframe tbody tr th:only-of-type {\n",
       "        vertical-align: middle;\n",
       "    }\n",
       "\n",
       "    .dataframe tbody tr th {\n",
       "        vertical-align: top;\n",
       "    }\n",
       "\n",
       "    .dataframe thead th {\n",
       "        text-align: right;\n",
       "    }\n",
       "</style>\n",
       "<table border=\"1\" class=\"dataframe\">\n",
       "  <thead>\n",
       "    <tr style=\"text-align: right;\">\n",
       "      <th></th>\n",
       "      <th>ticker</th>\n",
       "      <th>exchange</th>\n",
       "      <th>name</th>\n",
       "      <th>sector</th>\n",
       "      <th>industry</th>\n",
       "    </tr>\n",
       "  </thead>\n",
       "  <tbody>\n",
       "    <tr>\n",
       "      <th>1870</th>\n",
       "      <td>LMFA</td>\n",
       "      <td>NASDAQ</td>\n",
       "      <td>LM FUNDING AMERICA, INC.</td>\n",
       "      <td>FINANCE</td>\n",
       "      <td>FINANCE: CONSUMER SERVICES</td>\n",
       "    </tr>\n",
       "  </tbody>\n",
       "</table>\n",
       "</div>"
      ],
      "text/plain": [
       "     ticker exchange                      name   sector  \\\n",
       "1870   LMFA   NASDAQ  LM FUNDING AMERICA, INC.  FINANCE   \n",
       "\n",
       "                        industry  \n",
       "1870  FINANCE: CONSUMER SERVICES  "
      ]
     },
     "execution_count": 109,
     "metadata": {},
     "output_type": "execute_result"
    }
   ],
   "source": [
    "metadata.loc[metadata.ticker == 'LMFA']"
   ]
  },
  {
   "cell_type": "code",
   "execution_count": 110,
   "metadata": {},
   "outputs": [
    {
     "data": {
      "text/plain": [
       "(591, 12)"
      ]
     },
     "execution_count": 110,
     "metadata": {},
     "output_type": "execute_result"
    }
   ],
   "source": [
    "finance.loc[finance.ticker == 'LMFA'].shape"
   ]
  },
  {
   "cell_type": "code",
   "execution_count": 59,
   "metadata": {},
   "outputs": [
    {
     "data": {
      "text/plain": [
       "array(['FINANCE', 'CONSUMER SERVICES', 'TECHNOLOGY', 'PUBLIC UTILITIES',\n",
       "       'CAPITAL GOODS', 'BASIC INDUSTRIES', 'HEALTH CARE',\n",
       "       'CONSUMER DURABLES', nan, 'ENERGY', 'MISCELLANEOUS', 'SECTOR',\n",
       "       'TRANSPORTATION', 'CONSUMER NON-DURABLES'], dtype=object)"
      ]
     },
     "execution_count": 59,
     "metadata": {},
     "output_type": "execute_result"
    }
   ],
   "source": [
    "sectors"
   ]
  },
  {
   "cell_type": "code",
   "execution_count": 80,
   "metadata": {},
   "outputs": [
    {
     "data": {
      "text/plain": [
       "sector\n",
       "FINANCE                  1022\n",
       "CONSUMER SERVICES         796\n",
       "HEALTH CARE               784\n",
       "TECHNOLOGY                607\n",
       "CAPITAL GOODS             352\n",
       "ENERGY                    286\n",
       "PUBLIC UTILITIES          273\n",
       "BASIC INDUSTRIES          272\n",
       "CONSUMER NON-DURABLES     224\n",
       "CONSUMER DURABLES         144\n",
       "MISCELLANEOUS             139\n",
       "TRANSPORTATION            120\n",
       "SECTOR                      1\n",
       "Name: count, dtype: int64"
      ]
     },
     "execution_count": 80,
     "metadata": {},
     "output_type": "execute_result"
    }
   ],
   "source": [
    "metadata.value_counts(\"sector\")"
   ]
  },
  {
   "cell_type": "code",
   "execution_count": 115,
   "metadata": {},
   "outputs": [
    {
     "data": {
      "text/html": [
       "<div>\n",
       "<style scoped>\n",
       "    .dataframe tbody tr th:only-of-type {\n",
       "        vertical-align: middle;\n",
       "    }\n",
       "\n",
       "    .dataframe tbody tr th {\n",
       "        vertical-align: top;\n",
       "    }\n",
       "\n",
       "    .dataframe thead th {\n",
       "        text-align: right;\n",
       "    }\n",
       "</style>\n",
       "<table border=\"1\" class=\"dataframe\">\n",
       "  <thead>\n",
       "    <tr style=\"text-align: right;\">\n",
       "      <th></th>\n",
       "      <th>Ticker</th>\n",
       "      <th>p_value</th>\n",
       "      <th>z_score</th>\n",
       "    </tr>\n",
       "  </thead>\n",
       "  <tbody>\n",
       "    <tr>\n",
       "      <th>0</th>\n",
       "      <td>RYTM</td>\n",
       "      <td>0.000483</td>\n",
       "      <td>3.300142</td>\n",
       "    </tr>\n",
       "    <tr>\n",
       "      <th>0</th>\n",
       "      <td>OPTN</td>\n",
       "      <td>0.133568</td>\n",
       "      <td>1.109683</td>\n",
       "    </tr>\n",
       "    <tr>\n",
       "      <th>0</th>\n",
       "      <td>KRYS</td>\n",
       "      <td>0.154760</td>\n",
       "      <td>1.016228</td>\n",
       "    </tr>\n",
       "    <tr>\n",
       "      <th>0</th>\n",
       "      <td>SPRO</td>\n",
       "      <td>0.181612</td>\n",
       "      <td>0.909238</td>\n",
       "    </tr>\n",
       "    <tr>\n",
       "      <th>0</th>\n",
       "      <td>CRSP</td>\n",
       "      <td>0.187352</td>\n",
       "      <td>-0.887698</td>\n",
       "    </tr>\n",
       "    <tr>\n",
       "      <th>...</th>\n",
       "      <td>...</td>\n",
       "      <td>...</td>\n",
       "      <td>...</td>\n",
       "    </tr>\n",
       "    <tr>\n",
       "      <th>0</th>\n",
       "      <td>VRNA</td>\n",
       "      <td>NaN</td>\n",
       "      <td>NaN</td>\n",
       "    </tr>\n",
       "    <tr>\n",
       "      <th>0</th>\n",
       "      <td>VKTXW</td>\n",
       "      <td>NaN</td>\n",
       "      <td>NaN</td>\n",
       "    </tr>\n",
       "    <tr>\n",
       "      <th>0</th>\n",
       "      <td>AAC</td>\n",
       "      <td>NaN</td>\n",
       "      <td>NaN</td>\n",
       "    </tr>\n",
       "    <tr>\n",
       "      <th>0</th>\n",
       "      <td>RCUS</td>\n",
       "      <td>NaN</td>\n",
       "      <td>NaN</td>\n",
       "    </tr>\n",
       "    <tr>\n",
       "      <th>0</th>\n",
       "      <td>INSP</td>\n",
       "      <td>NaN</td>\n",
       "      <td>NaN</td>\n",
       "    </tr>\n",
       "  </tbody>\n",
       "</table>\n",
       "<p>784 rows × 3 columns</p>\n",
       "</div>"
      ],
      "text/plain": [
       "   Ticker   p_value   z_score\n",
       "0    RYTM  0.000483  3.300142\n",
       "0    OPTN  0.133568  1.109683\n",
       "0    KRYS  0.154760  1.016228\n",
       "0    SPRO  0.181612  0.909238\n",
       "0    CRSP  0.187352 -0.887698\n",
       "..    ...       ...       ...\n",
       "0    VRNA       NaN       NaN\n",
       "0   VKTXW       NaN       NaN\n",
       "0     AAC       NaN       NaN\n",
       "0    RCUS       NaN       NaN\n",
       "0    INSP       NaN       NaN\n",
       "\n",
       "[784 rows x 3 columns]"
      ]
     },
     "execution_count": 115,
     "metadata": {},
     "output_type": "execute_result"
    }
   ],
   "source": [
    "hc_mean_significance_array.sort_values('p_value')"
   ]
  },
  {
   "cell_type": "code",
   "execution_count": 125,
   "metadata": {},
   "outputs": [],
   "source": [
    "hc_test_data = hc.loc[hc.Ticker == 'RYTM']"
   ]
  },
  {
   "cell_type": "code",
   "execution_count": null,
   "metadata": {},
   "outputs": [],
   "source": []
  },
  {
   "cell_type": "code",
   "execution_count": 132,
   "metadata": {},
   "outputs": [
    {
     "name": "stderr",
     "output_type": "stream",
     "text": [
      "No artists with labels found to put in legend.  Note that artists whose label start with an underscore are ignored when legend() is called with no argument.\n",
      "/var/folders/jc/xvqs4hmj339bc_532ktftc6w0000gn/T/ipykernel_18112/3910670907.py:35: UserWarning: FigureCanvasAgg is non-interactive, and thus cannot be shown\n",
      "  test_fig.show()\n"
     ]
    },
    {
     "data": {
      "image/png": "[encoded data removed]",
      "text/plain": [
       "<Figure size 640x480 with 1 Axes>"
      ]
     },
     "metadata": {},
     "output_type": "display_data"
    }
   ],
   "source": [
    "hc_reg_set = hc_test_data.loc[~hc_test_data.IS_DST].Percent_Change.values\n",
    "r_bin_width = 2*stats.iqr(hc_reg_set)*(len(hc_reg_set))**(-1/3)\n",
    "reg_wkend, x_vals = np.histogram(hc_reg_set, bins = int((np.amax(hc_reg_set)-np.amin(hc_reg_set))/r_bin_width), range=(np.amin(hc_reg_set), np.amax(hc_reg_set)), density=True)\n",
    "x_vals = x_vals[:-1]+(x_vals[1:]-x_vals[:-1])/2\n",
    "r_bin_err = r_bin_width/2\n",
    "\n",
    "hc_dst_set = hc_test_data.loc[hc_test_data.IS_DST].Percent_Change.values\n",
    "d_bin_width = 2*stats.iqr(hc_dst_set)*(len(hc_dst_set))**(-1/3)\n",
    "dst_wkend, d_x_vals = np.histogram(hc_dst_set, bins = int((np.amax(hc_dst_set)-np.amin(hc_dst_set))/d_bin_width), range=(np.amin(hc_dst_set), np.amax(hc_dst_set)), density=True)\n",
    "d_x_vals = d_x_vals[:-1]+(d_x_vals[1:]-d_x_vals[:-1])/2\n",
    "d_bin_err = d_bin_width/2\n",
    "\n",
    "#hc_reg_parms, hc_reg_cov = curve_fit(gaussian, x_vals, reg_wkend, p0=(np.amax(reg_wkend), 0, stats.iqr(hc_reg_set)/2), sigma = r_bin_err+np.sqrt(reg_wkend))\n",
    "#hc_dst_parms, hc_dst_cov = curve_fit(gaussian, d_x_vals, dst_wkend, p0=(np.amax(dst_wkend), 0, stats.iqr(hc_dst_set)/2), sigma = d_bin_err+np.sqrt(dst_wkend))\n",
    "\n",
    "#x_fit = np.linspace(x_vals[0], x_vals[-1], 1000)\n",
    "#fit_y = gaussian(x_fit, *reg_parms)\n",
    "#d_x_fit = np.linspace(d_x_vals[0], d_x_vals[-1], 1000)\n",
    "#dst_fit_y = gaussian(d_x_fit, *dst_parms)\n",
    "#fit_y = stats.norm(loc = reg_parms[1], scale = reg_parms[2])\n",
    "#dst_fit_y = stats.norm(loc = dst_parms[1], scale = dst_parms[2])\n",
    "\n",
    "test_fig, test_ax = plt.subplots(nrows=1, ncols=1)#, figsize=(15, 12))\n",
    "#test_ax.plot(x_fit, fit_y, color='blue')\n",
    "test_ax.scatter(x_vals, reg_wkend, color='blue', alpha=0.3)\n",
    "#test_ax.vlines(reg_parms[1], 0, np.amax(reg_wkend), color='blue', linestyles='dashed', label='Non-DST Mean')\n",
    "#test_ax.plot(d_x_fit, dst_fit_y, color='orange')\n",
    "test_ax.scatter(d_x_vals, dst_wkend, color='orange', alpha=0.3)\n",
    "#test_ax.vlines(dst_parms[1], 0, np.amax(reg_wkend), color='orange', linestyles='dashed', label='DST Mean')\n",
    "test_ax.set_xlim(-0.05, 0.05)\n",
    "test_ax.set_title('DST vs Non-DST Weekend Effect')\n",
    "test_ax.set_ylabel('Frequency')\n",
    "test_ax.set_xlabel('Percent Change, Fri Close to Mon Open')\n",
    "test_ax.legend()\n",
    "test_fig.show()\n"
   ]
  },
  {
   "cell_type": "code",
   "execution_count": 111,
   "metadata": {},
   "outputs": [
    {
     "data": {
      "image/png": "[encoded data removed]",
      "text/plain": [
       "<Figure size 1000x600 with 1 Axes>"
      ]
     },
     "metadata": {},
     "output_type": "display_data"
    }
   ],
   "source": [
    "# define subplot grid\n",
    "fig, axes = plt.subplots(nrows=1, ncols=1, figsize=(10, 6))\n",
    "plt.subplots_adjust(hspace=0.5)\n",
    "fig.suptitle(\"P Value Distribution\", fontsize=18, y=0.95)\n",
    "\n",
    "# loop through tickers and axes\n",
    "#for tk, axes in zip(ticker_list, axs.ravel()):\n",
    "    # filter df for ticker and plot on specified axes\n",
    "sns.histplot(ax=axes, data = fin_mean_significance_array.dropna(), x=\"fall_p_value\", label='Finance')#, kde=True)\n",
    "sns.histplot(ax=axes, data = cs_mean_significance_array.dropna(), x=\"fall_p_value\", label='Consumer Services')#, kde=True)\n",
    "sns.histplot(ax=axes, data = hc_mean_significance_array.dropna(), x=\"fall_p_value\", label='Health Care')#, kde=True)\n",
    "sns.histplot(ax=axes, data = tc_mean_significance_array.dropna(), x=\"fall_p_value\", label='Technology')#, kde=True)\n",
    "\n",
    "axes.legend()\n",
    "\n",
    "    # chart formatting\n",
    "#axes.set_title(tk.upper())\n",
    "    #axes.get_legend().remove()\n",
    "axes.set_xlabel(\"\")\n",
    "\n",
    "plt.show()"
   ]
  },
  {
   "cell_type": "markdown",
   "metadata": {},
   "source": [
    "# T-test (Welch's for unequal variance and sample size)"
   ]
  },
  {
   "cell_type": "code",
   "execution_count": 189,
   "metadata": {},
   "outputs": [
    {
     "data": {
      "image/png": "[encoded data removed]",
      "text/plain": [
       "<Figure size 1000x600 with 1 Axes>"
      ]
     },
     "metadata": {},
     "output_type": "display_data"
    }
   ],
   "source": [
    "# define subplot grid\n",
    "fig, axes = plt.subplots(nrows=1, ncols=1, figsize=(10, 6))\n",
    "plt.subplots_adjust(hspace=0.5)\n",
    "fig.suptitle(\"T-test P Value Distribution\", fontsize=18, y=0.95)\n",
    "\n",
    "# loop through tickers and axes\n",
    "#for tk, axes in zip(ticker_list, axs.ravel()):\n",
    "    # filter df for ticker and plot on specified axes\n",
    "sns.histplot(ax=axes, data = fin_mean_significance_array.dropna(), x=\"fall_ttest_pval\", label='Finance')#, kde=True)\n",
    "sns.histplot(ax=axes, data = cs_mean_significance_array.dropna(), x=\"fall_ttest_pval\", label='Consumer Services')#, kde=True)\n",
    "sns.histplot(ax=axes, data = hc_mean_significance_array.dropna(), x=\"fall_ttest_pval\", label='Health Care')#, kde=True)\n",
    "sns.histplot(ax=axes, data = tc_mean_significance_array.dropna(), x=\"fall_ttest_pval\", label='Technology')#, kde=True)\n",
    "\n",
    "axes.legend()\n",
    "\n",
    "    # chart formatting\n",
    "#axes.set_title(tk.upper())\n",
    "    #axes.get_legend().remove()\n",
    "axes.set_xlabel(\"\")\n",
    "\n",
    "plt.show()"
   ]
  },
  {
   "cell_type": "markdown",
   "metadata": {},
   "source": [
    "# Assessing Significance of Total Markets"
   ]
  },
  {
   "cell_type": "code",
   "execution_count": 281,
   "metadata": {},
   "outputs": [],
   "source": [
    "nasdaq_tks = metadata.loc[metadata.exchange == 'NASDAQ'].ticker\n",
    "nyse_tks = metadata.loc[metadata.exchange == 'NYSE'].ticker"
   ]
  },
  {
   "cell_type": "code",
   "execution_count": 282,
   "metadata": {},
   "outputs": [],
   "source": [
    "nasdaq_split = finance.loc[finance.ticker.isin(nasdaq_tks.values)]\n",
    "nyse_split = finance.loc[finance.ticker.isin(nyse_tks.values)]"
   ]
  },
  {
   "cell_type": "code",
   "execution_count": 283,
   "metadata": {},
   "outputs": [],
   "source": [
    "nasdaq = pd.DataFrame()\n",
    "\n",
    "for i in nasdaq_split.index.unique():\n",
    "    current_day = nasdaq_split.loc[nasdaq_split.index == i]\n",
    "    nasdaq = pd.concat([nasdaq, pd.DataFrame([{\"Date\":i, \"open\":current_day.open.sum(), \"close\":current_day.close.sum(), \"low\":current_day.low.sum(), \"high\":current_day.high.sum(), \"volume\":current_day.volume.sum(), \"IS_MON\":current_day.IS_MON.iloc[0], \"IS_FRI\":current_day.IS_FRI.iloc[0], \"IS_DST\":current_day.IS_DST.iloc[0], \"IS_FALL\":current_day.IS_FALL.iloc[0], \"IS_SPRING\":current_day.IS_SPRING.iloc[0]}])])\n",
    "\n",
    "nasdaq.set_index('Date', inplace=True)\n",
    "nasdaq.index = nasdaq.index.astype('datetime64[ns]')\n",
    "\n",
    "nyse = pd.DataFrame()\n",
    "\n",
    "for i in nyse_split.index.unique():\n",
    "    current_day = nyse_split.loc[nyse_split.index == i]\n",
    "    nyse = pd.concat([nyse, pd.DataFrame([{\"Date\":i, \"open\":current_day.open.sum(), \"close\":current_day.close.sum(), \"low\":current_day.low.sum(), \"high\":current_day.high.sum(), \"volume\":current_day.volume.sum(), \"IS_MON\":current_day.IS_MON.iloc[0], \"IS_FRI\":current_day.IS_FRI.iloc[0], \"IS_DST\":current_day.IS_DST.iloc[0], \"IS_FALL\":current_day.IS_FALL.iloc[0], \"IS_SPRING\":current_day.IS_SPRING.iloc[0]}])])\n",
    "\n",
    "nyse.set_index('Date', inplace=True)\n",
    "nyse.index = nyse.index.astype('datetime64[ns]')"
   ]
  },
  {
   "cell_type": "code",
   "execution_count": 284,
   "metadata": {},
   "outputs": [],
   "source": [
    "price_change, percent, date = weekend_effect(nasdaq)\n",
    "m_hl, f_hl, d_hl = hl_variability(nasdaq)\n",
    "nasdaq_vars = pd.DataFrame({'Date':date,'Price_Change':price_change, 'Percent_Change':percent, 'Mon_HL_Diff':m_hl, 'Fri_HL_Diff':f_hl})\n",
    "\n",
    "price_change, percent, date = weekend_effect(nyse)\n",
    "m_hl, f_hl, d_hl = hl_variability(nyse)\n",
    "nyse_vars = pd.DataFrame({'Date':date,'Price_Change':price_change, 'Percent_Change':percent, 'Mon_HL_Diff':m_hl, 'Fri_HL_Diff':f_hl})"
   ]
  },
  {
   "cell_type": "code",
   "execution_count": 285,
   "metadata": {},
   "outputs": [],
   "source": [
    "nasdaq_vars['IS_DST'] = nasdaq_vars.Date.isin(pd.concat([dst_dates_spring, dst_dates_winter]))\n",
    "nasdaq_vars['IS_FALL'] = nasdaq_vars.Date.isin(dst_dates_fall)\n",
    "nasdaq_vars['IS_SPRING'] = nasdaq_vars.Date.isin(dst_dates_spring)\n",
    "\n",
    "nyse_vars['IS_DST'] = nyse_vars.Date.isin(pd.concat([dst_dates_spring, dst_dates_winter]))\n",
    "nyse_vars['IS_FALL'] = nyse_vars.Date.isin(dst_dates_fall)\n",
    "nyse_vars['IS_SPRING'] = nyse_vars.Date.isin(dst_dates_spring)"
   ]
  },
  {
   "cell_type": "code",
   "execution_count": 286,
   "metadata": {},
   "outputs": [],
   "source": [
    "nasdaq_mean_significance_array=pd.DataFrame()\n",
    "empty=[]\n",
    "\n",
    "#mean and std for regular weekends\n",
    "reg_set = nasdaq_vars.loc[~nasdaq_vars.IS_DST]\n",
    "reg_mean = reg_set.Percent_Change.mean()\n",
    "reg_std = reg_set.Percent_Change.std()\n",
    "    \n",
    "#histogram for fall DST weekends\n",
    "fdst_set = nasdaq_vars.loc[(nasdaq_vars.IS_DST) & (nasdaq_vars.IS_FALL)]\n",
    "fdst_mean = fdst_set.Percent_Change.mean()\n",
    "fdst_std = fdst_set.Percent_Change.std()\n",
    "    \n",
    "#histogram for spring DST weekends\n",
    "sdst_set = nasdaq_vars.loc[(nasdaq_vars.IS_DST) & (nasdaq_vars.IS_SPRING)]\n",
    "sdst_mean = sdst_set.Percent_Change.mean()\n",
    "sdst_std = sdst_set.Percent_Change.std()\n",
    "    \n",
    "fz_score = (fdst_mean - reg_mean)/np.sqrt(fdst_std**2+reg_std**2)\n",
    "if fz_score<0:\n",
    "    fp_val = stats.norm(loc=0, scale=1).cdf(fz_score)\n",
    "else:\n",
    "    fp_val = 1-stats.norm(loc=0, scale=1).cdf(fz_score)\n",
    "        \n",
    "sz_score = (sdst_mean - reg_mean)/np.sqrt(sdst_std**2+reg_std**2)\n",
    "if sz_score<0:\n",
    "    sp_val = stats.norm(loc=0, scale=1).cdf(sz_score)\n",
    "else:\n",
    "    sp_val = 1-stats.norm(loc=0, scale=1).cdf(sz_score)\n",
    "    \n",
    "f_tval, f_ttest_pval = stats.ttest_ind(reg_set.Percent_Change, fdst_set.Percent_Change, equal_var=False, nan_policy='omit')\n",
    "    \n",
    "s_tval, s_ttest_pval = stats.ttest_ind(reg_set.Percent_Change, sdst_set.Percent_Change, equal_var=False, nan_policy='omit')\n",
    "    \n",
    "nasdaq_mean_significance_array = pd.concat([nasdaq_mean_significance_array, pd.DataFrame([{\"fall_z_score\":fz_score, \"spring_z_score\":sz_score, \"fall_t_statistic\":f_tval, \"spring_t_statistic\":s_tval, \"fall_2tailgaussian_pval\":fp_val, \"spring_2tailgaussian_pval\":sp_val, \"fall_ttest_pval\":f_ttest_pval, \"spring_ttest_pval\":s_ttest_pval}])])"
   ]
  },
  {
   "cell_type": "code",
   "execution_count": 287,
   "metadata": {},
   "outputs": [],
   "source": [
    "nyse_mean_significance_array=pd.DataFrame()\n",
    "empty=[]\n",
    "\n",
    "#mean and std for regular weekends\n",
    "reg_set = nyse_vars.loc[~nyse_vars.IS_DST]\n",
    "reg_mean = reg_set.Percent_Change.mean()\n",
    "reg_std = reg_set.Percent_Change.std()\n",
    "    \n",
    "#histogram for fall DST weekends\n",
    "fdst_set = nyse_vars.loc[(nyse_vars.IS_DST) & (nyse_vars.IS_FALL)]\n",
    "fdst_mean = fdst_set.Percent_Change.mean()\n",
    "fdst_std = fdst_set.Percent_Change.std()\n",
    "    \n",
    "#histogram for spring DST weekends\n",
    "sdst_set = nyse_vars.loc[(nyse_vars.IS_DST) & (nyse_vars.IS_SPRING)]\n",
    "sdst_mean = sdst_set.Percent_Change.mean()\n",
    "sdst_std = sdst_set.Percent_Change.std()\n",
    "    \n",
    "fz_score = (fdst_mean - reg_mean)/np.sqrt(fdst_std**2+reg_std**2)\n",
    "if fz_score<0:\n",
    "    fp_val = stats.norm(loc=0, scale=1).cdf(fz_score)\n",
    "else:\n",
    "    fp_val = 1-stats.norm(loc=0, scale=1).cdf(fz_score)\n",
    "        \n",
    "sz_score = (sdst_mean - reg_mean)/np.sqrt(sdst_std**2+reg_std**2)\n",
    "if sz_score<0:\n",
    "    sp_val = stats.norm(loc=0, scale=1).cdf(sz_score)\n",
    "else:\n",
    "    sp_val = 1-stats.norm(loc=0, scale=1).cdf(sz_score)\n",
    "    \n",
    "f_tval, f_ttest_pval = stats.ttest_ind(reg_set.Percent_Change, fdst_set.Percent_Change, equal_var=False, nan_policy='omit')\n",
    "    \n",
    "s_tval, s_ttest_pval = stats.ttest_ind(reg_set.Percent_Change, sdst_set.Percent_Change, equal_var=False, nan_policy='omit')\n",
    "    \n",
    "nyse_mean_significance_array = pd.concat([nyse_mean_significance_array, pd.DataFrame([{\"fall_z_score\":fz_score, \"spring_z_score\":sz_score, \"fall_t_statistic\":f_tval, \"spring_t_statistic\":s_tval, \"fall_2tailgaussian_pval\":fp_val, \"spring_2tailgaussian_pval\":sp_val, \"fall_ttest_pval\":f_ttest_pval, \"spring_ttest_pval\":s_ttest_pval}])])"
   ]
  },
  {
   "cell_type": "code",
   "execution_count": 289,
   "metadata": {},
   "outputs": [
    {
     "data": {
      "text/html": [
       "<div>\n",
       "<style scoped>\n",
       "    .dataframe tbody tr th:only-of-type {\n",
       "        vertical-align: middle;\n",
       "    }\n",
       "\n",
       "    .dataframe tbody tr th {\n",
       "        vertical-align: top;\n",
       "    }\n",
       "\n",
       "    .dataframe thead th {\n",
       "        text-align: right;\n",
       "    }\n",
       "</style>\n",
       "<table border=\"1\" class=\"dataframe\">\n",
       "  <thead>\n",
       "    <tr style=\"text-align: right;\">\n",
       "      <th></th>\n",
       "      <th>fall_z_score</th>\n",
       "      <th>spring_z_score</th>\n",
       "      <th>fall_t_statistic</th>\n",
       "      <th>spring_t_statistic</th>\n",
       "      <th>fall_2tailgaussian_pval</th>\n",
       "      <th>spring_2tailgaussian_pval</th>\n",
       "      <th>fall_ttest_pval</th>\n",
       "      <th>spring_ttest_pval</th>\n",
       "    </tr>\n",
       "  </thead>\n",
       "  <tbody>\n",
       "    <tr>\n",
       "      <th>0</th>\n",
       "      <td>0.133912</td>\n",
       "      <td>0.020178</td>\n",
       "      <td>-1.693395</td>\n",
       "      <td>-0.165179</td>\n",
       "      <td>0.446736</td>\n",
       "      <td>0.491951</td>\n",
       "      <td>0.097593</td>\n",
       "      <td>0.869744</td>\n",
       "    </tr>\n",
       "  </tbody>\n",
       "</table>\n",
       "</div>"
      ],
      "text/plain": [
       "   fall_z_score  spring_z_score  fall_t_statistic  spring_t_statistic  \\\n",
       "0      0.133912        0.020178         -1.693395           -0.165179   \n",
       "\n",
       "   fall_2tailgaussian_pval  spring_2tailgaussian_pval  fall_ttest_pval  \\\n",
       "0                 0.446736                   0.491951         0.097593   \n",
       "\n",
       "   spring_ttest_pval  \n",
       "0           0.869744  "
      ]
     },
     "execution_count": 289,
     "metadata": {},
     "output_type": "execute_result"
    }
   ],
   "source": [
    "nasdaq_mean_significance_array"
   ]
  },
  {
   "cell_type": "code",
   "execution_count": 290,
   "metadata": {},
   "outputs": [
    {
     "data": {
      "text/html": [
       "<div>\n",
       "<style scoped>\n",
       "    .dataframe tbody tr th:only-of-type {\n",
       "        vertical-align: middle;\n",
       "    }\n",
       "\n",
       "    .dataframe tbody tr th {\n",
       "        vertical-align: top;\n",
       "    }\n",
       "\n",
       "    .dataframe thead th {\n",
       "        text-align: right;\n",
       "    }\n",
       "</style>\n",
       "<table border=\"1\" class=\"dataframe\">\n",
       "  <thead>\n",
       "    <tr style=\"text-align: right;\">\n",
       "      <th></th>\n",
       "      <th>fall_z_score</th>\n",
       "      <th>spring_z_score</th>\n",
       "      <th>fall_t_statistic</th>\n",
       "      <th>spring_t_statistic</th>\n",
       "      <th>fall_2tailgaussian_pval</th>\n",
       "      <th>spring_2tailgaussian_pval</th>\n",
       "      <th>fall_ttest_pval</th>\n",
       "      <th>spring_ttest_pval</th>\n",
       "    </tr>\n",
       "  </thead>\n",
       "  <tbody>\n",
       "    <tr>\n",
       "      <th>0</th>\n",
       "      <td>0.030394</td>\n",
       "      <td>-0.000373</td>\n",
       "      <td>-1.061689</td>\n",
       "      <td>0.01078</td>\n",
       "      <td>0.487876</td>\n",
       "      <td>0.499851</td>\n",
       "      <td>0.289384</td>\n",
       "      <td>0.991418</td>\n",
       "    </tr>\n",
       "  </tbody>\n",
       "</table>\n",
       "</div>"
      ],
      "text/plain": [
       "   fall_z_score  spring_z_score  fall_t_statistic  spring_t_statistic  \\\n",
       "0      0.030394       -0.000373         -1.061689             0.01078   \n",
       "\n",
       "   fall_2tailgaussian_pval  spring_2tailgaussian_pval  fall_ttest_pval  \\\n",
       "0                 0.487876                   0.499851         0.289384   \n",
       "\n",
       "   spring_ttest_pval  \n",
       "0           0.991418  "
      ]
     },
     "execution_count": 290,
     "metadata": {},
     "output_type": "execute_result"
    }
   ],
   "source": [
    "nyse_mean_significance_array"
   ]
  },
  {
   "cell_type": "code",
   "execution_count": null,
   "metadata": {},
   "outputs": [],
   "source": []
  }
 ],
 "metadata": {
  "kernelspec": {
   "display_name": "Python 3 (ipykernel)",
   "language": "python",
   "name": "python3"
  },
  "language_info": {
   "codemirror_mode": {
    "name": "ipython",
    "version": 3
   },
   "file_extension": ".py",
   "mimetype": "text/x-python",
   "name": "python",
   "nbconvert_exporter": "python",
   "pygments_lexer": "ipython3",
   "version": "3.12.2"
  }
 },
 "nbformat": 4,
 "nbformat_minor": 2
}
