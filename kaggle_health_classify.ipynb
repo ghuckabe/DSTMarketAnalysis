{
 "cells": [
  {
   "cell_type": "code",
   "execution_count": 2,
   "metadata": {},
   "outputs": [],
   "source": [
    "import pandas as pd\n",
    "import numpy as np\n",
    "import matplotlib.pyplot as plt\n",
    "from seaborn import set_style\n",
    "from datetime import datetime, timedelta\n",
    "set_style(\"whitegrid\")\n",
    "import warnings\n",
    "import contextlib\n",
    "import io"
   ]
  },
  {
   "cell_type": "code",
   "execution_count": 2,
   "metadata": {},
   "outputs": [
    {
     "data": {
      "text/html": [
       "<div>\n",
       "<style scoped>\n",
       "    .dataframe tbody tr th:only-of-type {\n",
       "        vertical-align: middle;\n",
       "    }\n",
       "\n",
       "    .dataframe tbody tr th {\n",
       "        vertical-align: top;\n",
       "    }\n",
       "\n",
       "    .dataframe thead th {\n",
       "        text-align: right;\n",
       "    }\n",
       "</style>\n",
       "<table border=\"1\" class=\"dataframe\">\n",
       "  <thead>\n",
       "    <tr style=\"text-align: right;\">\n",
       "      <th></th>\n",
       "      <th>ticker</th>\n",
       "      <th>open</th>\n",
       "      <th>close</th>\n",
       "      <th>adj_close</th>\n",
       "      <th>low</th>\n",
       "      <th>high</th>\n",
       "      <th>volume</th>\n",
       "      <th>date</th>\n",
       "    </tr>\n",
       "  </thead>\n",
       "  <tbody>\n",
       "    <tr>\n",
       "      <th>0</th>\n",
       "      <td>AHH</td>\n",
       "      <td>11.50</td>\n",
       "      <td>11.58</td>\n",
       "      <td>8.493155</td>\n",
       "      <td>11.25</td>\n",
       "      <td>11.68</td>\n",
       "      <td>4633900</td>\n",
       "      <td>2013-05-08</td>\n",
       "    </tr>\n",
       "    <tr>\n",
       "      <th>1</th>\n",
       "      <td>AHH</td>\n",
       "      <td>11.66</td>\n",
       "      <td>11.55</td>\n",
       "      <td>8.471151</td>\n",
       "      <td>11.50</td>\n",
       "      <td>11.66</td>\n",
       "      <td>275800</td>\n",
       "      <td>2013-05-09</td>\n",
       "    </tr>\n",
       "    <tr>\n",
       "      <th>2</th>\n",
       "      <td>AHH</td>\n",
       "      <td>11.55</td>\n",
       "      <td>11.60</td>\n",
       "      <td>8.507822</td>\n",
       "      <td>11.50</td>\n",
       "      <td>11.60</td>\n",
       "      <td>277100</td>\n",
       "      <td>2013-05-10</td>\n",
       "    </tr>\n",
       "    <tr>\n",
       "      <th>3</th>\n",
       "      <td>AHH</td>\n",
       "      <td>11.63</td>\n",
       "      <td>11.65</td>\n",
       "      <td>8.544494</td>\n",
       "      <td>11.55</td>\n",
       "      <td>11.65</td>\n",
       "      <td>147400</td>\n",
       "      <td>2013-05-13</td>\n",
       "    </tr>\n",
       "    <tr>\n",
       "      <th>4</th>\n",
       "      <td>AHH</td>\n",
       "      <td>11.60</td>\n",
       "      <td>11.53</td>\n",
       "      <td>8.456484</td>\n",
       "      <td>11.50</td>\n",
       "      <td>11.60</td>\n",
       "      <td>184100</td>\n",
       "      <td>2013-05-14</td>\n",
       "    </tr>\n",
       "    <tr>\n",
       "      <th>...</th>\n",
       "      <td>...</td>\n",
       "      <td>...</td>\n",
       "      <td>...</td>\n",
       "      <td>...</td>\n",
       "      <td>...</td>\n",
       "      <td>...</td>\n",
       "      <td>...</td>\n",
       "      <td>...</td>\n",
       "    </tr>\n",
       "    <tr>\n",
       "      <th>20973884</th>\n",
       "      <td>NZF</td>\n",
       "      <td>14.60</td>\n",
       "      <td>14.59</td>\n",
       "      <td>14.590000</td>\n",
       "      <td>14.58</td>\n",
       "      <td>14.62</td>\n",
       "      <td>137500</td>\n",
       "      <td>2018-08-20</td>\n",
       "    </tr>\n",
       "    <tr>\n",
       "      <th>20973885</th>\n",
       "      <td>NZF</td>\n",
       "      <td>14.60</td>\n",
       "      <td>14.58</td>\n",
       "      <td>14.580000</td>\n",
       "      <td>14.57</td>\n",
       "      <td>14.61</td>\n",
       "      <td>151200</td>\n",
       "      <td>2018-08-21</td>\n",
       "    </tr>\n",
       "    <tr>\n",
       "      <th>20973886</th>\n",
       "      <td>NZF</td>\n",
       "      <td>14.58</td>\n",
       "      <td>14.59</td>\n",
       "      <td>14.590000</td>\n",
       "      <td>14.57</td>\n",
       "      <td>14.63</td>\n",
       "      <td>185400</td>\n",
       "      <td>2018-08-22</td>\n",
       "    </tr>\n",
       "    <tr>\n",
       "      <th>20973887</th>\n",
       "      <td>NZF</td>\n",
       "      <td>14.60</td>\n",
       "      <td>14.57</td>\n",
       "      <td>14.570000</td>\n",
       "      <td>14.57</td>\n",
       "      <td>14.64</td>\n",
       "      <td>135600</td>\n",
       "      <td>2018-08-23</td>\n",
       "    </tr>\n",
       "    <tr>\n",
       "      <th>20973888</th>\n",
       "      <td>NZF</td>\n",
       "      <td>14.60</td>\n",
       "      <td>14.69</td>\n",
       "      <td>14.690000</td>\n",
       "      <td>14.59</td>\n",
       "      <td>14.69</td>\n",
       "      <td>180900</td>\n",
       "      <td>2018-08-24</td>\n",
       "    </tr>\n",
       "  </tbody>\n",
       "</table>\n",
       "<p>20973889 rows × 8 columns</p>\n",
       "</div>"
      ],
      "text/plain": [
       "         ticker   open  close  adj_close    low   high   volume        date\n",
       "0           AHH  11.50  11.58   8.493155  11.25  11.68  4633900  2013-05-08\n",
       "1           AHH  11.66  11.55   8.471151  11.50  11.66   275800  2013-05-09\n",
       "2           AHH  11.55  11.60   8.507822  11.50  11.60   277100  2013-05-10\n",
       "3           AHH  11.63  11.65   8.544494  11.55  11.65   147400  2013-05-13\n",
       "4           AHH  11.60  11.53   8.456484  11.50  11.60   184100  2013-05-14\n",
       "...         ...    ...    ...        ...    ...    ...      ...         ...\n",
       "20973884    NZF  14.60  14.59  14.590000  14.58  14.62   137500  2018-08-20\n",
       "20973885    NZF  14.60  14.58  14.580000  14.57  14.61   151200  2018-08-21\n",
       "20973886    NZF  14.58  14.59  14.590000  14.57  14.63   185400  2018-08-22\n",
       "20973887    NZF  14.60  14.57  14.570000  14.57  14.64   135600  2018-08-23\n",
       "20973888    NZF  14.60  14.69  14.690000  14.59  14.69   180900  2018-08-24\n",
       "\n",
       "[20973889 rows x 8 columns]"
      ]
     },
     "execution_count": 2,
     "metadata": {},
     "output_type": "execute_result"
    }
   ],
   "source": [
    "# huge dataset with 20 million rows\n",
    "df = pd.read_csv('data/historical_stock_prices.csv')\n",
    "df"
   ]
  },
  {
   "cell_type": "code",
   "execution_count": 3,
   "metadata": {},
   "outputs": [
    {
     "data": {
      "text/plain": [
       "4"
      ]
     },
     "execution_count": 3,
     "metadata": {},
     "output_type": "execute_result"
    }
   ],
   "source": [
    "# turn a date string into a datetime object; then the library can tell us the day of the week of the date\n",
    "# thought it would be useful; 0=Monday,...,6=Sunday\n",
    "datetime.strptime(df['date'].loc[2],'%Y-%m-%d').weekday()"
   ]
  },
  {
   "cell_type": "code",
   "execution_count": 4,
   "metadata": {},
   "outputs": [
    {
     "data": {
      "text/html": [
       "<div>\n",
       "<style scoped>\n",
       "    .dataframe tbody tr th:only-of-type {\n",
       "        vertical-align: middle;\n",
       "    }\n",
       "\n",
       "    .dataframe tbody tr th {\n",
       "        vertical-align: top;\n",
       "    }\n",
       "\n",
       "    .dataframe thead th {\n",
       "        text-align: right;\n",
       "    }\n",
       "</style>\n",
       "<table border=\"1\" class=\"dataframe\">\n",
       "  <thead>\n",
       "    <tr style=\"text-align: right;\">\n",
       "      <th></th>\n",
       "      <th>ticker</th>\n",
       "      <th>open</th>\n",
       "      <th>close</th>\n",
       "      <th>adj_close</th>\n",
       "      <th>low</th>\n",
       "      <th>high</th>\n",
       "      <th>volume</th>\n",
       "      <th>date</th>\n",
       "    </tr>\n",
       "  </thead>\n",
       "  <tbody>\n",
       "    <tr>\n",
       "      <th>0</th>\n",
       "      <td>AHH</td>\n",
       "      <td>11.50</td>\n",
       "      <td>11.58</td>\n",
       "      <td>8.493155</td>\n",
       "      <td>11.25</td>\n",
       "      <td>11.68</td>\n",
       "      <td>4633900</td>\n",
       "      <td>2013-05-08</td>\n",
       "    </tr>\n",
       "    <tr>\n",
       "      <th>1</th>\n",
       "      <td>AHH</td>\n",
       "      <td>11.66</td>\n",
       "      <td>11.55</td>\n",
       "      <td>8.471151</td>\n",
       "      <td>11.50</td>\n",
       "      <td>11.66</td>\n",
       "      <td>275800</td>\n",
       "      <td>2013-05-09</td>\n",
       "    </tr>\n",
       "    <tr>\n",
       "      <th>2</th>\n",
       "      <td>AHH</td>\n",
       "      <td>11.55</td>\n",
       "      <td>11.60</td>\n",
       "      <td>8.507822</td>\n",
       "      <td>11.50</td>\n",
       "      <td>11.60</td>\n",
       "      <td>277100</td>\n",
       "      <td>2013-05-10</td>\n",
       "    </tr>\n",
       "    <tr>\n",
       "      <th>3</th>\n",
       "      <td>AHH</td>\n",
       "      <td>11.63</td>\n",
       "      <td>11.65</td>\n",
       "      <td>8.544494</td>\n",
       "      <td>11.55</td>\n",
       "      <td>11.65</td>\n",
       "      <td>147400</td>\n",
       "      <td>2013-05-13</td>\n",
       "    </tr>\n",
       "    <tr>\n",
       "      <th>4</th>\n",
       "      <td>AHH</td>\n",
       "      <td>11.60</td>\n",
       "      <td>11.53</td>\n",
       "      <td>8.456484</td>\n",
       "      <td>11.50</td>\n",
       "      <td>11.60</td>\n",
       "      <td>184100</td>\n",
       "      <td>2013-05-14</td>\n",
       "    </tr>\n",
       "  </tbody>\n",
       "</table>\n",
       "</div>"
      ],
      "text/plain": [
       "  ticker   open  close  adj_close    low   high   volume        date\n",
       "0    AHH  11.50  11.58   8.493155  11.25  11.68  4633900  2013-05-08\n",
       "1    AHH  11.66  11.55   8.471151  11.50  11.66   275800  2013-05-09\n",
       "2    AHH  11.55  11.60   8.507822  11.50  11.60   277100  2013-05-10\n",
       "3    AHH  11.63  11.65   8.544494  11.55  11.65   147400  2013-05-13\n",
       "4    AHH  11.60  11.53   8.456484  11.50  11.60   184100  2013-05-14"
      ]
     },
     "execution_count": 4,
     "metadata": {},
     "output_type": "execute_result"
    }
   ],
   "source": [
    "df.head()"
   ]
  },
  {
   "cell_type": "code",
   "execution_count": 29,
   "metadata": {},
   "outputs": [
    {
     "data": {
      "text/html": [
       "<div>\n",
       "<style scoped>\n",
       "    .dataframe tbody tr th:only-of-type {\n",
       "        vertical-align: middle;\n",
       "    }\n",
       "\n",
       "    .dataframe tbody tr th {\n",
       "        vertical-align: top;\n",
       "    }\n",
       "\n",
       "    .dataframe thead th {\n",
       "        text-align: right;\n",
       "    }\n",
       "</style>\n",
       "<table border=\"1\" class=\"dataframe\">\n",
       "  <thead>\n",
       "    <tr style=\"text-align: right;\">\n",
       "      <th></th>\n",
       "      <th>ticker</th>\n",
       "      <th>exchange</th>\n",
       "      <th>name</th>\n",
       "      <th>sector</th>\n",
       "      <th>industry</th>\n",
       "    </tr>\n",
       "  </thead>\n",
       "  <tbody>\n",
       "    <tr>\n",
       "      <th>0</th>\n",
       "      <td>PIH</td>\n",
       "      <td>NASDAQ</td>\n",
       "      <td>1347 PROPERTY INSURANCE HOLDINGS, INC.</td>\n",
       "      <td>FINANCE</td>\n",
       "      <td>PROPERTY-CASUALTY INSURERS</td>\n",
       "    </tr>\n",
       "    <tr>\n",
       "      <th>1</th>\n",
       "      <td>PIHPP</td>\n",
       "      <td>NASDAQ</td>\n",
       "      <td>1347 PROPERTY INSURANCE HOLDINGS, INC.</td>\n",
       "      <td>FINANCE</td>\n",
       "      <td>PROPERTY-CASUALTY INSURERS</td>\n",
       "    </tr>\n",
       "    <tr>\n",
       "      <th>2</th>\n",
       "      <td>TURN</td>\n",
       "      <td>NASDAQ</td>\n",
       "      <td>180 DEGREE CAPITAL CORP.</td>\n",
       "      <td>FINANCE</td>\n",
       "      <td>FINANCE/INVESTORS SERVICES</td>\n",
       "    </tr>\n",
       "    <tr>\n",
       "      <th>3</th>\n",
       "      <td>FLWS</td>\n",
       "      <td>NASDAQ</td>\n",
       "      <td>1-800 FLOWERS.COM, INC.</td>\n",
       "      <td>CONSUMER SERVICES</td>\n",
       "      <td>OTHER SPECIALTY STORES</td>\n",
       "    </tr>\n",
       "    <tr>\n",
       "      <th>4</th>\n",
       "      <td>FCCY</td>\n",
       "      <td>NASDAQ</td>\n",
       "      <td>1ST CONSTITUTION BANCORP (NJ)</td>\n",
       "      <td>FINANCE</td>\n",
       "      <td>SAVINGS INSTITUTIONS</td>\n",
       "    </tr>\n",
       "  </tbody>\n",
       "</table>\n",
       "</div>"
      ],
      "text/plain": [
       "  ticker exchange                                    name             sector  \\\n",
       "0    PIH   NASDAQ  1347 PROPERTY INSURANCE HOLDINGS, INC.            FINANCE   \n",
       "1  PIHPP   NASDAQ  1347 PROPERTY INSURANCE HOLDINGS, INC.            FINANCE   \n",
       "2   TURN   NASDAQ                180 DEGREE CAPITAL CORP.            FINANCE   \n",
       "3   FLWS   NASDAQ                 1-800 FLOWERS.COM, INC.  CONSUMER SERVICES   \n",
       "4   FCCY   NASDAQ           1ST CONSTITUTION BANCORP (NJ)            FINANCE   \n",
       "\n",
       "                     industry  \n",
       "0  PROPERTY-CASUALTY INSURERS  \n",
       "1  PROPERTY-CASUALTY INSURERS  \n",
       "2  FINANCE/INVESTORS SERVICES  \n",
       "3      OTHER SPECIALTY STORES  \n",
       "4        SAVINGS INSTITUTIONS  "
      ]
     },
     "execution_count": 29,
     "metadata": {},
     "output_type": "execute_result"
    }
   ],
   "source": [
    "# getting the codes that tell us what the stocks are; e.g. PIH = Property Insurance Holdings\n",
    "df2=pd.read_csv('data/historical_stocks.csv')\n",
    "df2.head()"
   ]
  },
  {
   "cell_type": "code",
   "execution_count": 6,
   "metadata": {},
   "outputs": [
    {
     "data": {
      "text/plain": [
       "array(['FINANCE', 'CONSUMER SERVICES', 'TECHNOLOGY', 'PUBLIC UTILITIES',\n",
       "       'CAPITAL GOODS', 'BASIC INDUSTRIES', 'HEALTH CARE',\n",
       "       'CONSUMER DURABLES', nan, 'ENERGY', 'MISCELLANEOUS', 'SECTOR',\n",
       "       'TRANSPORTATION', 'CONSUMER NON-DURABLES'], dtype=object)"
      ]
     },
     "execution_count": 6,
     "metadata": {},
     "output_type": "execute_result"
    }
   ],
   "source": [
    "# learn what the sectors are; seems there are 11 sectors if we don't count, nan, Misc, and Sector\n",
    "df2['sector'].unique()"
   ]
  },
  {
   "cell_type": "code",
   "execution_count": 7,
   "metadata": {},
   "outputs": [
    {
     "name": "stdout",
     "output_type": "stream",
     "text": [
      "sector\n",
      "FINANCE                  20.358566\n",
      "CONSUMER SERVICES        15.856574\n",
      "HEALTH CARE              15.617530\n",
      "TECHNOLOGY               12.091633\n",
      "CAPITAL GOODS             7.011952\n",
      "ENERGY                    5.697211\n",
      "PUBLIC UTILITIES          5.438247\n",
      "BASIC INDUSTRIES          5.418327\n",
      "CONSUMER NON-DURABLES     4.462151\n",
      "CONSUMER DURABLES         2.868526\n",
      "MISCELLANEOUS             2.768924\n",
      "TRANSPORTATION            2.390438\n",
      "SECTOR                    0.019920\n",
      "Name: proportion, dtype: float64\n"
     ]
    }
   ],
   "source": [
    "# Calculate the percentage of each sector\n",
    "sector_percentages = df2['sector'].value_counts(normalize=True) * 100\n",
    "print(sector_percentages)"
   ]
  },
  {
   "cell_type": "code",
   "execution_count": 3,
   "metadata": {},
   "outputs": [
    {
     "ename": "NameError",
     "evalue": "name 'df2' is not defined",
     "output_type": "error",
     "traceback": [
      "\u001b[0;31m---------------------------------------------------------------------------\u001b[0m",
      "\u001b[0;31mNameError\u001b[0m                                 Traceback (most recent call last)",
      "Cell \u001b[0;32mIn[3], line 2\u001b[0m\n\u001b[1;32m      1\u001b[0m \u001b[38;5;66;03m# get all the stocks in transportation\u001b[39;00m\n\u001b[0;32m----> 2\u001b[0m health_tickers \u001b[38;5;241m=\u001b[39m \u001b[43mdf2\u001b[49m[df2[\u001b[38;5;124m'\u001b[39m\u001b[38;5;124msector\u001b[39m\u001b[38;5;124m'\u001b[39m]\u001b[38;5;241m==\u001b[39m\u001b[38;5;124m'\u001b[39m\u001b[38;5;124mHEALTH CARE\u001b[39m\u001b[38;5;124m'\u001b[39m][[\u001b[38;5;124m'\u001b[39m\u001b[38;5;124mticker\u001b[39m\u001b[38;5;124m'\u001b[39m,\u001b[38;5;124m'\u001b[39m\u001b[38;5;124mname\u001b[39m\u001b[38;5;124m'\u001b[39m]]\n\u001b[1;32m      3\u001b[0m health_tickers\u001b[38;5;241m.\u001b[39mhead(\u001b[38;5;241m20\u001b[39m)\n",
      "\u001b[0;31mNameError\u001b[0m: name 'df2' is not defined"
     ]
    }
   ],
   "source": [
    "# get all the stocks in transportation\n",
    "health_tickers = df2[df2['sector']=='HEALTH CARE'][['ticker','name']]\n",
    "health_tickers.head(20)"
   ]
  },
  {
   "cell_type": "code",
   "execution_count": 10,
   "metadata": {},
   "outputs": [],
   "source": [
    "def get_stocks(df, df2, stock_code):\n",
    "    # get prices for a particular stock; this function takes in two data frames where one has the prices\n",
    "    # the other has the codes\n",
    "    print(df2[df2['ticker']==stock_code])\n",
    "    return df[df['ticker']==stock_code].reset_index()"
   ]
  },
  {
   "cell_type": "code",
   "execution_count": 12,
   "metadata": {},
   "outputs": [
    {
     "name": "stdout",
     "output_type": "stream",
     "text": [
      "Skipping empty DataFrame: ABEOW\n",
      "Skipping empty DataFrame: ABLX\n",
      "Skipping empty DataFrame: ADXSW\n",
      "Skipping empty DataFrame: ARMO\n",
      "Skipping empty DataFrame: AVXS\n",
      "Skipping empty DataFrame: AHPAU\n",
      "Skipping empty DataFrame: AHPAW\n",
      "Skipping empty DataFrame: BNTCW\n",
      "Skipping empty DataFrame: BVXVW\n",
      "Skipping empty DataFrame: CRME\n",
      "Skipping empty DataFrame: CLRBW\n",
      "Skipping empty DataFrame: CLRBZ\n",
      "Skipping empty DataFrame: CERCW\n",
      "Skipping empty DataFrame: CHEKW\n",
      "Skipping empty DataFrame: CHEKZ\n",
      "Skipping empty DataFrame: CTXRW\n",
      "Skipping empty DataFrame: CYHHZ\n",
      "Skipping empty DataFrame: CXRX\n",
      "Skipping empty DataFrame: CYTXW\n",
      "Skipping empty DataFrame: DRIOW\n",
      "Skipping empty DataFrame: EBIO\n",
      "Skipping empty DataFrame: NDRAW\n",
      "Skipping empty DataFrame: EYEGW\n",
      "Skipping empty DataFrame: IMRNW\n",
      "Skipping empty DataFrame: KTOVW\n",
      "Skipping empty DataFrame: MTFBW\n",
      "Skipping empty DataFrame: MYNDW\n",
      "Skipping empty DataFrame: NUROW\n",
      "Skipping empty DataFrame: ONSIW\n",
      "Skipping empty DataFrame: ONSIZ\n",
      "Skipping empty DataFrame: ONTXW\n",
      "Skipping empty DataFrame: OPGNW\n",
      "Skipping empty DataFrame: PAVMW\n",
      "Skipping empty DataFrame: PAVMZ\n",
      "Skipping empty DataFrame: ROSG\n",
      "Skipping empty DataFrame: RXIIW\n",
      "Skipping empty DataFrame: EYESW\n",
      "Skipping empty DataFrame: SRTSW\n",
      "Skipping empty DataFrame: SLNOW\n",
      "Skipping empty DataFrame: SNGXW\n",
      "Skipping empty DataFrame: SNOAW\n",
      "Skipping empty DataFrame: VKTXW\n"
     ]
    }
   ],
   "source": [
    "df_health=pd.DataFrame()\n",
    "\n",
    "for stock in health_tickers['ticker'].values:\n",
    "    with contextlib.redirect_stdout(io.StringIO()):\n",
    "        df_stock = get_stocks(df,df2,stock)\n",
    "    if df_stock.empty:\n",
    "        print(\"Skipping empty DataFrame:\", stock)\n",
    "        continue\n",
    "    df_health = pd.concat([df_health,df_stock],ignore_index=True)"
   ]
  },
  {
   "cell_type": "code",
   "execution_count": 13,
   "metadata": {},
   "outputs": [
    {
     "name": "stdout",
     "output_type": "stream",
     "text": [
      "<class 'pandas.core.frame.DataFrame'>\n",
      "RangeIndex: 2093693 entries, 0 to 2093692\n",
      "Data columns (total 9 columns):\n",
      " #   Column     Dtype  \n",
      "---  ------     -----  \n",
      " 0   index      int64  \n",
      " 1   ticker     object \n",
      " 2   open       float64\n",
      " 3   close      float64\n",
      " 4   adj_close  float64\n",
      " 5   low        float64\n",
      " 6   high       float64\n",
      " 7   volume     int64  \n",
      " 8   date       object \n",
      "dtypes: float64(5), int64(2), object(2)\n",
      "memory usage: 143.8+ MB\n"
     ]
    }
   ],
   "source": [
    "df_health.info()"
   ]
  },
  {
   "cell_type": "code",
   "execution_count": 14,
   "metadata": {},
   "outputs": [],
   "source": [
    "df_health['datetime'] = pd.to_datetime(df_health['date'], errors='coerce')"
   ]
  },
  {
   "cell_type": "code",
   "execution_count": 15,
   "metadata": {},
   "outputs": [],
   "source": [
    "df_health.to_csv('data/health1970-2018.csv', index=False)"
   ]
  },
  {
   "cell_type": "code",
   "execution_count": 16,
   "metadata": {},
   "outputs": [
    {
     "name": "stderr",
     "output_type": "stream",
     "text": [
      "/var/folders/4l/xdk1tfxx7jbd3zsydcl3t4vh0000gn/T/ipykernel_9580/2314741550.py:5: SettingWithCopyWarning: \n",
      "A value is trying to be set on a copy of a slice from a DataFrame.\n",
      "Try using .loc[row_indexer,col_indexer] = value instead\n",
      "\n",
      "See the caveats in the documentation: https://pandas.pydata.org/pandas-docs/stable/user_guide/indexing.html#returning-a-view-versus-a-copy\n",
      "  filtered_health['DayType'] = np.where(filtered_health['datetime'].dt.dayofweek == 0, 'Monday', 'Friday')\n"
     ]
    }
   ],
   "source": [
    "# Filter for Fridays and Mondays\n",
    "filtered_health = df_health[df_health['datetime'].dt.dayofweek.isin([0, 4])]\n",
    "\n",
    "# Create a new column 'DayType' indicating 'Monday' or 'Friday'\n",
    "filtered_health['DayType'] = np.where(filtered_health['datetime'].dt.dayofweek == 0, 'Monday', 'Friday')"
   ]
  },
  {
   "cell_type": "code",
   "execution_count": 17,
   "metadata": {},
   "outputs": [
    {
     "name": "stdout",
     "output_type": "stream",
     "text": [
      "<class 'pandas.core.frame.DataFrame'>\n",
      "Index: 812379 entries, 3 to 2093692\n",
      "Data columns (total 11 columns):\n",
      " #   Column     Non-Null Count   Dtype         \n",
      "---  ------     --------------   -----         \n",
      " 0   index      812379 non-null  int64         \n",
      " 1   ticker     812379 non-null  object        \n",
      " 2   open       812379 non-null  float64       \n",
      " 3   close      812379 non-null  float64       \n",
      " 4   adj_close  812379 non-null  float64       \n",
      " 5   low        812379 non-null  float64       \n",
      " 6   high       812379 non-null  float64       \n",
      " 7   volume     812379 non-null  int64         \n",
      " 8   date       812379 non-null  object        \n",
      " 9   datetime   812379 non-null  datetime64[ns]\n",
      " 10  DayType    812379 non-null  object        \n",
      "dtypes: datetime64[ns](1), float64(5), int64(2), object(3)\n",
      "memory usage: 74.4+ MB\n"
     ]
    }
   ],
   "source": [
    "filtered_health.info()"
   ]
  },
  {
   "cell_type": "code",
   "execution_count": 18,
   "metadata": {},
   "outputs": [],
   "source": [
    "# Drop the first and last row of the DataFrame\n",
    "health = filtered_health\n"
   ]
  },
  {
   "cell_type": "code",
   "execution_count": 19,
   "metadata": {},
   "outputs": [
    {
     "data": {
      "text/html": [
       "<div>\n",
       "<style scoped>\n",
       "    .dataframe tbody tr th:only-of-type {\n",
       "        vertical-align: middle;\n",
       "    }\n",
       "\n",
       "    .dataframe tbody tr th {\n",
       "        vertical-align: top;\n",
       "    }\n",
       "\n",
       "    .dataframe thead th {\n",
       "        text-align: right;\n",
       "    }\n",
       "</style>\n",
       "<table border=\"1\" class=\"dataframe\">\n",
       "  <thead>\n",
       "    <tr style=\"text-align: right;\">\n",
       "      <th></th>\n",
       "      <th>index</th>\n",
       "      <th>ticker</th>\n",
       "      <th>open</th>\n",
       "      <th>close</th>\n",
       "      <th>adj_close</th>\n",
       "      <th>low</th>\n",
       "      <th>high</th>\n",
       "      <th>volume</th>\n",
       "      <th>date</th>\n",
       "      <th>datetime</th>\n",
       "      <th>DayType</th>\n",
       "    </tr>\n",
       "  </thead>\n",
       "  <tbody>\n",
       "    <tr>\n",
       "      <th>3</th>\n",
       "      <td>17579679</td>\n",
       "      <td>ABEO</td>\n",
       "      <td>265.625000</td>\n",
       "      <td>281.25</td>\n",
       "      <td>257.842102</td>\n",
       "      <td>265.625000</td>\n",
       "      <td>328.125000</td>\n",
       "      <td>100</td>\n",
       "      <td>1998-09-18</td>\n",
       "      <td>1998-09-18</td>\n",
       "      <td>Friday</td>\n",
       "    </tr>\n",
       "    <tr>\n",
       "      <th>4</th>\n",
       "      <td>17579734</td>\n",
       "      <td>ABEO</td>\n",
       "      <td>406.250000</td>\n",
       "      <td>562.50</td>\n",
       "      <td>515.684204</td>\n",
       "      <td>406.250000</td>\n",
       "      <td>562.500000</td>\n",
       "      <td>100</td>\n",
       "      <td>1998-09-25</td>\n",
       "      <td>1998-09-25</td>\n",
       "      <td>Friday</td>\n",
       "    </tr>\n",
       "    <tr>\n",
       "      <th>8</th>\n",
       "      <td>17580849</td>\n",
       "      <td>ABEO</td>\n",
       "      <td>687.500000</td>\n",
       "      <td>656.25</td>\n",
       "      <td>601.631592</td>\n",
       "      <td>617.174988</td>\n",
       "      <td>687.500000</td>\n",
       "      <td>200</td>\n",
       "      <td>1999-02-08</td>\n",
       "      <td>1999-02-08</td>\n",
       "      <td>Monday</td>\n",
       "    </tr>\n",
       "    <tr>\n",
       "      <th>10</th>\n",
       "      <td>17581752</td>\n",
       "      <td>ABEO</td>\n",
       "      <td>789.049988</td>\n",
       "      <td>750.00</td>\n",
       "      <td>687.578979</td>\n",
       "      <td>703.125000</td>\n",
       "      <td>789.049988</td>\n",
       "      <td>100</td>\n",
       "      <td>1999-06-11</td>\n",
       "      <td>1999-06-11</td>\n",
       "      <td>Friday</td>\n",
       "    </tr>\n",
       "    <tr>\n",
       "      <th>11</th>\n",
       "      <td>17581761</td>\n",
       "      <td>ABEO</td>\n",
       "      <td>750.000000</td>\n",
       "      <td>687.50</td>\n",
       "      <td>630.280701</td>\n",
       "      <td>687.500000</td>\n",
       "      <td>875.000000</td>\n",
       "      <td>400</td>\n",
       "      <td>1999-06-14</td>\n",
       "      <td>1999-06-14</td>\n",
       "      <td>Monday</td>\n",
       "    </tr>\n",
       "  </tbody>\n",
       "</table>\n",
       "</div>"
      ],
      "text/plain": [
       "       index ticker        open   close   adj_close         low        high  \\\n",
       "3   17579679   ABEO  265.625000  281.25  257.842102  265.625000  328.125000   \n",
       "4   17579734   ABEO  406.250000  562.50  515.684204  406.250000  562.500000   \n",
       "8   17580849   ABEO  687.500000  656.25  601.631592  617.174988  687.500000   \n",
       "10  17581752   ABEO  789.049988  750.00  687.578979  703.125000  789.049988   \n",
       "11  17581761   ABEO  750.000000  687.50  630.280701  687.500000  875.000000   \n",
       "\n",
       "    volume        date   datetime DayType  \n",
       "3      100  1998-09-18 1998-09-18  Friday  \n",
       "4      100  1998-09-25 1998-09-25  Friday  \n",
       "8      200  1999-02-08 1999-02-08  Monday  \n",
       "10     100  1999-06-11 1999-06-11  Friday  \n",
       "11     400  1999-06-14 1999-06-14  Monday  "
      ]
     },
     "execution_count": 19,
     "metadata": {},
     "output_type": "execute_result"
    }
   ],
   "source": [
    "health.head()"
   ]
  },
  {
   "cell_type": "code",
   "execution_count": 20,
   "metadata": {},
   "outputs": [],
   "source": [
    "health = health.sort_values(by=['ticker', 'datetime']).reset_index(drop=True)"
   ]
  },
  {
   "cell_type": "code",
   "execution_count": 25,
   "metadata": {},
   "outputs": [
    {
     "name": "stdout",
     "output_type": "stream",
     "text": [
      "<class 'pandas.core.frame.DataFrame'>\n",
      "RangeIndex: 812379 entries, 0 to 812378\n",
      "Data columns (total 11 columns):\n",
      " #   Column     Non-Null Count   Dtype         \n",
      "---  ------     --------------   -----         \n",
      " 0   index      812379 non-null  int64         \n",
      " 1   ticker     812379 non-null  object        \n",
      " 2   open       812379 non-null  float64       \n",
      " 3   close      812379 non-null  float64       \n",
      " 4   adj_close  812379 non-null  float64       \n",
      " 5   low        812379 non-null  float64       \n",
      " 6   high       812379 non-null  float64       \n",
      " 7   volume     812379 non-null  int64         \n",
      " 8   date       812379 non-null  object        \n",
      " 9   datetime   812379 non-null  datetime64[ns]\n",
      " 10  DayType    812379 non-null  object        \n",
      "dtypes: datetime64[ns](1), float64(5), int64(2), object(3)\n",
      "memory usage: 68.2+ MB\n"
     ]
    }
   ],
   "source": [
    "health.info()"
   ]
  },
  {
   "cell_type": "code",
   "execution_count": 22,
   "metadata": {},
   "outputs": [],
   "source": [
    "# Warning: the Mondays and Fridays are not put in the same row\n",
    "\n",
    "health.to_csv('data/Weekends_Health_Stocks.csv', index=False)"
   ]
  },
  {
   "cell_type": "code",
   "execution_count": 23,
   "metadata": {},
   "outputs": [
    {
     "data": {
      "text/html": [
       "<div>\n",
       "<style scoped>\n",
       "    .dataframe tbody tr th:only-of-type {\n",
       "        vertical-align: middle;\n",
       "    }\n",
       "\n",
       "    .dataframe tbody tr th {\n",
       "        vertical-align: top;\n",
       "    }\n",
       "\n",
       "    .dataframe thead th {\n",
       "        text-align: right;\n",
       "    }\n",
       "</style>\n",
       "<table border=\"1\" class=\"dataframe\">\n",
       "  <thead>\n",
       "    <tr style=\"text-align: right;\">\n",
       "      <th></th>\n",
       "      <th>ticker</th>\n",
       "      <th>exchange</th>\n",
       "      <th>name</th>\n",
       "      <th>sector</th>\n",
       "      <th>industry</th>\n",
       "    </tr>\n",
       "  </thead>\n",
       "  <tbody>\n",
       "    <tr>\n",
       "      <th>14</th>\n",
       "      <td>ABEO</td>\n",
       "      <td>NASDAQ</td>\n",
       "      <td>ABEONA THERAPEUTICS INC.</td>\n",
       "      <td>HEALTH CARE</td>\n",
       "      <td>MAJOR PHARMACEUTICALS</td>\n",
       "    </tr>\n",
       "  </tbody>\n",
       "</table>\n",
       "</div>"
      ],
      "text/plain": [
       "   ticker exchange                      name       sector  \\\n",
       "14   ABEO   NASDAQ  ABEONA THERAPEUTICS INC.  HEALTH CARE   \n",
       "\n",
       "                 industry  \n",
       "14  MAJOR PHARMACEUTICALS  "
      ]
     },
     "execution_count": 23,
     "metadata": {},
     "output_type": "execute_result"
    }
   ],
   "source": [
    "# get all the stocks in transportation\n",
    "df2[df2['ticker']=='ABEO']\n"
   ]
  },
  {
   "cell_type": "code",
   "execution_count": 24,
   "metadata": {},
   "outputs": [
    {
     "data": {
      "text/html": [
       "<div>\n",
       "<style scoped>\n",
       "    .dataframe tbody tr th:only-of-type {\n",
       "        vertical-align: middle;\n",
       "    }\n",
       "\n",
       "    .dataframe tbody tr th {\n",
       "        vertical-align: top;\n",
       "    }\n",
       "\n",
       "    .dataframe thead th {\n",
       "        text-align: right;\n",
       "    }\n",
       "</style>\n",
       "<table border=\"1\" class=\"dataframe\">\n",
       "  <thead>\n",
       "    <tr style=\"text-align: right;\">\n",
       "      <th></th>\n",
       "      <th>index</th>\n",
       "      <th>ticker</th>\n",
       "      <th>open</th>\n",
       "      <th>close</th>\n",
       "      <th>adj_close</th>\n",
       "      <th>low</th>\n",
       "      <th>high</th>\n",
       "      <th>volume</th>\n",
       "      <th>date</th>\n",
       "      <th>datetime</th>\n",
       "      <th>DayType</th>\n",
       "    </tr>\n",
       "  </thead>\n",
       "  <tbody>\n",
       "    <tr>\n",
       "      <th>2898</th>\n",
       "      <td>17579679</td>\n",
       "      <td>ABEO</td>\n",
       "      <td>265.625000</td>\n",
       "      <td>281.25</td>\n",
       "      <td>257.842102</td>\n",
       "      <td>265.625000</td>\n",
       "      <td>328.125000</td>\n",
       "      <td>100</td>\n",
       "      <td>1998-09-18</td>\n",
       "      <td>1998-09-18</td>\n",
       "      <td>Friday</td>\n",
       "    </tr>\n",
       "    <tr>\n",
       "      <th>2899</th>\n",
       "      <td>17579734</td>\n",
       "      <td>ABEO</td>\n",
       "      <td>406.250000</td>\n",
       "      <td>562.50</td>\n",
       "      <td>515.684204</td>\n",
       "      <td>406.250000</td>\n",
       "      <td>562.500000</td>\n",
       "      <td>100</td>\n",
       "      <td>1998-09-25</td>\n",
       "      <td>1998-09-25</td>\n",
       "      <td>Friday</td>\n",
       "    </tr>\n",
       "    <tr>\n",
       "      <th>2900</th>\n",
       "      <td>17580849</td>\n",
       "      <td>ABEO</td>\n",
       "      <td>687.500000</td>\n",
       "      <td>656.25</td>\n",
       "      <td>601.631592</td>\n",
       "      <td>617.174988</td>\n",
       "      <td>687.500000</td>\n",
       "      <td>200</td>\n",
       "      <td>1999-02-08</td>\n",
       "      <td>1999-02-08</td>\n",
       "      <td>Monday</td>\n",
       "    </tr>\n",
       "    <tr>\n",
       "      <th>2901</th>\n",
       "      <td>17581752</td>\n",
       "      <td>ABEO</td>\n",
       "      <td>789.049988</td>\n",
       "      <td>750.00</td>\n",
       "      <td>687.578979</td>\n",
       "      <td>703.125000</td>\n",
       "      <td>789.049988</td>\n",
       "      <td>100</td>\n",
       "      <td>1999-06-11</td>\n",
       "      <td>1999-06-11</td>\n",
       "      <td>Friday</td>\n",
       "    </tr>\n",
       "    <tr>\n",
       "      <th>2902</th>\n",
       "      <td>17581761</td>\n",
       "      <td>ABEO</td>\n",
       "      <td>750.000000</td>\n",
       "      <td>687.50</td>\n",
       "      <td>630.280701</td>\n",
       "      <td>687.500000</td>\n",
       "      <td>875.000000</td>\n",
       "      <td>400</td>\n",
       "      <td>1999-06-14</td>\n",
       "      <td>1999-06-14</td>\n",
       "      <td>Monday</td>\n",
       "    </tr>\n",
       "    <tr>\n",
       "      <th>...</th>\n",
       "      <td>...</td>\n",
       "      <td>...</td>\n",
       "      <td>...</td>\n",
       "      <td>...</td>\n",
       "      <td>...</td>\n",
       "      <td>...</td>\n",
       "      <td>...</td>\n",
       "      <td>...</td>\n",
       "      <td>...</td>\n",
       "      <td>...</td>\n",
       "      <td>...</td>\n",
       "    </tr>\n",
       "    <tr>\n",
       "      <th>4269</th>\n",
       "      <td>17620446</td>\n",
       "      <td>ABEO</td>\n",
       "      <td>14.300000</td>\n",
       "      <td>13.65</td>\n",
       "      <td>13.650000</td>\n",
       "      <td>13.600000</td>\n",
       "      <td>14.750000</td>\n",
       "      <td>406800</td>\n",
       "      <td>2018-08-10</td>\n",
       "      <td>2018-08-10</td>\n",
       "      <td>Friday</td>\n",
       "    </tr>\n",
       "    <tr>\n",
       "      <th>4270</th>\n",
       "      <td>17620448</td>\n",
       "      <td>ABEO</td>\n",
       "      <td>13.600000</td>\n",
       "      <td>12.90</td>\n",
       "      <td>12.900000</td>\n",
       "      <td>12.850000</td>\n",
       "      <td>14.080000</td>\n",
       "      <td>760500</td>\n",
       "      <td>2018-08-13</td>\n",
       "      <td>2018-08-13</td>\n",
       "      <td>Monday</td>\n",
       "    </tr>\n",
       "    <tr>\n",
       "      <th>4271</th>\n",
       "      <td>17620484</td>\n",
       "      <td>ABEO</td>\n",
       "      <td>13.850000</td>\n",
       "      <td>13.25</td>\n",
       "      <td>13.250000</td>\n",
       "      <td>13.000000</td>\n",
       "      <td>14.250000</td>\n",
       "      <td>401500</td>\n",
       "      <td>2018-08-17</td>\n",
       "      <td>2018-08-17</td>\n",
       "      <td>Friday</td>\n",
       "    </tr>\n",
       "    <tr>\n",
       "      <th>4272</th>\n",
       "      <td>17620501</td>\n",
       "      <td>ABEO</td>\n",
       "      <td>13.150000</td>\n",
       "      <td>13.65</td>\n",
       "      <td>13.650000</td>\n",
       "      <td>13.150000</td>\n",
       "      <td>13.750000</td>\n",
       "      <td>360200</td>\n",
       "      <td>2018-08-20</td>\n",
       "      <td>2018-08-20</td>\n",
       "      <td>Monday</td>\n",
       "    </tr>\n",
       "    <tr>\n",
       "      <th>4273</th>\n",
       "      <td>17620611</td>\n",
       "      <td>ABEO</td>\n",
       "      <td>14.150000</td>\n",
       "      <td>14.25</td>\n",
       "      <td>14.250000</td>\n",
       "      <td>14.100000</td>\n",
       "      <td>14.350000</td>\n",
       "      <td>386800</td>\n",
       "      <td>2018-08-24</td>\n",
       "      <td>2018-08-24</td>\n",
       "      <td>Friday</td>\n",
       "    </tr>\n",
       "  </tbody>\n",
       "</table>\n",
       "<p>1376 rows × 11 columns</p>\n",
       "</div>"
      ],
      "text/plain": [
       "         index ticker        open   close   adj_close         low        high  \\\n",
       "2898  17579679   ABEO  265.625000  281.25  257.842102  265.625000  328.125000   \n",
       "2899  17579734   ABEO  406.250000  562.50  515.684204  406.250000  562.500000   \n",
       "2900  17580849   ABEO  687.500000  656.25  601.631592  617.174988  687.500000   \n",
       "2901  17581752   ABEO  789.049988  750.00  687.578979  703.125000  789.049988   \n",
       "2902  17581761   ABEO  750.000000  687.50  630.280701  687.500000  875.000000   \n",
       "...        ...    ...         ...     ...         ...         ...         ...   \n",
       "4269  17620446   ABEO   14.300000   13.65   13.650000   13.600000   14.750000   \n",
       "4270  17620448   ABEO   13.600000   12.90   12.900000   12.850000   14.080000   \n",
       "4271  17620484   ABEO   13.850000   13.25   13.250000   13.000000   14.250000   \n",
       "4272  17620501   ABEO   13.150000   13.65   13.650000   13.150000   13.750000   \n",
       "4273  17620611   ABEO   14.150000   14.25   14.250000   14.100000   14.350000   \n",
       "\n",
       "      volume        date   datetime DayType  \n",
       "2898     100  1998-09-18 1998-09-18  Friday  \n",
       "2899     100  1998-09-25 1998-09-25  Friday  \n",
       "2900     200  1999-02-08 1999-02-08  Monday  \n",
       "2901     100  1999-06-11 1999-06-11  Friday  \n",
       "2902     400  1999-06-14 1999-06-14  Monday  \n",
       "...      ...         ...        ...     ...  \n",
       "4269  406800  2018-08-10 2018-08-10  Friday  \n",
       "4270  760500  2018-08-13 2018-08-13  Monday  \n",
       "4271  401500  2018-08-17 2018-08-17  Friday  \n",
       "4272  360200  2018-08-20 2018-08-20  Monday  \n",
       "4273  386800  2018-08-24 2018-08-24  Friday  \n",
       "\n",
       "[1376 rows x 11 columns]"
      ]
     },
     "execution_count": 24,
     "metadata": {},
     "output_type": "execute_result"
    }
   ],
   "source": [
    "health[health['ticker']=='ABEO']"
   ]
  },
  {
   "cell_type": "code",
   "execution_count": 5,
   "metadata": {},
   "outputs": [],
   "source": [
    "# Warning: the Mondays and Fridays are not put in the same row\n",
    "\n",
    "health=pd.read_csv('data/Weekends_Health_Stocks.csv')"
   ]
  },
  {
   "cell_type": "code",
   "execution_count": 7,
   "metadata": {},
   "outputs": [],
   "source": [
    "health['datetime'] = pd.to_datetime(health['date'], errors='coerce')"
   ]
  },
  {
   "cell_type": "code",
   "execution_count": 9,
   "metadata": {},
   "outputs": [
    {
     "data": {
      "text/plain": [
       "Timestamp('2018-01-19 00:00:00')"
      ]
     },
     "execution_count": 9,
     "metadata": {},
     "output_type": "execute_result"
    }
   ],
   "source": [
    "health.iloc[0]['datetime']"
   ]
  },
  {
   "cell_type": "code",
   "execution_count": 10,
   "metadata": {},
   "outputs": [],
   "source": [
    "# Warning: the Mondays and Fridays are not put in the same row\n",
    "\n",
    "health.to_csv('data/Weekends_Health_Stocks.csv',index=False)"
   ]
  },
  {
   "cell_type": "code",
   "execution_count": 11,
   "metadata": {},
   "outputs": [
    {
     "name": "stdout",
     "output_type": "stream",
     "text": [
      "     index ticker  open  close  adj_close   low  high  volume        date  \\\n",
      "0  5975416    AAC  9.00   9.20       9.20  9.00  9.27  110600  2018-01-19   \n",
      "1  5975420    AAC  9.20   9.08       9.08  8.94  9.20  139200  2018-01-22   \n",
      "2  5975458    AAC  9.11   9.17       9.17  9.09  9.24   62000  2018-01-26   \n",
      "3  5975473    AAC  9.17   9.50       9.50  9.17  9.78  173300  2018-01-29   \n",
      "4  5975512    AAC  8.56   8.11       8.11  8.01  8.56  142600  2018-02-02   \n",
      "\n",
      "    datetime DayType  \n",
      "0 2018-01-19  Friday  \n",
      "1 2018-01-22  Monday  \n",
      "2 2018-01-26  Friday  \n",
      "3 2018-01-29  Monday  \n",
      "4 2018-02-02  Friday  \n",
      "Total valid pairs: 371962\n",
      "Filtered data with valid Friday-Monday pairs saved to 'health_valid_pairs.csv'.\n"
     ]
    }
   ],
   "source": [
    "# Initialize a list to store the valid rows\n",
    "valid_rows = []\n",
    "\n",
    "# Group by the 'ticker' column (each stock)\n",
    "for ticker, group in health.groupby('ticker'):\n",
    "    # Ensure the group is sorted by 'datetime'\n",
    "    group = group.sort_values(by='datetime').reset_index(drop=True)\n",
    "\n",
    "    # Iterate through the group (stock data) to check Friday-Monday intervals\n",
    "    for i in range(len(group) - 1):\n",
    "        current_day = group.iloc[i]['DayType']\n",
    "        next_day = group.iloc[i + 1]['DayType']\n",
    "        current_date = group.iloc[i]['datetime']\n",
    "        next_date = group.iloc[i + 1]['datetime']\n",
    "\n",
    "        # Check if current day is Friday and next day is Monday\n",
    "        if current_day == 'Friday' and next_day == 'Monday':\n",
    "            # Calculate the difference in days\n",
    "            days_diff = (next_date - current_date).days\n",
    "            # If the difference is within 3 days, add both rows to the valid list\n",
    "            if days_diff <= 3:\n",
    "                valid_rows.append(group.iloc[i])       # Add the Friday row\n",
    "                valid_rows.append(group.iloc[i + 1])   # Add the Monday row\n",
    "\n",
    "# Create a new DataFrame from the valid rows\n",
    "valid_pairs_df = pd.DataFrame(valid_rows).reset_index(drop=True)\n",
    "\n",
    "# Output the new DataFrame\n",
    "print(valid_pairs_df.head())\n",
    "print(f\"Total valid pairs: {len(valid_pairs_df) // 2}\")\n",
    "\n",
    "# Save the valid pairs to a CSV file\n",
    "valid_pairs_df.to_csv(\"health_valid_pairs.csv\", index=False)\n",
    "print(\"Filtered data with valid Friday-Monday pairs saved to 'health_valid_pairs.csv'.\")\n"
   ]
  },
  {
   "cell_type": "code",
   "execution_count": 12,
   "metadata": {},
   "outputs": [],
   "source": [
    "valid_health=pd.read_csv('health_valid_pairs.csv')"
   ]
  },
  {
   "cell_type": "code",
   "execution_count": 13,
   "metadata": {},
   "outputs": [
    {
     "name": "stdout",
     "output_type": "stream",
     "text": [
      "  ticker Friday_date Monday_date Friday_day Monday_day  Friday_index  \\\n",
      "0    AAC  2018-01-19  2018-01-22     Friday     Monday       5975416   \n",
      "1    AAC  2018-01-26  2018-01-29     Friday     Monday       5975458   \n",
      "2    AAC  2018-02-02  2018-02-05     Friday     Monday       5975512   \n",
      "3    AAC  2018-02-09  2018-02-12     Friday     Monday       5975556   \n",
      "4    AAC  2018-02-23  2018-02-26     Friday     Monday       5975648   \n",
      "\n",
      "   Monday_index  Friday_open  Monday_open  Friday_close  Monday_close  \\\n",
      "0       5975420         9.00         9.20          9.20          9.08   \n",
      "1       5975473         9.11         9.17          9.17          9.50   \n",
      "2       5975516         8.56         8.01          8.11          8.00   \n",
      "3       5975572         8.03         8.12          8.01          8.09   \n",
      "4       5975652         9.05         9.50          9.49          9.58   \n",
      "\n",
      "   Friday_adj_close  Monday_adj_close  Friday_low  Monday_low  Friday_high  \\\n",
      "0              9.20              9.08        9.00        8.94         9.27   \n",
      "1              9.17              9.50        9.09        9.17         9.24   \n",
      "2              8.11              8.00        8.01        7.81         8.56   \n",
      "3              8.01              8.09        7.79        7.91         8.10   \n",
      "4              9.49              9.58        9.05        9.39         9.60   \n",
      "\n",
      "   Monday_high  Friday_volume  Monday_volume  \n",
      "0         9.20         110600         139200  \n",
      "1         9.78          62000         173300  \n",
      "2         8.14         142600         135600  \n",
      "3         8.22         128100          72100  \n",
      "4        10.43         272500         515800  \n",
      "New DataFrame shape: (371962, 19)\n",
      "Combined Friday-Monday pairs saved to 'health_combined_pairs.csv'.\n"
     ]
    }
   ],
   "source": [
    "# Initialize a list to store the combined rows\n",
    "combined_rows = []\n",
    "\n",
    "# Iterate through the valid pairs (step by 2 because each pair has a Friday and a Monday)\n",
    "for i in range(0, len(valid_pairs_df), 2):\n",
    "    # Get the Friday and Monday rows\n",
    "    friday_row = valid_pairs_df.iloc[i]\n",
    "    monday_row = valid_pairs_df.iloc[i + 1]\n",
    "\n",
    "    # Combine the data into a single row (prefix columns with 'Friday_' and 'Monday_')\n",
    "    combined_data = {\n",
    "        'ticker': friday_row['ticker'],            # Stock ticker (same for both)\n",
    "        'Friday_date': friday_row['datetime'],     # Friday date\n",
    "        'Monday_date': monday_row['datetime'],     # Monday date\n",
    "        'Friday_day': friday_row['DayType'],       # Should be 'Friday'\n",
    "        'Monday_day': monday_row['DayType'],       # Should be 'Monday'\n",
    "    }\n",
    "\n",
    "    # Add all other columns, prefixing them with 'Friday_' or 'Monday_'\n",
    "    for col in friday_row.index:\n",
    "        if col not in ['ticker', 'datetime', 'DayType']:\n",
    "            combined_data[f'Friday_{col}'] = friday_row[col]\n",
    "            combined_data[f'Monday_{col}'] = monday_row[col]\n",
    "\n",
    "    # Append the combined data to the list\n",
    "    combined_rows.append(combined_data)\n",
    "\n",
    "# Create a new DataFrame from the combined rows\n",
    "combined_df = pd.DataFrame(combined_rows)\n",
    "\n",
    "# Output the new DataFrame\n",
    "print(combined_df.head())\n",
    "print(f\"New DataFrame shape: {combined_df.shape}\")\n",
    "\n",
    "# Save the combined DataFrame to a CSV file\n",
    "combined_df.to_csv(\"health_combined_pairs.csv\", index=False)\n",
    "print(\"Combined Friday-Monday pairs saved to 'health_combined_pairs.csv'.\")\n"
   ]
  },
  {
   "cell_type": "code",
   "execution_count": 15,
   "metadata": {},
   "outputs": [],
   "source": [
    "combined_health = pd.read_csv('health_combined_pairs.csv')"
   ]
  },
  {
   "cell_type": "code",
   "execution_count": 16,
   "metadata": {},
   "outputs": [],
   "source": [
    "combined_df.drop(columns=['Friday_day', 'Monday_day'], inplace=True)\n",
    "\n",
    "# Save the updated DataFrame back to the CSV file\n",
    "combined_df.to_csv(\"health_combined_pairs.csv\", index=False)"
   ]
  },
  {
   "cell_type": "code",
   "execution_count": 17,
   "metadata": {},
   "outputs": [],
   "source": [
    "combined_health = pd.read_csv('health_combined_pairs.csv')"
   ]
  },
  {
   "cell_type": "code",
   "execution_count": 18,
   "metadata": {},
   "outputs": [],
   "source": [
    "dst_dates = pd.read_csv('data/DST_fri_mon.csv')"
   ]
  },
  {
   "cell_type": "code",
   "execution_count": 19,
   "metadata": {},
   "outputs": [],
   "source": [
    "dst_fri_dates = list(dst_dates['fall_fri_before'])+list(dst_dates['spring_fri_before'])"
   ]
  },
  {
   "cell_type": "code",
   "execution_count": 20,
   "metadata": {},
   "outputs": [],
   "source": [
    "# this gives a 1 or 0 for whether a date is DST or not\n",
    "\n",
    "combined_health['y'] = combined_health['Friday_date'].isin(dst_fri_dates).astype(int)"
   ]
  },
  {
   "cell_type": "code",
   "execution_count": 32,
   "metadata": {},
   "outputs": [],
   "source": [
    "# Drop the 'Friday_day' and 'Monday_day' columns\n",
    "combined_health.drop(columns=['Friday_index', 'Monday_index'], inplace=True)\n"
   ]
  },
  {
   "cell_type": "code",
   "execution_count": 33,
   "metadata": {},
   "outputs": [
    {
     "data": {
      "text/html": [
       "<div>\n",
       "<style scoped>\n",
       "    .dataframe tbody tr th:only-of-type {\n",
       "        vertical-align: middle;\n",
       "    }\n",
       "\n",
       "    .dataframe tbody tr th {\n",
       "        vertical-align: top;\n",
       "    }\n",
       "\n",
       "    .dataframe thead th {\n",
       "        text-align: right;\n",
       "    }\n",
       "</style>\n",
       "<table border=\"1\" class=\"dataframe\">\n",
       "  <thead>\n",
       "    <tr style=\"text-align: right;\">\n",
       "      <th></th>\n",
       "      <th>ticker</th>\n",
       "      <th>Friday_date</th>\n",
       "      <th>Monday_date</th>\n",
       "      <th>Friday_open</th>\n",
       "      <th>Monday_open</th>\n",
       "      <th>Friday_close</th>\n",
       "      <th>Monday_close</th>\n",
       "      <th>Friday_adj_close</th>\n",
       "      <th>Monday_adj_close</th>\n",
       "      <th>Friday_low</th>\n",
       "      <th>Monday_low</th>\n",
       "      <th>Friday_high</th>\n",
       "      <th>Monday_high</th>\n",
       "      <th>Friday_volume</th>\n",
       "      <th>Monday_volume</th>\n",
       "      <th>y</th>\n",
       "    </tr>\n",
       "  </thead>\n",
       "  <tbody>\n",
       "    <tr>\n",
       "      <th>231322</th>\n",
       "      <td>MMSI</td>\n",
       "      <td>2014-08-22</td>\n",
       "      <td>2014-08-25</td>\n",
       "      <td>12.32</td>\n",
       "      <td>12.32</td>\n",
       "      <td>12.22</td>\n",
       "      <td>12.39</td>\n",
       "      <td>12.22</td>\n",
       "      <td>12.39</td>\n",
       "      <td>12.07</td>\n",
       "      <td>12.29</td>\n",
       "      <td>12.37</td>\n",
       "      <td>12.61</td>\n",
       "      <td>245000</td>\n",
       "      <td>98700</td>\n",
       "      <td>0</td>\n",
       "    </tr>\n",
       "  </tbody>\n",
       "</table>\n",
       "</div>"
      ],
      "text/plain": [
       "       ticker Friday_date Monday_date  Friday_open  Monday_open  Friday_close  \\\n",
       "231322   MMSI  2014-08-22  2014-08-25        12.32        12.32         12.22   \n",
       "\n",
       "        Monday_close  Friday_adj_close  Monday_adj_close  Friday_low  \\\n",
       "231322         12.39             12.22             12.39       12.07   \n",
       "\n",
       "        Monday_low  Friday_high  Monday_high  Friday_volume  Monday_volume  y  \n",
       "231322       12.29        12.37        12.61         245000          98700  0  "
      ]
     },
     "execution_count": 33,
     "metadata": {},
     "output_type": "execute_result"
    }
   ],
   "source": [
    "combined_health.sample()"
   ]
  },
  {
   "cell_type": "code",
   "execution_count": 34,
   "metadata": {},
   "outputs": [],
   "source": [
    "combined_health.to_csv(\"data/Weekends_Health_Stocks.csv\", index=False)"
   ]
  },
  {
   "cell_type": "code",
   "execution_count": 35,
   "metadata": {},
   "outputs": [],
   "source": [
    "health = pd.read_csv('data/Weekends_Health_Stocks.csv')"
   ]
  },
  {
   "cell_type": "code",
   "execution_count": 36,
   "metadata": {},
   "outputs": [
    {
     "name": "stdout",
     "output_type": "stream",
     "text": [
      "<class 'pandas.core.frame.DataFrame'>\n",
      "RangeIndex: 371962 entries, 0 to 371961\n",
      "Data columns (total 16 columns):\n",
      " #   Column            Non-Null Count   Dtype  \n",
      "---  ------            --------------   -----  \n",
      " 0   ticker            371962 non-null  object \n",
      " 1   Friday_date       371962 non-null  object \n",
      " 2   Monday_date       371962 non-null  object \n",
      " 3   Friday_open       371962 non-null  float64\n",
      " 4   Monday_open       371962 non-null  float64\n",
      " 5   Friday_close      371962 non-null  float64\n",
      " 6   Monday_close      371962 non-null  float64\n",
      " 7   Friday_adj_close  371962 non-null  float64\n",
      " 8   Monday_adj_close  371962 non-null  float64\n",
      " 9   Friday_low        371962 non-null  float64\n",
      " 10  Monday_low        371962 non-null  float64\n",
      " 11  Friday_high       371962 non-null  float64\n",
      " 12  Monday_high       371962 non-null  float64\n",
      " 13  Friday_volume     371962 non-null  int64  \n",
      " 14  Monday_volume     371962 non-null  int64  \n",
      " 15  y                 371962 non-null  int64  \n",
      "dtypes: float64(10), int64(3), object(3)\n",
      "memory usage: 45.4+ MB\n"
     ]
    }
   ],
   "source": [
    "health.info()"
   ]
  },
  {
   "cell_type": "code",
   "execution_count": 31,
   "metadata": {},
   "outputs": [
    {
     "data": {
      "text/html": [
       "<div>\n",
       "<style scoped>\n",
       "    .dataframe tbody tr th:only-of-type {\n",
       "        vertical-align: middle;\n",
       "    }\n",
       "\n",
       "    .dataframe tbody tr th {\n",
       "        vertical-align: top;\n",
       "    }\n",
       "\n",
       "    .dataframe thead th {\n",
       "        text-align: right;\n",
       "    }\n",
       "</style>\n",
       "<table border=\"1\" class=\"dataframe\">\n",
       "  <thead>\n",
       "    <tr style=\"text-align: right;\">\n",
       "      <th></th>\n",
       "      <th>ticker</th>\n",
       "      <th>exchange</th>\n",
       "      <th>name</th>\n",
       "      <th>sector</th>\n",
       "      <th>industry</th>\n",
       "    </tr>\n",
       "  </thead>\n",
       "  <tbody>\n",
       "    <tr>\n",
       "      <th>3321</th>\n",
       "      <td>AAC</td>\n",
       "      <td>NYSE</td>\n",
       "      <td>AAC HOLDINGS, INC.</td>\n",
       "      <td>HEALTH CARE</td>\n",
       "      <td>MEDICAL SPECIALITIES</td>\n",
       "    </tr>\n",
       "  </tbody>\n",
       "</table>\n",
       "</div>"
      ],
      "text/plain": [
       "     ticker exchange                name       sector              industry\n",
       "3321    AAC     NYSE  AAC HOLDINGS, INC.  HEALTH CARE  MEDICAL SPECIALITIES"
      ]
     },
     "execution_count": 31,
     "metadata": {},
     "output_type": "execute_result"
    }
   ],
   "source": [
    "# get all the stocks in transportation\n",
    "df2[df2['ticker']=='AAC']\n"
   ]
  },
  {
   "cell_type": "code",
   "execution_count": 23,
   "metadata": {},
   "outputs": [
    {
     "name": "stdout",
     "output_type": "stream",
     "text": [
      "<class 'pandas.core.frame.DataFrame'>\n",
      "RangeIndex: 371962 entries, 0 to 371961\n",
      "Data columns (total 18 columns):\n",
      " #   Column            Non-Null Count   Dtype  \n",
      "---  ------            --------------   -----  \n",
      " 0   ticker            371962 non-null  object \n",
      " 1   Friday_date       371962 non-null  object \n",
      " 2   Monday_date       371962 non-null  object \n",
      " 3   Friday_index      371962 non-null  int64  \n",
      " 4   Monday_index      371962 non-null  int64  \n",
      " 5   Friday_open       371962 non-null  float64\n",
      " 6   Monday_open       371962 non-null  float64\n",
      " 7   Friday_close      371962 non-null  float64\n",
      " 8   Monday_close      371962 non-null  float64\n",
      " 9   Friday_adj_close  371962 non-null  float64\n",
      " 10  Monday_adj_close  371962 non-null  float64\n",
      " 11  Friday_low        371962 non-null  float64\n",
      " 12  Monday_low        371962 non-null  float64\n",
      " 13  Friday_high       371962 non-null  float64\n",
      " 14  Monday_high       371962 non-null  float64\n",
      " 15  Friday_volume     371962 non-null  int64  \n",
      " 16  Monday_volume     371962 non-null  int64  \n",
      " 17  y                 371962 non-null  int64  \n",
      "dtypes: float64(10), int64(5), object(3)\n",
      "memory usage: 51.1+ MB\n"
     ]
    }
   ],
   "source": [
    "health.info()"
   ]
  },
  {
   "cell_type": "code",
   "execution_count": 24,
   "metadata": {},
   "outputs": [
    {
     "data": {
      "text/plain": [
       "y\n",
       "0    0.957697\n",
       "1    0.042303\n",
       "Name: proportion, dtype: float64"
      ]
     },
     "execution_count": 24,
     "metadata": {},
     "output_type": "execute_result"
    }
   ],
   "source": [
    "# Proportion of nonDST to DST\n",
    "health['y'].value_counts(normalize=True)"
   ]
  },
  {
   "cell_type": "code",
   "execution_count": null,
   "metadata": {},
   "outputs": [],
   "source": []
  }
 ],
 "metadata": {
  "kernelspec": {
   "display_name": "erdos_fall_2024",
   "language": "python",
   "name": "python3"
  },
  "language_info": {
   "codemirror_mode": {
    "name": "ipython",
    "version": 3
   },
   "file_extension": ".py",
   "mimetype": "text/x-python",
   "name": "python",
   "nbconvert_exporter": "python",
   "pygments_lexer": "ipython3",
   "version": "3.12.5"
  }
 },
 "nbformat": 4,
 "nbformat_minor": 2
}
