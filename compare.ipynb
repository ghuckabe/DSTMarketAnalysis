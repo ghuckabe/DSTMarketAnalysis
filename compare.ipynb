{
 "cells": [
  {
   "cell_type": "markdown",
   "metadata": {},
   "source": [
    "# Comparisons"
   ]
  },
  {
   "cell_type": "code",
   "execution_count": 1,
   "metadata": {},
   "outputs": [],
   "source": [
    "import pandas as pd\n",
    "import numpy as np\n",
    "import matplotlib.pyplot as plt\n",
    "from seaborn import set_style\n",
    "from datetime import datetime, timedelta\n",
    "set_style(\"whitegrid\")"
   ]
  },
  {
   "cell_type": "code",
   "execution_count": 2,
   "metadata": {},
   "outputs": [],
   "source": [
    "AHH = pd.read_csv('data/AHH.csv')\n",
    "CIB = pd.read_csv('data/CIB.csv')\n",
    "MCI = pd.read_csv('data/MCI.csv')\n",
    "ALOT = pd.read_csv('data/ALOT.csv')\n",
    "EMKR = pd.read_csv('data/EMKR.csv')\n",
    "HHC = pd.read_csv('data/HHC.csv')\n",
    "NSC = pd.read_csv('data/NSC.csv')\n",
    "UTL = pd.read_csv('data/UTL.csv')\n",
    "sp500 = pd.read_csv('data/SP500.csv')"
   ]
  },
  {
   "cell_type": "code",
   "execution_count": 3,
   "metadata": {},
   "outputs": [],
   "source": [
    "AHH=AHH[AHH['y']==1]\n",
    "CIB=CIB[CIB['y']==1]\n",
    "MCI=MCI[MCI['y']==1]\n",
    "ALOT=ALOT[ALOT['y']==1]\n",
    "EMKR=EMKR[EMKR['y']==1]\n",
    "HHC=HHC[HHC['y']==1]\n",
    "NSC=NSC[NSC['y']==1]\n",
    "UTL=UTL[UTL['y']==1]\n",
    "sp500=sp500[sp500['y']==1]"
   ]
  },
  {
   "cell_type": "code",
   "execution_count": 4,
   "metadata": {},
   "outputs": [],
   "source": [
    "stocks = [AHH,CIB,MCI,ALOT,EMKR,HHC,NSC,UTL,sp500]"
   ]
  },
  {
   "cell_type": "code",
   "execution_count": 5,
   "metadata": {},
   "outputs": [],
   "source": [
    "for stock in stocks:\n",
    "    stock.columns = stock.columns.str.strip()"
   ]
  },
  {
   "cell_type": "code",
   "execution_count": 12,
   "metadata": {},
   "outputs": [],
   "source": [
    "for stock in stocks:\n",
    "    stock['diff_fcmo'] = (stock['Friday_Close']-stock['Monday_Open'])"
   ]
  },
  {
   "cell_type": "code",
   "execution_count": 13,
   "metadata": {},
   "outputs": [
    {
     "data": {
      "text/html": [
       "<div>\n",
       "<style scoped>\n",
       "    .dataframe tbody tr th:only-of-type {\n",
       "        vertical-align: middle;\n",
       "    }\n",
       "\n",
       "    .dataframe tbody tr th {\n",
       "        vertical-align: top;\n",
       "    }\n",
       "\n",
       "    .dataframe thead th {\n",
       "        text-align: right;\n",
       "    }\n",
       "</style>\n",
       "<table border=\"1\" class=\"dataframe\">\n",
       "  <thead>\n",
       "    <tr style=\"text-align: right;\">\n",
       "      <th></th>\n",
       "      <th>Unnamed: 0</th>\n",
       "      <th>Friday_date</th>\n",
       "      <th>Monday_date</th>\n",
       "      <th>Friday_Open</th>\n",
       "      <th>Monday_Open</th>\n",
       "      <th>Friday_High</th>\n",
       "      <th>Monday_High</th>\n",
       "      <th>Friday_Low</th>\n",
       "      <th>Monday_Low</th>\n",
       "      <th>Friday_Close</th>\n",
       "      <th>Monday_Close</th>\n",
       "      <th>Friday_Adj Close</th>\n",
       "      <th>Monday_Adj Close</th>\n",
       "      <th>Friday_Volume</th>\n",
       "      <th>Monday_Volume</th>\n",
       "      <th>y</th>\n",
       "      <th>diff_fcmo</th>\n",
       "    </tr>\n",
       "  </thead>\n",
       "  <tbody>\n",
       "    <tr>\n",
       "      <th>7</th>\n",
       "      <td>7</td>\n",
       "      <td>2019-03-08</td>\n",
       "      <td>2019-03-11</td>\n",
       "      <td>15.26</td>\n",
       "      <td>15.22</td>\n",
       "      <td>15.36</td>\n",
       "      <td>15.45</td>\n",
       "      <td>15.15</td>\n",
       "      <td>15.21</td>\n",
       "      <td>15.17</td>\n",
       "      <td>15.43</td>\n",
       "      <td>10.96</td>\n",
       "      <td>11.15</td>\n",
       "      <td>132000</td>\n",
       "      <td>231000</td>\n",
       "      <td>1</td>\n",
       "      <td>-0.05</td>\n",
       "    </tr>\n",
       "    <tr>\n",
       "      <th>38</th>\n",
       "      <td>38</td>\n",
       "      <td>2019-11-01</td>\n",
       "      <td>2019-11-04</td>\n",
       "      <td>18.80</td>\n",
       "      <td>18.73</td>\n",
       "      <td>18.89</td>\n",
       "      <td>18.77</td>\n",
       "      <td>18.63</td>\n",
       "      <td>18.45</td>\n",
       "      <td>18.77</td>\n",
       "      <td>18.50</td>\n",
       "      <td>14.09</td>\n",
       "      <td>13.89</td>\n",
       "      <td>174800</td>\n",
       "      <td>239600</td>\n",
       "      <td>1</td>\n",
       "      <td>0.04</td>\n",
       "    </tr>\n",
       "    <tr>\n",
       "      <th>54</th>\n",
       "      <td>54</td>\n",
       "      <td>2020-03-06</td>\n",
       "      <td>2020-03-09</td>\n",
       "      <td>17.50</td>\n",
       "      <td>16.84</td>\n",
       "      <td>17.88</td>\n",
       "      <td>17.00</td>\n",
       "      <td>17.26</td>\n",
       "      <td>15.34</td>\n",
       "      <td>17.86</td>\n",
       "      <td>15.37</td>\n",
       "      <td>13.56</td>\n",
       "      <td>11.67</td>\n",
       "      <td>395400</td>\n",
       "      <td>316000</td>\n",
       "      <td>1</td>\n",
       "      <td>1.02</td>\n",
       "    </tr>\n",
       "    <tr>\n",
       "      <th>84</th>\n",
       "      <td>84</td>\n",
       "      <td>2020-10-30</td>\n",
       "      <td>2020-11-02</td>\n",
       "      <td>8.58</td>\n",
       "      <td>9.18</td>\n",
       "      <td>9.17</td>\n",
       "      <td>9.24</td>\n",
       "      <td>8.58</td>\n",
       "      <td>8.63</td>\n",
       "      <td>9.01</td>\n",
       "      <td>8.85</td>\n",
       "      <td>7.10</td>\n",
       "      <td>6.97</td>\n",
       "      <td>692800</td>\n",
       "      <td>354900</td>\n",
       "      <td>1</td>\n",
       "      <td>-0.17</td>\n",
       "    </tr>\n",
       "    <tr>\n",
       "      <th>99</th>\n",
       "      <td>99</td>\n",
       "      <td>2021-03-12</td>\n",
       "      <td>2021-03-15</td>\n",
       "      <td>13.89</td>\n",
       "      <td>13.90</td>\n",
       "      <td>14.00</td>\n",
       "      <td>13.90</td>\n",
       "      <td>13.80</td>\n",
       "      <td>13.38</td>\n",
       "      <td>13.96</td>\n",
       "      <td>13.53</td>\n",
       "      <td>11.11</td>\n",
       "      <td>10.77</td>\n",
       "      <td>611100</td>\n",
       "      <td>320300</td>\n",
       "      <td>1</td>\n",
       "      <td>0.06</td>\n",
       "    </tr>\n",
       "    <tr>\n",
       "      <th>129</th>\n",
       "      <td>129</td>\n",
       "      <td>2021-11-05</td>\n",
       "      <td>2021-11-08</td>\n",
       "      <td>15.14</td>\n",
       "      <td>15.64</td>\n",
       "      <td>15.63</td>\n",
       "      <td>15.64</td>\n",
       "      <td>15.08</td>\n",
       "      <td>15.19</td>\n",
       "      <td>15.55</td>\n",
       "      <td>15.29</td>\n",
       "      <td>12.82</td>\n",
       "      <td>12.61</td>\n",
       "      <td>318900</td>\n",
       "      <td>272500</td>\n",
       "      <td>1</td>\n",
       "      <td>-0.09</td>\n",
       "    </tr>\n",
       "    <tr>\n",
       "      <th>144</th>\n",
       "      <td>144</td>\n",
       "      <td>2022-03-11</td>\n",
       "      <td>2022-03-14</td>\n",
       "      <td>14.96</td>\n",
       "      <td>14.95</td>\n",
       "      <td>15.10</td>\n",
       "      <td>14.98</td>\n",
       "      <td>14.76</td>\n",
       "      <td>14.69</td>\n",
       "      <td>14.82</td>\n",
       "      <td>14.83</td>\n",
       "      <td>12.36</td>\n",
       "      <td>12.37</td>\n",
       "      <td>413100</td>\n",
       "      <td>356100</td>\n",
       "      <td>1</td>\n",
       "      <td>-0.13</td>\n",
       "    </tr>\n",
       "    <tr>\n",
       "      <th>173</th>\n",
       "      <td>173</td>\n",
       "      <td>2022-11-04</td>\n",
       "      <td>2022-11-07</td>\n",
       "      <td>11.29</td>\n",
       "      <td>11.35</td>\n",
       "      <td>11.46</td>\n",
       "      <td>11.50</td>\n",
       "      <td>11.09</td>\n",
       "      <td>11.16</td>\n",
       "      <td>11.31</td>\n",
       "      <td>11.40</td>\n",
       "      <td>9.84</td>\n",
       "      <td>9.92</td>\n",
       "      <td>293700</td>\n",
       "      <td>303300</td>\n",
       "      <td>1</td>\n",
       "      <td>-0.04</td>\n",
       "    </tr>\n",
       "    <tr>\n",
       "      <th>187</th>\n",
       "      <td>187</td>\n",
       "      <td>2023-03-10</td>\n",
       "      <td>2023-03-13</td>\n",
       "      <td>12.44</td>\n",
       "      <td>11.76</td>\n",
       "      <td>12.45</td>\n",
       "      <td>12.17</td>\n",
       "      <td>11.85</td>\n",
       "      <td>11.71</td>\n",
       "      <td>11.94</td>\n",
       "      <td>11.90</td>\n",
       "      <td>10.56</td>\n",
       "      <td>10.52</td>\n",
       "      <td>454200</td>\n",
       "      <td>481200</td>\n",
       "      <td>1</td>\n",
       "      <td>0.18</td>\n",
       "    </tr>\n",
       "    <tr>\n",
       "      <th>217</th>\n",
       "      <td>217</td>\n",
       "      <td>2023-11-03</td>\n",
       "      <td>2023-11-06</td>\n",
       "      <td>10.40</td>\n",
       "      <td>10.50</td>\n",
       "      <td>10.65</td>\n",
       "      <td>10.57</td>\n",
       "      <td>10.40</td>\n",
       "      <td>10.35</td>\n",
       "      <td>10.52</td>\n",
       "      <td>10.44</td>\n",
       "      <td>9.80</td>\n",
       "      <td>9.72</td>\n",
       "      <td>390100</td>\n",
       "      <td>225000</td>\n",
       "      <td>1</td>\n",
       "      <td>0.02</td>\n",
       "    </tr>\n",
       "    <tr>\n",
       "      <th>231</th>\n",
       "      <td>231</td>\n",
       "      <td>2024-03-08</td>\n",
       "      <td>2024-03-11</td>\n",
       "      <td>10.70</td>\n",
       "      <td>10.60</td>\n",
       "      <td>10.78</td>\n",
       "      <td>10.71</td>\n",
       "      <td>10.53</td>\n",
       "      <td>10.54</td>\n",
       "      <td>10.62</td>\n",
       "      <td>10.71</td>\n",
       "      <td>10.04</td>\n",
       "      <td>10.13</td>\n",
       "      <td>429600</td>\n",
       "      <td>325500</td>\n",
       "      <td>1</td>\n",
       "      <td>0.02</td>\n",
       "    </tr>\n",
       "    <tr>\n",
       "      <th>262</th>\n",
       "      <td>262</td>\n",
       "      <td>2024-11-01</td>\n",
       "      <td>2024-11-04</td>\n",
       "      <td>10.93</td>\n",
       "      <td>10.78</td>\n",
       "      <td>10.97</td>\n",
       "      <td>10.95</td>\n",
       "      <td>10.71</td>\n",
       "      <td>10.74</td>\n",
       "      <td>10.75</td>\n",
       "      <td>10.91</td>\n",
       "      <td>10.75</td>\n",
       "      <td>10.91</td>\n",
       "      <td>485100</td>\n",
       "      <td>609300</td>\n",
       "      <td>1</td>\n",
       "      <td>-0.03</td>\n",
       "    </tr>\n",
       "  </tbody>\n",
       "</table>\n",
       "</div>"
      ],
      "text/plain": [
       "     Unnamed: 0 Friday_date Monday_date  Friday_Open  Monday_Open  \\\n",
       "7             7  2019-03-08  2019-03-11        15.26        15.22   \n",
       "38           38  2019-11-01  2019-11-04        18.80        18.73   \n",
       "54           54  2020-03-06  2020-03-09        17.50        16.84   \n",
       "84           84  2020-10-30  2020-11-02         8.58         9.18   \n",
       "99           99  2021-03-12  2021-03-15        13.89        13.90   \n",
       "129         129  2021-11-05  2021-11-08        15.14        15.64   \n",
       "144         144  2022-03-11  2022-03-14        14.96        14.95   \n",
       "173         173  2022-11-04  2022-11-07        11.29        11.35   \n",
       "187         187  2023-03-10  2023-03-13        12.44        11.76   \n",
       "217         217  2023-11-03  2023-11-06        10.40        10.50   \n",
       "231         231  2024-03-08  2024-03-11        10.70        10.60   \n",
       "262         262  2024-11-01  2024-11-04        10.93        10.78   \n",
       "\n",
       "     Friday_High  Monday_High  Friday_Low  Monday_Low  Friday_Close  \\\n",
       "7          15.36        15.45       15.15       15.21         15.17   \n",
       "38         18.89        18.77       18.63       18.45         18.77   \n",
       "54         17.88        17.00       17.26       15.34         17.86   \n",
       "84          9.17         9.24        8.58        8.63          9.01   \n",
       "99         14.00        13.90       13.80       13.38         13.96   \n",
       "129        15.63        15.64       15.08       15.19         15.55   \n",
       "144        15.10        14.98       14.76       14.69         14.82   \n",
       "173        11.46        11.50       11.09       11.16         11.31   \n",
       "187        12.45        12.17       11.85       11.71         11.94   \n",
       "217        10.65        10.57       10.40       10.35         10.52   \n",
       "231        10.78        10.71       10.53       10.54         10.62   \n",
       "262        10.97        10.95       10.71       10.74         10.75   \n",
       "\n",
       "     Monday_Close  Friday_Adj Close  Monday_Adj Close  Friday_Volume  \\\n",
       "7           15.43             10.96             11.15         132000   \n",
       "38          18.50             14.09             13.89         174800   \n",
       "54          15.37             13.56             11.67         395400   \n",
       "84           8.85              7.10              6.97         692800   \n",
       "99          13.53             11.11             10.77         611100   \n",
       "129         15.29             12.82             12.61         318900   \n",
       "144         14.83             12.36             12.37         413100   \n",
       "173         11.40              9.84              9.92         293700   \n",
       "187         11.90             10.56             10.52         454200   \n",
       "217         10.44              9.80              9.72         390100   \n",
       "231         10.71             10.04             10.13         429600   \n",
       "262         10.91             10.75             10.91         485100   \n",
       "\n",
       "     Monday_Volume  y  diff_fcmo  \n",
       "7           231000  1      -0.05  \n",
       "38          239600  1       0.04  \n",
       "54          316000  1       1.02  \n",
       "84          354900  1      -0.17  \n",
       "99          320300  1       0.06  \n",
       "129         272500  1      -0.09  \n",
       "144         356100  1      -0.13  \n",
       "173         303300  1      -0.04  \n",
       "187         481200  1       0.18  \n",
       "217         225000  1       0.02  \n",
       "231         325500  1       0.02  \n",
       "262         609300  1      -0.03  "
      ]
     },
     "execution_count": 13,
     "metadata": {},
     "output_type": "execute_result"
    }
   ],
   "source": [
    "AHH"
   ]
  },
  {
   "cell_type": "code",
   "execution_count": 24,
   "metadata": {},
   "outputs": [],
   "source": [
    "stock_names = ['AHH','CIB','MCI','ALOT','EMKR','HHC','NSC','UTL','sp500']\n",
    "p_val = [('AHH',0.008972), ('CIB',0.041472), ('MCI',0.005252), ('ALOT',0.041177),('EMKR',0.000603),('HHC',0.043817), ('UTL',0.041104),('UTL',0.049185)]"
   ]
  },
  {
   "cell_type": "code",
   "execution_count": 21,
   "metadata": {},
   "outputs": [],
   "source": [
    "profit = []\n",
    "\n",
    "for stock, name in zip(stocks,stock_names):\n",
    "    stock_count=0\n",
    "    for i in range(len(stock)):\n",
    "        # only look at the fall, not spring. \n",
    "        if datetime.strptime(stock.iloc[i]['Friday_date'],\"%Y-%m-%d\").month>=7:\n",
    "            stock_count+=stock.iloc[i]['diff_fcmo']\n",
    "    profit.append((name,stock_count))\n"
   ]
  },
  {
   "cell_type": "code",
   "execution_count": 22,
   "metadata": {},
   "outputs": [
    {
     "data": {
      "text/plain": [
       "[('AHH', -0.2699999999999996),\n",
       " ('CIB', -0.7499999999999964),\n",
       " ('MCI', -0.17999999999999794),\n",
       " ('ALOT', 0.34999999999999787),\n",
       " ('EMKR', -1.0699999999999996),\n",
       " ('HHC', -1.2899999999999778),\n",
       " ('NSC', -6.80000000000004),\n",
       " ('UTL', 1.289999999999992),\n",
       " ('sp500', -54.67999999999938)]"
      ]
     },
     "execution_count": 22,
     "metadata": {},
     "output_type": "execute_result"
    }
   ],
   "source": [
    "profit"
   ]
  },
  {
   "cell_type": "code",
   "execution_count": 27,
   "metadata": {},
   "outputs": [
    {
     "data": {
      "text/plain": [
       "[('EMKR', 0.000603),\n",
       " ('MCI', 0.005252),\n",
       " ('AHH', 0.008972),\n",
       " ('UTL', 0.041104),\n",
       " ('ALOT', 0.041177),\n",
       " ('CIB', 0.041472),\n",
       " ('HHC', 0.043817),\n",
       " ('UTL', 0.049185)]"
      ]
     },
     "execution_count": 27,
     "metadata": {},
     "output_type": "execute_result"
    }
   ],
   "source": [
    "sorted(p_val, key=lambda x: x[1])"
   ]
  },
  {
   "cell_type": "code",
   "execution_count": 55,
   "metadata": {},
   "outputs": [
    {
     "name": "stdout",
     "output_type": "stream",
     "text": [
      "111.45786892554614\n",
      "24.11265432098765\n",
      "190.4036557501904\n",
      "24.285402044830853\n",
      "1658.374792703151\n",
      "22.822192299792317\n",
      "24.328532502919423\n",
      "20.33140185015757\n"
     ]
    }
   ],
   "source": [
    "sum_inverse = 0\n",
    "for i in range(len(p_val)):\n",
    "    print(1/p_val[i][1])\n",
    "    sum_inverse+=1/p_val[i][1]"
   ]
  },
  {
   "cell_type": "code",
   "execution_count": 56,
   "metadata": {},
   "outputs": [
    {
     "data": {
      "text/plain": [
       "2076.1165003975752"
      ]
     },
     "execution_count": 56,
     "metadata": {},
     "output_type": "execute_result"
    }
   ],
   "source": [
    "sum_inverse"
   ]
  },
  {
   "cell_type": "code",
   "execution_count": 57,
   "metadata": {},
   "outputs": [],
   "source": [
    "p_val_norm=[(name,value,(1/value)/sum_inverse) for name, value in p_val]\n"
   ]
  },
  {
   "cell_type": "code",
   "execution_count": 58,
   "metadata": {},
   "outputs": [
    {
     "data": {
      "text/plain": [
       "[('AHH', 0.008972, 0.05368574880272953),\n",
       " ('CIB', 0.041472, 0.011614306960312723),\n",
       " ('MCI', 0.005252, 0.09171145054419066),\n",
       " ('ALOT', 0.041177, 0.011697514103943691),\n",
       " ('EMKR', 0.000603, 0.7987869622853886),\n",
       " ('HHC', 0.043817, 0.010992732004885987),\n",
       " ('UTL', 0.041104, 0.011718288688645613),\n",
       " ('UTL', 0.049185, 0.00979299660990321)]"
      ]
     },
     "execution_count": 58,
     "metadata": {},
     "output_type": "execute_result"
    }
   ],
   "source": [
    "p_val_norm"
   ]
  },
  {
   "cell_type": "code",
   "execution_count": 61,
   "metadata": {},
   "outputs": [],
   "source": [
    "df=pd.DataFrame(p_val_norm)"
   ]
  },
  {
   "cell_type": "code",
   "execution_count": 62,
   "metadata": {},
   "outputs": [
    {
     "data": {
      "text/html": [
       "<div>\n",
       "<style scoped>\n",
       "    .dataframe tbody tr th:only-of-type {\n",
       "        vertical-align: middle;\n",
       "    }\n",
       "\n",
       "    .dataframe tbody tr th {\n",
       "        vertical-align: top;\n",
       "    }\n",
       "\n",
       "    .dataframe thead th {\n",
       "        text-align: right;\n",
       "    }\n",
       "</style>\n",
       "<table border=\"1\" class=\"dataframe\">\n",
       "  <thead>\n",
       "    <tr style=\"text-align: right;\">\n",
       "      <th></th>\n",
       "      <th>0</th>\n",
       "      <th>1</th>\n",
       "      <th>2</th>\n",
       "    </tr>\n",
       "  </thead>\n",
       "  <tbody>\n",
       "    <tr>\n",
       "      <th>0</th>\n",
       "      <td>AHH</td>\n",
       "      <td>0.008972</td>\n",
       "      <td>0.053686</td>\n",
       "    </tr>\n",
       "    <tr>\n",
       "      <th>1</th>\n",
       "      <td>CIB</td>\n",
       "      <td>0.041472</td>\n",
       "      <td>0.011614</td>\n",
       "    </tr>\n",
       "    <tr>\n",
       "      <th>2</th>\n",
       "      <td>MCI</td>\n",
       "      <td>0.005252</td>\n",
       "      <td>0.091711</td>\n",
       "    </tr>\n",
       "    <tr>\n",
       "      <th>3</th>\n",
       "      <td>ALOT</td>\n",
       "      <td>0.041177</td>\n",
       "      <td>0.011698</td>\n",
       "    </tr>\n",
       "    <tr>\n",
       "      <th>4</th>\n",
       "      <td>EMKR</td>\n",
       "      <td>0.000603</td>\n",
       "      <td>0.798787</td>\n",
       "    </tr>\n",
       "    <tr>\n",
       "      <th>5</th>\n",
       "      <td>HHC</td>\n",
       "      <td>0.043817</td>\n",
       "      <td>0.010993</td>\n",
       "    </tr>\n",
       "    <tr>\n",
       "      <th>6</th>\n",
       "      <td>UTL</td>\n",
       "      <td>0.041104</td>\n",
       "      <td>0.011718</td>\n",
       "    </tr>\n",
       "    <tr>\n",
       "      <th>7</th>\n",
       "      <td>UTL</td>\n",
       "      <td>0.049185</td>\n",
       "      <td>0.009793</td>\n",
       "    </tr>\n",
       "  </tbody>\n",
       "</table>\n",
       "</div>"
      ],
      "text/plain": [
       "      0         1         2\n",
       "0   AHH  0.008972  0.053686\n",
       "1   CIB  0.041472  0.011614\n",
       "2   MCI  0.005252  0.091711\n",
       "3  ALOT  0.041177  0.011698\n",
       "4  EMKR  0.000603  0.798787\n",
       "5   HHC  0.043817  0.010993\n",
       "6   UTL  0.041104  0.011718\n",
       "7   UTL  0.049185  0.009793"
      ]
     },
     "execution_count": 62,
     "metadata": {},
     "output_type": "execute_result"
    }
   ],
   "source": [
    "df"
   ]
  },
  {
   "cell_type": "code",
   "execution_count": 63,
   "metadata": {},
   "outputs": [],
   "source": [
    "df.columns=['ticker','p_val','1/p_val%']"
   ]
  },
  {
   "cell_type": "code",
   "execution_count": 64,
   "metadata": {},
   "outputs": [
    {
     "data": {
      "text/html": [
       "<div>\n",
       "<style scoped>\n",
       "    .dataframe tbody tr th:only-of-type {\n",
       "        vertical-align: middle;\n",
       "    }\n",
       "\n",
       "    .dataframe tbody tr th {\n",
       "        vertical-align: top;\n",
       "    }\n",
       "\n",
       "    .dataframe thead th {\n",
       "        text-align: right;\n",
       "    }\n",
       "</style>\n",
       "<table border=\"1\" class=\"dataframe\">\n",
       "  <thead>\n",
       "    <tr style=\"text-align: right;\">\n",
       "      <th></th>\n",
       "      <th>ticker</th>\n",
       "      <th>p_val</th>\n",
       "      <th>1/p_val%</th>\n",
       "    </tr>\n",
       "  </thead>\n",
       "  <tbody>\n",
       "    <tr>\n",
       "      <th>0</th>\n",
       "      <td>AHH</td>\n",
       "      <td>0.008972</td>\n",
       "      <td>0.053686</td>\n",
       "    </tr>\n",
       "    <tr>\n",
       "      <th>1</th>\n",
       "      <td>CIB</td>\n",
       "      <td>0.041472</td>\n",
       "      <td>0.011614</td>\n",
       "    </tr>\n",
       "    <tr>\n",
       "      <th>2</th>\n",
       "      <td>MCI</td>\n",
       "      <td>0.005252</td>\n",
       "      <td>0.091711</td>\n",
       "    </tr>\n",
       "    <tr>\n",
       "      <th>3</th>\n",
       "      <td>ALOT</td>\n",
       "      <td>0.041177</td>\n",
       "      <td>0.011698</td>\n",
       "    </tr>\n",
       "    <tr>\n",
       "      <th>4</th>\n",
       "      <td>EMKR</td>\n",
       "      <td>0.000603</td>\n",
       "      <td>0.798787</td>\n",
       "    </tr>\n",
       "    <tr>\n",
       "      <th>5</th>\n",
       "      <td>HHC</td>\n",
       "      <td>0.043817</td>\n",
       "      <td>0.010993</td>\n",
       "    </tr>\n",
       "    <tr>\n",
       "      <th>6</th>\n",
       "      <td>UTL</td>\n",
       "      <td>0.041104</td>\n",
       "      <td>0.011718</td>\n",
       "    </tr>\n",
       "    <tr>\n",
       "      <th>7</th>\n",
       "      <td>UTL</td>\n",
       "      <td>0.049185</td>\n",
       "      <td>0.009793</td>\n",
       "    </tr>\n",
       "  </tbody>\n",
       "</table>\n",
       "</div>"
      ],
      "text/plain": [
       "  ticker     p_val  1/p_val%\n",
       "0    AHH  0.008972  0.053686\n",
       "1    CIB  0.041472  0.011614\n",
       "2    MCI  0.005252  0.091711\n",
       "3   ALOT  0.041177  0.011698\n",
       "4   EMKR  0.000603  0.798787\n",
       "5    HHC  0.043817  0.010993\n",
       "6    UTL  0.041104  0.011718\n",
       "7    UTL  0.049185  0.009793"
      ]
     },
     "execution_count": 64,
     "metadata": {},
     "output_type": "execute_result"
    }
   ],
   "source": [
    "df"
   ]
  },
  {
   "cell_type": "code",
   "execution_count": 65,
   "metadata": {},
   "outputs": [
    {
     "data": {
      "text/plain": [
       "[('AHH', -0.2699999999999996),\n",
       " ('CIB', -0.7499999999999964),\n",
       " ('MCI', -0.17999999999999794),\n",
       " ('ALOT', 0.34999999999999787),\n",
       " ('EMKR', -1.0699999999999996),\n",
       " ('HHC', -1.2899999999999778),\n",
       " ('NSC', -6.80000000000004),\n",
       " ('UTL', 1.289999999999992),\n",
       " ('sp500', -54.67999999999938)]"
      ]
     },
     "execution_count": 65,
     "metadata": {},
     "output_type": "execute_result"
    }
   ],
   "source": [
    "profit"
   ]
  },
  {
   "cell_type": "code",
   "execution_count": 68,
   "metadata": {},
   "outputs": [],
   "source": [
    "combo=0\n",
    "for i in range(len(profit)-1):\n",
    "    combo+= p_val_norm[i][2]*profit[i][1]"
   ]
  },
  {
   "cell_type": "code",
   "execution_count": 69,
   "metadata": {},
   "outputs": [
    {
     "data": {
      "text/plain": [
       "-0.971553884946229"
      ]
     },
     "execution_count": 69,
     "metadata": {},
     "output_type": "execute_result"
    }
   ],
   "source": [
    "combo"
   ]
  },
  {
   "cell_type": "markdown",
   "metadata": {},
   "source": [
    "Summary: I took only the fall DST weekends and took Friday close - Monday open; if we sell on Friday and buy on Monday, this quantity is what we gain/lose. It looks like we usually lose money this way; the stock prices are actually increasing over many of these particular DST weekends from 2019-2024 (including for the S&P 500).\n",
    "\n",
    "But anyways, for each individual stock, I added those losses/gains to get a list of 8 numbers (since I only found 8 of the 13 stocks that Gabby picked). I then took the p-values for the t-test, took their inverse (since a very small p-value means something really significant because it's super unlikely to see that under the null hypothesis), summed them up, and then got the percentage that each inverse p-value represents. For example, EMKR had a tiny p-value so its inverse p-value represents a large percentage.\n",
    "I then took a linear combination of the previous list of numbers weighted by these inverse p-values which ends up being -0.97 which is better than the S&P500's -54.68"
   ]
  },
  {
   "cell_type": "code",
   "execution_count": null,
   "metadata": {},
   "outputs": [],
   "source": []
  }
 ],
 "metadata": {
  "kernelspec": {
   "display_name": "erdos_fall_2024",
   "language": "python",
   "name": "python3"
  },
  "language_info": {
   "codemirror_mode": {
    "name": "ipython",
    "version": 3
   },
   "file_extension": ".py",
   "mimetype": "text/x-python",
   "name": "python",
   "nbconvert_exporter": "python",
   "pygments_lexer": "ipython3",
   "version": "3.12.5"
  }
 },
 "nbformat": 4,
 "nbformat_minor": 2
}
