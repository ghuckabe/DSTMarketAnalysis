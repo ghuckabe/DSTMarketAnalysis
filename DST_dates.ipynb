{
 "cells": [
  {
   "cell_type": "markdown",
   "metadata": {},
   "source": [
    "### Some Webscraping"
   ]
  },
  {
   "cell_type": "code",
   "execution_count": 123,
   "metadata": {},
   "outputs": [],
   "source": [
    "import pandas as pd\n",
    "import numpy as np\n",
    "import matplotlib.pyplot as plt\n",
    "from seaborn import set_style\n",
    "set_style(\"whitegrid\")"
   ]
  },
  {
   "cell_type": "code",
   "execution_count": 124,
   "metadata": {},
   "outputs": [],
   "source": [
    "import requests\n",
    "from bs4 import BeautifulSoup\n",
    "from time import sleep # didn't need it in the end; we could make immediate requests"
   ]
  },
  {
   "cell_type": "code",
   "execution_count": 77,
   "metadata": {},
   "outputs": [],
   "source": [
    "# this initial stuff did not end up giving the data set we need so I have the correct solution below\n",
    "# which I'll make clear with a markdown cell\n",
    "# but it's instructive to keep this stuff anyways\n",
    "\n",
    "url = \"https://www.timeanddate.com/time/change/usa/new-york\"\n",
    "html = requests.get(url)\n",
    "soup = BeautifulSoup(html.text, 'html.parser')"
   ]
  },
  {
   "cell_type": "code",
   "execution_count": 78,
   "metadata": {},
   "outputs": [
    {
     "data": {
      "text/plain": [
       "200"
      ]
     },
     "execution_count": 78,
     "metadata": {},
     "output_type": "execute_result"
    }
   ],
   "source": [
    "html.status_code"
   ]
  },
  {
   "cell_type": "code",
   "execution_count": 79,
   "metadata": {},
   "outputs": [
    {
     "name": "stdout",
     "output_type": "stream",
     "text": [
      "<!DOCTYPE html><!--\n",
      "scripts and programs that download content transparent to the user are not allowed without permission\n",
      "--><html lang=en><head><meta http-equiv=Content-Type content=\"text/html; charset=utf-8\"><title>Daylight Saving Time Changes 2024 in New York, New York, USA</title><meta name=description content=\"Daylight Savings Time 2024 in USA – New York – New York. When does time change? Date of the next clock change and exact time to spring forward or fall back.\"><meta name=robots content=\"max-image-preview:large\"><meta property=\"og:image\" content=\"https://www.timeanddate.com/scripts/cityog.php?title=Time%20Changes%20in&amp;city=New%20York&amp;state=New%20York&amp;country=USA&amp;image=new-york1\"><meta property=\"og:type\" content=website><style>\n",
      "@font-face{font-family:iconfont;src:url(\"/common/fonts/iconfont.woff2?v8\") format(\"woff2\"),url(\"/common/fonts/iconfont.woff?v8\") format(\"woff\"),url(\"/common/fonts/iconfont.ttf?v8\") format(\"truetype\"),url(\"/common/fonts/iconfont.svg?v8#iconfont\") format(\"svg\");font-weight:400;font-style:normal}\n",
      "</style>\n",
      "\n",
      "<link rel=preload href=\"/common/fonts/iconfont.woff2?v8\" as=font type=\"font/woff2\" crossorigin>\n",
      "<link rel=preconnect href=\"https://c.tadst.com\" crossorigin>\n",
      "<link rel=preload href=\"//c.tadst.com/com/common/global_37.css\" as=style>\n",
      "<link rel=preload href=\"/common/prebidtad.reg.desk_19.js\" as=script>\n",
      "<script src=\"https://securepubads.g.doubleclick.net/tag/js/gpt.js\" async></script>\n",
      "<script src=\"https://c.amazon-adsystem.com/aax2/apstag.js\" async></script>\n",
      "<script src=\"https://btloader.com/tag?o=5174239513018368&upapi=true\" async></script>\n",
      "<script>\n",
      "\n",
      "AdMgr=(function(){var isLog=0,isSent=0,slots=[],slotsR=[],techs={\"pb\":1,\"aps\":1},isResent=0,techsR={\"pb\":1,\"aps\":1},vals={};\n",
      "function isSecond(){return(document.referrer||'').indexOf('timeanddate')>0}\n",
      "function logAds(){if(isLog){return}\n",
      "if(!window.jcb||!window.TADhba){setTimeout(logAds,1000);\n",
      "return}\n",
      "isLog=1;\n",
      "jcb(\"/scripts/logads.php?d=d\"+\"&\"+TADhba(),function(){})}\n",
      "AD={s:[],o:0};\n",
      "googletag=window.googletag||{};\n",
      "googletag.cmd=googletag.cmd||[];\n",
      "function push(f){googletag.cmd.push(f)}\n",
      "function set(n,v){vals[n]=v}\n",
      "function get(n){return vals[n]}\n",
      "function setTargeting(n,v){if(v){push(function(){googletag.pubads().setTargeting(n,v)})}}\n",
      "function send(){if(isSent)return;\n",
      "isSent=true;\n",
      "setTargeting(\"pbv\",window.pbv);\n",
      "setTargeting(\"si\",isSecond()?\"2\":\"1\");\n",
      "push(function(){googletag.enableServices();\n",
      "googletag.pubads().refresh(AD.s)})}\n",
      "function resend(){if(isResent)return;\n",
      "isResent=true;\n",
      "let o=slotsR[0];\n",
      "o.S.setTargeting('rot',''+o.r);\n",
      "googletag.pubads().refresh([o.S])}\n",
      "function rendered(g){setTimeout(logAds,1000)}\n",
      "function bidsIn(i){delete techs[i];\n",
      "if(Object.keys(techs).length==0){sendAdserverRequest()}}\n",
      "function bidsInR(i){delete techsR[i];\n",
      "if(Object.keys(techsR).length==0){resend()}}\n",
      "function addSlot(o){if (o.wm&&o.wm>window.innerWidth){o.wf.i=o.i;\n",
      "o=o.wf}\n",
      "o.r=0;\n",
      "o.a9=function(){return{slotID:o.i,slotName:o.n,sizes:o.s}}\n",
      "slots.push(o);\n",
      "if(o.css){let s=document.createElement('style');\n",
      "s.textContent=o.css;\n",
      "document.head.append(s)}}\n",
      "function refresh(o){if (o.r<3 && AdMgr.highBid){o.r++;\n",
      "slotsR=[o];\n",
      "setTimeout(resend,3000);\n",
      "pbjs.requestBids({timeout:2300,\n",
      "adUnitCodes:[o.n],\n",
      "bidsBackHandler:function(){try{pbjs.setTargetingForGPTAsync([o.n])}catch(e){}\n",
      "AdMgr.bidsInR('pb')}});\n",
      "TADaps.t=+new Date();apstag.fetchBids({slots:[o.a9()],timeout:2000,params:{adRefresh:'1'}},\n",
      "function(bids){AdMgr.push(function(){TADaps.b=[];\n",
      "TADaps.e=+new Date();\n",
      "apstag.setDisplayBids();\n",
      "AD.s.forEach(function(o){let c=0,z=o.getTargeting('amznbid');\n",
      "if(z&&z.length>0){c=z[0]}\n",
      "TADaps.b.push(c)});\n",
      "AdMgr.bidsInR('aps')})})}}\n",
      "function slot(i){return slots[i]}\n",
      "function a9slot(i){return slot(i).a9()}\n",
      "function gptSlot(i){let o=slot(i),j;\n",
      "if(o){o.S=googletag.defineSlot(o.n,o.s,o.i);\n",
      "if(o.t){for(j=0;j<o.t.length;j++){t=o.t[j];\n",
      "o.S.setTargeting(t[0],t[1])}}\n",
      "o.S.addService(googletag.pubads());\n",
      "AD.s.push(o.S);\n",
      "if (o.ro){let e=document.getElementById(o.i);\n",
      "if(e){addEventListener(\"impressionViewableRotate\",function(){refresh(o)}, true)}}}}\n",
      "function dispSlot(i){let o=slot(i);\n",
      "push(function(){googletag.display(o.i)})}\n",
      "push(function(){googletag.pubads().disableInitialLoad();\n",
      "googletag.pubads().addEventListener('slotRenderEnded',rendered)});\n",
      "return {addSlot:addSlot,\n",
      "slot:slot,\n",
      "a9slot:a9slot,\n",
      "gptSlot:gptSlot,\n",
      "dispSlot:dispSlot,\n",
      "bidsIn:bidsIn,\n",
      "bidsInR:bidsInR,\n",
      "push:push,\n",
      "setTargeting:setTargeting,\n",
      "send:send,\n",
      "set:set,\n",
      "get:get,\n",
      "rendered:rendered,\n",
      "isSecond:isSecond,\n",
      "done:function(){return isLog}}})();\n",
      "AdMgr.addSlot({n:'/1004254/tadcom_300x600',s:[[300,600],[300,250],[160,600],[120,600]],i:'div-gpt-com-300x600',t:[['pf','026']],wm:1440,wf:{n:'/1004254/com_160',s:[[160,600],[120,600]],i:'div-gpt-com-160x600',ro:1},ro:1,css:\":root{--advert-sky-size:300px}\"});AdMgr.addSlot({n:'/1004254/tadcom_970',s:[[970,90],[728,90]],i:'div-gpt-com-970x90-head',t:[['pf','036']],wm:1440,wf:{n:'/1004254/com728',s:[[728,90]],i:'div-gpt-com-728x90-head'}});\n",
      "var pbjs=pbjs||{};pbjs.que=pbjs.que||[];\n",
      "pbjs.bidderSettings={standard:{storageAllowed:true}};\n",
      "!function(a9,a,p){if(a[a9])return;function q(c,r){a[a9]._Q.push([c,r])}a[a9]={init:function(){q(\"i\",arguments)},fetchBids:function(){q(\"f\",arguments)},setDisplayBids:function(){},targetingKeys:function(){return[]},_Q:[]}}(\"apstag\",window,document);\n",
      "function cmpEvent(t,s){if(s){let e=t.eventStatus;\n",
      "if(e=='useractioncomplete'||e=='tcloaded'){if (!t.purpose.consents[1]){AdMgr.set('p1',1)}\n",
      "consentDataReady();\n",
      "/*\n",
      "if (t.purpose.consents[4]){consentDataReady()} else {sendAdserverRequest()}\n",
      "*/}}}\n",
      "function consentDataReady(){consentDataReady=function(){};\n",
      "pbjs.que.push(function(){if(AdMgr.get('p1')){pbjs.setConfig({'deviceAccess':false})}\n",
      "pbjs.addAdUnits([{code:AdMgr.slot(0).n,mediaTypes:{banner:{sizes:AdMgr.slot(0).s}},ortb2Imp:{ext:{gpid:'/1004254/tadcom_300x600#a3690'}},bids:[{bidder:'adf',params:{adxDomain:'adx2.adform.net',mid:1833658}},{bidder:'amx',params:{tagId:'dGltZWFuZGRhdGUuY29t'}},{bidder:'appnexus',params:{placementId:28369055}},{bidder:'bcmssp',params:{publisherId:20895}},{bidder:'ix',params:{siteId:'911528',size:[300,600]}},{bidder:'medianet',params:{cid:'8CU692DPW',crid:'465741218'}},{bidder:'onetag',params:{pubId:'7b5d361d6af8a75'}},{bidder:'openx',params:{delDomain:'timeanddate-d.openx.net',unit:'558425901'}},{bidder:'pubmatic',params:{adSlot:'4851007',publisherId:'157610'}},{bidder:'rise',params:{org:'6516aab5dd00540001482f61'}},{bidder:'rubicon',params:{accountId:'16448',siteId:'127484',zoneId:'2653396'}},{bidder:'sharethrough',params:{pkey:'xPWGnDqXZnqMeoflOGHfguLL'}},{bidder:'shemedia',params:{accountId:'10278',siteId:'210096',zoneId:'2831480'}}]},{code:AdMgr.slot(1).n,mediaTypes:{banner:{sizes:AdMgr.slot(1).s}},ortb2Imp:{ext:{gpid:'/1004254/tadcom_970#a3690'}},bids:[{bidder:'adf',params:{adxDomain:'adx2.adform.net',mid:1833655}},{bidder:'amx',params:{tagId:'dGltZWFuZGRhdGUuY29t'}},{bidder:'appnexus',params:{placementId:28369066}},{bidder:'bcmssp',params:{publisherId:20895}},{bidder:'ix',params:{siteId:'924834',size:[970,90]}},{bidder:'medianet',params:{cid:'8CU692DPW',crid:'635764783'}},{bidder:'onetag',params:{pubId:'7b5d361d6af8a75'}},{bidder:'openx',params:{delDomain:'timeanddate-d.openx.net',unit:'544099932'}},{bidder:'pubmatic',params:{adSlot:'4851008',publisherId:'157610'}},{bidder:'rise',params:{org:'6516aab5dd00540001482f61'}},{bidder:'rubicon',params:{accountId:'16448',siteId:'127484',zoneId:'2677290'}},{bidder:'sharethrough',params:{pkey:'MP4upq7RPYEkCaVYtECVCddt'}},{bidder:'shemedia',params:{accountId:'10278',siteId:'210096',zoneId:'2831480'}}]}]);\n",
      "pbjs.requestBids({bidsBackHandler:function(){var c=0,a,b,i,h=0,r=pbjs.getBidResponses();\n",
      "AdMgr.push(function(){pbjs.setTargetingForGPTAsync()});\n",
      "for(a in r){if(r.hasOwnProperty(a)){b=r[a].bids;\n",
      "for(i=0;i<b.length;i++){if(b[i].cpm){c++;\n",
      "h=Math.max(h,b[i].cpm)}}}}\n",
      "AdMgr.setTargeting(\"tadbid\",\"\"+c);\n",
      "AdMgr.highBid=h;\n",
      "AdMgr.bidsIn('pb')}}\n",
      ")});\n",
      "TADaps.t=+new Date();apstag.fetchBids({slots:[AdMgr.a9slot(0),AdMgr.a9slot(1)],timeout:2137,params:{adRefresh:'0'}},\n",
      "function(bids){AdMgr.push(function(){TADaps.e=+new Date();\n",
      "apstag.setDisplayBids();\n",
      "AD.s.forEach(function(o){let c=0,z=o.getTargeting('amznbid');\n",
      "if(z&&z.length>0){c=z[0]}\n",
      "TADaps.b.push(c)});\n",
      "AdMgr.bidsIn('aps')})})}\n",
      "pbjs.que.push(function(){pbjs.setConfig({s2sConfig:{accountId:'1',\n",
      "bidders:[\"amx\",\"appnexus\",\"onetag\",\"openx\",\"rise\",\"shemedia\"],\n",
      "adapter:'prebidServer',\n",
      "enabled:true,\n",
      "endpoint:{p1Consent:'https://www.timeanddate.com/.pbs/v1/openrtb2/auction',\n",
      "noP1Consent:'https://www.timeanddate.com/.pbs/v1/openrtb2/auction'},\n",
      "syncEndpoint:{p1Consent:'https://www.timeanddate.com/.pbs/v1/cookie_sync',\n",
      "noP1Consent:'https://www.timeanddate.com/.pbs/v1/cookie_sync'},\n",
      "timeout:1377},\n",
      "userSync:{userIds:[{name:\"quantcastId\"},{name:\"criteo\"},{name:\"sharedId\",params:{pixelUrl:\"/scripts/sharedid.php\"},storage:{name:\"_sharedID\",type:\"cookie\",expires:30}}],filterSettings:{iframe:{bidders:\"*\",filter:\"include\"}}},\n",
      "floors:{enforcement:{enforceJS:false},data:{schema:{fields:['size']},values:{'300x600':0.26,'970x90':0.36},default:0.35}},\n",
      "priceGranularity:{buckets:[{min:0,max:4,increment:0.01},{min:4,max:8,increment:0.02},{min:8,max:20,increment:0.05},{min:20,max:30,increment:0.10},{min:30,max:50,increment:0.25},{min:50,max:100,increment:1}]},\n",
      "enableSendAllBids:true,\n",
      "bidderTimeout:1837,\n",
      "pageUrl:\"https:\\/\\/www.timeanddate.com\\/time\\/change\\/usa\\/new-york\"});\n",
      "pbjs.aliasBidder('rubicon','shemedia');\n",
      "pbjs.setBidderConfig({\"config\":{\"ver\":\"1.0\",\"nodes\":[{\"asi\":\"solution.no\",\"hp\":1,\"sid\":\"c70cd750a5e0424f8e4493b78666828b\"}],\"complete\":1},\"validation\":\"strict\"});\n",
      "pbjs.setBidderConfig({\"bidders\":[\"rubicon\"],\"config\":{\"schain\":{\"validation\":\"strict\",\"config\":{\"ver\":\"1.0\",\"complete\":1,\"nodes\":[{\"asi\":\"netricsales.com\",\"sid\":\"16448\",\"hp\":1}]}}}});\n",
      "consentDataReady()});\n",
      "TADaps={b:[]};apstag.init({pubID:'12d5d789-63e3-47bc-ba31-070e97a96f2c',adServer:'googletag'});\n",
      "function sendAdserverRequest(){AdMgr.send()}\n",
      "setTimeout(function(){sendAdserverRequest()},3674);\n",
      "googletag.cmd.push(function(){AdMgr.gptSlot(0);AdMgr.gptSlot(1);googletag.pubads().setTargeting('ab','a').setTargeting('hr','03').setTargeting('ut','u').setTargeting('art','3690').setTargeting('pf','035').enableSingleRequest()});\n",
      "\n",
      "</script>\n",
      "<script src=\"/common/prebidtad.reg.desk_19.js\" async></script>\n",
      "<link rel=alternate hreflang=de href=\"https://www.timeanddate.de/stadt/zeitumstellung/usa/new-york\" />\n",
      "<link rel=alternate hreflang=no href=\"https://www.timeanddate.no/sommertid/i/usa/new-york\" /><link href=\"/site.webmanifest\" rel=manifest><link rel=icon href=\"//c.tadst.com/favicon-48x48.png\" type=\"image/png\" sizes=48x48><link sizes=16x16 type=\"image/png\" href=\"//c.tadst.com/favicon-16x16.png\" rel=icon><link href=\"//c.tadst.com/favicon-32x32.png\" type=\"image/png\" sizes=32x32 rel=icon><link rel=stylesheet type=\"text/css\" href=\"//c.tadst.com/com/common/global_37.css\"><script type=\"application/ld+json\">\n",
      "{\"@context\":\"https://schema.org\",\"@type\":\"BreadcrumbList\",\"itemListElement\":[{\"@type\":\"ListItem\",\"position\":1,\"name\":\"Time Zones\",\"item\":\"https://www.timeanddate.com/time/\"},{\"@type\":\"ListItem\",\"position\":2,\"name\":\"Time Change Dates\",\"item\":\"https://www.timeanddate.com/time/change/\"},{\"@type\":\"ListItem\",\"position\":3,\"name\":\"USA\",\"item\":\"https://www.timeanddate.com/time/change/usa\"},{\"@type\":\"ListItem\",\"position\":4,\"name\":\"New York\"}]}\n",
      "</script><link type=\"text/css\" href=\"//c.tadst.com/com/common/tpl_banner_22.css\" rel=stylesheet><link href=\"//c.tadst.com/com/common/citypages_55.css\" type=\"text/css\" rel=stylesheet><link type=\"text/css\" href=\"//c.tadst.com/com/common/citydst_13.css\" rel=stylesheet></head><body class=\"tpl-banner  dst\"><div id=header__wrapper class=header__wrapper>\n",
      "<div id=header__inner class=header__inner>\n",
      "<div id=header class=banner>\n",
      "<div class=fixed>\n",
      "<div id=logo>\n",
      "<a href=\"/\" rel=home title=\"Home page timeanddate.com\"><div class=\"tad-logo\" role=\"img\" aria-label=\"timeanddate.com\"></div></a>\n",
      "</div>\n",
      "</div>\n",
      "</div>\n",
      "<div id=ad-wrap><div id=ad-wrap2 class=fixed><div id=ad7><div id='div-gpt-com-970x90-head'><script>\n",
      "AdMgr.dispSlot(1);\n",
      "</script>\n",
      "</div></div></div></div>\n",
      "<nav id=nav class=site-nav-bar>\n",
      "<div class=\"site-nav-bar__inner fixed\">\n",
      "<button class=\"site-nav-bar__button site-nav-bar__button--menu\" id=site-nav-menu title=\"Menu\" aria-label=\"Menu\">\n",
      "<i class=\"i-font i-menu\"></i>\n",
      "</button>\n",
      "<div class=site-nav-bar__logo>\n",
      "<a href=\"/\" rel=home title=\"Home page timeanddate.com\"><img src=\"//c.tadst.com/gfx/n/logo/logo-2021--horizontal-inverted-darkbg.svg\" loading=lazy alt=\"timeanddate.com\" width=140 height=19></a>\n",
      "</div>\n",
      "<form action=\"/search/results.html\" class=site-nav-bar__search-form>\n",
      "<input class=site-nav-bar__search placeholder=\"Search...\" id=site-nav-search name=query title=\"Search\" aria-label=\"Search\"/>\n",
      "<button class=\"site-nav-bar__button site-nav-bar__button--search\" id=site-nav-search-btn aria-label=\"Search\">\n",
      "<div class=site-nav-bar__search-inner>\n",
      "<i class=\"i-font i-search\"></i>\n",
      "</div>\n",
      "</button>\n",
      "</form>\n",
      "<div class=site-nav-bar__menu-wrap>\n",
      "<div class=site-nav__header>\n",
      "<button class=site-nav__login id=site-nav-login>Sign in</button>\n",
      "<button class=site-nav__close id=site-nav-close title=\"Close\">\n",
      "<i class=\"i-font i-close\"></i>\n",
      "</button>\n",
      "</div>\n",
      "<ul id=site-nav class=site-nav>\n",
      "<li class=\"site-nav__menu \"><a href=\"/news/\" class=site-nav__title>News</a><ul class=site-nav__sub-menu><li class=\"site-nav__item site-nav__item--divider site-nav__item--mob\"><a class=site-nav__link href=\"/news\">News Home</a><li class=site-nav__item><a class=site-nav__link href=\"/news/astronomy/\">Astronomy News</a><li class=site-nav__item><a class=site-nav__link href=\"/news/time/\">Time Zone News</a><li class=\"site-nav__item site-nav__item--divider\"><a class=site-nav__link href=\"/news/calendar/\">Calendar &amp; Holiday News</a><li class=\"site-nav__item site-nav__item--divider\"><a class=site-nav__link href=\"/newsletter/\">Newsletter</a><li class=site-nav__item><a class=site-nav__link href=\"/live/\">Live events</a></ul></li><li class=\"site-nav__menu \"><a href=\"/worldclock/\" class=site-nav__title>World Clock</a><ul class=site-nav__sub-menu><li class=site-nav__item><a class=site-nav__link href=\"/worldclock/\">Main World Clock</a><li class=site-nav__item><a class=site-nav__link href=\"/worldclock/full.html\">Extended World Clock</a><li class=\"site-nav__item site-nav__item--divider\"><a class=site-nav__link href=\"/worldclock/personal.html\">Personal World Clock</a><li class=site-nav__item><a class=site-nav__link href=\"/clocks/free.html\">Clock for Your Site</a><li class=site-nav__item><a class=site-nav__link href=\"/worldclock/timezone/utc\">UTC Time</a></ul></li><li class=\"site-nav__menu   active\"><a href=\"/time/\" class=site-nav__title>Time Zones</a><ul class=site-nav__sub-menu><li class=\"site-nav__item site-nav__item--divider site-nav__item--mob\"><a class=site-nav__link href=\"/time\">Time Zones Home</a><li class=site-nav__item><a class=site-nav__link href=\"/worldclock/converter.html\">Time Zone Converter</a><li class=site-nav__item><a class=site-nav__link href=\"/worldclock/meeting.html\">Meeting Planner</a><li class=\"site-nav__item site-nav__item--divider\"><a class=site-nav__link href=\"/worldclock/fixedform.html\">Event Time Announcer</a><li class=site-nav__item><a class=site-nav__link href=\"/time/map/\">Time Zone Map</a><li class=\"site-nav__item site-nav__item--divider\"><a class=site-nav__link href=\"/time/zones/\">Time Zone Abbreviations</a><li class=site-nav__item><a class=site-nav__link href=\"/time/dst/\">Daylight Saving Time</a><li class=site-nav__item><a class=site-nav__link href=\"/time/change/\">Time Changes Worldwide</a><li class=site-nav__item><a class=site-nav__link href=\"/time/difference/\">Time Difference</a><li class=site-nav__item><a class=site-nav__link href=\"/news/time/\">Time Zone News</a></ul></li><li class=\"site-nav__menu \"><a href=\"/calendar/\" class=site-nav__title>Calendar</a><ul class=site-nav__sub-menu><li class=\"site-nav__item site-nav__item--divider site-nav__item--mob\"><a class=site-nav__link href=\"/calendar/info.html\">Calendars Home</a><li class=site-nav__item><a class=site-nav__link href=\"/calendar/\">Calendar 2024</a><li class=site-nav__item><a class=site-nav__link href=\"/calendar/?year=2025\">Calendar 2025</a><li class=\"site-nav__item site-nav__item--divider\"><a class=site-nav__link href=\"/calendar/monthly.html\">Monthly Calendar</a><li class=site-nav__item><a class=site-nav__link href=\"/calendar/create.html\">Printable Calendar (PDF)</a><li class=\"site-nav__item site-nav__item--divider\"><a class=site-nav__link href=\"/calendar/events/\">Add Your Own Calendar Events</a><li class=site-nav__item><a class=site-nav__link href=\"/calendar/basic.html\">Calendar Creator</a><li class=site-nav__item><a class=site-nav__link href=\"/holidays/\">Holidays Worldwide</a><li class=site-nav__item><a class=site-nav__link href=\"/on-this-day/\">On This Day in History</a><li class=\"site-nav__item site-nav__item--divider\"><a class=site-nav__link href=\"/holidays/fun/\">Fun Holidays</a><li class=site-nav__item><a class=site-nav__link href=\"/calendar/months/\">Months of the Year</a><li class=site-nav__item><a class=site-nav__link href=\"/calendar/days/\">Days of the Week</a><li class=site-nav__item><a class=site-nav__link href=\"/date/leapyear.html\">About Leap Years</a></ul></li><li class=\"site-nav__menu \"><a href=\"/weather/\" class=site-nav__title>Weather</a><ul class=site-nav__sub-menu><li class=site-nav__item><a class=site-nav__link href=\"/weather/\">Worldwide</a><li class=site-nav__item><a class=site-nav__link href=\"/scripts/go.php\">Local Weather</a><li class=\"site-nav__item site-nav__item--divider\"><a class=site-nav__link href=\"/scripts/go.php?type=hourly\">Hour-by-Hour</a><li class=site-nav__item><a class=site-nav__link href=\"/scripts/go.php?type=ext\">2-Week Forecast</a><li class=site-nav__item><a class=site-nav__link href=\"/scripts/go.php?type=historic\">Past Week</a><li class=site-nav__item><a class=site-nav__link href=\"/scripts/go.php?type=climate\">Climate</a></ul></li><li class=\"site-nav__menu \"><a href=\"/astronomy/\" class=site-nav__title>Sun, Moon &amp; Space</a><ul class=site-nav__sub-menu><li class=\"site-nav__item site-nav__item--divider site-nav__item--mob\"><a class=site-nav__link href=\"/astronomy\">Sun &amp; Moon Home</a><li class=site-nav__item><a class=site-nav__link href=\"/sun/\">Sun Calculator</a><li class=site-nav__item><a class=site-nav__link href=\"/moon/\">Moon Calculator</a><li class=\"site-nav__item site-nav__item--divider\"><a class=site-nav__link href=\"/moon/phases/\">Moon Phases</a><li class=site-nav__item><a class=site-nav__link href=\"/astronomy/night/\">Night Sky</a><li class=\"site-nav__item site-nav__item--divider\"><a class=site-nav__link href=\"/astronomy/meteor-shower/\">Meteor Showers</a><li class=site-nav__item><a class=site-nav__link href=\"/worldclock/sunearth.html\">Day and Night Map</a><li class=\"site-nav__item site-nav__item--divider\"><a class=site-nav__link href=\"/astronomy/moon/light.html\">Moon Light World Map</a><li class=site-nav__item><a class=site-nav__link href=\"/eclipse/\">Eclipses</a><li class=\"site-nav__item site-nav__item--divider\"><a class=site-nav__link href=\"/live/\">Live Streams</a><li class=site-nav__item><a class=site-nav__link href=\"/calendar/seasons.html\">Seasons</a><li class=site-nav__item><a class=site-nav__link href=\"/news/astronomy/\">Astronomy News</a></ul></li><li class=\"site-nav__menu \"><a href=\"/counters/\" class=site-nav__title>Timers</a><ul class=site-nav__sub-menu><li class=\"site-nav__item site-nav__item--mob\"><a class=site-nav__link href=\"/counters\">Timers Home</a><li class=site-nav__item><a class=site-nav__link href=\"/stopwatch/\">Stopwatch</a><li class=\"site-nav__item site-nav__item--divider\"><a class=site-nav__link href=\"/timer/\">Timer</a><li class=\"site-nav__item site-nav__item--divider\"><a class=site-nav__link href=\"/countdown/create\">Countdown to Any Date</a><li class=site-nav__item><a class=site-nav__link href=\"/countdown/halloween\">Halloween Countdown</a><li class=site-nav__item><a class=site-nav__link href=\"/countdown/thanksgiving\">Thanksgiving Countdown</a><li class=site-nav__item><a class=site-nav__link href=\"/countdown/newyear\">New Year Countdown</a><li class=site-nav__item><a class=site-nav__link href=\"/clocks/freecountdown.html\">Countdown for Your Site</a></ul></li><li class=\"site-nav__menu \"><a href=\"/date/\" class=site-nav__title>Calculators</a><ul class=site-nav__sub-menu><li class=\"site-nav__item site-nav__item--divider site-nav__item--mob\"><a class=site-nav__link href=\"/date/\">Calculators Home</a><li class=site-nav__item><a class=site-nav__link href=\"/date/duration.html\">Date to Date Calculator (duration)</a><li class=site-nav__item><a class=site-nav__link href=\"/date/workdays.html\">Business Date to Date (exclude holidays)</a><li class=site-nav__item><a class=site-nav__link href=\"/date/dateadd.html\">Date Calculator (add / subtract)</a><li class=\"site-nav__item site-nav__item--divider\"><a class=site-nav__link href=\"/date/weekdayadd.html\">Business Date (exclude holidays)</a><li class=site-nav__item><a class=site-nav__link href=\"/date/weekday.html\">Weekday Calculator</a><li class=site-nav__item><a class=site-nav__link href=\"/date/weeknumber.html\">Week Number Calculator</a><li class=\"site-nav__item site-nav__item--divider\"><a class=site-nav__link href=\"/date/roman-calculator.html\">Roman Numeral Converter</a><li class=site-nav__item><a class=site-nav__link href=\"/date/birthday.html\">Alternative Age Calculator</a><li class=site-nav__item><a class=site-nav__link href=\"/date/pattern.html\">Date Pattern Calculator</a><li class=site-nav__item><a class=site-nav__link href=\"/worldclock/distance.html\">Distance Calculator</a></ul></li><li class=\"site-nav__menu site-nav__menu--my-account\"><a href=\"/custom/\" class=site-nav__title><i class='i-font i-account_circle site-nav__desktop-title'></i>  <span>My Account</span></a><ul class=site-nav__sub-menu><li class=\"site-nav__item site-nav__item--divider site-nav__item--mob\"><a class=site-nav__link href=\"/custom\">My Account</a><li class=site-nav__item><a id=popchi class=site-nav__link href=\"/custom/location.html\">My Location</a><li class=site-nav__item><a class=site-nav__link href=\"/custom/site.html\">My Units</a><li class=site-nav__item><a class=site-nav__link href=\"/calendar/events/\">My Events</a><li class=site-nav__item><a class=site-nav__link href=\"/worldclock/personal.html\">My World Clock</a><li class=\"site-nav__item site-nav__item--divider\"><a class=site-nav__link href=\"/custom/privacy.html\">My Privacy</a><li class=site-nav__item><a class=site-nav__link href=\"/services/\">Paid Services</a><li class=site-nav__item><a id=poplogin class=site-nav__link href=\"/custom/login.html\">Sign in</a><li class=site-nav__item><a id=popreg class=site-nav__link href=\"/custom/create.html\">Register</a></ul></li>\n",
      "</ul> \n",
      "</div>\n",
      "<div class=site-nav-bar__blur id=site-nav-blur></div>\n",
      "</div>\n",
      "</nav>\n",
      "</div>\n",
      "</div><div id=po1 class=po></div><div id=mpo></div><div id=anw class=alert-notice__wrap></div><div class=main-content-div><script>\n",
      "window.TAD=window.TAD||{};TAD.abtest='a';\n",
      "</script><header class=\"bn-header bn-header--dst\"><div class=\"row socrow\"><div id=bc class=\"fixed\"><div id=bct><a target=_top href=\"/\" class=fx>Home</a> &nbsp; <a target=_top href=\"/time/\" class=fx>Time Zones</a> &nbsp; <a target=_top href=\"/time/change/\" class=fx>Time Change Dates</a> &nbsp; <a target=_top href=\"/time/change/usa\" class=fx>USA</a> &nbsp; New York</div></div></div><div class=\"bn-header__wrap fixed\"><div class=\"headline-banner \"><section class=headline-banner__wrap>\n",
      "\n",
      "\n",
      "\n",
      "\n",
      "\n",
      "\n",
      "\n",
      "\n",
      "\n",
      "<script type=\"text/javascript\">\n",
      "window.placeid=\"usa\\/new-york\";window.mode=\"dst\";\n",
      "</script><img src=\"//c.tadst.com/gfx/n/fl/48/us.png\" class=headline-banner__flag alt=\"Flag for USA\" title=\"Flag for USA\" width=48 height=32>\n",
      "<div class=headline-banner__content><h1 class=headline-banner__title>Clock Changes in New York, New York, USA</h1></div></section><section class=headline-banner__extra><form action=\"/time/change/\" class=\"bn-header__searchbox picker-city noprint\"><input type=search autocomplete=off class=picker-city__input placeholder=\"Search for city or place…\" onfocus=\"ifc(this,'ci',1,4,{&quot;pre&quot;:&quot;/time/change/&quot;})\" name=query /><button type=submit class=picker-city__button title=Search><i class=\"i-font i-search\"></i></button></form></section></div></div><section class=bn-header__extra><nav id=bk-nav><div class=fixed><div class=bk-nav__inner><div class=nav-2__wrap><ul class=nav-2><li class=nav-2__item><a href=\"/worldclock/usa/new-york\" title=\"General/main info about New York\">Time/General</a></li><li class=nav-2__item><a href=\"/weather/usa/new-york\" title=\"Current weather and forecast for New York\">Weather  <i class=i-dropdown></i></a><ul class=nav-2__submenu><li class=nav-2__submenu-item><a href=\"/weather/usa/new-york\" title=\"Shows a weather overview\">Weather Today/Tomorrow </a></li><li class=nav-2__submenu-item><a href=\"/weather/usa/new-york/hourly\" title=\"Hour-by-hour weather for the coming week\">Hour-by-Hour Forecast </a></li><li class=nav-2__submenu-item><a href=\"/weather/usa/new-york/ext\" title=\"Extended forecast for the next two weeks\">14 Day Forecast </a></li><li class=nav-2__divider></li><li class=nav-2__submenu-item><a href=\"/weather/usa/new-york/historic\" title=\"Past weather for yesterday, the last 2 weeks, or any selected month available\">Yesterday/Past Weather</a></li><li class=nav-2__submenu-item><a href=\"/weather/usa/new-york/climate\" title=\"Historic weather and climate information\">Climate (Averages)</a></li></ul></li><li class=nav-2__item><a href=\"/time/zone/usa/new-york\" title=\"Past and future time change dates for New York\">Time Zone </a></li><li class=\"active nav-2__item\"><a href=\"/time/change/usa/new-york\" title=\"Daylight saving time changeover dates and times for New York\">DST Changes</a></li><li class=nav-2__item><a href=\"/astronomy/usa/new-york\" title=\"Calculate rising and setting times for the Sun and Moon in New York\">Sun &amp; Moon <i class=i-dropdown></i></a><ul class=nav-2__submenu><li class=nav-2__submenu-item><a href=\"/astronomy/usa/new-york\">Sun & Moon Today </a></li><li class=nav-2__submenu-item><a href=\"/sun/usa/new-york\">Sunrise & Sunset </a></li><li class=nav-2__divider></li><li class=nav-2__submenu-item><a href=\"/moon/usa/new-york\">Moonrise & Moonset </a></li><li class=nav-2__submenu-item><a href=\"/moon/phases/usa/new-york\">Moon Phases </a></li><li class=nav-2__divider></li><li class=nav-2__submenu-item><a href=\"/eclipse/in/usa/new-york\">Eclipses </a></li><li class=nav-2__submenu-item><a href=\"/astronomy/night/usa/new-york\">Night Sky </a></li></ul></li></ul></div></div></div></nav><script type=\"text/javascript\">\n",
      "TAD=window.TAD||{};TAD.lon=-74.011;TAD.lat=40.709;\n",
      "</script></section></header><main class=\"tpl-banner__main layout-grid layout-grid--sky tpl-banner__main--dst\"><article class=\"layout-grid__main tpl-banner__content\"><section class=bk-focus><div id=qlook class=bk-focus__qlook><div class=h2>Next change:</div><div id=dstcal><div id=dstm>Nov</div><div id=dstd>3</div></div><div class=h2><span class=smaller>1 hour</span> <span class=smaller>Back</span></div><p>Nov 3, 2024, 2:00 am</p></div><div class=bk-focus__info><table class=\"table table--left table--inner-borders-rows\"><tbody><tr><th>Start DST: </th><td>Sunday, March 10, 2024 — 1 hour forward</td></tr><tr><th>End DST: </th><td>Sunday, November 3, 2024 — 1 hour backward</td></tr></tbody></table></div><div id=bk-map class=bk-focus__map><a href=\"/time/map/#!cities=179\"><img title=\"Map showing the location of New York. Click map to see the location on our worldwide Time Zone Map.\" src=\"//c.tadst.com/gfx/citymap/us-10.png?10\" alt=\"Location of New York\" width=320 height=160><img id=map-mrk src=\"//c.tadst.com/gfx/n/icon/icon-map-pin.png\" class=fadeInDown style=\"left:246px;top:29px;position:absolute\" alt=Location title=\"Location of New York\" width=18 height=34></a></div></section><section class=fixed><div class=row><div><div class=\"row pdflexi dashb\"><div class=\"three columns tc\"><div class=dst-clock data-dst-from=7200 data-dst-to=10800></div><h2 class=\"mgt10 mgb0\">Mar 10</h2><p>Forward 1 hour</p></div><div class=\"nine columns\"><h2 class='mgt0'>Mar 10, 2024 - Daylight Saving Time Started</h2><p>When local standard time was about to reach<br>Sunday, March 10, 2024, <strong>2:00:00 am</strong> clocks were turned <strong>forward</strong> 1 hour to <br>Sunday, March 10, 2024, <strong>3:00:00 am</strong> local daylight time instead.</p><p>Sunrise and sunset were about 1 hour later on Mar 10, 2024 than the day before. There was <a href=\"/sun/usa/new-york?month=3&amp;year=2024\" title=\"See sunrise and sunset in New York in March 2024\">more light in the evening</a> and less light in the morning.</p><p>Also called <a href=\"/time/dst/spring-forward-fall-back.html\">Spring Forward</a>, <a href=\"/time/dst/summer-time.html\">Summer Time</a>, and <a href=\"/time/dst/daylight-savings-time.html\">Daylight Savings Time</a>.</p><p class=lk-block><strong>More info:</strong><br><a href=\"/news/time/canada-start-dst-2024.html\">Daylight Saving 2024 Starts in Canada</a><br><a href=\"/news/time/usa-start-dst-2024.html\">DST 2024 Starts in the USA</a><br></p></div></div><div class=\"row pdflexi\"><div class=\"three columns tc\"><div class=dst-clock data-dst-from=7200 data-dst-to=3600></div><h2 class=\"mgt10 mgb0\">Nov 3</h2><p>Back 1 hour</p></div><div class=\"nine columns\"><h2 class='mgt0'>Nov 3, 2024 - Daylight Saving Time Ends</h2><p>When local daylight time is about to reach<br>Sunday, November 3, 2024, <strong>2:00:00 am</strong> clocks are turned <strong>backward</strong> 1 hour to <br>Sunday, November 3, 2024, <strong>1:00:00 am</strong> local standard time instead.</p><p>Sunrise and sunset will be about 1 hour earlier on Nov 3, 2024 than the day before. There will be <a href=\"/sun/usa/new-york?month=11&amp;year=2024\" title=\"See sunrise and sunset in New York in November 2024\">more light in the morning</a> and less light in the evening.</p><p>Also called <a href=\"/time/dst/spring-forward-fall-back.html\">Fall Back</a> and <a href=\"/time/standard-time.html\">Winter Time</a>.</p><p class=lk-block><strong>More info:</strong><br><a href=\"/news/time/canada-end-dst-2024.html\">Daylight Saving 2024 Ends in Canada</a><br><a href=\"/news/time/expert-on-clock-changes.html\">Hate Clock Changes?</a><br><a href=\"/news/time/usa-end-dst-2024.html\">Still Falling Back: DST Ends in the US 2024</a><br></p></div></div></div><div class=\"four columns\">\n",
      "</div></div><div class=\"row pdflexi\"><div class=\"nine columns offset-3\"><p class=bigger>Other years: <a href=\"/time/change/usa/new-york?year=2021\">2021</a> | <a href=\"/time/change/usa/new-york?year=2022\">2022</a> | <a href=\"/time/change/usa/new-york?year=2023\">2023</a> | <span class=current>2024</span> | <a href=\"/time/change/usa/new-york?year=2025\">2025</a> | <a href=\"/time/change/usa/new-york?year=2026\">2026</a> | <a href=\"/time/change/usa/new-york?year=2027\">2027</a></p></div></div><div class=row><div class=\"eight columns\"><h2 class=mgt0>Daylight Saving Time in Other Years</h2><p>DST changes do not necessarily occur on the same date every year.</p><p class=tr><label class=inline>Show DST from: </label><select id=tb-dst-select name=syear class=inline><option value=\"2023-2027\" selected>Recent/upcoming years</option><option value=\"2020-2029\">2020 &mdash; 2029</option><option value=\"2010-2019\">2010 &mdash; 2019</option><option value=\"2000-2009\">2000 &mdash; 2009</option><option value=\"1990-1999\">1990 &mdash; 1999</option><option value=\"1980-1989\">1980 &mdash; 1989</option><option value=\"1970-1979\">1970 &mdash; 1979</option><option value=\"1960-1969\">1960 &mdash; 1969</option><option value=\"1950-1959\">1950 &mdash; 1959</option><option value=\"1925-1949\">1925 &mdash; 1949</option><option value=\"1900-1924\">1900 &mdash; 1924</option><option value=\"1850-1899\">1850 &mdash; 1899</option><option value=\"1800-1849\">1800 &mdash; 1849</option></select></p><table id=tb-dst class=\"zebra fw tb-wc tb-hover\"><thead><tr><th rowspan=2>Year</th><th rowspan=2>DST Start (Clock Forward)</th><th rowspan=2>DST End (Clock Backward)</th></tr><tr></tr></thead><tbody><tr ><th><a href=\"/time/change/usa/new-york?year=2023\" title=\"See more details for 2023\">2023</a></th><td><a href=\"/news/time/dst-jetlag-2023.html\" title=\"Spring DST: The Ultimate Monday?\">Sunday, March 12, 2:00 am</a></td><td><a href=\"/news/time/us-permanent-dst.html\" title=\"US Senate Approves Permanent DST Bill\">Sunday, November 5, 2:00 am</a></td></tr><tr class=hl ><th>2024</th><td><a href=\"/news/time/canada-start-dst-2024.html\" title=\"Daylight Saving 2024 Starts in Canada\">Sunday, March 10, 2:00 am</a></td><td><a href=\"/news/time/canada-end-dst-2024.html\" title=\"Daylight Saving 2024 Ends in Canada\">Sunday, November 3, 2:00 am</a></td></tr><tr ><th><a href=\"/time/change/usa/new-york?year=2025\" title=\"See more details for 2025\">2025</a></th><td>Sunday, March 9, 2:00 am</td><td>Sunday, November 2, 2:00 am</td></tr><tr ><th><a href=\"/time/change/usa/new-york?year=2026\" title=\"See more details for 2026\">2026</a></th><td>Sunday, March 8, 2:00 am</td><td>Sunday, November 1, 2:00 am</td></tr><tr ><th><a href=\"/time/change/usa/new-york?year=2027\" title=\"See more details for 2027\">2027</a></th><td>Sunday, March 14, 2:00 am</td><td>Sunday, November 7, 2:00 am</td></tr></tbody><tfoot><tr><td colspan=3>All times are local for New York. Current year is <span class=hl>highlighted</span>.</td></tr></tfoot></table><p class=lk-block><a href=\"/time/zone/usa/new-york\" class=read-more>Detailed time zone and clock changes in New York</a></p></div><div class=\"four columns\">\n",
      "<h3>Daylight Saving Time Info</h3><ul><li><a href=\"/time/dst/\">About Daylight Saving Time</a></li><li><a href=\"/time/dst/2024.html\">DST in year 2024</a></li><li><a href=\"/time/dst/events.html\">Upcoming time changes</a></li><li><a href=\"/time/dst/history.html\">History of Daylight Saving Time</a></li><li><a href=\"/time/dst/daylight-savings-time.html\">Daylight Saving Time spelling</a></li></ul></div></div><p class=help-link><a href=\"/time/change/help\">Need some help?</a></p></section><script type=\"text/javascript\">\n",
      "TAD.dec=\".\";TAD.sep=\",\";et=1729049355;\n",
      "function f0(d){return TAD.ld[d.getUTCDay()]+', '+TAD.lm[d.getUTCMonth()]+' '+d.getUTCDate()+', '+d.getUTCFullYear()+' at '+((d.getUTCHours()+11)%12+1)+':'+p2(d.getUTCMinutes())+':'+p2(d.getUTCSeconds())+' '+_ap(d);}\n",
      "function f1(d){return TAD.ld[d.getUTCDay()]+', '+TAD.lm[d.getUTCMonth()]+' '+d.getUTCDate()+', '+d.getUTCFullYear()+' at '+p2(d.getUTCHours())+':'+p2(d.getUTCMinutes())+':'+p2(d.getUTCSeconds());}\n",
      "function f2(d){return ((d.getUTCHours()+11)%12+1)+':'+p2(d.getUTCMinutes())+':'+p2(d.getUTCSeconds())+' '+_ap(d);}\n",
      "cks={\"ct\":{\"t\":[{\"o\":-14400,\"a\":\"<a href=\\\"\\/time\\/zones\\/edt\\\" title=\\\"Eastern Daylight Time\\\">EDT<\\/a>\",\"d\":1}],\"f\":f2,\"d\":13,\"g\":{\"t\":2}}};\n",
      "TAD.lm=[];TAD.lm[9]='October';TAD.ld=['Sunday','Monday','Tuesday','Wednesday','Thursday','Friday','Saturday'];\n",
      "function _ap(d){var t=Math.floor(d.getTime()/1E3+8640000000)%86400;if(t===0){return 'midnight';}if(t==43200){return 'noon';}if(t<43200){return 'am';}return 'pm';}\n",
      "\n",
      "</script></article><aside class=\"layout-grid__sky layout-grid__sky--sticky tpl-banner__sky\"><fieldset id=ad1><legend>Advertising</legend><div id='div-gpt-com-300x600'><script>\n",
      "AdMgr.dispSlot(0);\n",
      "</script>\n",
      "</div></fieldset></aside></main><script src=\"//c.tadst.com/com/common/wcommon_30.js\"></script><script src=\"//c.tadst.com/com/common/dstclock_13.js\"></script><script src=\"//c.tadst.com/com/common/cityajax_13.js\"></script> </div>\n",
      "</div>\n",
      "\n",
      "<footer class=\"footer\">\n",
      " <section class=\"feedback-bar\">\n",
      " <div class=\"fixed feedback-bar__wrap\">\n",
      " <section id=\"instant-feedback\" class=\"feedback-bar__instant-feedback\">\n",
      " <span class=\"feedback-bar__msg\">How was your experience?</span>\n",
      " <span class=\"feedback-bar__thankyou\">Thank you for your feedback!</span>\n",
      " <a href=\"#\" onclick=\"return blif(1)\" class=\"feedback-bar__thumb feedback-bar__thumb--up\" title=\"Vote Good\" aria-label=\"Vote for having a good experience\"><svg xmlns=\"http://www.w3.org/2000/svg\" width=\"24\" height=\"24\" viewBox=\"0 0 24 24\"><path fill=\"none\" d=\"M0 0h24v24H0V0z\"/><path d=\"M1 21h4V9H1v12zm22-11c0-1.1-.9-2-2-2h-6.31l.95-4.57.03-.32c0-.41-.17-.79-.44-1.06L14.17 1 7.59 7.59C7.22 7.95 7 8.45 7 9v10c0 1.1.9 2 2 2h9c.83 0 1.54-.5 1.84-1.22l3.02-7.05c.09-.23.14-.47.14-.73v-2z\"/></svg></a>\n",
      " \n",
      " <a href=\"#\" onclick=\"return blif(0)\" class=\"feedback-bar__thumb feedback-bar__thumb--down\" title=\"Vote Bad\" aria-label=\"Vote for having a bad experience\"><svg xmlns=\"http://www.w3.org/2000/svg\" width=\"24\" height=\"24\" viewBox=\"0 0 24 24\"><path fill=\"none\" d=\"M0 0h24v24H0z\"/><path d=\"M15 3H6c-.83 0-1.54.5-1.84 1.22l-3.02 7.05c-.09.23-.14.47-.14.73v2c0 1.1.9 2 2 2h6.31l-.95 4.57-.03.32c0 .41.17.79.44 1.06L9.83 23l6.59-6.59c.36-.36.58-.86.58-1.41V5c0-1.1-.9-2-2-2zm4 0v12h4V3h-4z\"/></svg>\n",
      " </a>\n",
      " </section>\n",
      " \n",
      " <section class=\"feedback-bar__contact\"><a id=bls1 href=\"/information/feedback.html\" onclick=\"return bls(this)\">Contact Us \n",
      "<svg xmlns=\"http://www.w3.org/2000/svg\" width=\"24\" height=\"24\" viewBox=\"0 0 24 24\"><path d=\"M20 4H4c-1.1 0-1.99.9-1.99 2L2 18c0 1.1.9 2 2 2h16c1.1 0 2-.9 2-2V6c0-1.1-.9-2-2-2zm0 4l-8 5-8-5V6l8 5 8-5v2z\"/><path d=\"M0 0h24v24H0z\" fill=\"none\"/></svg></a></section>\n",
      " </div>\n",
      " </section>\n",
      "\n",
      " <section class=\"fixed footer__wrap\">\n",
      " <section class=\"footer__block footer__block--promo\">\n",
      " <article class=\"footer-card\">\n",
      " <a href=\"/services/supporter.html\" class=\"footer-card__img-link\">\n",
      " <img class=\"footer-card__img\" width=\"100\" height=\"100\" src=\"//c.tadst.com/gfx/n/i/service__supporter.svg\" loading=\"lazy\" alt=\"Illustration of a pink shield with a white heart.\" />\n",
      " </a>\n",
      " <section class=\"footer-card__content\">\n",
      " <h4 class=\"footer-card__title\">\n",
      " <a href=\"/services/supporter.html\">\n",
      "  Love Our Site? Become a Supporter\n",
      "  </a>\n",
      " </h4>\n",
      " <ul class=\"footer-card__text\">\n",
      " <li>Browse our site <strong>advert free.</strong></li>\n",
      " <li>Sun &amp; Moon times <strong>precise to the second.</strong></li>\n",
      " <li><strong>Exclusive calendar templates</strong> for PDF Calendar.</li>\n",
      " </ul>\n",
      " </section>\n",
      " </article>\n",
      " <section class=\"footer__logo\">\n",
      " <a href=\"/\" rel=\"home\"><img src=\"//c.tadst.com/gfx/n/logo/logo-2021--horizontal-color-whitebg.svg\" loading=\"lazy\" alt=\"The timeanddate logo\" width=\"176\" height=\"24\"></a>\n",
      " <p><a href=\"/information/copyright.html\">© Time and Date AS 1995–2024</a></p>\n",
      " </section>\n",
      " </section>\n",
      " <section class=\"footer__block footer__block--links-wrap\">\n",
      " <section class=\"footer__links\">\n",
      " <nav class=\"footer__links-block footer__links-block--company\">\n",
      " <h4>Company</h4>\n",
      " <ul>\n",
      " <li><a href=\"/company/\">About us</a></li>\n",
      " <li><a href=\"/company/jobs\">Careers/Jobs</a></li>\n",
      " <li><a href=\"/information/feedback.html\" id=bls2 onclick=\"return bls(this)\">Contact Us</a></li>\n",
      "  <li><a href=\"/information/contact.html\">Contact Details</a></li>\n",
      "   <li><a href=\"/sitemap.html\">Sitemap</a></li>\n",
      "  <li><a href=\"/newsletter/\">Newsletter</a></li>\n",
      " </ul>\n",
      " </nav>\n",
      " <nav class=\"footer__links-block footer__links-block--legal\">\n",
      " <h4>Legal</h4>\n",
      " <ul>\n",
      " <li><a href=\"/information/copyright.html\">Link policy</a></li>\n",
      " <li><a href=\"/information/advertising.html\">Advertising</a></li>\n",
      " <li><a href=\"/information/disclaimer.html\">Disclaimer</a></li>\n",
      " <li><a href=\"/information/terms-conditions.html\">Terms &amp; Conditions</a></li>\n",
      " <li><a href=\"/information/privacy.html\">Privacy Policy</a></li>\n",
      "\n",
      "\n",
      " <li><a href=\"/custom/privacy.html\">My Privacy</a></li>\n",
      " \n",
      "  \n",
      " \n",
      " \n",
      " </ul>\n",
      " </nav>\n",
      " <nav class=\"footer__links-block footer__links-block--services\">\n",
      " <h4>Services</h4>\n",
      " <ul>\n",
      " <li><a href=\"/worldclock/\">World Clock</a></li>\n",
      " <li><a href=\"/time/\">Time Zones</a></li>\n",
      " <li><a href=\"/calendar/\">Calendar</a></li>\n",
      " <li><a href=\"/weather/\">Weather</a></li>\n",
      " <li><a href=\"/astronomy/\">Sun &amp; Moon</a></li>\n",
      " <li><a href=\"/counters/\">Timers</a></li>\n",
      " <li><a href=\"/date/\">Calculators</a></li>\n",
      " <li><a href=\"/services/api/\">API</a></li>\n",
      " <li><a href=\"/extra/\">Apps</a></li>\n",
      " </ul>\n",
      " </nav>\n",
      " <nav class=\"footer__links-block footer__links-block--sites\">\n",
      " <h4>Sites</h4>\n",
      " <ul>\n",
      "   <li><a href=\"https://www.timeanddate.no\">timeanddate.no</a></li>\n",
      "   <li><a href=\"https://www.timeanddate.de\">timeanddate.de</a></li>\n",
      "  </ul>\n",
      " </nav>\n",
      " <section class=\"footer__social\">\n",
      " <h4>Follow Us</h4>\n",
      " <div class=\"footer__social-icons\">\n",
      " <a href=\"https://www.facebook.com/timeanddate/\"><i class=\"footer__social-icon footer__social-icon--facebook\" title=\"timeanddate.com on Facebook\"></i></a>\n",
      " <a href=\"https://twitter.com/timeanddate\"><i class=\"footer__social-icon footer__social-icon--twitter\" title=\"timeanddate.com on Twitter\"></i></a>\n",
      " <a href=\"https://www.linkedin.com/company/time-and-date-as/about/\"><i class=\"footer__social-icon footer__social-icon--linkedin\" title=\"timeanddate.com on Linkedin\"></i></a>\n",
      " <a href=\"https://www.instagram.com/timeanddatecom/\"><i class=\"footer__social-icon footer__social-icon--instagram\" title=\"timeanddate.com on Instagram\"></i></a>\n",
      " <a href=\"https://www.youtube.com/c/timeanddate\"><i class=\"footer__social-icon footer__social-icon--youtube\" title=\"timeanddate.com on YouTube\"></i></a>\n",
      " </div>\n",
      " </section>\n",
      " </section>\n",
      " \n",
      " <p class=\"footer__copyright\">\n",
      " © Time and Date AS 1995–2024. \n",
      " <a href=\"/information/copyright.html\">Privacy &amp; Terms</a>\n",
      " </p>\n",
      " </section>\n",
      " </section>\n",
      "</footer>\n",
      "<!-- FOOTER END -->\n",
      "\n",
      "<script>\n",
      " \n",
      "bli();main();\n",
      " \n",
      "</script>\n",
      " \n",
      "<div id=FBD style=\"display:none\" class=wfc></div>\n",
      "<script>//Copyright timeanddate.com 2021, do not use without permission\n",
      "(function(b){aelw(\"load\",function(){var a=gf(\"ad-wrap\"),c=\"A0\";b.getComputedStyle&&(c=\"A1\",a&&(c=\"A2\",\"none\"===getComputedStyle(a).display&&(c=\"A3\")));b.performance&&b.performance.timing?(a=b.performance.timing,a={results:{blocking:a.domainLookupStart-a.fetchStart,dnsLookupTime:a.domainLookupEnd-a.domainLookupStart,connecting:a.connectEnd-(a.secureConnectionStart||a.connectStart),reqDelay:a.requestStart-a.connectEnd,waiting:a.responseStart-a.requestStart,receiving:performance.timing.responseEnd-performance.timing.responseStart},\n",
      "meta:{url:b.location.href,useragent:navigator.userAgent,redirect:b.performance.navigation.redirectCount,instart:0,ab:c,abtest:b.TAD&&TAD.abtest||\"\",sessionab:b.TAD&&TAD.sessionab||\"\",pageab:b.TAD&&TAD.pageab||\"\"},raw:b.performance.timing},a.results.total=a.results.dnsLookupTime+a.results.connecting+a.results.waiting+a.results.receiving,b.perf=a,c=gx(),a=\"data=\"+JSON.stringify(a),c.open(\"POST\",\"/scripts/logperf.php\",!0),c.setRequestHeader(\"Content-type\",\"application/x-www-form-urlencoded\"),c.send(a)):\n",
      "b.perf=\"Unsupported\"})})(window);\n",
      "</script>\n",
      "\n",
      "</body></html>\n"
     ]
    }
   ],
   "source": [
    "print(html.text)"
   ]
  },
  {
   "cell_type": "code",
   "execution_count": 80,
   "metadata": {},
   "outputs": [
    {
     "data": {
      "text/plain": [
       "<title>Daylight Saving Time Changes 2024 in New York, New York, USA</title>"
      ]
     },
     "execution_count": 80,
     "metadata": {},
     "output_type": "execute_result"
    }
   ],
   "source": [
    "soup.head.title"
   ]
  },
  {
   "cell_type": "markdown",
   "metadata": {},
   "source": []
  },
  {
   "cell_type": "code",
   "execution_count": 81,
   "metadata": {},
   "outputs": [],
   "source": [
    "select = soup.find('select') # find the feature where we can select range of years"
   ]
  },
  {
   "cell_type": "code",
   "execution_count": 82,
   "metadata": {},
   "outputs": [
    {
     "data": {
      "text/plain": [
       "<select class=\"inline\" id=\"tb-dst-select\" name=\"syear\"><option selected=\"\" value=\"2023-2027\">Recent/upcoming years</option><option value=\"2020-2029\">2020 — 2029</option><option value=\"2010-2019\">2010 — 2019</option><option value=\"2000-2009\">2000 — 2009</option><option value=\"1990-1999\">1990 — 1999</option><option value=\"1980-1989\">1980 — 1989</option><option value=\"1970-1979\">1970 — 1979</option><option value=\"1960-1969\">1960 — 1969</option><option value=\"1950-1959\">1950 — 1959</option><option value=\"1925-1949\">1925 — 1949</option><option value=\"1900-1924\">1900 — 1924</option><option value=\"1850-1899\">1850 — 1899</option><option value=\"1800-1849\">1800 — 1849</option></select>"
      ]
     },
     "execution_count": 82,
     "metadata": {},
     "output_type": "execute_result"
    }
   ],
   "source": [
    "select"
   ]
  },
  {
   "cell_type": "code",
   "execution_count": 83,
   "metadata": {},
   "outputs": [],
   "source": [
    "range_of_years = [option['value'] for option in select.find_all('option')]"
   ]
  },
  {
   "cell_type": "code",
   "execution_count": 84,
   "metadata": {},
   "outputs": [
    {
     "data": {
      "text/plain": [
       "['1800-1849',\n",
       " '1850-1899',\n",
       " '1900-1924',\n",
       " '1925-1949',\n",
       " '1950-1959',\n",
       " '1960-1969',\n",
       " '1970-1979',\n",
       " '1980-1989',\n",
       " '1990-1999',\n",
       " '2000-2009',\n",
       " '2010-2019',\n",
       " '2020-2029',\n",
       " '2023-2027']"
      ]
     },
     "execution_count": 84,
     "metadata": {},
     "output_type": "execute_result"
    }
   ],
   "source": [
    "range_of_years[::-1] #ordering the years\n"
   ]
  },
  {
   "cell_type": "code",
   "execution_count": 85,
   "metadata": {},
   "outputs": [],
   "source": [
    "header={'Accept': '*/*'} # seems needed but not sure how"
   ]
  },
  {
   "cell_type": "code",
   "execution_count": 122,
   "metadata": {},
   "outputs": [
    {
     "data": {
      "text/plain": [
       "<re.Match object; span=(0, 29), match='The rain fell slowly in Spain'>"
      ]
     },
     "execution_count": 122,
     "metadata": {},
     "output_type": "execute_result"
    }
   ],
   "source": [
    "import re\n",
    "# Sample: see if the sentence begins with 'The' and ends with 'Spain'\n",
    "sentence = \"The rain fell slowly in Spain\"\n",
    "x = re.search(\"^The.*Spain$\", sentence)\n",
    "x"
   ]
  },
  {
   "cell_type": "markdown",
   "metadata": {},
   "source": [
    "For more on regular expressions, see this [link](https://www.w3schools.com/python/python_regex.asp)"
   ]
  },
  {
   "cell_type": "code",
   "execution_count": null,
   "metadata": {},
   "outputs": [],
   "source": [
    "# the regular expressions we'll use\n",
    "# Define the regex (regular expressions) pattern to match dates; the way to read is shown below\n",
    "year_pattern = r'\\?year=(\\d{4})' \n",
    "date_pattern = r'\\b\\w+,\\s\\w+\\s\\d{1,2}\\b'"
   ]
  },
  {
   "cell_type": "markdown",
   "metadata": {},
   "source": [
    "For regex\n",
    "\n",
    "\\b: Word boundary to ensure we match whole words\n",
    "\n",
    "\\w+: Matches the day of the week (one or more word characters)\n",
    "\n",
    ",\\s: A comma followed by a space\n",
    "\n",
    "\\w+: Matches the month (one or more word characters)\n",
    "\n",
    "\\s\\d{1,2}: Matches a space followed by one or two digits for the day\n",
    "\n",
    "\\b"
   ]
  },
  {
   "cell_type": "code",
   "execution_count": 87,
   "metadata": {},
   "outputs": [
    {
     "name": "stdout",
     "output_type": "stream",
     "text": [
      "https://www.timeanddate.com/scripts/cityajax.php?n=usa/new-york&mode=dst&syear=1800&eyear=1849&json=1\n",
      "https://www.timeanddate.com/scripts/cityajax.php?n=usa/new-york&mode=dst&syear=1850&eyear=1899&json=1\n",
      "https://www.timeanddate.com/scripts/cityajax.php?n=usa/new-york&mode=dst&syear=1900&eyear=1924&json=1\n",
      "https://www.timeanddate.com/scripts/cityajax.php?n=usa/new-york&mode=dst&syear=1925&eyear=1949&json=1\n",
      "https://www.timeanddate.com/scripts/cityajax.php?n=usa/new-york&mode=dst&syear=1950&eyear=1959&json=1\n",
      "https://www.timeanddate.com/scripts/cityajax.php?n=usa/new-york&mode=dst&syear=1960&eyear=1969&json=1\n",
      "https://www.timeanddate.com/scripts/cityajax.php?n=usa/new-york&mode=dst&syear=1970&eyear=1979&json=1\n",
      "https://www.timeanddate.com/scripts/cityajax.php?n=usa/new-york&mode=dst&syear=1980&eyear=1989&json=1\n",
      "https://www.timeanddate.com/scripts/cityajax.php?n=usa/new-york&mode=dst&syear=1990&eyear=1999&json=1\n",
      "https://www.timeanddate.com/scripts/cityajax.php?n=usa/new-york&mode=dst&syear=2000&eyear=2009&json=1\n",
      "https://www.timeanddate.com/scripts/cityajax.php?n=usa/new-york&mode=dst&syear=2010&eyear=2019&json=1\n",
      "https://www.timeanddate.com/scripts/cityajax.php?n=usa/new-york&mode=dst&syear=2020&eyear=2029&json=1\n",
      "https://www.timeanddate.com/scripts/cityajax.php?n=usa/new-york&mode=dst&syear=2023&eyear=2027&json=1\n"
     ]
    }
   ],
   "source": [
    "# attempt by directly changing the url and making requests via GET\n",
    "\n",
    "date_year_pairs = []\n",
    "\n",
    "for x in range_of_years[::-1]:\n",
    "    new_url=\"https://www.timeanddate.com/scripts/cityajax.php?n=usa/new-york&mode=dst&syear=\"+str(x[:4])+\"&eyear=\"+str(x[5:])+\"&json=1\"\n",
    "    response1=requests.get(new_url,headers=header)\n",
    "    print(\"https://www.timeanddate.com/scripts/cityajax.php?n=usa/new-york&mode=dst&syear=\"+str(x[:4])+\n",
    "        \"&eyear=\"+str(x[5:])+\"&json=1\")\n",
    "    dates = re.findall(date_pattern, response1.text)\n",
    "    years = re.findall(year_pattern, response1.text)\n",
    "    \n",
    "    for i in range(len(years)):\n",
    "        if i * 3 < len(dates):  # Adjust the multiplier according to the number of dates per year\n",
    "            date_year_pairs.append((years[i]+', '+ dates[i * 2], years[i]+ ', '+dates[i * 2 + 1]))  # Assuming each year has two dates\n"
   ]
  },
  {
   "cell_type": "code",
   "execution_count": 88,
   "metadata": {},
   "outputs": [
    {
     "data": {
      "text/plain": [
       "[('1918, Sunday, March 31', '1918, Sunday, October 27'),\n",
       " ('1919, Sunday, March 30', '1919, Sunday, October 26'),\n",
       " ('1920, Sunday, March 28', '1920, Sunday, October 31'),\n",
       " ('1921, Sunday, April 24', '1921, Sunday, September 25'),\n",
       " ('1922, Sunday, April 30', '1922, Sunday, September 24'),\n",
       " ('1925, Sunday, April 26', '1925, Sunday, September 27'),\n",
       " ('1926, Sunday, April 25', '1926, Sunday, September 26'),\n",
       " ('1927, Sunday, April 24', '1927, Sunday, September 25'),\n",
       " ('1928, Sunday, April 29', '1928, Sunday, September 30'),\n",
       " ('1929, Sunday, April 28', '1929, Sunday, September 29'),\n",
       " ('1930, Sunday, April 27', '1930, Sunday, September 28'),\n",
       " ('1931, Sunday, April 26', '1931, Sunday, September 27'),\n",
       " ('1932, Sunday, April 24', '1932, Sunday, September 25'),\n",
       " ('1933, Sunday, April 30', '1933, Sunday, September 24'),\n",
       " ('1934, Sunday, April 29', '1934, Sunday, September 30'),\n",
       " ('1935, Sunday, April 28', '1935, Sunday, September 29'),\n",
       " ('1936, Sunday, April 26', '1936, Sunday, September 27'),\n",
       " ('1937, Sunday, April 25', '1937, Sunday, September 26'),\n",
       " ('1938, Sunday, April 24', '1938, Sunday, September 25'),\n",
       " ('1939, Sunday, April 30', '1939, Sunday, September 24'),\n",
       " ('1950, Sunday, April 30', '1950, Sunday, September 24'),\n",
       " ('1951, Sunday, April 29', '1951, Sunday, September 30'),\n",
       " ('1952, Sunday, April 27', '1952, Sunday, September 28'),\n",
       " ('1953, Sunday, April 26', '1953, Sunday, September 27'),\n",
       " ('1954, Sunday, April 25', '1954, Sunday, September 26'),\n",
       " ('1955, Sunday, April 24', '1955, Sunday, October 30'),\n",
       " ('1956, Sunday, April 29', '1956, Sunday, October 28'),\n",
       " ('1960, Sunday, April 24', '1960, Sunday, October 30'),\n",
       " ('1961, Sunday, April 30', '1961, Sunday, October 29'),\n",
       " ('1962, Sunday, April 29', '1962, Sunday, October 28'),\n",
       " ('1963, Sunday, April 28', '1963, Sunday, October 27'),\n",
       " ('1964, Sunday, April 26', '1964, Sunday, October 25'),\n",
       " ('1965, Sunday, April 25', '1965, Sunday, October 31'),\n",
       " ('1966, Sunday, April 24', '1966, Sunday, October 30'),\n",
       " ('1970, Sunday, April 26', '1970, Sunday, October 25'),\n",
       " ('1971, Sunday, April 25', '1971, Sunday, October 31'),\n",
       " ('1972, Sunday, April 30', '1972, Sunday, October 29'),\n",
       " ('1973, Sunday, April 29', '1973, Sunday, October 28'),\n",
       " ('1974, Sunday, January 6', '1974, Sunday, October 27'),\n",
       " ('1975, Sunday, February 23', '1975, Sunday, October 26'),\n",
       " ('1976, Sunday, April 25', '1976, Sunday, October 31'),\n",
       " ('1980, Sunday, April 27', '1980, Sunday, October 26'),\n",
       " ('1981, Sunday, April 26', '1981, Sunday, October 25'),\n",
       " ('1982, Sunday, April 25', '1982, Sunday, October 31'),\n",
       " ('1983, Sunday, April 24', '1983, Sunday, October 30'),\n",
       " ('1984, Sunday, April 29', '1984, Sunday, October 28'),\n",
       " ('1985, Sunday, April 28', '1985, Sunday, October 27'),\n",
       " ('1986, Sunday, April 27', '1986, Sunday, October 26'),\n",
       " ('1990, Sunday, April 1', '1990, Sunday, October 28'),\n",
       " ('1991, Sunday, April 7', '1991, Sunday, October 27'),\n",
       " ('1992, Sunday, April 5', '1992, Sunday, October 25'),\n",
       " ('1993, Sunday, April 4', '1993, Sunday, October 31'),\n",
       " ('1994, Sunday, April 3', '1994, Sunday, October 30'),\n",
       " ('1995, Sunday, April 2', '1995, Sunday, October 29'),\n",
       " ('1996, Sunday, April 7', '1996, Sunday, October 27'),\n",
       " ('2000, Sunday, April 2', '2000, Sunday, October 29'),\n",
       " ('2001, Sunday, April 1', '2001, Sunday, October 28'),\n",
       " ('2002, Sunday, April 7', '2002, Sunday, October 27'),\n",
       " ('2003, Sunday, April 6', '2003, Sunday, October 26'),\n",
       " ('2004, Sunday, April 4', '2004, Sunday, October 31'),\n",
       " ('2005, Sunday, April 3', '2005, Sunday, October 30'),\n",
       " ('2006, Sunday, April 2', '2006, Sunday, October 29'),\n",
       " ('2010, Sunday, March 14', '2010, Sunday, November 7'),\n",
       " ('2011, Sunday, March 13', '2011, Sunday, November 6'),\n",
       " ('2012, Sunday, March 11', '2012, Sunday, Nov 4'),\n",
       " ('2013, Sunday, November 4', '2013, Sunday, March 10'),\n",
       " ('2014, Sunday, March 10', '2014, Sunday, November 3'),\n",
       " ('2015, Sunday, November 3', '2015, Sunday, March 9'),\n",
       " ('2016, Sunday, March 9', '2016, Sunday, Nov 2'),\n",
       " ('2017, Sunday, November 2', '2017, Sunday, March 8'),\n",
       " ('2018, Sunday, Nov 1', '2018, Sunday, November 1'),\n",
       " ('2020, Sunday, March 8', '2020, Sunday, November 1'),\n",
       " ('2021, Sunday, March 14', '2021, Sunday, November 7'),\n",
       " ('2022, Sunday, March 13', '2022, Sunday, November 6'),\n",
       " ('2023, Sunday, March 12', '2023, Sunday, November 5')]"
      ]
     },
     "execution_count": 88,
     "metadata": {},
     "output_type": "execute_result"
    }
   ],
   "source": [
    "date_year_pairs = date_year_pairs[:-7]\n",
    "date_year_pairs"
   ]
  },
  {
   "cell_type": "code",
   "execution_count": 89,
   "metadata": {},
   "outputs": [
    {
     "name": "stdout",
     "output_type": "stream",
     "text": [
      "105\n",
      "75\n"
     ]
    }
   ],
   "source": [
    "# there are 105 years of data but somehow we only managed to get 75 years. How?\n",
    "print((2023-1918))\n",
    "print(len(date_year_pairs))"
   ]
  },
  {
   "cell_type": "markdown",
   "metadata": {},
   "source": [
    "It seems maybe some inconsistent data entry or something led to some goof-ups of switching the spring and fall time changes. But if you check, the dates are also not correct.\n",
    "\n",
    "('2013, Sunday, November 4', '2013, Sunday, March 10'),\n",
    "\n",
    "('2015, Sunday, November 3', '2015, Sunday, March 9'),\n",
    "\n",
    "('2017, Sunday, November 2', '2017, Sunday, March 8'),\n",
    " \n",
    " Also, we're missing many years as we saw about. And 2018 has weird entries. Lastly, we're missing 2024."
   ]
  },
  {
   "cell_type": "markdown",
   "metadata": {},
   "source": [
    "### Successful solution\n",
    "\n",
    "Let's try cheating a bit and asking for years 1800 to 2024 in one go"
   ]
  },
  {
   "cell_type": "code",
   "execution_count": 125,
   "metadata": {},
   "outputs": [],
   "source": [
    "all_years_url=\"https://www.timeanddate.com/scripts/cityajax.php?n=usa/new-york&mode=dst&syear=1800&eyear=2024&json=1\""
   ]
  },
  {
   "cell_type": "code",
   "execution_count": 126,
   "metadata": {},
   "outputs": [],
   "source": [
    "DST= []\n",
    "\n",
    "response2=requests.get(all_years_url,headers=header)\n",
    "dates = re.findall(date_pattern, response2.text)\n",
    "years = re.findall(year_pattern, response2.text)\n",
    "    \n",
    "for i in range(len(years)):\n",
    "    if i * 3 < len(dates):  # Adjust the multiplier according to the number of dates per year\n",
    "        DST.append((years[i]+', '+ dates[i * 2], years[i]+ ', '+dates[i * 2 + 1]))  # Assuming each year has two dates\n"
   ]
  },
  {
   "cell_type": "code",
   "execution_count": 127,
   "metadata": {},
   "outputs": [
    {
     "data": {
      "text/plain": [
       "72"
      ]
     },
     "execution_count": 127,
     "metadata": {},
     "output_type": "execute_result"
    }
   ],
   "source": [
    "len(DST) #somehow we only got up to 1991! "
   ]
  },
  {
   "cell_type": "code",
   "execution_count": 128,
   "metadata": {},
   "outputs": [
    {
     "data": {
      "text/plain": [
       "[('1918, Sunday, March 31', '1918, Sunday, October 27'),\n",
       " ('1919, Sunday, March 30', '1919, Sunday, October 26'),\n",
       " ('1920, Sunday, March 28', '1920, Sunday, October 31'),\n",
       " ('1921, Sunday, April 24', '1921, Sunday, September 25'),\n",
       " ('1922, Sunday, April 30', '1922, Sunday, September 24'),\n",
       " ('1923, Sunday, April 29', '1923, Sunday, September 30'),\n",
       " ('1924, Sunday, April 27', '1924, Sunday, September 28'),\n",
       " ('1925, Sunday, April 26', '1925, Sunday, September 27'),\n",
       " ('1926, Sunday, April 25', '1926, Sunday, September 26'),\n",
       " ('1927, Sunday, April 24', '1927, Sunday, September 25'),\n",
       " ('1928, Sunday, April 29', '1928, Sunday, September 30'),\n",
       " ('1929, Sunday, April 28', '1929, Sunday, September 29'),\n",
       " ('1930, Sunday, April 27', '1930, Sunday, September 28'),\n",
       " ('1931, Sunday, April 26', '1931, Sunday, September 27'),\n",
       " ('1932, Sunday, April 24', '1932, Sunday, September 25'),\n",
       " ('1933, Sunday, April 30', '1933, Sunday, September 24'),\n",
       " ('1934, Sunday, April 29', '1934, Sunday, September 30'),\n",
       " ('1935, Sunday, April 28', '1935, Sunday, September 29'),\n",
       " ('1936, Sunday, April 26', '1936, Sunday, September 27'),\n",
       " ('1937, Sunday, April 25', '1937, Sunday, September 26'),\n",
       " ('1938, Sunday, April 24', '1938, Sunday, September 25'),\n",
       " ('1939, Sunday, April 30', '1939, Sunday, September 24'),\n",
       " ('1940, Sunday, April 28', '1940, Sunday, September 29'),\n",
       " ('1941, Sunday, April 27', '1941, Sunday, September 28'),\n",
       " ('1942, Monday, February 9', '1942, Sunday, September 30'),\n",
       " ('1945, Sunday, April 28', '1945, Sunday, September 29'),\n",
       " ('1946, Sunday, April 27', '1946, Sunday, September 28'),\n",
       " ('1947, Sunday, April 25', '1947, Sunday, September 26'),\n",
       " ('1948, Sunday, April 24', '1948, Sunday, September 25'),\n",
       " ('1949, Sunday, April 30', '1949, Sunday, September 24'),\n",
       " ('1950, Sunday, April 29', '1950, Sunday, September 30'),\n",
       " ('1951, Sunday, April 27', '1951, Sunday, September 28'),\n",
       " ('1952, Sunday, April 26', '1952, Sunday, September 27'),\n",
       " ('1953, Sunday, April 25', '1953, Sunday, September 26'),\n",
       " ('1954, Sunday, April 24', '1954, Sunday, October 30'),\n",
       " ('1955, Sunday, April 29', '1955, Sunday, October 28'),\n",
       " ('1956, Sunday, April 28', '1956, Sunday, October 27'),\n",
       " ('1957, Sunday, April 27', '1957, Sunday, October 26'),\n",
       " ('1958, Sunday, April 26', '1958, Sunday, October 25'),\n",
       " ('1959, Sunday, April 24', '1959, Sunday, October 30'),\n",
       " ('1960, Sunday, April 30', '1960, Sunday, October 29'),\n",
       " ('1961, Sunday, April 29', '1961, Sunday, October 28'),\n",
       " ('1962, Sunday, April 28', '1962, Sunday, October 27'),\n",
       " ('1963, Sunday, April 26', '1963, Sunday, October 25'),\n",
       " ('1964, Sunday, April 25', '1964, Sunday, October 31'),\n",
       " ('1965, Sunday, April 24', '1965, Sunday, October 30'),\n",
       " ('1966, Sunday, April 30', '1966, Sunday, October 29'),\n",
       " ('1967, Sunday, April 28', '1967, Sunday, October 27'),\n",
       " ('1968, Sunday, April 27', '1968, Sunday, October 26'),\n",
       " ('1969, Sunday, April 26', '1969, Sunday, October 25'),\n",
       " ('1970, Sunday, April 25', '1970, Sunday, October 31'),\n",
       " ('1971, Sunday, April 30', '1971, Sunday, October 29'),\n",
       " ('1972, Sunday, April 29', '1972, Sunday, October 28'),\n",
       " ('1973, Sunday, January 6', '1973, Sunday, October 27'),\n",
       " ('1974, Sunday, February 23', '1974, Sunday, October 26'),\n",
       " ('1975, Sunday, April 25', '1975, Sunday, October 31'),\n",
       " ('1976, Sunday, April 24', '1976, Sunday, October 30'),\n",
       " ('1977, Sunday, April 30', '1977, Sunday, October 29'),\n",
       " ('1978, Sunday, April 29', '1978, Sunday, October 28'),\n",
       " ('1979, Sunday, April 27', '1979, Sunday, October 26'),\n",
       " ('1980, Sunday, April 26', '1980, Sunday, October 25'),\n",
       " ('1981, Sunday, April 25', '1981, Sunday, October 31'),\n",
       " ('1982, Sunday, April 24', '1982, Sunday, October 30'),\n",
       " ('1983, Sunday, April 29', '1983, Sunday, October 28'),\n",
       " ('1984, Sunday, April 28', '1984, Sunday, October 27'),\n",
       " ('1985, Sunday, April 27', '1985, Sunday, October 26'),\n",
       " ('1986, Sunday, April 5', '1986, Sunday, October 25'),\n",
       " ('1987, Sunday, April 3', '1987, Sunday, October 30'),\n",
       " ('1988, Sunday, April 2', '1988, Sunday, October 29'),\n",
       " ('1989, Sunday, April 1', '1989, Sunday, October 28'),\n",
       " ('1990, Sunday, April 7', '1990, Sunday, October 27'),\n",
       " ('1991, Sunday, April 5', '1991, Sunday, October 25')]"
      ]
     },
     "execution_count": 128,
     "metadata": {},
     "output_type": "execute_result"
    }
   ],
   "source": [
    "DST # note that we're missing 1943-1944 because of WWII"
   ]
  },
  {
   "cell_type": "code",
   "execution_count": 129,
   "metadata": {},
   "outputs": [],
   "source": [
    "url_1992_2024=\"https://www.timeanddate.com/scripts/cityajax.php?n=usa/new-york&mode=dst&syear=1992&eyear=2024&json=1\"\n",
    "\n",
    "DST_1992_2024=[]\n",
    "\n",
    "response3=requests.get(url_1992_2024,headers=header)\n",
    "dates = re.findall(date_pattern, response3.text)\n",
    "years = re.findall(year_pattern, response3.text)\n",
    "\n",
    "for i in range(len(years)):\n",
    "    if i * 3 < len(dates):  # Adjust the multiplier according to the number of dates per year\n",
    "        DST_1992_2024.append((years[i]+', '+ dates[i * 2], years[i]+ ', '+dates[i * 2 + 1]))  # "
   ]
  },
  {
   "cell_type": "code",
   "execution_count": 130,
   "metadata": {},
   "outputs": [
    {
     "data": {
      "text/plain": [
       "[('1992, Sunday, April 5', '1992, Sunday, October 25'),\n",
       " ('1993, Sunday, April 4', '1993, Sunday, October 31'),\n",
       " ('1994, Sunday, April 3', '1994, Sunday, October 30'),\n",
       " ('1995, Sunday, April 2', '1995, Sunday, October 29'),\n",
       " ('1996, Sunday, April 7', '1996, Sunday, October 27'),\n",
       " ('1997, Sunday, April 6', '1997, Sunday, October 26'),\n",
       " ('1998, Sunday, April 5', '1998, Sunday, October 25'),\n",
       " ('1999, Sunday, April 4', '1999, Sunday, October 31'),\n",
       " ('2000, Sunday, April 2', '2000, Sunday, October 29'),\n",
       " ('2001, Sunday, April 1', '2001, Sunday, October 28'),\n",
       " ('2002, Sunday, April 7', '2002, Sunday, October 27'),\n",
       " ('2003, Sunday, April 6', '2003, Sunday, October 26'),\n",
       " ('2004, Sunday, April 4', '2004, Sunday, October 31'),\n",
       " ('2005, Sunday, April 3', '2005, Sunday, October 30'),\n",
       " ('2006, Sunday, April 2', '2006, Sunday, October 29'),\n",
       " ('2007, Sunday, March 11', '2007, Sunday, November 4'),\n",
       " ('2008, Sunday, March 9', '2008, Sunday, November 2'),\n",
       " ('2009, Sunday, March 8', '2009, Sunday, November 1'),\n",
       " ('2010, Sunday, March 14', '2010, Sunday, November 7'),\n",
       " ('2011, Sunday, March 13', '2011, Sunday, November 6'),\n",
       " ('2012, Sunday, March 11', '2012, Sunday, Nov 4'),\n",
       " ('2013, Sunday, November 4', '2013, Sunday, March 10'),\n",
       " ('2014, Sunday, March 10', '2014, Sunday, November 3'),\n",
       " ('2015, Sunday, November 3', '2015, Sunday, March 9')]"
      ]
     },
     "execution_count": 130,
     "metadata": {},
     "output_type": "execute_result"
    }
   ],
   "source": [
    "DST_1992_2024 # looks like we got only up to 2015; \n",
    "              # so our variable name is misleading but it's not my fault"
   ]
  },
  {
   "cell_type": "code",
   "execution_count": 131,
   "metadata": {},
   "outputs": [
    {
     "data": {
      "text/plain": [
       "[('1992, Sunday, April 5', '1992, Sunday, October 25'),\n",
       " ('1993, Sunday, April 4', '1993, Sunday, October 31'),\n",
       " ('1994, Sunday, April 3', '1994, Sunday, October 30'),\n",
       " ('1995, Sunday, April 2', '1995, Sunday, October 29'),\n",
       " ('1996, Sunday, April 7', '1996, Sunday, October 27'),\n",
       " ('1997, Sunday, April 6', '1997, Sunday, October 26'),\n",
       " ('1998, Sunday, April 5', '1998, Sunday, October 25'),\n",
       " ('1999, Sunday, April 4', '1999, Sunday, October 31'),\n",
       " ('2000, Sunday, April 2', '2000, Sunday, October 29'),\n",
       " ('2001, Sunday, April 1', '2001, Sunday, October 28'),\n",
       " ('2002, Sunday, April 7', '2002, Sunday, October 27'),\n",
       " ('2003, Sunday, April 6', '2003, Sunday, October 26'),\n",
       " ('2004, Sunday, April 4', '2004, Sunday, October 31'),\n",
       " ('2005, Sunday, April 3', '2005, Sunday, October 30'),\n",
       " ('2006, Sunday, April 2', '2006, Sunday, October 29'),\n",
       " ('2007, Sunday, March 11', '2007, Sunday, November 4'),\n",
       " ('2008, Sunday, March 9', '2008, Sunday, November 2'),\n",
       " ('2009, Sunday, March 8', '2009, Sunday, November 1'),\n",
       " ('2010, Sunday, March 14', '2010, Sunday, November 7'),\n",
       " ('2011, Sunday, March 13', '2011, Sunday, November 6'),\n",
       " ('2012, Sunday, March 11', '2012, Sunday, Nov 4'),\n",
       " ('2013, Sunday, November 4', '2013, Sunday, March 10'),\n",
       " ('2014, Sunday, March 10', '2014, Sunday, November 3'),\n",
       " ('2015, Sunday, November 3', '2015, Sunday, March 9')]"
      ]
     },
     "execution_count": 131,
     "metadata": {},
     "output_type": "execute_result"
    }
   ],
   "source": [
    "DST_1992_2024[0:(2015-1992+1)] "
   ]
  },
  {
   "cell_type": "code",
   "execution_count": 132,
   "metadata": {},
   "outputs": [],
   "source": [
    "# try another time\n",
    "url_2016_2024=\"https://www.timeanddate.com/scripts/cityajax.php?n=usa/new-york&mode=dst&syear=2016&eyear=2024&json=1\"\n",
    "DST_2016_2024=[]\n",
    "\n",
    "response4=requests.get(url_2016_2024,headers=header)\n",
    "dates = re.findall(date_pattern, response4.text)\n",
    "years = re.findall(year_pattern, response4.text)\n",
    "\n",
    "for i in range(len(years)):\n",
    "    if i * 3 < len(dates):  # Adjust the multiplier according to the number of dates per year\n",
    "        DST_2016_2024.append((years[i]+', '+ dates[i * 2], years[i]+ ', '+dates[i * 2 + 1])) "
   ]
  },
  {
   "cell_type": "code",
   "execution_count": 133,
   "metadata": {},
   "outputs": [
    {
     "data": {
      "text/plain": [
       "[('2016, Sunday, March 13', '2016, Sunday, November 6'),\n",
       " ('2017, Sunday, March 12', '2017, Sunday, November 5'),\n",
       " ('2018, Sunday, March 11', '2018, Sunday, November 4'),\n",
       " ('2019, Sunday, March 10', '2019, Sunday, November 3'),\n",
       " ('2020, Sunday, March 8', '2020, Sunday, November 1'),\n",
       " ('2021, Sunday, March 14', '2021, Sunday, November 7')]"
      ]
     },
     "execution_count": 133,
     "metadata": {},
     "output_type": "execute_result"
    }
   ],
   "source": [
    "DST_2016_2024 # wow, feels like this website really does not want to give up its info"
   ]
  },
  {
   "cell_type": "code",
   "execution_count": 134,
   "metadata": {},
   "outputs": [],
   "source": [
    "url_2022_2024=\"https://www.timeanddate.com/scripts/cityajax.php?n=usa/new-york&mode=dst&syear=2022&eyear=2024&json=1\"\n",
    "\n",
    "DST_2022_2024=[]\n",
    "\n",
    "response5=requests.get(url_2022_2024,headers=header)\n",
    "dates = re.findall(date_pattern, response5.text)\n",
    "years = re.findall(year_pattern, response5.text)\n",
    "\n",
    "for i in range(len(years)):\n",
    "    if i * 3 < len(dates):  # Adjust the multiplier according to the number of dates per year\n",
    "        DST_2022_2024.append((years[i]+', '+ dates[i * 2], years[i]+ ', '+dates[i * 2 + 1])) "
   ]
  },
  {
   "cell_type": "code",
   "execution_count": 135,
   "metadata": {},
   "outputs": [
    {
     "data": {
      "text/plain": [
       "[('2022, Sunday, March 13', '2022, Sunday, November 6'),\n",
       " ('2023, Sunday, March 12', '2023, Sunday, November 5')]"
      ]
     },
     "execution_count": 135,
     "metadata": {},
     "output_type": "execute_result"
    }
   ],
   "source": [
    "DST_2022_2024"
   ]
  },
  {
   "cell_type": "code",
   "execution_count": 136,
   "metadata": {},
   "outputs": [],
   "source": [
    "# I give up on 2024, I'll just add it myself\n",
    "DST_2024=[('2024, Sunday, March 10', '2024, Sunday, November 3')]"
   ]
  },
  {
   "cell_type": "code",
   "execution_count": 137,
   "metadata": {},
   "outputs": [],
   "source": [
    "final_DST=DST+DST_1992_2024+DST_2016_2024+DST_2022_2024+DST_2024"
   ]
  },
  {
   "cell_type": "code",
   "execution_count": 138,
   "metadata": {},
   "outputs": [
    {
     "data": {
      "text/plain": [
       "[('1918, Sunday, March 31', '1918, Sunday, October 27'),\n",
       " ('1919, Sunday, March 30', '1919, Sunday, October 26'),\n",
       " ('1920, Sunday, March 28', '1920, Sunday, October 31'),\n",
       " ('1921, Sunday, April 24', '1921, Sunday, September 25'),\n",
       " ('1922, Sunday, April 30', '1922, Sunday, September 24'),\n",
       " ('1923, Sunday, April 29', '1923, Sunday, September 30'),\n",
       " ('1924, Sunday, April 27', '1924, Sunday, September 28'),\n",
       " ('1925, Sunday, April 26', '1925, Sunday, September 27'),\n",
       " ('1926, Sunday, April 25', '1926, Sunday, September 26'),\n",
       " ('1927, Sunday, April 24', '1927, Sunday, September 25'),\n",
       " ('1928, Sunday, April 29', '1928, Sunday, September 30'),\n",
       " ('1929, Sunday, April 28', '1929, Sunday, September 29'),\n",
       " ('1930, Sunday, April 27', '1930, Sunday, September 28'),\n",
       " ('1931, Sunday, April 26', '1931, Sunday, September 27'),\n",
       " ('1932, Sunday, April 24', '1932, Sunday, September 25'),\n",
       " ('1933, Sunday, April 30', '1933, Sunday, September 24'),\n",
       " ('1934, Sunday, April 29', '1934, Sunday, September 30'),\n",
       " ('1935, Sunday, April 28', '1935, Sunday, September 29'),\n",
       " ('1936, Sunday, April 26', '1936, Sunday, September 27'),\n",
       " ('1937, Sunday, April 25', '1937, Sunday, September 26'),\n",
       " ('1938, Sunday, April 24', '1938, Sunday, September 25'),\n",
       " ('1939, Sunday, April 30', '1939, Sunday, September 24'),\n",
       " ('1940, Sunday, April 28', '1940, Sunday, September 29'),\n",
       " ('1941, Sunday, April 27', '1941, Sunday, September 28'),\n",
       " ('1942, Monday, February 9', '1942, Sunday, September 30'),\n",
       " ('1945, Sunday, April 28', '1945, Sunday, September 29'),\n",
       " ('1946, Sunday, April 27', '1946, Sunday, September 28'),\n",
       " ('1947, Sunday, April 25', '1947, Sunday, September 26'),\n",
       " ('1948, Sunday, April 24', '1948, Sunday, September 25'),\n",
       " ('1949, Sunday, April 30', '1949, Sunday, September 24'),\n",
       " ('1950, Sunday, April 29', '1950, Sunday, September 30'),\n",
       " ('1951, Sunday, April 27', '1951, Sunday, September 28'),\n",
       " ('1952, Sunday, April 26', '1952, Sunday, September 27'),\n",
       " ('1953, Sunday, April 25', '1953, Sunday, September 26'),\n",
       " ('1954, Sunday, April 24', '1954, Sunday, October 30'),\n",
       " ('1955, Sunday, April 29', '1955, Sunday, October 28'),\n",
       " ('1956, Sunday, April 28', '1956, Sunday, October 27'),\n",
       " ('1957, Sunday, April 27', '1957, Sunday, October 26'),\n",
       " ('1958, Sunday, April 26', '1958, Sunday, October 25'),\n",
       " ('1959, Sunday, April 24', '1959, Sunday, October 30'),\n",
       " ('1960, Sunday, April 30', '1960, Sunday, October 29'),\n",
       " ('1961, Sunday, April 29', '1961, Sunday, October 28'),\n",
       " ('1962, Sunday, April 28', '1962, Sunday, October 27'),\n",
       " ('1963, Sunday, April 26', '1963, Sunday, October 25'),\n",
       " ('1964, Sunday, April 25', '1964, Sunday, October 31'),\n",
       " ('1965, Sunday, April 24', '1965, Sunday, October 30'),\n",
       " ('1966, Sunday, April 30', '1966, Sunday, October 29'),\n",
       " ('1967, Sunday, April 28', '1967, Sunday, October 27'),\n",
       " ('1968, Sunday, April 27', '1968, Sunday, October 26'),\n",
       " ('1969, Sunday, April 26', '1969, Sunday, October 25'),\n",
       " ('1970, Sunday, April 25', '1970, Sunday, October 31'),\n",
       " ('1971, Sunday, April 30', '1971, Sunday, October 29'),\n",
       " ('1972, Sunday, April 29', '1972, Sunday, October 28'),\n",
       " ('1973, Sunday, January 6', '1973, Sunday, October 27'),\n",
       " ('1974, Sunday, February 23', '1974, Sunday, October 26'),\n",
       " ('1975, Sunday, April 25', '1975, Sunday, October 31'),\n",
       " ('1976, Sunday, April 24', '1976, Sunday, October 30'),\n",
       " ('1977, Sunday, April 30', '1977, Sunday, October 29'),\n",
       " ('1978, Sunday, April 29', '1978, Sunday, October 28'),\n",
       " ('1979, Sunday, April 27', '1979, Sunday, October 26'),\n",
       " ('1980, Sunday, April 26', '1980, Sunday, October 25'),\n",
       " ('1981, Sunday, April 25', '1981, Sunday, October 31'),\n",
       " ('1982, Sunday, April 24', '1982, Sunday, October 30'),\n",
       " ('1983, Sunday, April 29', '1983, Sunday, October 28'),\n",
       " ('1984, Sunday, April 28', '1984, Sunday, October 27'),\n",
       " ('1985, Sunday, April 27', '1985, Sunday, October 26'),\n",
       " ('1986, Sunday, April 5', '1986, Sunday, October 25'),\n",
       " ('1987, Sunday, April 3', '1987, Sunday, October 30'),\n",
       " ('1988, Sunday, April 2', '1988, Sunday, October 29'),\n",
       " ('1989, Sunday, April 1', '1989, Sunday, October 28'),\n",
       " ('1990, Sunday, April 7', '1990, Sunday, October 27'),\n",
       " ('1991, Sunday, April 5', '1991, Sunday, October 25'),\n",
       " ('1992, Sunday, April 5', '1992, Sunday, October 25'),\n",
       " ('1993, Sunday, April 4', '1993, Sunday, October 31'),\n",
       " ('1994, Sunday, April 3', '1994, Sunday, October 30'),\n",
       " ('1995, Sunday, April 2', '1995, Sunday, October 29'),\n",
       " ('1996, Sunday, April 7', '1996, Sunday, October 27'),\n",
       " ('1997, Sunday, April 6', '1997, Sunday, October 26'),\n",
       " ('1998, Sunday, April 5', '1998, Sunday, October 25'),\n",
       " ('1999, Sunday, April 4', '1999, Sunday, October 31'),\n",
       " ('2000, Sunday, April 2', '2000, Sunday, October 29'),\n",
       " ('2001, Sunday, April 1', '2001, Sunday, October 28'),\n",
       " ('2002, Sunday, April 7', '2002, Sunday, October 27'),\n",
       " ('2003, Sunday, April 6', '2003, Sunday, October 26'),\n",
       " ('2004, Sunday, April 4', '2004, Sunday, October 31'),\n",
       " ('2005, Sunday, April 3', '2005, Sunday, October 30'),\n",
       " ('2006, Sunday, April 2', '2006, Sunday, October 29'),\n",
       " ('2007, Sunday, March 11', '2007, Sunday, November 4'),\n",
       " ('2008, Sunday, March 9', '2008, Sunday, November 2'),\n",
       " ('2009, Sunday, March 8', '2009, Sunday, November 1'),\n",
       " ('2010, Sunday, March 14', '2010, Sunday, November 7'),\n",
       " ('2011, Sunday, March 13', '2011, Sunday, November 6'),\n",
       " ('2012, Sunday, March 11', '2012, Sunday, Nov 4'),\n",
       " ('2013, Sunday, November 4', '2013, Sunday, March 10'),\n",
       " ('2014, Sunday, March 10', '2014, Sunday, November 3'),\n",
       " ('2015, Sunday, November 3', '2015, Sunday, March 9'),\n",
       " ('2016, Sunday, March 13', '2016, Sunday, November 6'),\n",
       " ('2017, Sunday, March 12', '2017, Sunday, November 5'),\n",
       " ('2018, Sunday, March 11', '2018, Sunday, November 4'),\n",
       " ('2019, Sunday, March 10', '2019, Sunday, November 3'),\n",
       " ('2020, Sunday, March 8', '2020, Sunday, November 1'),\n",
       " ('2021, Sunday, March 14', '2021, Sunday, November 7'),\n",
       " ('2022, Sunday, March 13', '2022, Sunday, November 6'),\n",
       " ('2023, Sunday, March 12', '2023, Sunday, November 5'),\n",
       " ('2024, Sunday, March 10', '2024, Sunday, November 3')]"
      ]
     },
     "execution_count": 138,
     "metadata": {},
     "output_type": "execute_result"
    }
   ],
   "source": [
    "final_DST"
   ]
  },
  {
   "cell_type": "code",
   "execution_count": 139,
   "metadata": {},
   "outputs": [
    {
     "name": "stdout",
     "output_type": "stream",
     "text": [
      "The number of years between 1918 and 2024 (inclusive) is: 107\n",
      "The numbers of years of data we have is: 105\n",
      "This is because 1943-44 did not observe DST due to WWII\n"
     ]
    }
   ],
   "source": [
    "print('The number of years between 1918 and 2024 (inclusive) is:', str(2024-1918+1))\n",
    "print('The numbers of years of data we have is:', str(len(final_DST)))\n",
    "print('This is because 1943-44 did not observe DST due to WWII')"
   ]
  },
  {
   "cell_type": "code",
   "execution_count": 140,
   "metadata": {},
   "outputs": [],
   "source": [
    "df = pd.DataFrame(final_DST, columns=[\"Spring Date\", \"Fall Date\"])\n",
    "\n",
    "# Extract the year from the spring and fall dates\n",
    "df['Year'] = df['Spring Date'].str.split(',').str[0]  # Extract the year (first part)\n",
    "\n",
    "# Remove the year from the spring and fall dates\n",
    "df['Spring Date'] = df['Spring Date'].str.replace(r'^\\d{4}, ', '', regex=True)  # Remove the year\n",
    "df['Fall Date'] = df['Fall Date'].str.replace(r'^\\d{4}, ', '', regex=True)  # Remove the year\n"
   ]
  },
  {
   "cell_type": "code",
   "execution_count": 141,
   "metadata": {},
   "outputs": [
    {
     "data": {
      "text/html": [
       "<div>\n",
       "<style scoped>\n",
       "    .dataframe tbody tr th:only-of-type {\n",
       "        vertical-align: middle;\n",
       "    }\n",
       "\n",
       "    .dataframe tbody tr th {\n",
       "        vertical-align: top;\n",
       "    }\n",
       "\n",
       "    .dataframe thead th {\n",
       "        text-align: right;\n",
       "    }\n",
       "</style>\n",
       "<table border=\"1\" class=\"dataframe\">\n",
       "  <thead>\n",
       "    <tr style=\"text-align: right;\">\n",
       "      <th></th>\n",
       "      <th>Year</th>\n",
       "      <th>Spring Date</th>\n",
       "      <th>Fall Date</th>\n",
       "    </tr>\n",
       "  </thead>\n",
       "  <tbody>\n",
       "    <tr>\n",
       "      <th>0</th>\n",
       "      <td>1918</td>\n",
       "      <td>Sunday, March 31</td>\n",
       "      <td>Sunday, October 27</td>\n",
       "    </tr>\n",
       "    <tr>\n",
       "      <th>1</th>\n",
       "      <td>1919</td>\n",
       "      <td>Sunday, March 30</td>\n",
       "      <td>Sunday, October 26</td>\n",
       "    </tr>\n",
       "    <tr>\n",
       "      <th>2</th>\n",
       "      <td>1920</td>\n",
       "      <td>Sunday, March 28</td>\n",
       "      <td>Sunday, October 31</td>\n",
       "    </tr>\n",
       "    <tr>\n",
       "      <th>3</th>\n",
       "      <td>1921</td>\n",
       "      <td>Sunday, April 24</td>\n",
       "      <td>Sunday, September 25</td>\n",
       "    </tr>\n",
       "    <tr>\n",
       "      <th>4</th>\n",
       "      <td>1922</td>\n",
       "      <td>Sunday, April 30</td>\n",
       "      <td>Sunday, September 24</td>\n",
       "    </tr>\n",
       "    <tr>\n",
       "      <th>...</th>\n",
       "      <td>...</td>\n",
       "      <td>...</td>\n",
       "      <td>...</td>\n",
       "    </tr>\n",
       "    <tr>\n",
       "      <th>100</th>\n",
       "      <td>2020</td>\n",
       "      <td>Sunday, March 8</td>\n",
       "      <td>Sunday, November 1</td>\n",
       "    </tr>\n",
       "    <tr>\n",
       "      <th>101</th>\n",
       "      <td>2021</td>\n",
       "      <td>Sunday, March 14</td>\n",
       "      <td>Sunday, November 7</td>\n",
       "    </tr>\n",
       "    <tr>\n",
       "      <th>102</th>\n",
       "      <td>2022</td>\n",
       "      <td>Sunday, March 13</td>\n",
       "      <td>Sunday, November 6</td>\n",
       "    </tr>\n",
       "    <tr>\n",
       "      <th>103</th>\n",
       "      <td>2023</td>\n",
       "      <td>Sunday, March 12</td>\n",
       "      <td>Sunday, November 5</td>\n",
       "    </tr>\n",
       "    <tr>\n",
       "      <th>104</th>\n",
       "      <td>2024</td>\n",
       "      <td>Sunday, March 10</td>\n",
       "      <td>Sunday, November 3</td>\n",
       "    </tr>\n",
       "  </tbody>\n",
       "</table>\n",
       "<p>105 rows × 3 columns</p>\n",
       "</div>"
      ],
      "text/plain": [
       "     Year       Spring Date             Fall Date\n",
       "0    1918  Sunday, March 31    Sunday, October 27\n",
       "1    1919  Sunday, March 30    Sunday, October 26\n",
       "2    1920  Sunday, March 28    Sunday, October 31\n",
       "3    1921  Sunday, April 24  Sunday, September 25\n",
       "4    1922  Sunday, April 30  Sunday, September 24\n",
       "..    ...               ...                   ...\n",
       "100  2020   Sunday, March 8    Sunday, November 1\n",
       "101  2021  Sunday, March 14    Sunday, November 7\n",
       "102  2022  Sunday, March 13    Sunday, November 6\n",
       "103  2023  Sunday, March 12    Sunday, November 5\n",
       "104  2024  Sunday, March 10    Sunday, November 3\n",
       "\n",
       "[105 rows x 3 columns]"
      ]
     },
     "execution_count": 141,
     "metadata": {},
     "output_type": "execute_result"
    }
   ],
   "source": [
    "df = df[['Year', 'Spring Date', 'Fall Date']]\n",
    "df"
   ]
  },
  {
   "cell_type": "code",
   "execution_count": 142,
   "metadata": {},
   "outputs": [
    {
     "data": {
      "text/plain": [
       "['Sunday', 'March 31']"
      ]
     },
     "execution_count": 142,
     "metadata": {},
     "output_type": "execute_result"
    }
   ],
   "source": [
    "# an alternative way to remove stuff using lambda functions; I'll demonstrate by removing the day\n",
    "\n",
    "df['Spring Date'].loc[0].split(', ')"
   ]
  },
  {
   "cell_type": "code",
   "execution_count": 143,
   "metadata": {},
   "outputs": [],
   "source": [
    "df['Fall Date Without Weekday'] = df['Fall Date'].apply(lambda day: day.split(', ')[1])"
   ]
  },
  {
   "cell_type": "code",
   "execution_count": 144,
   "metadata": {},
   "outputs": [
    {
     "data": {
      "text/html": [
       "<div>\n",
       "<style scoped>\n",
       "    .dataframe tbody tr th:only-of-type {\n",
       "        vertical-align: middle;\n",
       "    }\n",
       "\n",
       "    .dataframe tbody tr th {\n",
       "        vertical-align: top;\n",
       "    }\n",
       "\n",
       "    .dataframe thead th {\n",
       "        text-align: right;\n",
       "    }\n",
       "</style>\n",
       "<table border=\"1\" class=\"dataframe\">\n",
       "  <thead>\n",
       "    <tr style=\"text-align: right;\">\n",
       "      <th></th>\n",
       "      <th>Year</th>\n",
       "      <th>Spring Date</th>\n",
       "      <th>Fall Date</th>\n",
       "      <th>Fall Date Without Weekday</th>\n",
       "    </tr>\n",
       "  </thead>\n",
       "  <tbody>\n",
       "    <tr>\n",
       "      <th>0</th>\n",
       "      <td>1918</td>\n",
       "      <td>Sunday, March 31</td>\n",
       "      <td>Sunday, October 27</td>\n",
       "      <td>October 27</td>\n",
       "    </tr>\n",
       "    <tr>\n",
       "      <th>1</th>\n",
       "      <td>1919</td>\n",
       "      <td>Sunday, March 30</td>\n",
       "      <td>Sunday, October 26</td>\n",
       "      <td>October 26</td>\n",
       "    </tr>\n",
       "    <tr>\n",
       "      <th>2</th>\n",
       "      <td>1920</td>\n",
       "      <td>Sunday, March 28</td>\n",
       "      <td>Sunday, October 31</td>\n",
       "      <td>October 31</td>\n",
       "    </tr>\n",
       "    <tr>\n",
       "      <th>3</th>\n",
       "      <td>1921</td>\n",
       "      <td>Sunday, April 24</td>\n",
       "      <td>Sunday, September 25</td>\n",
       "      <td>September 25</td>\n",
       "    </tr>\n",
       "    <tr>\n",
       "      <th>4</th>\n",
       "      <td>1922</td>\n",
       "      <td>Sunday, April 30</td>\n",
       "      <td>Sunday, September 24</td>\n",
       "      <td>September 24</td>\n",
       "    </tr>\n",
       "    <tr>\n",
       "      <th>...</th>\n",
       "      <td>...</td>\n",
       "      <td>...</td>\n",
       "      <td>...</td>\n",
       "      <td>...</td>\n",
       "    </tr>\n",
       "    <tr>\n",
       "      <th>100</th>\n",
       "      <td>2020</td>\n",
       "      <td>Sunday, March 8</td>\n",
       "      <td>Sunday, November 1</td>\n",
       "      <td>November 1</td>\n",
       "    </tr>\n",
       "    <tr>\n",
       "      <th>101</th>\n",
       "      <td>2021</td>\n",
       "      <td>Sunday, March 14</td>\n",
       "      <td>Sunday, November 7</td>\n",
       "      <td>November 7</td>\n",
       "    </tr>\n",
       "    <tr>\n",
       "      <th>102</th>\n",
       "      <td>2022</td>\n",
       "      <td>Sunday, March 13</td>\n",
       "      <td>Sunday, November 6</td>\n",
       "      <td>November 6</td>\n",
       "    </tr>\n",
       "    <tr>\n",
       "      <th>103</th>\n",
       "      <td>2023</td>\n",
       "      <td>Sunday, March 12</td>\n",
       "      <td>Sunday, November 5</td>\n",
       "      <td>November 5</td>\n",
       "    </tr>\n",
       "    <tr>\n",
       "      <th>104</th>\n",
       "      <td>2024</td>\n",
       "      <td>Sunday, March 10</td>\n",
       "      <td>Sunday, November 3</td>\n",
       "      <td>November 3</td>\n",
       "    </tr>\n",
       "  </tbody>\n",
       "</table>\n",
       "<p>105 rows × 4 columns</p>\n",
       "</div>"
      ],
      "text/plain": [
       "     Year       Spring Date             Fall Date Fall Date Without Weekday\n",
       "0    1918  Sunday, March 31    Sunday, October 27                October 27\n",
       "1    1919  Sunday, March 30    Sunday, October 26                October 26\n",
       "2    1920  Sunday, March 28    Sunday, October 31                October 31\n",
       "3    1921  Sunday, April 24  Sunday, September 25              September 25\n",
       "4    1922  Sunday, April 30  Sunday, September 24              September 24\n",
       "..    ...               ...                   ...                       ...\n",
       "100  2020   Sunday, March 8    Sunday, November 1                November 1\n",
       "101  2021  Sunday, March 14    Sunday, November 7                November 7\n",
       "102  2022  Sunday, March 13    Sunday, November 6                November 6\n",
       "103  2023  Sunday, March 12    Sunday, November 5                November 5\n",
       "104  2024  Sunday, March 10    Sunday, November 3                November 3\n",
       "\n",
       "[105 rows x 4 columns]"
      ]
     },
     "execution_count": 144,
     "metadata": {},
     "output_type": "execute_result"
    }
   ],
   "source": [
    "df"
   ]
  },
  {
   "cell_type": "code",
   "execution_count": 145,
   "metadata": {},
   "outputs": [
    {
     "data": {
      "text/html": [
       "<div>\n",
       "<style scoped>\n",
       "    .dataframe tbody tr th:only-of-type {\n",
       "        vertical-align: middle;\n",
       "    }\n",
       "\n",
       "    .dataframe tbody tr th {\n",
       "        vertical-align: top;\n",
       "    }\n",
       "\n",
       "    .dataframe thead th {\n",
       "        text-align: right;\n",
       "    }\n",
       "</style>\n",
       "<table border=\"1\" class=\"dataframe\">\n",
       "  <thead>\n",
       "    <tr style=\"text-align: right;\">\n",
       "      <th></th>\n",
       "      <th>Year</th>\n",
       "      <th>Spring Date</th>\n",
       "      <th>Fall Date</th>\n",
       "    </tr>\n",
       "  </thead>\n",
       "  <tbody>\n",
       "    <tr>\n",
       "      <th>0</th>\n",
       "      <td>1918</td>\n",
       "      <td>Sunday, March 31</td>\n",
       "      <td>Sunday, October 27</td>\n",
       "    </tr>\n",
       "    <tr>\n",
       "      <th>1</th>\n",
       "      <td>1919</td>\n",
       "      <td>Sunday, March 30</td>\n",
       "      <td>Sunday, October 26</td>\n",
       "    </tr>\n",
       "    <tr>\n",
       "      <th>2</th>\n",
       "      <td>1920</td>\n",
       "      <td>Sunday, March 28</td>\n",
       "      <td>Sunday, October 31</td>\n",
       "    </tr>\n",
       "    <tr>\n",
       "      <th>3</th>\n",
       "      <td>1921</td>\n",
       "      <td>Sunday, April 24</td>\n",
       "      <td>Sunday, September 25</td>\n",
       "    </tr>\n",
       "    <tr>\n",
       "      <th>4</th>\n",
       "      <td>1922</td>\n",
       "      <td>Sunday, April 30</td>\n",
       "      <td>Sunday, September 24</td>\n",
       "    </tr>\n",
       "    <tr>\n",
       "      <th>...</th>\n",
       "      <td>...</td>\n",
       "      <td>...</td>\n",
       "      <td>...</td>\n",
       "    </tr>\n",
       "    <tr>\n",
       "      <th>100</th>\n",
       "      <td>2020</td>\n",
       "      <td>Sunday, March 8</td>\n",
       "      <td>Sunday, November 1</td>\n",
       "    </tr>\n",
       "    <tr>\n",
       "      <th>101</th>\n",
       "      <td>2021</td>\n",
       "      <td>Sunday, March 14</td>\n",
       "      <td>Sunday, November 7</td>\n",
       "    </tr>\n",
       "    <tr>\n",
       "      <th>102</th>\n",
       "      <td>2022</td>\n",
       "      <td>Sunday, March 13</td>\n",
       "      <td>Sunday, November 6</td>\n",
       "    </tr>\n",
       "    <tr>\n",
       "      <th>103</th>\n",
       "      <td>2023</td>\n",
       "      <td>Sunday, March 12</td>\n",
       "      <td>Sunday, November 5</td>\n",
       "    </tr>\n",
       "    <tr>\n",
       "      <th>104</th>\n",
       "      <td>2024</td>\n",
       "      <td>Sunday, March 10</td>\n",
       "      <td>Sunday, November 3</td>\n",
       "    </tr>\n",
       "  </tbody>\n",
       "</table>\n",
       "<p>105 rows × 3 columns</p>\n",
       "</div>"
      ],
      "text/plain": [
       "     Year       Spring Date             Fall Date\n",
       "0    1918  Sunday, March 31    Sunday, October 27\n",
       "1    1919  Sunday, March 30    Sunday, October 26\n",
       "2    1920  Sunday, March 28    Sunday, October 31\n",
       "3    1921  Sunday, April 24  Sunday, September 25\n",
       "4    1922  Sunday, April 30  Sunday, September 24\n",
       "..    ...               ...                   ...\n",
       "100  2020   Sunday, March 8    Sunday, November 1\n",
       "101  2021  Sunday, March 14    Sunday, November 7\n",
       "102  2022  Sunday, March 13    Sunday, November 6\n",
       "103  2023  Sunday, March 12    Sunday, November 5\n",
       "104  2024  Sunday, March 10    Sunday, November 3\n",
       "\n",
       "[105 rows x 3 columns]"
      ]
     },
     "execution_count": 145,
     "metadata": {},
     "output_type": "execute_result"
    }
   ],
   "source": [
    "# the original data frame\n",
    "df=df[['Year','Spring Date', 'Fall Date']]\n",
    "df"
   ]
  },
  {
   "cell_type": "code",
   "execution_count": 146,
   "metadata": {},
   "outputs": [],
   "source": [
    "df.to_csv('DST_dates.csv', index=False)"
   ]
  },
  {
   "cell_type": "code",
   "execution_count": null,
   "metadata": {},
   "outputs": [],
   "source": []
  }
 ],
 "metadata": {
  "kernelspec": {
   "display_name": "Python 3 (ipykernel)",
   "language": "python",
   "name": "python3"
  },
  "language_info": {
   "codemirror_mode": {
    "name": "ipython",
    "version": 3
   },
   "file_extension": ".py",
   "mimetype": "text/x-python",
   "name": "python",
   "nbconvert_exporter": "python",
   "pygments_lexer": "ipython3",
   "version": "3.12.4"
  }
 },
 "nbformat": 4,
 "nbformat_minor": 2
}
